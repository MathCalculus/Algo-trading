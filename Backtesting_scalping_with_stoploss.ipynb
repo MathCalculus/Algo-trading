{
 "cells": [
  {
   "cell_type": "code",
   "execution_count": 5,
   "metadata": {},
   "outputs": [],
   "source": [
    "import sys\n",
    "import logging\n",
    "import numpy as np\n",
    "import pandas as pd\n",
    "import datetime as dt\n",
    "from os.path import isfile\n",
    "from pandas import DateOffset\n",
    "import matplotlib.pyplot as plt\n",
    "import statsmodels.api as sm\n",
    "import statsmodels.tsa.api as smt\n",
    "import statsmodels.formula.api as smf\n",
    "from statsmodels.tsa.exponential_smoothing.ets import ETSModel\n",
    "from statsmodels.tsa.forecasting.theta import ThetaModel\n",
    "from service import generate_features\n",
    "from data.db_model import InfluxDBModel\n",
    "from datetime import datetime, timedelta\n",
    "from data.binance_ import get_binance_historical_klines\n",
    "from models.predictive import sarimax_train_predict, xgboost_train, xgboost_predict\n",
    "from models.utils import ADF_criteria, split_time, freq_to_tick, train_features_split\n",
    "from models.utils import load_results, store_results, align_train_start, align_predict_interval\n"
   ]
  },
  {
   "cell_type": "markdown",
   "metadata": {},
   "source": [
    "Dounload the data"
   ]
  },
  {
   "cell_type": "code",
   "execution_count": 6,
   "metadata": {},
   "outputs": [],
   "source": [
    "data  = get_binance_historical_klines('BTCBUSD', '1h', \"2021-04-01T00:00:00+0000\")"
   ]
  },
  {
   "cell_type": "code",
   "execution_count": 7,
   "metadata": {},
   "outputs": [],
   "source": [
    "data = data.set_index('datetime', drop=True)"
   ]
  },
  {
   "cell_type": "code",
   "execution_count": 8,
   "metadata": {},
   "outputs": [
    {
     "data": {
      "text/html": [
       "<div>\n",
       "<style scoped>\n",
       "    .dataframe tbody tr th:only-of-type {\n",
       "        vertical-align: middle;\n",
       "    }\n",
       "\n",
       "    .dataframe tbody tr th {\n",
       "        vertical-align: top;\n",
       "    }\n",
       "\n",
       "    .dataframe thead th {\n",
       "        text-align: right;\n",
       "    }\n",
       "</style>\n",
       "<table border=\"1\" class=\"dataframe\">\n",
       "  <thead>\n",
       "    <tr style=\"text-align: right;\">\n",
       "      <th></th>\n",
       "      <th>open</th>\n",
       "      <th>high</th>\n",
       "      <th>low</th>\n",
       "      <th>close</th>\n",
       "      <th>volume</th>\n",
       "      <th>quote_asset_volume</th>\n",
       "      <th>trades_quantity</th>\n",
       "      <th>taker_base_volume</th>\n",
       "      <th>taker_quote_volume</th>\n",
       "      <th>maker_base_volume</th>\n",
       "      <th>maker_quote_volume</th>\n",
       "    </tr>\n",
       "    <tr>\n",
       "      <th>datetime</th>\n",
       "      <th></th>\n",
       "      <th></th>\n",
       "      <th></th>\n",
       "      <th></th>\n",
       "      <th></th>\n",
       "      <th></th>\n",
       "      <th></th>\n",
       "      <th></th>\n",
       "      <th></th>\n",
       "      <th></th>\n",
       "      <th></th>\n",
       "    </tr>\n",
       "  </thead>\n",
       "  <tbody>\n",
       "    <tr>\n",
       "      <th>2021-04-01 00:00:00+00:00</th>\n",
       "      <td>58769.05</td>\n",
       "      <td>59238.82</td>\n",
       "      <td>58739.14</td>\n",
       "      <td>59213.75</td>\n",
       "      <td>407.354825</td>\n",
       "      <td>2.403982e+07</td>\n",
       "      <td>17585</td>\n",
       "      <td>224.212885</td>\n",
       "      <td>1.323204e+07</td>\n",
       "      <td>183.141940</td>\n",
       "      <td>1.080778e+07</td>\n",
       "    </tr>\n",
       "    <tr>\n",
       "      <th>2021-04-01 01:00:00+00:00</th>\n",
       "      <td>59213.74</td>\n",
       "      <td>59300.00</td>\n",
       "      <td>58935.94</td>\n",
       "      <td>59140.99</td>\n",
       "      <td>360.568302</td>\n",
       "      <td>2.134404e+07</td>\n",
       "      <td>14680</td>\n",
       "      <td>222.018145</td>\n",
       "      <td>1.314613e+07</td>\n",
       "      <td>138.550157</td>\n",
       "      <td>8.197903e+06</td>\n",
       "    </tr>\n",
       "    <tr>\n",
       "      <th>2021-04-01 02:00:00+00:00</th>\n",
       "      <td>59154.60</td>\n",
       "      <td>59300.00</td>\n",
       "      <td>59040.00</td>\n",
       "      <td>59090.30</td>\n",
       "      <td>225.003117</td>\n",
       "      <td>1.331408e+07</td>\n",
       "      <td>11915</td>\n",
       "      <td>121.547973</td>\n",
       "      <td>7.193838e+06</td>\n",
       "      <td>103.455144</td>\n",
       "      <td>6.120240e+06</td>\n",
       "    </tr>\n",
       "    <tr>\n",
       "      <th>2021-04-01 03:00:00+00:00</th>\n",
       "      <td>59090.30</td>\n",
       "      <td>59166.76</td>\n",
       "      <td>58959.38</td>\n",
       "      <td>59137.93</td>\n",
       "      <td>433.193099</td>\n",
       "      <td>2.556569e+07</td>\n",
       "      <td>13121</td>\n",
       "      <td>137.388622</td>\n",
       "      <td>8.111244e+06</td>\n",
       "      <td>295.804477</td>\n",
       "      <td>1.745444e+07</td>\n",
       "    </tr>\n",
       "    <tr>\n",
       "      <th>2021-04-01 04:00:00+00:00</th>\n",
       "      <td>59137.92</td>\n",
       "      <td>59244.89</td>\n",
       "      <td>58650.98</td>\n",
       "      <td>58889.66</td>\n",
       "      <td>586.457611</td>\n",
       "      <td>3.456277e+07</td>\n",
       "      <td>18137</td>\n",
       "      <td>195.064148</td>\n",
       "      <td>1.150019e+07</td>\n",
       "      <td>391.393463</td>\n",
       "      <td>2.306257e+07</td>\n",
       "    </tr>\n",
       "    <tr>\n",
       "      <th>...</th>\n",
       "      <td>...</td>\n",
       "      <td>...</td>\n",
       "      <td>...</td>\n",
       "      <td>...</td>\n",
       "      <td>...</td>\n",
       "      <td>...</td>\n",
       "      <td>...</td>\n",
       "      <td>...</td>\n",
       "      <td>...</td>\n",
       "      <td>...</td>\n",
       "      <td>...</td>\n",
       "    </tr>\n",
       "    <tr>\n",
       "      <th>2022-07-28 09:00:00+00:00</th>\n",
       "      <td>22968.75</td>\n",
       "      <td>23013.02</td>\n",
       "      <td>22820.01</td>\n",
       "      <td>22980.69</td>\n",
       "      <td>2684.289800</td>\n",
       "      <td>6.152708e+07</td>\n",
       "      <td>43681</td>\n",
       "      <td>1396.993830</td>\n",
       "      <td>3.202512e+07</td>\n",
       "      <td>1287.295970</td>\n",
       "      <td>2.950195e+07</td>\n",
       "    </tr>\n",
       "    <tr>\n",
       "      <th>2022-07-28 10:00:00+00:00</th>\n",
       "      <td>22983.15</td>\n",
       "      <td>23107.40</td>\n",
       "      <td>22917.40</td>\n",
       "      <td>22986.55</td>\n",
       "      <td>2402.053960</td>\n",
       "      <td>5.526079e+07</td>\n",
       "      <td>43015</td>\n",
       "      <td>1196.000630</td>\n",
       "      <td>2.751944e+07</td>\n",
       "      <td>1206.053330</td>\n",
       "      <td>2.774135e+07</td>\n",
       "    </tr>\n",
       "    <tr>\n",
       "      <th>2022-07-28 11:00:00+00:00</th>\n",
       "      <td>22986.55</td>\n",
       "      <td>23142.86</td>\n",
       "      <td>22950.68</td>\n",
       "      <td>23121.16</td>\n",
       "      <td>2463.879630</td>\n",
       "      <td>5.680923e+07</td>\n",
       "      <td>42704</td>\n",
       "      <td>1249.401370</td>\n",
       "      <td>2.880980e+07</td>\n",
       "      <td>1214.478260</td>\n",
       "      <td>2.799943e+07</td>\n",
       "    </tr>\n",
       "    <tr>\n",
       "      <th>2022-07-28 12:00:00+00:00</th>\n",
       "      <td>23121.47</td>\n",
       "      <td>23200.00</td>\n",
       "      <td>22590.00</td>\n",
       "      <td>23039.89</td>\n",
       "      <td>9090.139960</td>\n",
       "      <td>2.086401e+08</td>\n",
       "      <td>144864</td>\n",
       "      <td>4625.992140</td>\n",
       "      <td>1.062064e+08</td>\n",
       "      <td>4464.147820</td>\n",
       "      <td>1.024336e+08</td>\n",
       "    </tr>\n",
       "    <tr>\n",
       "      <th>2022-07-28 13:00:00+00:00</th>\n",
       "      <td>23039.60</td>\n",
       "      <td>23131.73</td>\n",
       "      <td>22927.90</td>\n",
       "      <td>23090.97</td>\n",
       "      <td>2516.548540</td>\n",
       "      <td>5.797157e+07</td>\n",
       "      <td>41887</td>\n",
       "      <td>1279.193760</td>\n",
       "      <td>2.946721e+07</td>\n",
       "      <td>1237.354780</td>\n",
       "      <td>2.850437e+07</td>\n",
       "    </tr>\n",
       "  </tbody>\n",
       "</table>\n",
       "<p>11595 rows × 11 columns</p>\n",
       "</div>"
      ],
      "text/plain": [
       "                               open      high       low     close  \\\n",
       "datetime                                                            \n",
       "2021-04-01 00:00:00+00:00  58769.05  59238.82  58739.14  59213.75   \n",
       "2021-04-01 01:00:00+00:00  59213.74  59300.00  58935.94  59140.99   \n",
       "2021-04-01 02:00:00+00:00  59154.60  59300.00  59040.00  59090.30   \n",
       "2021-04-01 03:00:00+00:00  59090.30  59166.76  58959.38  59137.93   \n",
       "2021-04-01 04:00:00+00:00  59137.92  59244.89  58650.98  58889.66   \n",
       "...                             ...       ...       ...       ...   \n",
       "2022-07-28 09:00:00+00:00  22968.75  23013.02  22820.01  22980.69   \n",
       "2022-07-28 10:00:00+00:00  22983.15  23107.40  22917.40  22986.55   \n",
       "2022-07-28 11:00:00+00:00  22986.55  23142.86  22950.68  23121.16   \n",
       "2022-07-28 12:00:00+00:00  23121.47  23200.00  22590.00  23039.89   \n",
       "2022-07-28 13:00:00+00:00  23039.60  23131.73  22927.90  23090.97   \n",
       "\n",
       "                                volume  quote_asset_volume  trades_quantity  \\\n",
       "datetime                                                                      \n",
       "2021-04-01 00:00:00+00:00   407.354825        2.403982e+07            17585   \n",
       "2021-04-01 01:00:00+00:00   360.568302        2.134404e+07            14680   \n",
       "2021-04-01 02:00:00+00:00   225.003117        1.331408e+07            11915   \n",
       "2021-04-01 03:00:00+00:00   433.193099        2.556569e+07            13121   \n",
       "2021-04-01 04:00:00+00:00   586.457611        3.456277e+07            18137   \n",
       "...                                ...                 ...              ...   \n",
       "2022-07-28 09:00:00+00:00  2684.289800        6.152708e+07            43681   \n",
       "2022-07-28 10:00:00+00:00  2402.053960        5.526079e+07            43015   \n",
       "2022-07-28 11:00:00+00:00  2463.879630        5.680923e+07            42704   \n",
       "2022-07-28 12:00:00+00:00  9090.139960        2.086401e+08           144864   \n",
       "2022-07-28 13:00:00+00:00  2516.548540        5.797157e+07            41887   \n",
       "\n",
       "                           taker_base_volume  taker_quote_volume  \\\n",
       "datetime                                                           \n",
       "2021-04-01 00:00:00+00:00         224.212885        1.323204e+07   \n",
       "2021-04-01 01:00:00+00:00         222.018145        1.314613e+07   \n",
       "2021-04-01 02:00:00+00:00         121.547973        7.193838e+06   \n",
       "2021-04-01 03:00:00+00:00         137.388622        8.111244e+06   \n",
       "2021-04-01 04:00:00+00:00         195.064148        1.150019e+07   \n",
       "...                                      ...                 ...   \n",
       "2022-07-28 09:00:00+00:00        1396.993830        3.202512e+07   \n",
       "2022-07-28 10:00:00+00:00        1196.000630        2.751944e+07   \n",
       "2022-07-28 11:00:00+00:00        1249.401370        2.880980e+07   \n",
       "2022-07-28 12:00:00+00:00        4625.992140        1.062064e+08   \n",
       "2022-07-28 13:00:00+00:00        1279.193760        2.946721e+07   \n",
       "\n",
       "                           maker_base_volume  maker_quote_volume  \n",
       "datetime                                                          \n",
       "2021-04-01 00:00:00+00:00         183.141940        1.080778e+07  \n",
       "2021-04-01 01:00:00+00:00         138.550157        8.197903e+06  \n",
       "2021-04-01 02:00:00+00:00         103.455144        6.120240e+06  \n",
       "2021-04-01 03:00:00+00:00         295.804477        1.745444e+07  \n",
       "2021-04-01 04:00:00+00:00         391.393463        2.306257e+07  \n",
       "...                                      ...                 ...  \n",
       "2022-07-28 09:00:00+00:00        1287.295970        2.950195e+07  \n",
       "2022-07-28 10:00:00+00:00        1206.053330        2.774135e+07  \n",
       "2022-07-28 11:00:00+00:00        1214.478260        2.799943e+07  \n",
       "2022-07-28 12:00:00+00:00        4464.147820        1.024336e+08  \n",
       "2022-07-28 13:00:00+00:00        1237.354780        2.850437e+07  \n",
       "\n",
       "[11595 rows x 11 columns]"
      ]
     },
     "execution_count": 8,
     "metadata": {},
     "output_type": "execute_result"
    }
   ],
   "source": [
    "data"
   ]
  },
  {
   "cell_type": "code",
   "execution_count": 9,
   "metadata": {},
   "outputs": [
    {
     "data": {
      "text/html": [
       "<div>\n",
       "<style scoped>\n",
       "    .dataframe tbody tr th:only-of-type {\n",
       "        vertical-align: middle;\n",
       "    }\n",
       "\n",
       "    .dataframe tbody tr th {\n",
       "        vertical-align: top;\n",
       "    }\n",
       "\n",
       "    .dataframe thead th {\n",
       "        text-align: right;\n",
       "    }\n",
       "</style>\n",
       "<table border=\"1\" class=\"dataframe\">\n",
       "  <thead>\n",
       "    <tr style=\"text-align: right;\">\n",
       "      <th></th>\n",
       "      <th>open</th>\n",
       "      <th>high</th>\n",
       "      <th>low</th>\n",
       "      <th>close</th>\n",
       "      <th>volume</th>\n",
       "      <th>quote_asset_volume</th>\n",
       "      <th>trades_quantity</th>\n",
       "      <th>taker_base_volume</th>\n",
       "      <th>taker_quote_volume</th>\n",
       "      <th>maker_base_volume</th>\n",
       "      <th>maker_quote_volume</th>\n",
       "    </tr>\n",
       "  </thead>\n",
       "  <tbody>\n",
       "    <tr>\n",
       "      <th>2021-04-01 00:00:00+00:00</th>\n",
       "      <td>58769.05</td>\n",
       "      <td>59238.82</td>\n",
       "      <td>58739.14</td>\n",
       "      <td>59213.75</td>\n",
       "      <td>407.354825</td>\n",
       "      <td>2.403982e+07</td>\n",
       "      <td>17585.0</td>\n",
       "      <td>224.212885</td>\n",
       "      <td>1.323204e+07</td>\n",
       "      <td>183.141940</td>\n",
       "      <td>1.080778e+07</td>\n",
       "    </tr>\n",
       "    <tr>\n",
       "      <th>2021-04-01 02:00:00+00:00</th>\n",
       "      <td>59154.60</td>\n",
       "      <td>59300.00</td>\n",
       "      <td>59040.00</td>\n",
       "      <td>59090.30</td>\n",
       "      <td>225.003117</td>\n",
       "      <td>1.331408e+07</td>\n",
       "      <td>11915.0</td>\n",
       "      <td>121.547973</td>\n",
       "      <td>7.193838e+06</td>\n",
       "      <td>103.455144</td>\n",
       "      <td>6.120240e+06</td>\n",
       "    </tr>\n",
       "    <tr>\n",
       "      <th>2021-04-01 04:00:00+00:00</th>\n",
       "      <td>59137.92</td>\n",
       "      <td>59244.89</td>\n",
       "      <td>58650.98</td>\n",
       "      <td>58889.66</td>\n",
       "      <td>586.457611</td>\n",
       "      <td>3.456277e+07</td>\n",
       "      <td>18137.0</td>\n",
       "      <td>195.064148</td>\n",
       "      <td>1.150019e+07</td>\n",
       "      <td>391.393463</td>\n",
       "      <td>2.306257e+07</td>\n",
       "    </tr>\n",
       "    <tr>\n",
       "      <th>2021-04-01 06:00:00+00:00</th>\n",
       "      <td>58788.83</td>\n",
       "      <td>59037.64</td>\n",
       "      <td>58675.64</td>\n",
       "      <td>58750.00</td>\n",
       "      <td>299.390371</td>\n",
       "      <td>1.762819e+07</td>\n",
       "      <td>14566.0</td>\n",
       "      <td>120.603176</td>\n",
       "      <td>7.103639e+06</td>\n",
       "      <td>178.787195</td>\n",
       "      <td>1.052455e+07</td>\n",
       "    </tr>\n",
       "    <tr>\n",
       "      <th>2021-04-01 08:00:00+00:00</th>\n",
       "      <td>58832.88</td>\n",
       "      <td>59483.98</td>\n",
       "      <td>58600.00</td>\n",
       "      <td>58844.86</td>\n",
       "      <td>1057.809753</td>\n",
       "      <td>6.243377e+07</td>\n",
       "      <td>33513.0</td>\n",
       "      <td>518.476464</td>\n",
       "      <td>3.060771e+07</td>\n",
       "      <td>539.333289</td>\n",
       "      <td>3.182606e+07</td>\n",
       "    </tr>\n",
       "    <tr>\n",
       "      <th>...</th>\n",
       "      <td>...</td>\n",
       "      <td>...</td>\n",
       "      <td>...</td>\n",
       "      <td>...</td>\n",
       "      <td>...</td>\n",
       "      <td>...</td>\n",
       "      <td>...</td>\n",
       "      <td>...</td>\n",
       "      <td>...</td>\n",
       "      <td>...</td>\n",
       "      <td>...</td>\n",
       "    </tr>\n",
       "    <tr>\n",
       "      <th>2022-07-28 04:00:00+00:00</th>\n",
       "      <td>23141.14</td>\n",
       "      <td>23206.45</td>\n",
       "      <td>23064.11</td>\n",
       "      <td>23074.69</td>\n",
       "      <td>1693.711320</td>\n",
       "      <td>3.918322e+07</td>\n",
       "      <td>35365.0</td>\n",
       "      <td>826.054180</td>\n",
       "      <td>1.911262e+07</td>\n",
       "      <td>867.657140</td>\n",
       "      <td>2.007060e+07</td>\n",
       "    </tr>\n",
       "    <tr>\n",
       "      <th>2022-07-28 06:00:00+00:00</th>\n",
       "      <td>23249.06</td>\n",
       "      <td>23279.53</td>\n",
       "      <td>23054.45</td>\n",
       "      <td>23128.20</td>\n",
       "      <td>1963.039930</td>\n",
       "      <td>4.548190e+07</td>\n",
       "      <td>36629.0</td>\n",
       "      <td>936.552520</td>\n",
       "      <td>2.170104e+07</td>\n",
       "      <td>1026.487410</td>\n",
       "      <td>2.378086e+07</td>\n",
       "    </tr>\n",
       "    <tr>\n",
       "      <th>2022-07-28 08:00:00+00:00</th>\n",
       "      <td>22931.28</td>\n",
       "      <td>23031.40</td>\n",
       "      <td>22878.00</td>\n",
       "      <td>22971.47</td>\n",
       "      <td>2093.376650</td>\n",
       "      <td>4.803358e+07</td>\n",
       "      <td>37940.0</td>\n",
       "      <td>1062.858290</td>\n",
       "      <td>2.439118e+07</td>\n",
       "      <td>1030.518360</td>\n",
       "      <td>2.364241e+07</td>\n",
       "    </tr>\n",
       "    <tr>\n",
       "      <th>2022-07-28 10:00:00+00:00</th>\n",
       "      <td>22983.15</td>\n",
       "      <td>23107.40</td>\n",
       "      <td>22917.40</td>\n",
       "      <td>22986.55</td>\n",
       "      <td>2402.053960</td>\n",
       "      <td>5.526079e+07</td>\n",
       "      <td>43015.0</td>\n",
       "      <td>1196.000630</td>\n",
       "      <td>2.751944e+07</td>\n",
       "      <td>1206.053330</td>\n",
       "      <td>2.774135e+07</td>\n",
       "    </tr>\n",
       "    <tr>\n",
       "      <th>2022-07-28 12:00:00+00:00</th>\n",
       "      <td>23121.47</td>\n",
       "      <td>23200.00</td>\n",
       "      <td>22590.00</td>\n",
       "      <td>23039.89</td>\n",
       "      <td>9090.139960</td>\n",
       "      <td>2.086401e+08</td>\n",
       "      <td>144864.0</td>\n",
       "      <td>4625.992140</td>\n",
       "      <td>1.062064e+08</td>\n",
       "      <td>4464.147820</td>\n",
       "      <td>1.024336e+08</td>\n",
       "    </tr>\n",
       "  </tbody>\n",
       "</table>\n",
       "<p>5803 rows × 11 columns</p>\n",
       "</div>"
      ],
      "text/plain": [
       "                               open      high       low     close  \\\n",
       "2021-04-01 00:00:00+00:00  58769.05  59238.82  58739.14  59213.75   \n",
       "2021-04-01 02:00:00+00:00  59154.60  59300.00  59040.00  59090.30   \n",
       "2021-04-01 04:00:00+00:00  59137.92  59244.89  58650.98  58889.66   \n",
       "2021-04-01 06:00:00+00:00  58788.83  59037.64  58675.64  58750.00   \n",
       "2021-04-01 08:00:00+00:00  58832.88  59483.98  58600.00  58844.86   \n",
       "...                             ...       ...       ...       ...   \n",
       "2022-07-28 04:00:00+00:00  23141.14  23206.45  23064.11  23074.69   \n",
       "2022-07-28 06:00:00+00:00  23249.06  23279.53  23054.45  23128.20   \n",
       "2022-07-28 08:00:00+00:00  22931.28  23031.40  22878.00  22971.47   \n",
       "2022-07-28 10:00:00+00:00  22983.15  23107.40  22917.40  22986.55   \n",
       "2022-07-28 12:00:00+00:00  23121.47  23200.00  22590.00  23039.89   \n",
       "\n",
       "                                volume  quote_asset_volume  trades_quantity  \\\n",
       "2021-04-01 00:00:00+00:00   407.354825        2.403982e+07          17585.0   \n",
       "2021-04-01 02:00:00+00:00   225.003117        1.331408e+07          11915.0   \n",
       "2021-04-01 04:00:00+00:00   586.457611        3.456277e+07          18137.0   \n",
       "2021-04-01 06:00:00+00:00   299.390371        1.762819e+07          14566.0   \n",
       "2021-04-01 08:00:00+00:00  1057.809753        6.243377e+07          33513.0   \n",
       "...                                ...                 ...              ...   \n",
       "2022-07-28 04:00:00+00:00  1693.711320        3.918322e+07          35365.0   \n",
       "2022-07-28 06:00:00+00:00  1963.039930        4.548190e+07          36629.0   \n",
       "2022-07-28 08:00:00+00:00  2093.376650        4.803358e+07          37940.0   \n",
       "2022-07-28 10:00:00+00:00  2402.053960        5.526079e+07          43015.0   \n",
       "2022-07-28 12:00:00+00:00  9090.139960        2.086401e+08         144864.0   \n",
       "\n",
       "                           taker_base_volume  taker_quote_volume  \\\n",
       "2021-04-01 00:00:00+00:00         224.212885        1.323204e+07   \n",
       "2021-04-01 02:00:00+00:00         121.547973        7.193838e+06   \n",
       "2021-04-01 04:00:00+00:00         195.064148        1.150019e+07   \n",
       "2021-04-01 06:00:00+00:00         120.603176        7.103639e+06   \n",
       "2021-04-01 08:00:00+00:00         518.476464        3.060771e+07   \n",
       "...                                      ...                 ...   \n",
       "2022-07-28 04:00:00+00:00         826.054180        1.911262e+07   \n",
       "2022-07-28 06:00:00+00:00         936.552520        2.170104e+07   \n",
       "2022-07-28 08:00:00+00:00        1062.858290        2.439118e+07   \n",
       "2022-07-28 10:00:00+00:00        1196.000630        2.751944e+07   \n",
       "2022-07-28 12:00:00+00:00        4625.992140        1.062064e+08   \n",
       "\n",
       "                           maker_base_volume  maker_quote_volume  \n",
       "2021-04-01 00:00:00+00:00         183.141940        1.080778e+07  \n",
       "2021-04-01 02:00:00+00:00         103.455144        6.120240e+06  \n",
       "2021-04-01 04:00:00+00:00         391.393463        2.306257e+07  \n",
       "2021-04-01 06:00:00+00:00         178.787195        1.052455e+07  \n",
       "2021-04-01 08:00:00+00:00         539.333289        3.182606e+07  \n",
       "...                                      ...                 ...  \n",
       "2022-07-28 04:00:00+00:00         867.657140        2.007060e+07  \n",
       "2022-07-28 06:00:00+00:00        1026.487410        2.378086e+07  \n",
       "2022-07-28 08:00:00+00:00        1030.518360        2.364241e+07  \n",
       "2022-07-28 10:00:00+00:00        1206.053330        2.774135e+07  \n",
       "2022-07-28 12:00:00+00:00        4464.147820        1.024336e+08  \n",
       "\n",
       "[5803 rows x 11 columns]"
      ]
     },
     "execution_count": 9,
     "metadata": {},
     "output_type": "execute_result"
    }
   ],
   "source": [
    "index = pd.date_range(data.index[0], data.index[-1], freq='2h')\n",
    "data = data.reindex(index=index)\n",
    "data"
   ]
  },
  {
   "cell_type": "code",
   "execution_count": 10,
   "metadata": {},
   "outputs": [],
   "source": [
    "data = data.fillna(method='bfill')"
   ]
  },
  {
   "cell_type": "code",
   "execution_count": 11,
   "metadata": {},
   "outputs": [],
   "source": [
    "short, long = data, data\n",
    "y_long, y_short = long['low'], short['high']"
   ]
  },
  {
   "cell_type": "markdown",
   "metadata": {},
   "source": [
    "Backtesting Theta Model"
   ]
  },
  {
   "cell_type": "code",
   "execution_count": 12,
   "metadata": {},
   "outputs": [],
   "source": [
    "def Theta_predict(data, period=2):\n",
    "    model_Theta = ThetaModel(data).fit()\n",
    "    predict = model_Theta.forecast(period)\n",
    "    return predict"
   ]
  },
  {
   "cell_type": "code",
   "execution_count": 13,
   "metadata": {},
   "outputs": [
    {
     "data": {
      "text/plain": [
       "22592.491271658437"
      ]
     },
     "execution_count": 13,
     "metadata": {},
     "output_type": "execute_result"
    }
   ],
   "source": [
    "pred_T = Theta_predict(y_long[y_long.index[-1]-pd.DateOffset(months=2) : ])\n",
    "pred_T.iloc[0]"
   ]
  },
  {
   "cell_type": "code",
   "execution_count": 14,
   "metadata": {},
   "outputs": [],
   "source": [
    "def Theta_stop(data, period=2, alpha=0.055):\n",
    "    model_Theta = ThetaModel(data).fit()\n",
    "    stop = model_Theta.prediction_intervals()\n",
    "    return stop"
   ]
  },
  {
   "cell_type": "code",
   "execution_count": 15,
   "metadata": {},
   "outputs": [
    {
     "data": {
      "text/plain": [
       "22030.925427183276"
      ]
     },
     "execution_count": 15,
     "metadata": {},
     "output_type": "execute_result"
    }
   ],
   "source": [
    "stop_T = Theta_stop(y_long[y_long.index[-1]-pd.DateOffset(months=2) : ])\n",
    "stop_T['lower'].iloc[0]"
   ]
  },
  {
   "cell_type": "code",
   "execution_count": 16,
   "metadata": {},
   "outputs": [
    {
     "data": {
      "text/plain": [
       "2022-07-28 14:00:00+00:00    22592.491272\n",
       "2022-07-28 16:00:00+00:00    22562.395535\n",
       "Freq: 2H, Name: forecast, dtype: float64"
      ]
     },
     "execution_count": 16,
     "metadata": {},
     "output_type": "execute_result"
    }
   ],
   "source": [
    "pred_T = Theta_predict(y_long[y_long.index[-1]-pd.DateOffset(months=2) : y_long.index[-1]])\n",
    "pred_T"
   ]
  },
  {
   "cell_type": "code",
   "execution_count": 30,
   "metadata": {},
   "outputs": [],
   "source": [
    "def buy(\n",
    "    start: pd.Timestamp, train_period: pd.DateOffset, predictive_period: pd.Timedelta=pd.Timedelta(days=1),\n",
    "    dt: str='1d'\n",
    "):\n",
    "    end = start + predictive_period\n",
    "    bought = False\n",
    "    T = predictive_period / pd.Timedelta(dt)\n",
    "\n",
    "    while not bought:\n",
    "        start_str, end_str = start.strftime(\"%Y-%m-%dT%H:%M:%S%z\"), end.strftime(\"%Y-%m-%dT%H:%M:%S%z\")\n",
    "        start_tr = (start - train_period).strftime(\"%Y-%m-%dT%H:%M:%S%z\")\n",
    "        end_tr = start.strftime(\"%Y-%m-%dT%H:%M:%S%z\")\n",
    "        minute_data = get_binance_historical_klines('BTCUSDT', '1m', start_str, end_str).set_index('datetime')\n",
    "        data = get_binance_historical_klines('BTCUSDT', dt, start_tr, end_tr).set_index('datetime')\n",
    "        y = minute_data['low']\n",
    "        buy_price = Theta_predict(data['low'][:end_tr]).min()\n",
    "        print(f'Predicted buy: {buy_price}, actual: {y.min()}')\n",
    "\n",
    "        if buy_price >= y.min():\n",
    "            bought, ts = True, y[buy_price >= y].index[0]\n",
    "            stop_loss = Theta_stop(data['low'][:end_tr])['lower'].iloc[0]\n",
    "            return buy_price, ts, stop_loss\n",
    "        \n",
    "        start = end\n",
    "        end += predictive_period"
   ]
  },
  {
   "cell_type": "code",
   "execution_count": 31,
   "metadata": {},
   "outputs": [],
   "source": [
    "def sell(\n",
    "    start: pd.Timestamp, train_period: pd.DateOffset, stop_loss: float, \n",
    "    predictive_period: pd.Timedelta=pd.Timedelta(days=1),\n",
    "    dt: str='1d'\n",
    "):\n",
    "    end, price = start + predictive_period, 0\n",
    "    sold, stoped, ts = False, False, pd.Timestamp('2122-01-01', tz='UTC')\n",
    "    T = predictive_period / pd.Timedelta(dt)\n",
    "    \n",
    "    while not sold:\n",
    "        start_str, end_str = start.strftime(\"%Y-%m-%dT%H:%M:%S%z\"), end.strftime(\"%Y-%m-%dT%H:%M:%S%z\")\n",
    "        start_tr = (start - train_period).strftime(\"%Y-%m-%dT%H:%M:%S%z\")\n",
    "        end_tr = start.strftime(\"%Y-%m-%dT%H:%M:%S%z\")\n",
    "        minute_data = get_binance_historical_klines('BTCUSDT', '1m', start_str, end_str).set_index('datetime')\n",
    "        data = get_binance_historical_klines('BTCUSDT', dt, start_tr, end_tr).set_index('datetime')\n",
    "        y = minute_data['high']\n",
    "        sell_price = Theta_predict(data['high'][:end_tr]).max()\n",
    "        print(f'Predicted sell: {sell_price}, actual: {y.max()}')\n",
    "        if sell_price <= y.max():\n",
    "            sold, ts, price = True, y[y >= sell_price].index[0], sell_price\n",
    "        if minute_data['low'].min() <= stop_loss:\n",
    "            stops = minute_data[minute_data['low'] <= stop_loss]['low']\n",
    "            if len(stops):\n",
    "                if stops.index[0] < ts:\n",
    "                    stoped, sold, price, ts = True, True, stop_loss, stops.index[0]\n",
    "                    print(f\"Stopped out by {price}. Max pain: {minute_data['low'].min()}\")\n",
    "        start = end\n",
    "        end += predictive_period\n",
    "    return price, ts, stoped"
   ]
  },
  {
   "cell_type": "code",
   "execution_count": 32,
   "metadata": {},
   "outputs": [],
   "source": [
    "def backtest(\n",
    "    start, end, train_period: pd.DateOffset=pd.DateOffset(months=1), dt: str='1d',\n",
    "    predictive_period: pd.Timedelta=pd.Timedelta(days=1)\n",
    "):\n",
    "    predict_start = start + train_period\n",
    "    bought, sold = False, False\n",
    "    backtest, i = [], 0\n",
    "    \n",
    "    while predict_start < end:\n",
    "        print(f'\\t\\tSimulating {predict_start} day....')\n",
    "        buy_price, ts, stop_loss = buy(\n",
    "            predict_start, train_period, predictive_period, dt=dt\n",
    "        )\n",
    "        print(f'{stop_loss = }')\n",
    "        predict_start = ts.floor(dt) + predictive_period\n",
    "        curr_trade = {'bought': ts, 'buy_price': buy_price, 'stop_loss': stop_loss}\n",
    "        print(f'Bought BTC by {buy_price} at {ts}')\n",
    "        sell_price, ts, stoped = sell(\n",
    "            predict_start, train_period, stop_loss, predictive_period, dt=dt\n",
    "        )\n",
    "        predict_start = ts.floor(dt) + predictive_period\n",
    "        curr_trade['sold'] = ts\n",
    "        curr_trade['sell_price'] = sell_price\n",
    "        curr_trade['stoped'] = stoped\n",
    "        print(f'Sold BTC by {sell_price} at {ts}')\n",
    "        backtest.append(curr_trade)\n",
    "        i += 1\n",
    "        if i % 10 == 0:\n",
    "            pd.DataFrame(backtest).to_csv('backtest_Theta_stop.csv')\n",
    "    return pd.DataFrame(backtest)"
   ]
  },
  {
   "cell_type": "code",
   "execution_count": 33,
   "metadata": {},
   "outputs": [
    {
     "name": "stdout",
     "output_type": "stream",
     "text": [
      "\t\tSimulating 2021-05-01 00:00:00+00:00 day....\n",
      "Predicted buy: 52640.75261456766, actual: 56956.14\n",
      "Predicted buy: 56314.73635850582, actual: 56035.25\n",
      "stop_loss = 51396.69038840969\n",
      "Bought BTC by 56314.73635850582 at 2021-05-02 04:00:00+00:00\n"
     ]
    },
    {
     "name": "stderr",
     "output_type": "stream",
     "text": [
      "/home/olga/PycharmProjects/backtesting/venv/lib/python3.8/site-packages/statsmodels/tsa/deterministic.py:147: UserWarning: Only PeriodIndexes, DatetimeIndexes with a frequency set, RangesIndexes, and Int64Indexes with a unit increment support extending. The index is set will contain the position relative to the data length.\n",
      "  warnings.warn(\n"
     ]
    },
    {
     "name": "stdout",
     "output_type": "stream",
     "text": [
      "Predicted sell: 57808.01436828702, actual: 58981.44\n",
      "Sold BTC by 57808.01436828702 at 2021-05-03 01:38:00+00:00\n",
      "\t\tSimulating 2021-05-04 00:00:00+00:00 day....\n"
     ]
    },
    {
     "name": "stderr",
     "output_type": "stream",
     "text": [
      "/home/olga/PycharmProjects/backtesting/venv/lib/python3.8/site-packages/statsmodels/tsa/deterministic.py:147: UserWarning: Only PeriodIndexes, DatetimeIndexes with a frequency set, RangesIndexes, and Int64Indexes with a unit increment support extending. The index is set will contain the position relative to the data length.\n",
      "  warnings.warn(\n",
      "/home/olga/PycharmProjects/backtesting/venv/lib/python3.8/site-packages/statsmodels/tsa/deterministic.py:147: UserWarning: Only PeriodIndexes, DatetimeIndexes with a frequency set, RangesIndexes, and Int64Indexes with a unit increment support extending. The index is set will contain the position relative to the data length.\n",
      "  warnings.warn(\n"
     ]
    },
    {
     "name": "stdout",
     "output_type": "stream",
     "text": [
      "Predicted buy: 56162.38754389197, actual: 53046.69\n",
      "stop_loss = 51268.17962576914\n",
      "Bought BTC by 56162.38754389197 at 2021-05-04 00:51:00+00:00\n",
      "Predicted sell: 57100.57772185521, actual: 58069.82\n",
      "Sold BTC by 57100.57772185521 at 2021-05-05 15:00:00+00:00\n",
      "\t\tSimulating 2021-05-06 00:00:00+00:00 day....\n"
     ]
    },
    {
     "name": "stderr",
     "output_type": "stream",
     "text": [
      "/home/olga/PycharmProjects/backtesting/venv/lib/python3.8/site-packages/statsmodels/tsa/deterministic.py:147: UserWarning: Only PeriodIndexes, DatetimeIndexes with a frequency set, RangesIndexes, and Int64Indexes with a unit increment support extending. The index is set will contain the position relative to the data length.\n",
      "  warnings.warn(\n"
     ]
    },
    {
     "name": "stdout",
     "output_type": "stream",
     "text": [
      "Predicted buy: 52704.87950476773, actual: 55200.0\n",
      "Predicted buy: 54744.66301375414, actual: 55241.63\n",
      "Predicted buy: 54998.32334841293, actual: 56900.0\n",
      "Predicted buy: 56525.22148262928, actual: 56235.66\n",
      "stop_loss = 51416.733381938844\n",
      "Bought BTC by 56525.22148262928 at 2021-05-09 12:56:00+00:00\n"
     ]
    },
    {
     "name": "stderr",
     "output_type": "stream",
     "text": [
      "/home/olga/PycharmProjects/backtesting/venv/lib/python3.8/site-packages/statsmodels/tsa/deterministic.py:147: UserWarning: Only PeriodIndexes, DatetimeIndexes with a frequency set, RangesIndexes, and Int64Indexes with a unit increment support extending. The index is set will contain the position relative to the data length.\n",
      "  warnings.warn(\n"
     ]
    },
    {
     "name": "stdout",
     "output_type": "stream",
     "text": [
      "Predicted sell: 59219.12649186592, actual: 59500.0\n",
      "Sold BTC by 59219.12649186592 at 2021-05-10 03:08:00+00:00\n",
      "\t\tSimulating 2021-05-11 00:00:00+00:00 day....\n"
     ]
    },
    {
     "name": "stderr",
     "output_type": "stream",
     "text": [
      "/home/olga/PycharmProjects/backtesting/venv/lib/python3.8/site-packages/statsmodels/tsa/deterministic.py:147: UserWarning: Only PeriodIndexes, DatetimeIndexes with a frequency set, RangesIndexes, and Int64Indexes with a unit increment support extending. The index is set will contain the position relative to the data length.\n",
      "  warnings.warn(\n"
     ]
    },
    {
     "name": "stdout",
     "output_type": "stream",
     "text": [
      "Predicted buy: 53569.26636154183, actual: 54370.0\n",
      "Predicted buy: 54171.3571615145, actual: 48600.0\n",
      "stop_loss = 49018.947600209605\n",
      "Bought BTC by 54171.3571615145 at 2021-05-12 18:16:00+00:00\n"
     ]
    },
    {
     "name": "stderr",
     "output_type": "stream",
     "text": [
      "/home/olga/PycharmProjects/backtesting/venv/lib/python3.8/site-packages/statsmodels/tsa/deterministic.py:147: UserWarning: Only PeriodIndexes, DatetimeIndexes with a frequency set, RangesIndexes, and Int64Indexes with a unit increment support extending. The index is set will contain the position relative to the data length.\n",
      "  warnings.warn(\n"
     ]
    },
    {
     "name": "stdout",
     "output_type": "stream",
     "text": [
      "Predicted sell: 57948.56450148167, actual: 51367.19\n",
      "Stopped out by 49018.947600209605. Max pain: 46000.0\n",
      "Sold BTC by 49018.947600209605 at 2021-05-13 00:00:00+00:00\n",
      "\t\tSimulating 2021-05-14 00:00:00+00:00 day....\n"
     ]
    },
    {
     "name": "stderr",
     "output_type": "stream",
     "text": [
      "/home/olga/PycharmProjects/backtesting/venv/lib/python3.8/site-packages/statsmodels/tsa/deterministic.py:147: UserWarning: Only PeriodIndexes, DatetimeIndexes with a frequency set, RangesIndexes, and Int64Indexes with a unit increment support extending. The index is set will contain the position relative to the data length.\n",
      "  warnings.warn(\n"
     ]
    },
    {
     "name": "stdout",
     "output_type": "stream",
     "text": [
      "Predicted buy: 46033.25732643909, actual: 48799.75\n",
      "Predicted buy: 48458.11503061668, actual: 46555.0\n",
      "stop_loss = 43797.92327044102\n",
      "Bought BTC by 48458.11503061668 at 2021-05-15 07:59:00+00:00\n"
     ]
    },
    {
     "name": "stderr",
     "output_type": "stream",
     "text": [
      "/home/olga/PycharmProjects/backtesting/venv/lib/python3.8/site-packages/statsmodels/tsa/deterministic.py:147: UserWarning: Only PeriodIndexes, DatetimeIndexes with a frequency set, RangesIndexes, and Int64Indexes with a unit increment support extending. The index is set will contain the position relative to the data length.\n",
      "  warnings.warn(\n"
     ]
    },
    {
     "name": "stdout",
     "output_type": "stream",
     "text": [
      "Predicted sell: 51349.90580900351, actual: 49795.89\n",
      "Predicted sell: 49753.19688061339, actual: 46686.0\n",
      "Stopped out by 43797.92327044102. Max pain: 42001.0\n",
      "Sold BTC by 43797.92327044102 at 2021-05-17 03:23:00+00:00\n",
      "\t\tSimulating 2021-05-18 00:00:00+00:00 day....\n"
     ]
    },
    {
     "name": "stderr",
     "output_type": "stream",
     "text": [
      "/home/olga/PycharmProjects/backtesting/venv/lib/python3.8/site-packages/statsmodels/tsa/deterministic.py:147: UserWarning: Only PeriodIndexes, DatetimeIndexes with a frequency set, RangesIndexes, and Int64Indexes with a unit increment support extending. The index is set will contain the position relative to the data length.\n",
      "  warnings.warn(\n"
     ]
    },
    {
     "name": "stdout",
     "output_type": "stream",
     "text": [
      "Predicted buy: 41882.57792776577, actual: 42250.02\n",
      "Predicted buy: 42065.625501600116, actual: 30000.0\n",
      "stop_loss = 37533.55830635396\n",
      "Bought BTC by 42065.625501600116 at 2021-05-19 01:17:00+00:00\n"
     ]
    },
    {
     "name": "stderr",
     "output_type": "stream",
     "text": [
      "/home/olga/PycharmProjects/backtesting/venv/lib/python3.8/site-packages/statsmodels/tsa/deterministic.py:147: UserWarning: Only PeriodIndexes, DatetimeIndexes with a frequency set, RangesIndexes, and Int64Indexes with a unit increment support extending. The index is set will contain the position relative to the data length.\n",
      "  warnings.warn(\n"
     ]
    },
    {
     "name": "stdout",
     "output_type": "stream",
     "text": [
      "Predicted sell: 43489.25435653396, actual: 42451.67\n",
      "Stopped out by 37533.55830635396. Max pain: 34850.0\n",
      "Sold BTC by 37533.55830635396 at 2021-05-20 00:00:00+00:00\n",
      "\t\tSimulating 2021-05-21 00:00:00+00:00 day....\n"
     ]
    },
    {
     "name": "stderr",
     "output_type": "stream",
     "text": [
      "/home/olga/PycharmProjects/backtesting/venv/lib/python3.8/site-packages/statsmodels/tsa/deterministic.py:147: UserWarning: Only PeriodIndexes, DatetimeIndexes with a frequency set, RangesIndexes, and Int64Indexes with a unit increment support extending. The index is set will contain the position relative to the data length.\n",
      "  warnings.warn(\n",
      "/home/olga/PycharmProjects/backtesting/venv/lib/python3.8/site-packages/statsmodels/tsa/deterministic.py:147: UserWarning: Only PeriodIndexes, DatetimeIndexes with a frequency set, RangesIndexes, and Int64Indexes with a unit increment support extending. The index is set will contain the position relative to the data length.\n",
      "  warnings.warn(\n"
     ]
    },
    {
     "name": "stdout",
     "output_type": "stream",
     "text": [
      "Predicted buy: 33984.81874686382, actual: 33488.0\n",
      "stop_loss = 27521.278792233723\n",
      "Bought BTC by 33984.81874686382 at 2021-05-21 21:18:00+00:00\n",
      "Predicted sell: 42040.3458603833, actual: 38829.0\n",
      "Predicted sell: 38689.35936923753, actual: 38270.64\n",
      "Predicted sell: 38020.00182668516, actual: 39920.0\n",
      "Sold BTC by 38020.00182668516 at 2021-05-24 12:28:00+00:00\n",
      "\t\tSimulating 2021-05-25 00:00:00+00:00 day....\n"
     ]
    },
    {
     "name": "stderr",
     "output_type": "stream",
     "text": [
      "/home/olga/PycharmProjects/backtesting/venv/lib/python3.8/site-packages/statsmodels/tsa/deterministic.py:147: UserWarning: Only PeriodIndexes, DatetimeIndexes with a frequency set, RangesIndexes, and Int64Indexes with a unit increment support extending. The index is set will contain the position relative to the data length.\n",
      "  warnings.warn(\n"
     ]
    },
    {
     "name": "stdout",
     "output_type": "stream",
     "text": [
      "Predicted buy: 32764.2125342193, actual: 36419.62\n",
      "Predicted buy: 34898.69368805499, actual: 37800.44\n",
      "Predicted buy: 36402.85489815829, actual: 37134.27\n",
      "Predicted buy: 36163.20731749272, actual: 34684.0\n",
      "stop_loss = 30245.890380255878\n",
      "Bought BTC by 36163.20731749272 at 2021-05-28 08:55:00+00:00\n"
     ]
    },
    {
     "name": "stderr",
     "output_type": "stream",
     "text": [
      "/home/olga/PycharmProjects/backtesting/venv/lib/python3.8/site-packages/statsmodels/tsa/deterministic.py:147: UserWarning: Only PeriodIndexes, DatetimeIndexes with a frequency set, RangesIndexes, and Int64Indexes with a unit increment support extending. The index is set will contain the position relative to the data length.\n",
      "  warnings.warn(\n"
     ]
    },
    {
     "name": "stdout",
     "output_type": "stream",
     "text": [
      "Predicted sell: 38469.55661639796, actual: 37338.58\n",
      "Predicted sell: 36898.07554098766, actual: 36488.0\n",
      "Predicted sell: 36043.37452710362, actual: 37499.0\n",
      "Sold BTC by 36043.37452710362 at 2021-05-31 08:23:00+00:00\n",
      "\t\tSimulating 2021-06-01 00:00:00+00:00 day....\n"
     ]
    },
    {
     "name": "stderr",
     "output_type": "stream",
     "text": [
      "/home/olga/PycharmProjects/backtesting/venv/lib/python3.8/site-packages/statsmodels/tsa/deterministic.py:147: UserWarning: Only PeriodIndexes, DatetimeIndexes with a frequency set, RangesIndexes, and Int64Indexes with a unit increment support extending. The index is set will contain the position relative to the data length.\n",
      "  warnings.warn(\n"
     ]
    },
    {
     "name": "stdout",
     "output_type": "stream",
     "text": [
      "Predicted buy: 32952.63104225456, actual: 35666.0\n",
      "Predicted buy: 34314.06474800454, actual: 35920.0\n",
      "Predicted buy: 34820.284959379154, actual: 37170.0\n",
      "Predicted buy: 35990.54465364416, actual: 35555.15\n",
      "stop_loss = 30222.20245660999\n",
      "Bought BTC by 35990.54465364416 at 2021-06-04 12:07:00+00:00\n"
     ]
    },
    {
     "name": "stderr",
     "output_type": "stream",
     "text": [
      "/home/olga/PycharmProjects/backtesting/venv/lib/python3.8/site-packages/statsmodels/tsa/deterministic.py:147: UserWarning: Only PeriodIndexes, DatetimeIndexes with a frequency set, RangesIndexes, and Int64Indexes with a unit increment support extending. The index is set will contain the position relative to the data length.\n",
      "  warnings.warn(\n"
     ]
    },
    {
     "name": "stdout",
     "output_type": "stream",
     "text": [
      "Predicted sell: 38857.61757853934, actual: 37925.0\n",
      "Predicted sell: 37506.447133867885, actual: 36480.0\n",
      "Predicted sell: 36074.67509061071, actual: 36900.0\n",
      "Sold BTC by 36074.67509061071 at 2021-06-07 00:11:00+00:00\n",
      "\t\tSimulating 2021-06-08 00:00:00+00:00 day....\n"
     ]
    },
    {
     "name": "stderr",
     "output_type": "stream",
     "text": [
      "/home/olga/PycharmProjects/backtesting/venv/lib/python3.8/site-packages/statsmodels/tsa/deterministic.py:147: UserWarning: Only PeriodIndexes, DatetimeIndexes with a frequency set, RangesIndexes, and Int64Indexes with a unit increment support extending. The index is set will contain the position relative to the data length.\n",
      "  warnings.warn(\n",
      "/home/olga/PycharmProjects/backtesting/venv/lib/python3.8/site-packages/statsmodels/tsa/deterministic.py:147: UserWarning: Only PeriodIndexes, DatetimeIndexes with a frequency set, RangesIndexes, and Int64Indexes with a unit increment support extending. The index is set will contain the position relative to the data length.\n",
      "  warnings.warn(\n"
     ]
    },
    {
     "name": "stdout",
     "output_type": "stream",
     "text": [
      "Predicted buy: 32890.76303299867, actual: 31000.0\n",
      "stop_loss = 27347.34773690138\n",
      "Bought BTC by 32890.76303299867 at 2021-06-08 02:45:00+00:00\n",
      "Predicted sell: 33701.252055737736, actual: 37534.79\n",
      "Sold BTC by 33701.252055737736 at 2021-06-09 05:16:00+00:00\n",
      "\t\tSimulating 2021-06-10 00:00:00+00:00 day....\n"
     ]
    },
    {
     "name": "stderr",
     "output_type": "stream",
     "text": [
      "/home/olga/PycharmProjects/backtesting/venv/lib/python3.8/site-packages/statsmodels/tsa/deterministic.py:147: UserWarning: Only PeriodIndexes, DatetimeIndexes with a frequency set, RangesIndexes, and Int64Indexes with a unit increment support extending. The index is set will contain the position relative to the data length.\n",
      "  warnings.warn(\n"
     ]
    },
    {
     "name": "stdout",
     "output_type": "stream",
     "text": [
      "Predicted buy: 31611.98154312486, actual: 35782.0\n",
      "Predicted buy: 34649.02979090632, actual: 35936.77\n",
      "Predicted buy: 35310.46247499153, actual: 34600.36\n",
      "stop_loss = 29576.218776056507\n",
      "Bought BTC by 35310.46247499153 at 2021-06-12 03:51:00+00:00\n"
     ]
    },
    {
     "name": "stderr",
     "output_type": "stream",
     "text": [
      "/home/olga/PycharmProjects/backtesting/venv/lib/python3.8/site-packages/statsmodels/tsa/deterministic.py:147: UserWarning: Only PeriodIndexes, DatetimeIndexes with a frequency set, RangesIndexes, and Int64Indexes with a unit increment support extending. The index is set will contain the position relative to the data length.\n",
      "  warnings.warn(\n"
     ]
    },
    {
     "name": "stdout",
     "output_type": "stream",
     "text": [
      "Predicted sell: 37247.07574184828, actual: 39380.0\n",
      "Sold BTC by 37247.07574184828 at 2021-06-13 17:28:00+00:00\n",
      "\t\tSimulating 2021-06-14 00:00:00+00:00 day....\n"
     ]
    },
    {
     "name": "stderr",
     "output_type": "stream",
     "text": [
      "/home/olga/PycharmProjects/backtesting/venv/lib/python3.8/site-packages/statsmodels/tsa/deterministic.py:147: UserWarning: Only PeriodIndexes, DatetimeIndexes with a frequency set, RangesIndexes, and Int64Indexes with a unit increment support extending. The index is set will contain the position relative to the data length.\n",
      "  warnings.warn(\n"
     ]
    },
    {
     "name": "stdout",
     "output_type": "stream",
     "text": [
      "Predicted buy: 34487.03842997652, actual: 38730.0\n",
      "Predicted buy: 37651.11278373903, actual: 39506.4\n",
      "Predicted buy: 38985.75621971494, actual: 38116.01\n",
      "stop_loss = 33211.148007708965\n",
      "Bought BTC by 38985.75621971494 at 2021-06-16 11:41:00+00:00\n"
     ]
    },
    {
     "name": "stderr",
     "output_type": "stream",
     "text": [
      "/home/olga/PycharmProjects/backtesting/venv/lib/python3.8/site-packages/statsmodels/tsa/deterministic.py:147: UserWarning: Only PeriodIndexes, DatetimeIndexes with a frequency set, RangesIndexes, and Int64Indexes with a unit increment support extending. The index is set will contain the position relative to the data length.\n",
      "  warnings.warn(\n"
     ]
    },
    {
     "name": "stdout",
     "output_type": "stream",
     "text": [
      "Predicted sell: 40451.68827860515, actual: 39559.88\n",
      "Predicted sell: 39508.17665358737, actual: 38202.84\n",
      "Predicted sell: 38169.43308504222, actual: 36457.0\n",
      "Predicted sell: 36430.95701591989, actual: 36137.72\n",
      "Predicted sell: 36115.51511311515, actual: 35750.0\n",
      "Stopped out by 33211.148007708965. Max pain: 31251.23\n",
      "Sold BTC by 33211.148007708965 at 2021-06-21 06:28:00+00:00\n",
      "\t\tSimulating 2021-06-22 00:00:00+00:00 day....\n"
     ]
    },
    {
     "name": "stderr",
     "output_type": "stream",
     "text": [
      "/home/olga/PycharmProjects/backtesting/venv/lib/python3.8/site-packages/statsmodels/tsa/deterministic.py:147: UserWarning: Only PeriodIndexes, DatetimeIndexes with a frequency set, RangesIndexes, and Int64Indexes with a unit increment support extending. The index is set will contain the position relative to the data length.\n",
      "  warnings.warn(\n",
      "/home/olga/PycharmProjects/backtesting/venv/lib/python3.8/site-packages/statsmodels/tsa/deterministic.py:147: UserWarning: Only PeriodIndexes, DatetimeIndexes with a frequency set, RangesIndexes, and Int64Indexes with a unit increment support extending. The index is set will contain the position relative to the data length.\n",
      "  warnings.warn(\n"
     ]
    },
    {
     "name": "stdout",
     "output_type": "stream",
     "text": [
      "Predicted buy: 35474.9376352924, actual: 28805.0\n",
      "stop_loss = 32521.83978397808\n",
      "Bought BTC by 35474.9376352924 at 2021-06-22 00:00:00+00:00\n",
      "Predicted sell: 33266.729070209556, actual: 34881.0\n",
      "Stopped out by 32521.83978397808. Max pain: 31683.0\n",
      "Sold BTC by 32521.83978397808 at 2021-06-23 00:00:00+00:00\n",
      "\t\tSimulating 2021-06-24 00:00:00+00:00 day....\n"
     ]
    },
    {
     "name": "stderr",
     "output_type": "stream",
     "text": [
      "/home/olga/PycharmProjects/backtesting/venv/lib/python3.8/site-packages/statsmodels/tsa/deterministic.py:147: UserWarning: Only PeriodIndexes, DatetimeIndexes with a frequency set, RangesIndexes, and Int64Indexes with a unit increment support extending. The index is set will contain the position relative to the data length.\n",
      "  warnings.warn(\n"
     ]
    },
    {
     "name": "stdout",
     "output_type": "stream",
     "text": [
      "Predicted buy: 31112.69636997713, actual: 32286.57\n",
      "Predicted buy: 30468.00975572408, actual: 31275.0\n",
      "Predicted buy: 30461.05815735214, actual: 30151.0\n",
      "stop_loss = 27185.37222591239\n",
      "Bought BTC by 30461.05815735214 at 2021-06-26 08:07:00+00:00\n"
     ]
    },
    {
     "name": "stderr",
     "output_type": "stream",
     "text": [
      "/home/olga/PycharmProjects/backtesting/venv/lib/python3.8/site-packages/statsmodels/tsa/deterministic.py:147: UserWarning: Only PeriodIndexes, DatetimeIndexes with a frequency set, RangesIndexes, and Int64Indexes with a unit increment support extending. The index is set will contain the position relative to the data length.\n",
      "  warnings.warn(\n"
     ]
    },
    {
     "name": "stdout",
     "output_type": "stream",
     "text": [
      "Predicted sell: 32680.375426931398, actual: 34749.0\n",
      "Sold BTC by 32680.375426931398 at 2021-06-27 01:19:00+00:00\n",
      "\t\tSimulating 2021-06-28 00:00:00+00:00 day....\n"
     ]
    },
    {
     "name": "stderr",
     "output_type": "stream",
     "text": [
      "/home/olga/PycharmProjects/backtesting/venv/lib/python3.8/site-packages/statsmodels/tsa/deterministic.py:147: UserWarning: Only PeriodIndexes, DatetimeIndexes with a frequency set, RangesIndexes, and Int64Indexes with a unit increment support extending. The index is set will contain the position relative to the data length.\n",
      "  warnings.warn(\n"
     ]
    },
    {
     "name": "stdout",
     "output_type": "stream",
     "text": [
      "Predicted buy: 31347.07017525742, actual: 33862.72\n",
      "Predicted buy: 34091.39559156037, actual: 34225.43\n",
      "Predicted buy: 35684.40896523838, actual: 34017.55\n",
      "stop_loss = 33616.81211719552\n",
      "Bought BTC by 35684.40896523838 at 2021-06-30 00:08:00+00:00\n"
     ]
    },
    {
     "name": "stderr",
     "output_type": "stream",
     "text": [
      "/home/olga/PycharmProjects/backtesting/venv/lib/python3.8/site-packages/statsmodels/tsa/deterministic.py:147: UserWarning: Only PeriodIndexes, DatetimeIndexes with a frequency set, RangesIndexes, and Int64Indexes with a unit increment support extending. The index is set will contain the position relative to the data length.\n",
      "  warnings.warn(\n"
     ]
    },
    {
     "name": "stdout",
     "output_type": "stream",
     "text": [
      "Predicted sell: 36066.71694826542, actual: 35057.57\n",
      "Stopped out by 33616.81211719552. Max pain: 32711.0\n",
      "Sold BTC by 33616.81211719552 at 2021-07-01 06:46:00+00:00\n",
      "\t\tSimulating 2021-07-02 00:00:00+00:00 day....\n"
     ]
    },
    {
     "name": "stderr",
     "output_type": "stream",
     "text": [
      "/home/olga/PycharmProjects/backtesting/venv/lib/python3.8/site-packages/statsmodels/tsa/deterministic.py:147: UserWarning: Only PeriodIndexes, DatetimeIndexes with a frequency set, RangesIndexes, and Int64Indexes with a unit increment support extending. The index is set will contain the position relative to the data length.\n",
      "  warnings.warn(\n"
     ]
    },
    {
     "name": "stdout",
     "output_type": "stream",
     "text": [
      "Predicted buy: 32586.83012884365, actual: 32699.0\n",
      "Predicted buy: 32576.991760499244, actual: 33316.73\n",
      "Predicted buy: 33210.99501882576, actual: 34357.15\n",
      "Predicted buy: 34265.028946844424, actual: 33125.55\n",
      "stop_loss = 31159.92850797617\n",
      "Bought BTC by 34265.028946844424 at 2021-07-05 03:51:00+00:00\n"
     ]
    },
    {
     "name": "stderr",
     "output_type": "stream",
     "text": [
      "/home/olga/PycharmProjects/backtesting/venv/lib/python3.8/site-packages/statsmodels/tsa/deterministic.py:147: UserWarning: Only PeriodIndexes, DatetimeIndexes with a frequency set, RangesIndexes, and Int64Indexes with a unit increment support extending. The index is set will contain the position relative to the data length.\n",
      "  warnings.warn(\n"
     ]
    },
    {
     "name": "stdout",
     "output_type": "stream",
     "text": [
      "Predicted sell: 35292.88071701522, actual: 35118.88\n",
      "Predicted sell: 35070.44505163355, actual: 35059.09\n",
      "Predicted sell: 34987.78760434139, actual: 33929.64\n",
      "Predicted sell: 33842.3041092568, actual: 34100.0\n",
      "Sold BTC by 33842.3041092568 at 2021-07-09 21:36:00+00:00\n",
      "\t\tSimulating 2021-07-10 00:00:00+00:00 day....\n"
     ]
    },
    {
     "name": "stderr",
     "output_type": "stream",
     "text": [
      "/home/olga/PycharmProjects/backtesting/venv/lib/python3.8/site-packages/statsmodels/tsa/deterministic.py:147: UserWarning: Only PeriodIndexes, DatetimeIndexes with a frequency set, RangesIndexes, and Int64Indexes with a unit increment support extending. The index is set will contain the position relative to the data length.\n",
      "  warnings.warn(\n"
     ]
    },
    {
     "name": "stdout",
     "output_type": "stream",
     "text": [
      "Predicted buy: 32122.82922087351, actual: 33004.78\n",
      "Predicted buy: 32874.356102381156, actual: 33306.47\n",
      "Predicted buy: 33188.24423123337, actual: 32658.34\n",
      "stop_loss = 30690.14251474334\n",
      "Bought BTC by 33188.24423123337 at 2021-07-12 16:10:00+00:00\n"
     ]
    },
    {
     "name": "stderr",
     "output_type": "stream",
     "text": [
      "/home/olga/PycharmProjects/backtesting/venv/lib/python3.8/site-packages/statsmodels/tsa/deterministic.py:147: UserWarning: Only PeriodIndexes, DatetimeIndexes with a frequency set, RangesIndexes, and Int64Indexes with a unit increment support extending. The index is set will contain the position relative to the data length.\n",
      "  warnings.warn(\n"
     ]
    },
    {
     "name": "stdout",
     "output_type": "stream",
     "text": [
      "Predicted sell: 34585.474472491966, actual: 33340.0\n",
      "Predicted sell: 33300.042545973774, actual: 33114.03\n",
      "Predicted sell: 33039.98981486805, actual: 33185.25\n",
      "Sold BTC by 33039.98981486805 at 2021-07-15 00:51:00+00:00\n",
      "\t\tSimulating 2021-07-16 00:00:00+00:00 day....\n"
     ]
    },
    {
     "name": "stderr",
     "output_type": "stream",
     "text": [
      "/home/olga/PycharmProjects/backtesting/venv/lib/python3.8/site-packages/statsmodels/tsa/deterministic.py:147: UserWarning: Only PeriodIndexes, DatetimeIndexes with a frequency set, RangesIndexes, and Int64Indexes with a unit increment support extending. The index is set will contain the position relative to the data length.\n",
      "  warnings.warn(\n",
      "/home/olga/PycharmProjects/backtesting/venv/lib/python3.8/site-packages/statsmodels/tsa/deterministic.py:147: UserWarning: Only PeriodIndexes, DatetimeIndexes with a frequency set, RangesIndexes, and Int64Indexes with a unit increment support extending. The index is set will contain the position relative to the data length.\n",
      "  warnings.warn(\n"
     ]
    },
    {
     "name": "stdout",
     "output_type": "stream",
     "text": [
      "Predicted buy: 31066.06851546282, actual: 31020.0\n",
      "stop_loss = 28718.64317515819\n",
      "Bought BTC by 31066.06851546282 at 2021-07-16 11:41:00+00:00\n",
      "Predicted sell: 32285.029934270075, actual: 31955.92\n",
      "Predicted sell: 32000.09244349777, actual: 32435.0\n",
      "Sold BTC by 32000.09244349777 at 2021-07-18 00:55:00+00:00\n",
      "\t\tSimulating 2021-07-19 00:00:00+00:00 day....\n"
     ]
    },
    {
     "name": "stderr",
     "output_type": "stream",
     "text": [
      "/home/olga/PycharmProjects/backtesting/venv/lib/python3.8/site-packages/statsmodels/tsa/deterministic.py:147: UserWarning: Only PeriodIndexes, DatetimeIndexes with a frequency set, RangesIndexes, and Int64Indexes with a unit increment support extending. The index is set will contain the position relative to the data length.\n",
      "  warnings.warn(\n",
      "/home/olga/PycharmProjects/backtesting/venv/lib/python3.8/site-packages/statsmodels/tsa/deterministic.py:147: UserWarning: Only PeriodIndexes, DatetimeIndexes with a frequency set, RangesIndexes, and Int64Indexes with a unit increment support extending. The index is set will contain the position relative to the data length.\n",
      "  warnings.warn(\n"
     ]
    },
    {
     "name": "stdout",
     "output_type": "stream",
     "text": [
      "Predicted buy: 31094.325316454877, actual: 30407.44\n",
      "stop_loss = 28817.073479122177\n",
      "Bought BTC by 31094.325316454877 at 2021-07-19 12:31:00+00:00\n",
      "Predicted sell: 32030.84193858298, actual: 31063.07\n",
      "Predicted sell: 31463.38067583241, actual: 32858.0\n",
      "Sold BTC by 31463.38067583241 at 2021-07-21 10:08:00+00:00\n",
      "\t\tSimulating 2021-07-22 00:00:00+00:00 day....\n"
     ]
    },
    {
     "name": "stderr",
     "output_type": "stream",
     "text": [
      "/home/olga/PycharmProjects/backtesting/venv/lib/python3.8/site-packages/statsmodels/tsa/deterministic.py:147: UserWarning: Only PeriodIndexes, DatetimeIndexes with a frequency set, RangesIndexes, and Int64Indexes with a unit increment support extending. The index is set will contain the position relative to the data length.\n",
      "  warnings.warn(\n"
     ]
    },
    {
     "name": "stdout",
     "output_type": "stream",
     "text": [
      "Predicted buy: 29436.030006989586, actual: 31708.0\n",
      "Predicted buy: 31636.069479813665, actual: 31924.32\n",
      "Predicted buy: 31847.670854287295, actual: 33401.14\n",
      "Predicted buy: 33332.83883942841, actual: 33851.12\n",
      "Predicted buy: 33786.92073592606, actual: 35205.78\n",
      "Predicted buy: 35145.23338754888, actual: 36383.0\n",
      "Predicted buy: 36344.217945651144, actual: 38772.0\n",
      "Predicted buy: 38776.9857018584, actual: 39200.0\n",
      "Predicted buy: 39230.87161220608, actual: 38313.23\n",
      "stop_loss = 37351.700767429\n",
      "Bought BTC by 39230.87161220608 at 2021-07-30 08:41:00+00:00\n"
     ]
    },
    {
     "name": "stderr",
     "output_type": "stream",
     "text": [
      "/home/olga/PycharmProjects/backtesting/venv/lib/python3.8/site-packages/statsmodels/tsa/deterministic.py:147: UserWarning: Only PeriodIndexes, DatetimeIndexes with a frequency set, RangesIndexes, and Int64Indexes with a unit increment support extending. The index is set will contain the position relative to the data length.\n",
      "  warnings.warn(\n"
     ]
    },
    {
     "name": "stdout",
     "output_type": "stream",
     "text": [
      "Predicted sell: 42382.78706933921, actual: 42448.0\n",
      "Sold BTC by 42382.78706933921 at 2021-07-31 00:00:00+00:00\n",
      "\t\tSimulating 2021-08-01 00:00:00+00:00 day....\n"
     ]
    },
    {
     "name": "stderr",
     "output_type": "stream",
     "text": [
      "/home/olga/PycharmProjects/backtesting/venv/lib/python3.8/site-packages/statsmodels/tsa/deterministic.py:147: UserWarning: Only PeriodIndexes, DatetimeIndexes with a frequency set, RangesIndexes, and Int64Indexes with a unit increment support extending. The index is set will contain the position relative to the data length.\n",
      "  warnings.warn(\n",
      "/home/olga/PycharmProjects/backtesting/venv/lib/python3.8/site-packages/statsmodels/tsa/deterministic.py:147: UserWarning: Only PeriodIndexes, DatetimeIndexes with a frequency set, RangesIndexes, and Int64Indexes with a unit increment support extending. The index is set will contain the position relative to the data length.\n",
      "  warnings.warn(\n"
     ]
    },
    {
     "name": "stdout",
     "output_type": "stream",
     "text": [
      "Predicted buy: 41070.770942009316, actual: 39422.01\n",
      "stop_loss = 39012.33091065249\n",
      "Bought BTC by 41070.770942009316 at 2021-08-01 16:15:00+00:00\n",
      "Predicted sell: 42814.03787381919, actual: 40480.01\n",
      "Stopped out by 39012.33091065249. Max pain: 38690.0\n",
      "Sold BTC by 39012.33091065249 at 2021-08-02 12:32:00+00:00\n",
      "\t\tSimulating 2021-08-03 00:00:00+00:00 day....\n"
     ]
    },
    {
     "name": "stderr",
     "output_type": "stream",
     "text": [
      "/home/olga/PycharmProjects/backtesting/venv/lib/python3.8/site-packages/statsmodels/tsa/deterministic.py:147: UserWarning: Only PeriodIndexes, DatetimeIndexes with a frequency set, RangesIndexes, and Int64Indexes with a unit increment support extending. The index is set will contain the position relative to the data length.\n",
      "  warnings.warn(\n",
      "/home/olga/PycharmProjects/backtesting/venv/lib/python3.8/site-packages/statsmodels/tsa/deterministic.py:147: UserWarning: Only PeriodIndexes, DatetimeIndexes with a frequency set, RangesIndexes, and Int64Indexes with a unit increment support extending. The index is set will contain the position relative to the data length.\n",
      "  warnings.warn(\n"
     ]
    },
    {
     "name": "stdout",
     "output_type": "stream",
     "text": [
      "Predicted buy: 38790.26196350009, actual: 37642.03\n",
      "stop_loss = 36574.66617416632\n",
      "Bought BTC by 38790.26196350009 at 2021-08-03 00:07:00+00:00\n",
      "Predicted sell: 40052.13204178507, actual: 39969.66\n",
      "Predicted sell: 40252.40591639363, actual: 41350.0\n",
      "Sold BTC by 40252.40591639363 at 2021-08-05 17:17:00+00:00\n",
      "\t\tSimulating 2021-08-06 00:00:00+00:00 day....\n"
     ]
    },
    {
     "name": "stderr",
     "output_type": "stream",
     "text": [
      "/home/olga/PycharmProjects/backtesting/venv/lib/python3.8/site-packages/statsmodels/tsa/deterministic.py:147: UserWarning: Only PeriodIndexes, DatetimeIndexes with a frequency set, RangesIndexes, and Int64Indexes with a unit increment support extending. The index is set will contain the position relative to the data length.\n",
      "  warnings.warn(\n"
     ]
    },
    {
     "name": "stdout",
     "output_type": "stream",
     "text": [
      "Predicted buy: 37462.622874822664, actual: 39853.86\n",
      "Predicted buy: 39998.65526850417, actual: 42446.41\n",
      "Predicted buy: 42613.99045690442, actual: 43261.0\n",
      "Predicted buy: 43446.7112198022, actual: 42779.0\n",
      "stop_loss = 41044.221981628296\n",
      "Bought BTC by 43446.7112198022 at 2021-08-09 00:13:00+00:00\n"
     ]
    },
    {
     "name": "stderr",
     "output_type": "stream",
     "text": [
      "/home/olga/PycharmProjects/backtesting/venv/lib/python3.8/site-packages/statsmodels/tsa/deterministic.py:147: UserWarning: Only PeriodIndexes, DatetimeIndexes with a frequency set, RangesIndexes, and Int64Indexes with a unit increment support extending. The index is set will contain the position relative to the data length.\n",
      "  warnings.warn(\n"
     ]
    },
    {
     "name": "stdout",
     "output_type": "stream",
     "text": [
      "Predicted sell: 46915.396088036025, actual: 46700.0\n",
      "Predicted sell: 47196.254828899466, actual: 46743.47\n",
      "Predicted sell: 47272.46247724501, actual: 46218.12\n",
      "Predicted sell: 46771.95015300563, actual: 47886.0\n",
      "Sold BTC by 46771.95015300563 at 2021-08-13 20:06:00+00:00\n",
      "\t\tSimulating 2021-08-14 00:00:00+00:00 day....\n"
     ]
    },
    {
     "name": "stderr",
     "output_type": "stream",
     "text": [
      "/home/olga/PycharmProjects/backtesting/venv/lib/python3.8/site-packages/statsmodels/tsa/deterministic.py:147: UserWarning: Only PeriodIndexes, DatetimeIndexes with a frequency set, RangesIndexes, and Int64Indexes with a unit increment support extending. The index is set will contain the position relative to the data length.\n",
      "  warnings.warn(\n"
     ]
    },
    {
     "name": "stdout",
     "output_type": "stream",
     "text": [
      "Predicted buy: 44481.96751752931, actual: 45971.03\n",
      "Predicted buy: 46246.05168193391, actual: 45500.0\n",
      "stop_loss = 43697.05693108608\n",
      "Bought BTC by 46246.05168193391 at 2021-08-15 07:07:00+00:00\n"
     ]
    },
    {
     "name": "stderr",
     "output_type": "stream",
     "text": [
      "/home/olga/PycharmProjects/backtesting/venv/lib/python3.8/site-packages/statsmodels/tsa/deterministic.py:147: UserWarning: Only PeriodIndexes, DatetimeIndexes with a frequency set, RangesIndexes, and Int64Indexes with a unit increment support extending. The index is set will contain the position relative to the data length.\n",
      "  warnings.warn(\n"
     ]
    },
    {
     "name": "stdout",
     "output_type": "stream",
     "text": [
      "Predicted sell: 47968.95928784434, actual: 48053.83\n",
      "Sold BTC by 47968.95928784434 at 2021-08-16 02:46:00+00:00\n",
      "\t\tSimulating 2021-08-17 00:00:00+00:00 day....\n"
     ]
    },
    {
     "name": "stderr",
     "output_type": "stream",
     "text": [
      "/home/olga/PycharmProjects/backtesting/venv/lib/python3.8/site-packages/statsmodels/tsa/deterministic.py:147: UserWarning: Only PeriodIndexes, DatetimeIndexes with a frequency set, RangesIndexes, and Int64Indexes with a unit increment support extending. The index is set will contain the position relative to the data length.\n",
      "  warnings.warn(\n",
      "/home/olga/PycharmProjects/backtesting/venv/lib/python3.8/site-packages/statsmodels/tsa/deterministic.py:147: UserWarning: Only PeriodIndexes, DatetimeIndexes with a frequency set, RangesIndexes, and Int64Indexes with a unit increment support extending. The index is set will contain the position relative to the data length.\n",
      "  warnings.warn(\n"
     ]
    },
    {
     "name": "stdout",
     "output_type": "stream",
     "text": [
      "Predicted buy: 45942.30785962588, actual: 44376.0\n",
      "stop_loss = 43505.51049100346\n",
      "Bought BTC by 45942.30785962588 at 2021-08-17 00:00:00+00:00\n",
      "Predicted sell: 47738.77956050087, actual: 46000.0\n",
      "Predicted sell: 46552.94193884345, actual: 47033.0\n",
      "Sold BTC by 46552.94193884345 at 2021-08-19 18:26:00+00:00\n",
      "\t\tSimulating 2021-08-20 00:00:00+00:00 day....\n"
     ]
    },
    {
     "name": "stderr",
     "output_type": "stream",
     "text": [
      "/home/olga/PycharmProjects/backtesting/venv/lib/python3.8/site-packages/statsmodels/tsa/deterministic.py:147: UserWarning: Only PeriodIndexes, DatetimeIndexes with a frequency set, RangesIndexes, and Int64Indexes with a unit increment support extending. The index is set will contain the position relative to the data length.\n",
      "  warnings.warn(\n"
     ]
    },
    {
     "name": "stdout",
     "output_type": "stream",
     "text": [
      "Predicted buy: 44184.947595578524, actual: 46622.99\n",
      "Predicted buy: 46868.28875421104, actual: 48222.0\n",
      "Predicted buy: 48457.92882144251, actual: 48050.0\n",
      "stop_loss = 45938.85416164768\n",
      "Bought BTC by 48457.92882144251 at 2021-08-22 14:35:00+00:00\n"
     ]
    },
    {
     "name": "stderr",
     "output_type": "stream",
     "text": [
      "/home/olga/PycharmProjects/backtesting/venv/lib/python3.8/site-packages/statsmodels/tsa/deterministic.py:147: UserWarning: Only PeriodIndexes, DatetimeIndexes with a frequency set, RangesIndexes, and Int64Indexes with a unit increment support extending. The index is set will contain the position relative to the data length.\n",
      "  warnings.warn(\n"
     ]
    },
    {
     "name": "stdout",
     "output_type": "stream",
     "text": [
      "Predicted sell: 49949.5490954608, actual: 50500.0\n",
      "Sold BTC by 49949.5490954608 at 2021-08-23 02:41:00+00:00\n",
      "\t\tSimulating 2021-08-24 00:00:00+00:00 day....\n"
     ]
    },
    {
     "name": "stderr",
     "output_type": "stream",
     "text": [
      "/home/olga/PycharmProjects/backtesting/venv/lib/python3.8/site-packages/statsmodels/tsa/deterministic.py:147: UserWarning: Only PeriodIndexes, DatetimeIndexes with a frequency set, RangesIndexes, and Int64Indexes with a unit increment support extending. The index is set will contain the position relative to the data length.\n",
      "  warnings.warn(\n",
      "/home/olga/PycharmProjects/backtesting/venv/lib/python3.8/site-packages/statsmodels/tsa/deterministic.py:147: UserWarning: Only PeriodIndexes, DatetimeIndexes with a frequency set, RangesIndexes, and Int64Indexes with a unit increment support extending. The index is set will contain the position relative to the data length.\n",
      "  warnings.warn(\n"
     ]
    },
    {
     "name": "stdout",
     "output_type": "stream",
     "text": [
      "Predicted buy: 49252.035452910335, actual: 47600.0\n",
      "stop_loss = 46753.25727148284\n",
      "Bought BTC by 49252.035452910335 at 2021-08-24 00:33:00+00:00\n",
      "Predicted sell: 50257.757772009034, actual: 49264.3\n",
      "Predicted sell: 49629.31356628409, actual: 49352.84\n",
      "Stopped out by 46753.25727148284. Max pain: 46250.0\n",
      "Sold BTC by 46753.25727148284 at 2021-08-26 06:30:00+00:00\n",
      "\t\tSimulating 2021-08-27 00:00:00+00:00 day....\n"
     ]
    },
    {
     "name": "stderr",
     "output_type": "stream",
     "text": [
      "/home/olga/PycharmProjects/backtesting/venv/lib/python3.8/site-packages/statsmodels/tsa/deterministic.py:147: UserWarning: Only PeriodIndexes, DatetimeIndexes with a frequency set, RangesIndexes, and Int64Indexes with a unit increment support extending. The index is set will contain the position relative to the data length.\n",
      "  warnings.warn(\n",
      "/home/olga/PycharmProjects/backtesting/venv/lib/python3.8/site-packages/statsmodels/tsa/deterministic.py:147: UserWarning: Only PeriodIndexes, DatetimeIndexes with a frequency set, RangesIndexes, and Int64Indexes with a unit increment support extending. The index is set will contain the position relative to the data length.\n",
      "  warnings.warn(\n"
     ]
    },
    {
     "name": "stdout",
     "output_type": "stream",
     "text": [
      "Predicted buy: 46438.8027119485, actual: 46348.0\n",
      "stop_loss = 43937.61413246981\n",
      "Bought BTC by 46438.8027119485 at 2021-08-27 00:16:00+00:00\n",
      "Predicted sell: 49494.801249225035, actual: 49299.0\n",
      "Predicted sell: 49633.936270388025, actual: 49632.27\n",
      "Predicted sell: 49954.24281209435, actual: 48888.61\n",
      "Predicted sell: 49200.4699320457, actual: 48246.11\n",
      "Predicted sell: 48542.01252822567, actual: 49156.0\n",
      "Sold BTC by 48542.01252822567 at 2021-09-01 16:46:00+00:00\n",
      "\t\tSimulating 2021-09-02 00:00:00+00:00 day....\n"
     ]
    },
    {
     "name": "stderr",
     "output_type": "stream",
     "text": [
      "/home/olga/PycharmProjects/backtesting/venv/lib/python3.8/site-packages/statsmodels/tsa/deterministic.py:147: UserWarning: Only PeriodIndexes, DatetimeIndexes with a frequency set, RangesIndexes, and Int64Indexes with a unit increment support extending. The index is set will contain the position relative to the data length.\n",
      "  warnings.warn(\n"
     ]
    },
    {
     "name": "stdout",
     "output_type": "stream",
     "text": [
      "Predicted buy: 46666.8487939872, actual: 48584.06\n",
      "Predicted buy: 48731.57476206369, actual: 48316.84\n",
      "stop_loss = 46457.461900137256\n",
      "Bought BTC by 48731.57476206369 at 2021-09-03 00:42:00+00:00\n"
     ]
    },
    {
     "name": "stderr",
     "output_type": "stream",
     "text": [
      "/home/olga/PycharmProjects/backtesting/venv/lib/python3.8/site-packages/statsmodels/tsa/deterministic.py:147: UserWarning: Only PeriodIndexes, DatetimeIndexes with a frequency set, RangesIndexes, and Int64Indexes with a unit increment support extending. The index is set will contain the position relative to the data length.\n",
      "  warnings.warn(\n"
     ]
    },
    {
     "name": "stdout",
     "output_type": "stream",
     "text": [
      "Predicted sell: 51238.18584736968, actual: 50535.69\n",
      "Predicted sell: 50742.3981765084, actual: 51900.0\n",
      "Sold BTC by 50742.3981765084 at 2021-09-05 19:15:00+00:00\n",
      "\t\tSimulating 2021-09-06 00:00:00+00:00 day....\n"
     ]
    },
    {
     "name": "stderr",
     "output_type": "stream",
     "text": [
      "/home/olga/PycharmProjects/backtesting/venv/lib/python3.8/site-packages/statsmodels/tsa/deterministic.py:147: UserWarning: Only PeriodIndexes, DatetimeIndexes with a frequency set, RangesIndexes, and Int64Indexes with a unit increment support extending. The index is set will contain the position relative to the data length.\n",
      "  warnings.warn(\n"
     ]
    },
    {
     "name": "stdout",
     "output_type": "stream",
     "text": [
      "Predicted buy: 49556.77389135078, actual: 50969.33\n",
      "Predicted buy: 51053.576166788844, actual: 42843.05\n",
      "stop_loss = 48834.85379105428\n",
      "Bought BTC by 51053.576166788844 at 2021-09-07 09:00:00+00:00\n"
     ]
    },
    {
     "name": "stderr",
     "output_type": "stream",
     "text": [
      "/home/olga/PycharmProjects/backtesting/venv/lib/python3.8/site-packages/statsmodels/tsa/deterministic.py:147: UserWarning: Only PeriodIndexes, DatetimeIndexes with a frequency set, RangesIndexes, and Int64Indexes with a unit increment support extending. The index is set will contain the position relative to the data length.\n",
      "  warnings.warn(\n"
     ]
    },
    {
     "name": "stdout",
     "output_type": "stream",
     "text": [
      "Predicted sell: 53104.49307932817, actual: 47340.99\n",
      "Stopped out by 48834.85379105428. Max pain: 44412.02\n",
      "Sold BTC by 48834.85379105428 at 2021-09-08 00:00:00+00:00\n",
      "\t\tSimulating 2021-09-09 00:00:00+00:00 day....\n"
     ]
    },
    {
     "name": "stderr",
     "output_type": "stream",
     "text": [
      "/home/olga/PycharmProjects/backtesting/venv/lib/python3.8/site-packages/statsmodels/tsa/deterministic.py:147: UserWarning: Only PeriodIndexes, DatetimeIndexes with a frequency set, RangesIndexes, and Int64Indexes with a unit increment support extending. The index is set will contain the position relative to the data length.\n",
      "  warnings.warn(\n"
     ]
    },
    {
     "name": "stdout",
     "output_type": "stream",
     "text": [
      "Predicted buy: 44718.8223661776, actual: 45513.08\n",
      "Predicted buy: 45357.974573783635, actual: 44132.29\n",
      "stop_loss = 41681.04633134384\n",
      "Bought BTC by 45357.974573783635 at 2021-09-10 14:06:00+00:00\n"
     ]
    },
    {
     "name": "stderr",
     "output_type": "stream",
     "text": [
      "/home/olga/PycharmProjects/backtesting/venv/lib/python3.8/site-packages/statsmodels/tsa/deterministic.py:147: UserWarning: Only PeriodIndexes, DatetimeIndexes with a frequency set, RangesIndexes, and Int64Indexes with a unit increment support extending. The index is set will contain the position relative to the data length.\n",
      "  warnings.warn(\n"
     ]
    },
    {
     "name": "stdout",
     "output_type": "stream",
     "text": [
      "Predicted sell: 47134.19535918906, actual: 45987.93\n",
      "Predicted sell: 46056.88687257456, actual: 46460.0\n",
      "Sold BTC by 46056.88687257456 at 2021-09-12 08:58:00+00:00\n",
      "\t\tSimulating 2021-09-13 00:00:00+00:00 day....\n"
     ]
    },
    {
     "name": "stderr",
     "output_type": "stream",
     "text": [
      "/home/olga/PycharmProjects/backtesting/venv/lib/python3.8/site-packages/statsmodels/tsa/deterministic.py:147: UserWarning: Only PeriodIndexes, DatetimeIndexes with a frequency set, RangesIndexes, and Int64Indexes with a unit increment support extending. The index is set will contain the position relative to the data length.\n",
      "  warnings.warn(\n",
      "/home/olga/PycharmProjects/backtesting/venv/lib/python3.8/site-packages/statsmodels/tsa/deterministic.py:147: UserWarning: Only PeriodIndexes, DatetimeIndexes with a frequency set, RangesIndexes, and Int64Indexes with a unit increment support extending. The index is set will contain the position relative to the data length.\n",
      "  warnings.warn(\n"
     ]
    },
    {
     "name": "stdout",
     "output_type": "stream",
     "text": [
      "Predicted buy: 44726.93723610637, actual: 43370.0\n",
      "stop_loss = 41047.103657353575\n",
      "Bought BTC by 44726.93723610637 at 2021-09-13 03:59:00+00:00\n",
      "Predicted sell: 46896.60536572562, actual: 47250.0\n",
      "Sold BTC by 46896.60536572562 at 2021-09-14 15:13:00+00:00\n",
      "\t\tSimulating 2021-09-15 00:00:00+00:00 day....\n"
     ]
    },
    {
     "name": "stderr",
     "output_type": "stream",
     "text": [
      "/home/olga/PycharmProjects/backtesting/venv/lib/python3.8/site-packages/statsmodels/tsa/deterministic.py:147: UserWarning: Only PeriodIndexes, DatetimeIndexes with a frequency set, RangesIndexes, and Int64Indexes with a unit increment support extending. The index is set will contain the position relative to the data length.\n",
      "  warnings.warn(\n"
     ]
    },
    {
     "name": "stdout",
     "output_type": "stream",
     "text": [
      "Predicted buy: 44290.38755919911, actual: 46682.32\n",
      "Predicted buy: 45824.69498142948, actual: 47021.1\n",
      "Predicted buy: 46666.58153556012, actual: 46699.56\n",
      "Predicted buy: 46645.99643209711, actual: 47035.56\n",
      "Predicted buy: 46872.35376544565, actual: 46829.18\n",
      "stop_loss = 43337.214727807914\n",
      "Bought BTC by 46872.35376544565 at 2021-09-19 22:45:00+00:00\n"
     ]
    },
    {
     "name": "stderr",
     "output_type": "stream",
     "text": [
      "/home/olga/PycharmProjects/backtesting/venv/lib/python3.8/site-packages/statsmodels/tsa/deterministic.py:147: UserWarning: Only PeriodIndexes, DatetimeIndexes with a frequency set, RangesIndexes, and Int64Indexes with a unit increment support extending. The index is set will contain the position relative to the data length.\n",
      "  warnings.warn(\n"
     ]
    },
    {
     "name": "stdout",
     "output_type": "stream",
     "text": [
      "Predicted sell: 48337.843459559655, actual: 47347.25\n",
      "Stopped out by 43337.214727807914. Max pain: 42500.0\n",
      "Sold BTC by 43337.214727807914 at 2021-09-20 11:50:00+00:00\n",
      "\t\tSimulating 2021-09-21 00:00:00+00:00 day....\n"
     ]
    },
    {
     "name": "stderr",
     "output_type": "stream",
     "text": [
      "/home/olga/PycharmProjects/backtesting/venv/lib/python3.8/site-packages/statsmodels/tsa/deterministic.py:147: UserWarning: Only PeriodIndexes, DatetimeIndexes with a frequency set, RangesIndexes, and Int64Indexes with a unit increment support extending. The index is set will contain the position relative to the data length.\n",
      "  warnings.warn(\n",
      "/home/olga/PycharmProjects/backtesting/venv/lib/python3.8/site-packages/statsmodels/tsa/deterministic.py:147: UserWarning: Only PeriodIndexes, DatetimeIndexes with a frequency set, RangesIndexes, and Int64Indexes with a unit increment support extending. The index is set will contain the position relative to the data length.\n",
      "  warnings.warn(\n"
     ]
    },
    {
     "name": "stdout",
     "output_type": "stream",
     "text": [
      "Predicted buy: 44306.332770579014, actual: 39600.0\n",
      "stop_loss = 40464.62148711418\n",
      "Bought BTC by 44306.332770579014 at 2021-09-21 00:00:00+00:00\n",
      "Predicted sell: 43585.773310930024, actual: 44000.55\n",
      "Sold BTC by 43585.773310930024 at 2021-09-22 18:02:00+00:00\n",
      "\t\tSimulating 2021-09-23 00:00:00+00:00 day....\n"
     ]
    },
    {
     "name": "stderr",
     "output_type": "stream",
     "text": [
      "/home/olga/PycharmProjects/backtesting/venv/lib/python3.8/site-packages/statsmodels/tsa/deterministic.py:147: UserWarning: Only PeriodIndexes, DatetimeIndexes with a frequency set, RangesIndexes, and Int64Indexes with a unit increment support extending. The index is set will contain the position relative to the data length.\n",
      "  warnings.warn(\n"
     ]
    },
    {
     "name": "stdout",
     "output_type": "stream",
     "text": [
      "Predicted buy: 40323.63017063031, actual: 43069.09\n",
      "Predicted buy: 42411.77299714747, actual: 40675.0\n",
      "stop_loss = 38290.5998832581\n",
      "Bought BTC by 42411.77299714747 at 2021-09-24 09:56:00+00:00\n"
     ]
    },
    {
     "name": "stderr",
     "output_type": "stream",
     "text": [
      "/home/olga/PycharmProjects/backtesting/venv/lib/python3.8/site-packages/statsmodels/tsa/deterministic.py:147: UserWarning: Only PeriodIndexes, DatetimeIndexes with a frequency set, RangesIndexes, and Int64Indexes with a unit increment support extending. The index is set will contain the position relative to the data length.\n",
      "  warnings.warn(\n"
     ]
    },
    {
     "name": "stdout",
     "output_type": "stream",
     "text": [
      "Predicted sell: 45122.72352314671, actual: 42966.84\n",
      "Predicted sell: 42876.84239604654, actual: 43950.0\n",
      "Sold BTC by 42876.84239604654 at 2021-09-26 09:47:00+00:00\n",
      "\t\tSimulating 2021-09-27 00:00:00+00:00 day....\n"
     ]
    },
    {
     "name": "stderr",
     "output_type": "stream",
     "text": [
      "/home/olga/PycharmProjects/backtesting/venv/lib/python3.8/site-packages/statsmodels/tsa/deterministic.py:147: UserWarning: Only PeriodIndexes, DatetimeIndexes with a frequency set, RangesIndexes, and Int64Indexes with a unit increment support extending. The index is set will contain the position relative to the data length.\n",
      "  warnings.warn(\n"
     ]
    },
    {
     "name": "stdout",
     "output_type": "stream",
     "text": [
      "Predicted buy: 40681.129673786, actual: 42098.0\n",
      "Predicted buy: 41532.80193131383, actual: 40888.0\n",
      "stop_loss = 37369.38592415558\n",
      "Bought BTC by 41532.80193131383 at 2021-09-28 08:09:00+00:00\n"
     ]
    },
    {
     "name": "stderr",
     "output_type": "stream",
     "text": [
      "/home/olga/PycharmProjects/backtesting/venv/lib/python3.8/site-packages/statsmodels/tsa/deterministic.py:147: UserWarning: Only PeriodIndexes, DatetimeIndexes with a frequency set, RangesIndexes, and Int64Indexes with a unit increment support extending. The index is set will contain the position relative to the data length.\n",
      "  warnings.warn(\n"
     ]
    },
    {
     "name": "stdout",
     "output_type": "stream",
     "text": [
      "Predicted sell: 42671.33844098977, actual: 42590.0\n",
      "Predicted sell: 42464.78647087767, actual: 44141.37\n",
      "Sold BTC by 42464.78647087767 at 2021-09-30 01:09:00+00:00\n",
      "\t\tSimulating 2021-10-01 00:00:00+00:00 day....\n"
     ]
    },
    {
     "name": "stderr",
     "output_type": "stream",
     "text": [
      "/home/olga/PycharmProjects/backtesting/venv/lib/python3.8/site-packages/statsmodels/tsa/deterministic.py:147: UserWarning: Only PeriodIndexes, DatetimeIndexes with a frequency set, RangesIndexes, and Int64Indexes with a unit increment support extending. The index is set will contain the position relative to the data length.\n",
      "  warnings.warn(\n"
     ]
    },
    {
     "name": "stdout",
     "output_type": "stream",
     "text": [
      "Predicted buy: 40944.8397084984, actual: 43283.03\n",
      "Predicted buy: 42416.165376618956, actual: 47430.18\n",
      "Predicted buy: 46500.38003074586, actual: 47088.0\n",
      "Predicted buy: 46859.93904236322, actual: 46891.0\n",
      "Predicted buy: 46781.40360230949, actual: 49022.4\n",
      "Predicted buy: 48888.461559220974, actual: 50382.41\n",
      "Predicted buy: 50398.21095548422, actual: 53357.0\n",
      "Predicted buy: 53397.26611317752, actual: 53617.61\n",
      "Predicted buy: 53686.934372955344, actual: 53661.67\n",
      "stop_loss = 50153.844965433156\n",
      "Bought BTC by 53686.934372955344 at 2021-10-09 00:07:00+00:00\n"
     ]
    },
    {
     "name": "stderr",
     "output_type": "stream",
     "text": [
      "/home/olga/PycharmProjects/backtesting/venv/lib/python3.8/site-packages/statsmodels/tsa/deterministic.py:147: UserWarning: Only PeriodIndexes, DatetimeIndexes with a frequency set, RangesIndexes, and Int64Indexes with a unit increment support extending. The index is set will contain the position relative to the data length.\n",
      "  warnings.warn(\n"
     ]
    },
    {
     "name": "stdout",
     "output_type": "stream",
     "text": [
      "Predicted sell: 55706.31787950425, actual: 56561.31\n",
      "Sold BTC by 55706.31787950425 at 2021-10-10 04:50:00+00:00\n",
      "\t\tSimulating 2021-10-11 00:00:00+00:00 day....\n"
     ]
    },
    {
     "name": "stderr",
     "output_type": "stream",
     "text": [
      "/home/olga/PycharmProjects/backtesting/venv/lib/python3.8/site-packages/statsmodels/tsa/deterministic.py:147: UserWarning: Only PeriodIndexes, DatetimeIndexes with a frequency set, RangesIndexes, and Int64Indexes with a unit increment support extending. The index is set will contain the position relative to the data length.\n",
      "  warnings.warn(\n"
     ]
    },
    {
     "name": "stdout",
     "output_type": "stream",
     "text": [
      "Predicted buy: 54205.12009408102, actual: 54415.06\n",
      "Predicted buy: 54566.39003750432, actual: 53879.0\n",
      "stop_loss = 51117.57982821913\n",
      "Bought BTC by 54566.39003750432 at 2021-10-12 20:07:00+00:00\n"
     ]
    },
    {
     "name": "stderr",
     "output_type": "stream",
     "text": [
      "/home/olga/PycharmProjects/backtesting/venv/lib/python3.8/site-packages/statsmodels/tsa/deterministic.py:147: UserWarning: Only PeriodIndexes, DatetimeIndexes with a frequency set, RangesIndexes, and Int64Indexes with a unit increment support extending. The index is set will contain the position relative to the data length.\n",
      "  warnings.warn(\n"
     ]
    },
    {
     "name": "stdout",
     "output_type": "stream",
     "text": [
      "Predicted sell: 58044.00801754498, actual: 57777.0\n",
      "Predicted sell: 58185.32138369882, actual: 58532.54\n",
      "Sold BTC by 58185.32138369882 at 2021-10-14 01:03:00+00:00\n",
      "\t\tSimulating 2021-10-15 00:00:00+00:00 day....\n"
     ]
    },
    {
     "name": "stderr",
     "output_type": "stream",
     "text": [
      "/home/olga/PycharmProjects/backtesting/venv/lib/python3.8/site-packages/statsmodels/tsa/deterministic.py:147: UserWarning: Only PeriodIndexes, DatetimeIndexes with a frequency set, RangesIndexes, and Int64Indexes with a unit increment support extending. The index is set will contain the position relative to the data length.\n",
      "  warnings.warn(\n",
      "/home/olga/PycharmProjects/backtesting/venv/lib/python3.8/site-packages/statsmodels/tsa/deterministic.py:147: UserWarning: Only PeriodIndexes, DatetimeIndexes with a frequency set, RangesIndexes, and Int64Indexes with a unit increment support extending. The index is set will contain the position relative to the data length.\n",
      "  warnings.warn(\n"
     ]
    },
    {
     "name": "stdout",
     "output_type": "stream",
     "text": [
      "Predicted buy: 57034.89014200197, actual: 56850.0\n",
      "stop_loss = 53471.77406994681\n",
      "Bought BTC by 57034.89014200197 at 2021-10-15 00:33:00+00:00\n",
      "Predicted sell: 63466.5485783227, actual: 62378.42\n",
      "Predicted sell: 62982.00255110405, actual: 61718.39\n",
      "Predicted sell: 62378.08509584968, actual: 62695.78\n",
      "Sold BTC by 62378.08509584968 at 2021-10-18 00:37:00+00:00\n",
      "\t\tSimulating 2021-10-19 00:00:00+00:00 day....\n"
     ]
    },
    {
     "name": "stderr",
     "output_type": "stream",
     "text": [
      "/home/olga/PycharmProjects/backtesting/venv/lib/python3.8/site-packages/statsmodels/tsa/deterministic.py:147: UserWarning: Only PeriodIndexes, DatetimeIndexes with a frequency set, RangesIndexes, and Int64Indexes with a unit increment support extending. The index is set will contain the position relative to the data length.\n",
      "  warnings.warn(\n"
     ]
    },
    {
     "name": "stdout",
     "output_type": "stream",
     "text": [
      "Predicted buy: 60201.7591322125, actual: 61322.22\n",
      "Predicted buy: 61711.08100827613, actual: 63481.4\n",
      "Predicted buy: 63898.60125248094, actual: 62000.0\n",
      "stop_loss = 61007.97646479373\n",
      "Bought BTC by 63898.60125248094 at 2021-10-21 14:24:00+00:00\n"
     ]
    },
    {
     "name": "stderr",
     "output_type": "stream",
     "text": [
      "/home/olga/PycharmProjects/backtesting/venv/lib/python3.8/site-packages/statsmodels/tsa/deterministic.py:147: UserWarning: Only PeriodIndexes, DatetimeIndexes with a frequency set, RangesIndexes, and Int64Indexes with a unit increment support extending. The index is set will contain the position relative to the data length.\n",
      "  warnings.warn(\n"
     ]
    },
    {
     "name": "stdout",
     "output_type": "stream",
     "text": [
      "Predicted sell: 67517.71774106854, actual: 63732.39\n",
      "Stopped out by 61007.97646479373. Max pain: 60000.0\n",
      "Sold BTC by 61007.97646479373 at 2021-10-22 15:22:00+00:00\n",
      "\t\tSimulating 2021-10-23 00:00:00+00:00 day....\n"
     ]
    },
    {
     "name": "stderr",
     "output_type": "stream",
     "text": [
      "/home/olga/PycharmProjects/backtesting/venv/lib/python3.8/site-packages/statsmodels/tsa/deterministic.py:147: UserWarning: Only PeriodIndexes, DatetimeIndexes with a frequency set, RangesIndexes, and Int64Indexes with a unit increment support extending. The index is set will contain the position relative to the data length.\n",
      "  warnings.warn(\n",
      "/home/olga/PycharmProjects/backtesting/venv/lib/python3.8/site-packages/statsmodels/tsa/deterministic.py:147: UserWarning: Only PeriodIndexes, DatetimeIndexes with a frequency set, RangesIndexes, and Int64Indexes with a unit increment support extending. The index is set will contain the position relative to the data length.\n",
      "  warnings.warn(\n"
     ]
    },
    {
     "name": "stdout",
     "output_type": "stream",
     "text": [
      "Predicted buy: 60419.93253671155, actual: 59562.15\n",
      "stop_loss = 57558.91113304785\n",
      "Bought BTC by 60419.93253671155 at 2021-10-23 00:19:00+00:00\n",
      "Predicted sell: 62615.194314371496, actual: 61500.0\n",
      "Predicted sell: 62347.091220305425, actual: 63710.63\n",
      "Sold BTC by 62347.091220305425 at 2021-10-25 07:18:00+00:00\n",
      "\t\tSimulating 2021-10-26 00:00:00+00:00 day....\n"
     ]
    },
    {
     "name": "stderr",
     "output_type": "stream",
     "text": [
      "/home/olga/PycharmProjects/backtesting/venv/lib/python3.8/site-packages/statsmodels/tsa/deterministic.py:147: UserWarning: Only PeriodIndexes, DatetimeIndexes with a frequency set, RangesIndexes, and Int64Indexes with a unit increment support extending. The index is set will contain the position relative to the data length.\n",
      "  warnings.warn(\n",
      "/home/olga/PycharmProjects/backtesting/venv/lib/python3.8/site-packages/statsmodels/tsa/deterministic.py:147: UserWarning: Only PeriodIndexes, DatetimeIndexes with a frequency set, RangesIndexes, and Int64Indexes with a unit increment support extending. The index is set will contain the position relative to the data length.\n",
      "  warnings.warn(\n"
     ]
    },
    {
     "name": "stdout",
     "output_type": "stream",
     "text": [
      "Predicted buy: 61047.560694701235, actual: 59817.55\n",
      "stop_loss = 58102.09911854937\n",
      "Bought BTC by 61047.560694701235 at 2021-10-26 21:44:00+00:00\n",
      "Predicted sell: 64078.16614909524, actual: 61496.0\n",
      "Stopped out by 58102.09911854937. Max pain: 58000.0\n",
      "Sold BTC by 58102.09911854937 at 2021-10-27 08:08:00+00:00\n",
      "\t\tSimulating 2021-10-28 00:00:00+00:00 day....\n"
     ]
    },
    {
     "name": "stderr",
     "output_type": "stream",
     "text": [
      "/home/olga/PycharmProjects/backtesting/venv/lib/python3.8/site-packages/statsmodels/tsa/deterministic.py:147: UserWarning: Only PeriodIndexes, DatetimeIndexes with a frequency set, RangesIndexes, and Int64Indexes with a unit increment support extending. The index is set will contain the position relative to the data length.\n",
      "  warnings.warn(\n",
      "/home/olga/PycharmProjects/backtesting/venv/lib/python3.8/site-packages/statsmodels/tsa/deterministic.py:147: UserWarning: Only PeriodIndexes, DatetimeIndexes with a frequency set, RangesIndexes, and Int64Indexes with a unit increment support extending. The index is set will contain the position relative to the data length.\n",
      "  warnings.warn(\n"
     ]
    },
    {
     "name": "stdout",
     "output_type": "stream",
     "text": [
      "Predicted buy: 58353.60785643096, actual: 57820.0\n",
      "stop_loss = 55382.204676755\n",
      "Bought BTC by 58353.60785643096 at 2021-10-28 00:50:00+00:00\n",
      "Predicted sell: 63169.119003957414, actual: 62980.0\n",
      "Predicted sell: 63579.98463712016, actual: 62359.25\n",
      "Predicted sell: 62927.28804269942, actual: 62405.3\n",
      "Predicted sell: 62904.07265342747, actual: 62437.74\n",
      "Predicted sell: 62888.26973459959, actual: 64270.0\n",
      "Sold BTC by 62888.26973459959 at 2021-11-02 09:48:00+00:00\n",
      "\t\tSimulating 2021-11-03 00:00:00+00:00 day....\n"
     ]
    },
    {
     "name": "stderr",
     "output_type": "stream",
     "text": [
      "/home/olga/PycharmProjects/backtesting/venv/lib/python3.8/site-packages/statsmodels/tsa/deterministic.py:147: UserWarning: Only PeriodIndexes, DatetimeIndexes with a frequency set, RangesIndexes, and Int64Indexes with a unit increment support extending. The index is set will contain the position relative to the data length.\n",
      "  warnings.warn(\n",
      "/home/olga/PycharmProjects/backtesting/venv/lib/python3.8/site-packages/statsmodels/tsa/deterministic.py:147: UserWarning: Only PeriodIndexes, DatetimeIndexes with a frequency set, RangesIndexes, and Int64Indexes with a unit increment support extending. The index is set will contain the position relative to the data length.\n",
      "  warnings.warn(\n"
     ]
    },
    {
     "name": "stdout",
     "output_type": "stream",
     "text": [
      "Predicted buy: 60824.568239315035, actual: 60382.76\n",
      "stop_loss = 58224.76024849228\n",
      "Bought BTC by 60824.568239315035 at 2021-11-03 18:00:00+00:00\n",
      "Predicted sell: 63857.709944238435, actual: 63086.31\n",
      "Predicted sell: 63388.57117725131, actual: 62595.72\n",
      "Predicted sell: 62849.3150786241, actual: 61560.49\n",
      "Predicted sell: 61779.84501504885, actual: 63286.35\n",
      "Sold BTC by 61779.84501504885 at 2021-11-07 00:55:00+00:00\n",
      "\t\tSimulating 2021-11-08 00:00:00+00:00 day....\n"
     ]
    },
    {
     "name": "stderr",
     "output_type": "stream",
     "text": [
      "/home/olga/PycharmProjects/backtesting/venv/lib/python3.8/site-packages/statsmodels/tsa/deterministic.py:147: UserWarning: Only PeriodIndexes, DatetimeIndexes with a frequency set, RangesIndexes, and Int64Indexes with a unit increment support extending. The index is set will contain the position relative to the data length.\n",
      "  warnings.warn(\n"
     ]
    },
    {
     "name": "stdout",
     "output_type": "stream",
     "text": [
      "Predicted buy: 61428.76371466471, actual: 63273.58\n",
      "Predicted buy: 63376.66646811725, actual: 66222.4\n",
      "Predicted buy: 66329.39153381785, actual: 62822.9\n",
      "stop_loss = 63628.50895980465\n",
      "Bought BTC by 66329.39153381785 at 2021-11-10 04:03:00+00:00\n"
     ]
    },
    {
     "name": "stderr",
     "output_type": "stream",
     "text": [
      "/home/olga/PycharmProjects/backtesting/venv/lib/python3.8/site-packages/statsmodels/tsa/deterministic.py:147: UserWarning: Only PeriodIndexes, DatetimeIndexes with a frequency set, RangesIndexes, and Int64Indexes with a unit increment support extending. The index is set will contain the position relative to the data length.\n",
      "  warnings.warn(\n"
     ]
    },
    {
     "name": "stdout",
     "output_type": "stream",
     "text": [
      "Predicted sell: 69186.5122916965, actual: 65600.07\n",
      "Predicted sell: 65770.13106714922, actual: 65450.7\n",
      "Stopped out by 63628.50895980465. Max pain: 62278.0\n",
      "Sold BTC by 63628.50895980465 at 2021-11-12 09:57:00+00:00\n",
      "\t\tSimulating 2021-11-13 00:00:00+00:00 day....\n"
     ]
    },
    {
     "name": "stderr",
     "output_type": "stream",
     "text": [
      "/home/olga/PycharmProjects/backtesting/venv/lib/python3.8/site-packages/statsmodels/tsa/deterministic.py:147: UserWarning: Only PeriodIndexes, DatetimeIndexes with a frequency set, RangesIndexes, and Int64Indexes with a unit increment support extending. The index is set will contain the position relative to the data length.\n",
      "  warnings.warn(\n"
     ]
    },
    {
     "name": "stdout",
     "output_type": "stream",
     "text": [
      "Predicted buy: 62566.1260859527, actual: 63360.22\n",
      "Predicted buy: 63297.581890187845, actual: 63576.27\n",
      "Predicted buy: 63585.43813437246, actual: 63400.0\n",
      "stop_loss = 60733.063459855475\n",
      "Bought BTC by 63585.43813437246 at 2021-11-15 21:03:00+00:00\n"
     ]
    },
    {
     "name": "stderr",
     "output_type": "stream",
     "text": [
      "/home/olga/PycharmProjects/backtesting/venv/lib/python3.8/site-packages/statsmodels/tsa/deterministic.py:147: UserWarning: Only PeriodIndexes, DatetimeIndexes with a frequency set, RangesIndexes, and Int64Indexes with a unit increment support extending. The index is set will contain the position relative to the data length.\n",
      "  warnings.warn(\n"
     ]
    },
    {
     "name": "stdout",
     "output_type": "stream",
     "text": [
      "Predicted sell: 66508.90455121423, actual: 63617.31\n",
      "Stopped out by 60733.063459855475. Max pain: 58574.07\n",
      "Sold BTC by 60733.063459855475 at 2021-11-16 03:29:00+00:00\n",
      "\t\tSimulating 2021-11-17 00:00:00+00:00 day....\n"
     ]
    },
    {
     "name": "stderr",
     "output_type": "stream",
     "text": [
      "/home/olga/PycharmProjects/backtesting/venv/lib/python3.8/site-packages/statsmodels/tsa/deterministic.py:147: UserWarning: Only PeriodIndexes, DatetimeIndexes with a frequency set, RangesIndexes, and Int64Indexes with a unit increment support extending. The index is set will contain the position relative to the data length.\n",
      "  warnings.warn(\n",
      "/home/olga/PycharmProjects/backtesting/venv/lib/python3.8/site-packages/statsmodels/tsa/deterministic.py:147: UserWarning: Only PeriodIndexes, DatetimeIndexes with a frequency set, RangesIndexes, and Int64Indexes with a unit increment support extending. The index is set will contain the position relative to the data length.\n",
      "  warnings.warn(\n"
     ]
    },
    {
     "name": "stdout",
     "output_type": "stream",
     "text": [
      "Predicted buy: 59270.76951725601, actual: 58373.0\n",
      "stop_loss = 56032.86686455447\n",
      "Bought BTC by 59270.76951725601 at 2021-11-17 01:59:00+00:00\n",
      "Predicted sell: 60900.08311656086, actual: 60976.0\n",
      "Sold BTC by 60900.08311656086 at 2021-11-18 01:33:00+00:00\n",
      "\t\tSimulating 2021-11-19 00:00:00+00:00 day....\n"
     ]
    },
    {
     "name": "stderr",
     "output_type": "stream",
     "text": [
      "/home/olga/PycharmProjects/backtesting/venv/lib/python3.8/site-packages/statsmodels/tsa/deterministic.py:147: UserWarning: Only PeriodIndexes, DatetimeIndexes with a frequency set, RangesIndexes, and Int64Indexes with a unit increment support extending. The index is set will contain the position relative to the data length.\n",
      "  warnings.warn(\n",
      "/home/olga/PycharmProjects/backtesting/venv/lib/python3.8/site-packages/statsmodels/tsa/deterministic.py:147: UserWarning: Only PeriodIndexes, DatetimeIndexes with a frequency set, RangesIndexes, and Int64Indexes with a unit increment support extending. The index is set will contain the position relative to the data length.\n",
      "  warnings.warn(\n"
     ]
    },
    {
     "name": "stdout",
     "output_type": "stream",
     "text": [
      "Predicted buy: 56691.32864872046, actual: 55600.0\n",
      "stop_loss = 53438.48349626984\n",
      "Bought BTC by 56691.32864872046 at 2021-11-19 00:04:00+00:00\n",
      "Predicted sell: 58321.7838129688, actual: 59845.0\n",
      "Sold BTC by 58321.7838129688 at 2021-11-20 00:11:00+00:00\n",
      "\t\tSimulating 2021-11-21 00:00:00+00:00 day....\n"
     ]
    },
    {
     "name": "stderr",
     "output_type": "stream",
     "text": [
      "/home/olga/PycharmProjects/backtesting/venv/lib/python3.8/site-packages/statsmodels/tsa/deterministic.py:147: UserWarning: Only PeriodIndexes, DatetimeIndexes with a frequency set, RangesIndexes, and Int64Indexes with a unit increment support extending. The index is set will contain the position relative to the data length.\n",
      "  warnings.warn(\n"
     ]
    },
    {
     "name": "stdout",
     "output_type": "stream",
     "text": [
      "Predicted buy: 57200.90094969732, actual: 58486.65\n",
      "Predicted buy: 58382.01815449274, actual: 55610.0\n",
      "stop_loss = 55040.32286912254\n",
      "Bought BTC by 58382.01815449274 at 2021-11-22 00:07:00+00:00\n"
     ]
    },
    {
     "name": "stderr",
     "output_type": "stream",
     "text": [
      "/home/olga/PycharmProjects/backtesting/venv/lib/python3.8/site-packages/statsmodels/tsa/deterministic.py:147: UserWarning: Only PeriodIndexes, DatetimeIndexes with a frequency set, RangesIndexes, and Int64Indexes with a unit increment support extending. The index is set will contain the position relative to the data length.\n",
      "  warnings.warn(\n"
     ]
    },
    {
     "name": "stdout",
     "output_type": "stream",
     "text": [
      "Predicted sell: 59432.65617039415, actual: 58009.99\n",
      "Predicted sell: 57978.44038591133, actual: 57735.0\n",
      "Predicted sell: 57681.970384735694, actual: 59398.9\n",
      "Sold BTC by 57681.970384735694 at 2021-11-25 00:36:00+00:00\n",
      "\t\tSimulating 2021-11-26 00:00:00+00:00 day....\n"
     ]
    },
    {
     "name": "stderr",
     "output_type": "stream",
     "text": [
      "/home/olga/PycharmProjects/backtesting/venv/lib/python3.8/site-packages/statsmodels/tsa/deterministic.py:147: UserWarning: Only PeriodIndexes, DatetimeIndexes with a frequency set, RangesIndexes, and Int64Indexes with a unit increment support extending. The index is set will contain the position relative to the data length.\n",
      "  warnings.warn(\n",
      "/home/olga/PycharmProjects/backtesting/venv/lib/python3.8/site-packages/statsmodels/tsa/deterministic.py:147: UserWarning: Only PeriodIndexes, DatetimeIndexes with a frequency set, RangesIndexes, and Int64Indexes with a unit increment support extending. The index is set will contain the position relative to the data length.\n",
      "  warnings.warn(\n"
     ]
    },
    {
     "name": "stdout",
     "output_type": "stream",
     "text": [
      "Predicted buy: 56733.76098896193, actual: 53500.0\n",
      "stop_loss = 53580.692592547224\n",
      "Bought BTC by 56733.76098896193 at 2021-11-26 07:51:00+00:00\n",
      "Predicted sell: 59079.09857635971, actual: 55280.0\n",
      "Predicted sell: 55183.40700957375, actual: 57445.05\n",
      "Stopped out by 53580.692592547224. Max pain: 53256.64\n",
      "Sold BTC by 53580.692592547224 at 2021-11-28 18:38:00+00:00\n",
      "\t\tSimulating 2021-11-29 00:00:00+00:00 day....\n"
     ]
    },
    {
     "name": "stderr",
     "output_type": "stream",
     "text": [
      "/home/olga/PycharmProjects/backtesting/venv/lib/python3.8/site-packages/statsmodels/tsa/deterministic.py:147: UserWarning: Only PeriodIndexes, DatetimeIndexes with a frequency set, RangesIndexes, and Int64Indexes with a unit increment support extending. The index is set will contain the position relative to the data length.\n",
      "  warnings.warn(\n"
     ]
    },
    {
     "name": "stdout",
     "output_type": "stream",
     "text": [
      "Predicted buy: 53056.206486609175, actual: 56666.67\n",
      "Predicted buy: 55759.46530382999, actual: 55875.55\n",
      "Predicted buy: 55580.403760823414, actual: 56458.01\n",
      "Predicted buy: 56012.32500200647, actual: 55777.77\n",
      "stop_loss = 52337.197128888125\n",
      "Bought BTC by 56012.32500200647 at 2021-12-02 03:17:00+00:00\n"
     ]
    },
    {
     "name": "stderr",
     "output_type": "stream",
     "text": [
      "/home/olga/PycharmProjects/backtesting/venv/lib/python3.8/site-packages/statsmodels/tsa/deterministic.py:147: UserWarning: Only PeriodIndexes, DatetimeIndexes with a frequency set, RangesIndexes, and Int64Indexes with a unit increment support extending. The index is set will contain the position relative to the data length.\n",
      "  warnings.warn(\n"
     ]
    },
    {
     "name": "stdout",
     "output_type": "stream",
     "text": [
      "Predicted sell: 57218.96740983745, actual: 57600.0\n",
      "Sold BTC by 57218.96740983745 at 2021-12-03 10:02:00+00:00\n",
      "\t\tSimulating 2021-12-04 00:00:00+00:00 day....\n"
     ]
    },
    {
     "name": "stderr",
     "output_type": "stream",
     "text": [
      "/home/olga/PycharmProjects/backtesting/venv/lib/python3.8/site-packages/statsmodels/tsa/deterministic.py:147: UserWarning: Only PeriodIndexes, DatetimeIndexes with a frequency set, RangesIndexes, and Int64Indexes with a unit increment support extending. The index is set will contain the position relative to the data length.\n",
      "  warnings.warn(\n",
      "/home/olga/PycharmProjects/backtesting/venv/lib/python3.8/site-packages/statsmodels/tsa/deterministic.py:147: UserWarning: Only PeriodIndexes, DatetimeIndexes with a frequency set, RangesIndexes, and Int64Indexes with a unit increment support extending. The index is set will contain the position relative to the data length.\n",
      "  warnings.warn(\n"
     ]
    },
    {
     "name": "stdout",
     "output_type": "stream",
     "text": [
      "Predicted buy: 51988.13554460356, actual: 42000.3\n",
      "stop_loss = 48205.74222265269\n",
      "Bought BTC by 51988.13554460356 at 2021-12-04 04:43:00+00:00\n",
      "Predicted sell: 53676.56129817187, actual: 49699.05\n",
      "Stopped out by 48205.74222265269. Max pain: 47727.21\n",
      "Sold BTC by 48205.74222265269 at 2021-12-05 15:31:00+00:00\n",
      "\t\tSimulating 2021-12-06 00:00:00+00:00 day....\n"
     ]
    },
    {
     "name": "stderr",
     "output_type": "stream",
     "text": [
      "/home/olga/PycharmProjects/backtesting/venv/lib/python3.8/site-packages/statsmodels/tsa/deterministic.py:147: UserWarning: Only PeriodIndexes, DatetimeIndexes with a frequency set, RangesIndexes, and Int64Indexes with a unit increment support extending. The index is set will contain the position relative to the data length.\n",
      "  warnings.warn(\n"
     ]
    },
    {
     "name": "stdout",
     "output_type": "stream",
     "text": [
      "Predicted buy: 46538.621474567684, actual: 47100.0\n",
      "Predicted buy: 46486.82339632072, actual: 50039.74\n",
      "Predicted buy: 48830.552448572744, actual: 48600.0\n",
      "stop_loss = 43437.83795998716\n",
      "Bought BTC by 48830.552448572744 at 2021-12-08 11:05:00+00:00\n"
     ]
    },
    {
     "name": "stderr",
     "output_type": "stream",
     "text": [
      "/home/olga/PycharmProjects/backtesting/venv/lib/python3.8/site-packages/statsmodels/tsa/deterministic.py:147: UserWarning: Only PeriodIndexes, DatetimeIndexes with a frequency set, RangesIndexes, and Int64Indexes with a unit increment support extending. The index is set will contain the position relative to the data length.\n",
      "  warnings.warn(\n"
     ]
    },
    {
     "name": "stdout",
     "output_type": "stream",
     "text": [
      "Predicted sell: 50935.31326115791, actual: 50797.76\n",
      "Predicted sell: 50535.97408719291, actual: 50125.0\n",
      "Predicted sell: 49869.65142276488, actual: 49485.71\n",
      "Predicted sell: 49227.18498827492, actual: 50777.0\n",
      "Sold BTC by 49227.18498827492 at 2021-12-12 00:00:00+00:00\n",
      "\t\tSimulating 2021-12-13 00:00:00+00:00 day....\n"
     ]
    },
    {
     "name": "stderr",
     "output_type": "stream",
     "text": [
      "/home/olga/PycharmProjects/backtesting/venv/lib/python3.8/site-packages/statsmodels/tsa/deterministic.py:147: UserWarning: Only PeriodIndexes, DatetimeIndexes with a frequency set, RangesIndexes, and Int64Indexes with a unit increment support extending. The index is set will contain the position relative to the data length.\n",
      "  warnings.warn(\n",
      "/home/olga/PycharmProjects/backtesting/venv/lib/python3.8/site-packages/statsmodels/tsa/deterministic.py:147: UserWarning: Only PeriodIndexes, DatetimeIndexes with a frequency set, RangesIndexes, and Int64Indexes with a unit increment support extending. The index is set will contain the position relative to the data length.\n",
      "  warnings.warn(\n"
     ]
    },
    {
     "name": "stdout",
     "output_type": "stream",
     "text": [
      "Predicted buy: 47801.94164623609, actual: 45672.75\n",
      "stop_loss = 42615.402717015546\n",
      "Bought BTC by 47801.94164623609 at 2021-12-13 14:32:00+00:00\n",
      "Predicted sell: 49939.35033079872, actual: 48700.41\n",
      "Predicted sell: 48454.153863876665, actual: 49500.0\n",
      "Sold BTC by 48454.153863876665 at 2021-12-15 00:21:00+00:00\n",
      "\t\tSimulating 2021-12-16 00:00:00+00:00 day....\n"
     ]
    },
    {
     "name": "stderr",
     "output_type": "stream",
     "text": [
      "/home/olga/PycharmProjects/backtesting/venv/lib/python3.8/site-packages/statsmodels/tsa/deterministic.py:147: UserWarning: Only PeriodIndexes, DatetimeIndexes with a frequency set, RangesIndexes, and Int64Indexes with a unit increment support extending. The index is set will contain the position relative to the data length.\n",
      "  warnings.warn(\n"
     ]
    },
    {
     "name": "stdout",
     "output_type": "stream",
     "text": [
      "Predicted buy: 45940.6919758766, actual: 47511.0\n",
      "Predicted buy: 46731.76166684939, actual: 45456.0\n",
      "stop_loss = 41580.38429056003\n",
      "Bought BTC by 46731.76166684939 at 2021-12-17 14:04:00+00:00\n"
     ]
    },
    {
     "name": "stderr",
     "output_type": "stream",
     "text": [
      "/home/olga/PycharmProjects/backtesting/venv/lib/python3.8/site-packages/statsmodels/tsa/deterministic.py:147: UserWarning: Only PeriodIndexes, DatetimeIndexes with a frequency set, RangesIndexes, and Int64Indexes with a unit increment support extending. The index is set will contain the position relative to the data length.\n",
      "  warnings.warn(\n"
     ]
    },
    {
     "name": "stdout",
     "output_type": "stream",
     "text": [
      "Predicted sell: 47767.340002075645, actual: 47392.37\n",
      "Predicted sell: 47161.16159830728, actual: 48300.01\n",
      "Sold BTC by 47161.16159830728 at 2021-12-19 02:57:00+00:00\n",
      "\t\tSimulating 2021-12-20 00:00:00+00:00 day....\n"
     ]
    },
    {
     "name": "stderr",
     "output_type": "stream",
     "text": [
      "/home/olga/PycharmProjects/backtesting/venv/lib/python3.8/site-packages/statsmodels/tsa/deterministic.py:147: UserWarning: Only PeriodIndexes, DatetimeIndexes with a frequency set, RangesIndexes, and Int64Indexes with a unit increment support extending. The index is set will contain the position relative to the data length.\n",
      "  warnings.warn(\n",
      "/home/olga/PycharmProjects/backtesting/venv/lib/python3.8/site-packages/statsmodels/tsa/deterministic.py:147: UserWarning: Only PeriodIndexes, DatetimeIndexes with a frequency set, RangesIndexes, and Int64Indexes with a unit increment support extending. The index is set will contain the position relative to the data length.\n",
      "  warnings.warn(\n"
     ]
    },
    {
     "name": "stdout",
     "output_type": "stream",
     "text": [
      "Predicted buy: 45664.00588992596, actual: 45558.85\n",
      "stop_loss = 40521.7937009256\n",
      "Bought BTC by 45664.00588992596 at 2021-12-20 12:45:00+00:00\n",
      "Predicted sell: 47300.58351302633, actual: 49328.96\n",
      "Sold BTC by 47300.58351302633 at 2021-12-21 03:28:00+00:00\n",
      "\t\tSimulating 2021-12-22 00:00:00+00:00 day....\n"
     ]
    },
    {
     "name": "stderr",
     "output_type": "stream",
     "text": [
      "/home/olga/PycharmProjects/backtesting/venv/lib/python3.8/site-packages/statsmodels/tsa/deterministic.py:147: UserWarning: Only PeriodIndexes, DatetimeIndexes with a frequency set, RangesIndexes, and Int64Indexes with a unit increment support extending. The index is set will contain the position relative to the data length.\n",
      "  warnings.warn(\n"
     ]
    },
    {
     "name": "stdout",
     "output_type": "stream",
     "text": [
      "Predicted buy: 45911.74814612662, actual: 48421.87\n",
      "Predicted buy: 47490.03040401788, actual: 47920.42\n",
      "Predicted buy: 47505.28711832965, actual: 50384.43\n",
      "Predicted buy: 49537.07809754269, actual: 50142.32\n",
      "Predicted buy: 49797.71354098654, actual: 49412.0\n",
      "stop_loss = 44849.32727732245\n",
      "Bought BTC by 49797.71354098654 at 2021-12-26 03:10:00+00:00\n"
     ]
    },
    {
     "name": "stderr",
     "output_type": "stream",
     "text": [
      "/home/olga/PycharmProjects/backtesting/venv/lib/python3.8/site-packages/statsmodels/tsa/deterministic.py:147: UserWarning: Only PeriodIndexes, DatetimeIndexes with a frequency set, RangesIndexes, and Int64Indexes with a unit increment support extending. The index is set will contain the position relative to the data length.\n",
      "  warnings.warn(\n"
     ]
    },
    {
     "name": "stdout",
     "output_type": "stream",
     "text": [
      "Predicted sell: 51130.4339090479, actual: 52088.0\n",
      "Sold BTC by 51130.4339090479 at 2021-12-27 03:26:00+00:00\n",
      "\t\tSimulating 2021-12-28 00:00:00+00:00 day....\n"
     ]
    },
    {
     "name": "stderr",
     "output_type": "stream",
     "text": [
      "/home/olga/PycharmProjects/backtesting/venv/lib/python3.8/site-packages/statsmodels/tsa/deterministic.py:147: UserWarning: Only PeriodIndexes, DatetimeIndexes with a frequency set, RangesIndexes, and Int64Indexes with a unit increment support extending. The index is set will contain the position relative to the data length.\n",
      "  warnings.warn(\n",
      "/home/olga/PycharmProjects/backtesting/venv/lib/python3.8/site-packages/statsmodels/tsa/deterministic.py:147: UserWarning: Only PeriodIndexes, DatetimeIndexes with a frequency set, RangesIndexes, and Int64Indexes with a unit increment support extending. The index is set will contain the position relative to the data length.\n",
      "  warnings.warn(\n"
     ]
    },
    {
     "name": "stdout",
     "output_type": "stream",
     "text": [
      "Predicted buy: 50056.31558376137, actual: 47313.01\n",
      "stop_loss = 44885.111974434025\n",
      "Bought BTC by 50056.31558376137 at 2021-12-28 00:35:00+00:00\n",
      "Predicted sell: 50582.88706377566, actual: 48139.08\n",
      "Predicted sell: 48032.10723211851, actual: 47900.0\n",
      "Predicted sell: 47792.84942920276, actual: 48548.26\n",
      "Sold BTC by 47792.84942920276 at 2021-12-31 08:25:00+00:00\n",
      "\t\tSimulating 2022-01-01 00:00:00+00:00 day....\n"
     ]
    },
    {
     "name": "stderr",
     "output_type": "stream",
     "text": [
      "/home/olga/PycharmProjects/backtesting/venv/lib/python3.8/site-packages/statsmodels/tsa/deterministic.py:147: UserWarning: Only PeriodIndexes, DatetimeIndexes with a frequency set, RangesIndexes, and Int64Indexes with a unit increment support extending. The index is set will contain the position relative to the data length.\n",
      "  warnings.warn(\n"
     ]
    },
    {
     "name": "stdout",
     "output_type": "stream",
     "text": [
      "Predicted buy: 45623.12638458058, actual: 46208.37\n",
      "Predicted buy: 46057.29525837268, actual: 46654.0\n",
      "Predicted buy: 46409.75291433136, actual: 45696.0\n",
      "stop_loss = 43102.51712423847\n",
      "Bought BTC by 46409.75291433136 at 2022-01-03 16:20:00+00:00\n"
     ]
    },
    {
     "name": "stderr",
     "output_type": "stream",
     "text": [
      "/home/olga/PycharmProjects/backtesting/venv/lib/python3.8/site-packages/statsmodels/tsa/deterministic.py:147: UserWarning: Only PeriodIndexes, DatetimeIndexes with a frequency set, RangesIndexes, and Int64Indexes with a unit increment support extending. The index is set will contain the position relative to the data length.\n",
      "  warnings.warn(\n"
     ]
    },
    {
     "name": "stdout",
     "output_type": "stream",
     "text": [
      "Predicted sell: 47405.077459444474, actual: 47557.54\n",
      "Sold BTC by 47405.077459444474 at 2022-01-04 14:50:00+00:00\n",
      "\t\tSimulating 2022-01-05 00:00:00+00:00 day....\n"
     ]
    },
    {
     "name": "stderr",
     "output_type": "stream",
     "text": [
      "/home/olga/PycharmProjects/backtesting/venv/lib/python3.8/site-packages/statsmodels/tsa/deterministic.py:147: UserWarning: Only PeriodIndexes, DatetimeIndexes with a frequency set, RangesIndexes, and Int64Indexes with a unit increment support extending. The index is set will contain the position relative to the data length.\n",
      "  warnings.warn(\n",
      "/home/olga/PycharmProjects/backtesting/venv/lib/python3.8/site-packages/statsmodels/tsa/deterministic.py:147: UserWarning: Only PeriodIndexes, DatetimeIndexes with a frequency set, RangesIndexes, and Int64Indexes with a unit increment support extending. The index is set will contain the position relative to the data length.\n",
      "  warnings.warn(\n"
     ]
    },
    {
     "name": "stdout",
     "output_type": "stream",
     "text": [
      "Predicted buy: 45732.763713917375, actual: 42500.0\n",
      "stop_loss = 43289.42459863767\n",
      "Bought BTC by 45732.763713917375 at 2022-01-05 00:04:00+00:00\n",
      "Predicted sell: 47462.44894669258, actual: 43816.0\n",
      "Stopped out by 43289.42459863767. Max pain: 42430.58\n",
      "Sold BTC by 43289.42459863767 at 2022-01-06 00:03:00+00:00\n",
      "\t\tSimulating 2022-01-07 00:00:00+00:00 day....\n"
     ]
    },
    {
     "name": "stderr",
     "output_type": "stream",
     "text": [
      "/home/olga/PycharmProjects/backtesting/venv/lib/python3.8/site-packages/statsmodels/tsa/deterministic.py:147: UserWarning: Only PeriodIndexes, DatetimeIndexes with a frequency set, RangesIndexes, and Int64Indexes with a unit increment support extending. The index is set will contain the position relative to the data length.\n",
      "  warnings.warn(\n",
      "/home/olga/PycharmProjects/backtesting/venv/lib/python3.8/site-packages/statsmodels/tsa/deterministic.py:147: UserWarning: Only PeriodIndexes, DatetimeIndexes with a frequency set, RangesIndexes, and Int64Indexes with a unit increment support extending. The index is set will contain the position relative to the data length.\n",
      "  warnings.warn(\n"
     ]
    },
    {
     "name": "stdout",
     "output_type": "stream",
     "text": [
      "Predicted buy: 42398.66725685888, actual: 40610.0\n",
      "stop_loss = 39709.93834318571\n",
      "Bought BTC by 42398.66725685888 at 2022-01-07 03:23:00+00:00\n",
      "Predicted sell: 43083.597496184135, actual: 42300.0\n",
      "Predicted sell: 42224.73859834218, actual: 42786.7\n",
      "Sold BTC by 42224.73859834218 at 2022-01-09 18:29:00+00:00\n",
      "\t\tSimulating 2022-01-10 00:00:00+00:00 day....\n"
     ]
    },
    {
     "name": "stderr",
     "output_type": "stream",
     "text": [
      "/home/olga/PycharmProjects/backtesting/venv/lib/python3.8/site-packages/statsmodels/tsa/deterministic.py:147: UserWarning: Only PeriodIndexes, DatetimeIndexes with a frequency set, RangesIndexes, and Int64Indexes with a unit increment support extending. The index is set will contain the position relative to the data length.\n",
      "  warnings.warn(\n",
      "/home/olga/PycharmProjects/backtesting/venv/lib/python3.8/site-packages/statsmodels/tsa/deterministic.py:147: UserWarning: Only PeriodIndexes, DatetimeIndexes with a frequency set, RangesIndexes, and Int64Indexes with a unit increment support extending. The index is set will contain the position relative to the data length.\n",
      "  warnings.warn(\n"
     ]
    },
    {
     "name": "stdout",
     "output_type": "stream",
     "text": [
      "Predicted buy: 40946.912090032856, actual: 39650.0\n",
      "stop_loss = 38487.921911978\n",
      "Bought BTC by 40946.912090032856 at 2022-01-10 12:51:00+00:00\n",
      "Predicted sell: 42148.8365079672, actual: 43100.0\n",
      "Sold BTC by 42148.8365079672 at 2022-01-11 02:26:00+00:00\n",
      "\t\tSimulating 2022-01-12 00:00:00+00:00 day....\n"
     ]
    },
    {
     "name": "stderr",
     "output_type": "stream",
     "text": [
      "/home/olga/PycharmProjects/backtesting/venv/lib/python3.8/site-packages/statsmodels/tsa/deterministic.py:147: UserWarning: Only PeriodIndexes, DatetimeIndexes with a frequency set, RangesIndexes, and Int64Indexes with a unit increment support extending. The index is set will contain the position relative to the data length.\n",
      "  warnings.warn(\n"
     ]
    },
    {
     "name": "stdout",
     "output_type": "stream",
     "text": [
      "Predicted buy: 40887.05856394143, actual: 42450.0\n",
      "Predicted buy: 42144.2529777278, actual: 42311.22\n",
      "Predicted buy: 42077.93297040082, actual: 41725.95\n",
      "stop_loss = 39609.94655887882\n",
      "Bought BTC by 42077.93297040082 at 2022-01-14 10:53:00+00:00\n"
     ]
    },
    {
     "name": "stderr",
     "output_type": "stream",
     "text": [
      "/home/olga/PycharmProjects/backtesting/venv/lib/python3.8/site-packages/statsmodels/tsa/deterministic.py:147: UserWarning: Only PeriodIndexes, DatetimeIndexes with a frequency set, RangesIndexes, and Int64Indexes with a unit increment support extending. The index is set will contain the position relative to the data length.\n",
      "  warnings.warn(\n"
     ]
    },
    {
     "name": "stdout",
     "output_type": "stream",
     "text": [
      "Predicted sell: 43325.01941908012, actual: 43800.0\n",
      "Sold BTC by 43325.01941908012 at 2022-01-15 15:43:00+00:00\n",
      "\t\tSimulating 2022-01-16 00:00:00+00:00 day....\n"
     ]
    },
    {
     "name": "stderr",
     "output_type": "stream",
     "text": [
      "/home/olga/PycharmProjects/backtesting/venv/lib/python3.8/site-packages/statsmodels/tsa/deterministic.py:147: UserWarning: Only PeriodIndexes, DatetimeIndexes with a frequency set, RangesIndexes, and Int64Indexes with a unit increment support extending. The index is set will contain the position relative to the data length.\n",
      "  warnings.warn(\n"
     ]
    },
    {
     "name": "stdout",
     "output_type": "stream",
     "text": [
      "Predicted buy: 42250.45725796471, actual: 42581.79\n",
      "Predicted buy: 42317.501968631754, actual: 41540.42\n",
      "stop_loss = 40002.040279748595\n",
      "Bought BTC by 42317.501968631754 at 2022-01-17 05:00:00+00:00\n"
     ]
    },
    {
     "name": "stderr",
     "output_type": "stream",
     "text": [
      "/home/olga/PycharmProjects/backtesting/venv/lib/python3.8/site-packages/statsmodels/tsa/deterministic.py:147: UserWarning: Only PeriodIndexes, DatetimeIndexes with a frequency set, RangesIndexes, and Int64Indexes with a unit increment support extending. The index is set will contain the position relative to the data length.\n",
      "  warnings.warn(\n"
     ]
    },
    {
     "name": "stdout",
     "output_type": "stream",
     "text": [
      "Predicted sell: 43035.251411729216, actual: 42691.0\n",
      "Predicted sell: 42539.05776683384, actual: 42559.13\n",
      "Sold BTC by 42539.05776683384 at 2022-01-19 14:41:00+00:00\n",
      "\t\tSimulating 2022-01-20 00:00:00+00:00 day....\n"
     ]
    },
    {
     "name": "stderr",
     "output_type": "stream",
     "text": [
      "/home/olga/PycharmProjects/backtesting/venv/lib/python3.8/site-packages/statsmodels/tsa/deterministic.py:147: UserWarning: Only PeriodIndexes, DatetimeIndexes with a frequency set, RangesIndexes, and Int64Indexes with a unit increment support extending. The index is set will contain the position relative to the data length.\n",
      "  warnings.warn(\n",
      "/home/olga/PycharmProjects/backtesting/venv/lib/python3.8/site-packages/statsmodels/tsa/deterministic.py:147: UserWarning: Only PeriodIndexes, DatetimeIndexes with a frequency set, RangesIndexes, and Int64Indexes with a unit increment support extending. The index is set will contain the position relative to the data length.\n",
      "  warnings.warn(\n"
     ]
    },
    {
     "name": "stdout",
     "output_type": "stream",
     "text": [
      "Predicted buy: 40837.49521080908, actual: 40553.31\n",
      "stop_loss = 38798.954391411105\n",
      "Bought BTC by 40837.49521080908 at 2022-01-20 23:16:00+00:00\n",
      "Predicted sell: 43339.307275997504, actual: 41100.0\n",
      "Stopped out by 38798.954391411105. Max pain: 35440.45\n",
      "Sold BTC by 38798.954391411105 at 2022-01-21 03:29:00+00:00\n",
      "\t\tSimulating 2022-01-22 00:00:00+00:00 day....\n"
     ]
    },
    {
     "name": "stderr",
     "output_type": "stream",
     "text": [
      "/home/olga/PycharmProjects/backtesting/venv/lib/python3.8/site-packages/statsmodels/tsa/deterministic.py:147: UserWarning: Only PeriodIndexes, DatetimeIndexes with a frequency set, RangesIndexes, and Int64Indexes with a unit increment support extending. The index is set will contain the position relative to the data length.\n",
      "  warnings.warn(\n",
      "/home/olga/PycharmProjects/backtesting/venv/lib/python3.8/site-packages/statsmodels/tsa/deterministic.py:147: UserWarning: Only PeriodIndexes, DatetimeIndexes with a frequency set, RangesIndexes, and Int64Indexes with a unit increment support extending. The index is set will contain the position relative to the data length.\n",
      "  warnings.warn(\n"
     ]
    },
    {
     "name": "stdout",
     "output_type": "stream",
     "text": [
      "Predicted buy: 35087.66208473594, actual: 34008.0\n",
      "stop_loss = 32375.34096306771\n",
      "Bought BTC by 35087.66208473594 at 2022-01-22 09:41:00+00:00\n",
      "Predicted sell: 36646.34784937373, actual: 36499.0\n",
      "Predicted sell: 36299.87613818129, actual: 37550.0\n",
      "Sold BTC by 36299.87613818129 at 2022-01-24 18:49:00+00:00\n",
      "\t\tSimulating 2022-01-25 00:00:00+00:00 day....\n"
     ]
    },
    {
     "name": "stderr",
     "output_type": "stream",
     "text": [
      "/home/olga/PycharmProjects/backtesting/venv/lib/python3.8/site-packages/statsmodels/tsa/deterministic.py:147: UserWarning: Only PeriodIndexes, DatetimeIndexes with a frequency set, RangesIndexes, and Int64Indexes with a unit increment support extending. The index is set will contain the position relative to the data length.\n",
      "  warnings.warn(\n"
     ]
    },
    {
     "name": "stdout",
     "output_type": "stream",
     "text": [
      "Predicted buy: 32485.257137055967, actual: 35701.0\n",
      "Predicted buy: 35275.22151740044, actual: 36234.63\n",
      "Predicted buy: 35820.8419421559, actual: 35507.01\n",
      "stop_loss = 33069.86640131998\n",
      "Bought BTC by 35820.8419421559 at 2022-01-27 02:00:00+00:00\n"
     ]
    },
    {
     "name": "stderr",
     "output_type": "stream",
     "text": [
      "/home/olga/PycharmProjects/backtesting/venv/lib/python3.8/site-packages/statsmodels/tsa/deterministic.py:147: UserWarning: Only PeriodIndexes, DatetimeIndexes with a frequency set, RangesIndexes, and Int64Indexes with a unit increment support extending. The index is set will contain the position relative to the data length.\n",
      "  warnings.warn(\n"
     ]
    },
    {
     "name": "stdout",
     "output_type": "stream",
     "text": [
      "Predicted sell: 37043.62155556127, actual: 38000.0\n",
      "Sold BTC by 37043.62155556127 at 2022-01-28 00:00:00+00:00\n",
      "\t\tSimulating 2022-01-29 00:00:00+00:00 day....\n"
     ]
    },
    {
     "name": "stderr",
     "output_type": "stream",
     "text": [
      "/home/olga/PycharmProjects/backtesting/venv/lib/python3.8/site-packages/statsmodels/tsa/deterministic.py:147: UserWarning: Only PeriodIndexes, DatetimeIndexes with a frequency set, RangesIndexes, and Int64Indexes with a unit increment support extending. The index is set will contain the position relative to the data length.\n",
      "  warnings.warn(\n"
     ]
    },
    {
     "name": "stdout",
     "output_type": "stream",
     "text": [
      "Predicted buy: 35768.88272203887, actual: 37268.44\n",
      "Predicted buy: 36894.3472324056, actual: 37351.63\n",
      "Predicted buy: 36992.607932428095, actual: 36632.61\n",
      "stop_loss = 34174.27731120882\n",
      "Bought BTC by 36992.607932428095 at 2022-01-31 00:45:00+00:00\n"
     ]
    },
    {
     "name": "stderr",
     "output_type": "stream",
     "text": [
      "/home/olga/PycharmProjects/backtesting/venv/lib/python3.8/site-packages/statsmodels/tsa/deterministic.py:147: UserWarning: Only PeriodIndexes, DatetimeIndexes with a frequency set, RangesIndexes, and Int64Indexes with a unit increment support extending. The index is set will contain the position relative to the data length.\n",
      "  warnings.warn(\n"
     ]
    },
    {
     "name": "stdout",
     "output_type": "stream",
     "text": [
      "Predicted sell: 38574.36201680863, actual: 39265.2\n",
      "Sold BTC by 38574.36201680863 at 2022-02-01 00:09:00+00:00\n",
      "\t\tSimulating 2022-02-02 00:00:00+00:00 day....\n"
     ]
    },
    {
     "name": "stderr",
     "output_type": "stream",
     "text": [
      "/home/olga/PycharmProjects/backtesting/venv/lib/python3.8/site-packages/statsmodels/tsa/deterministic.py:147: UserWarning: Only PeriodIndexes, DatetimeIndexes with a frequency set, RangesIndexes, and Int64Indexes with a unit increment support extending. The index is set will contain the position relative to the data length.\n",
      "  warnings.warn(\n",
      "/home/olga/PycharmProjects/backtesting/venv/lib/python3.8/site-packages/statsmodels/tsa/deterministic.py:147: UserWarning: Only PeriodIndexes, DatetimeIndexes with a frequency set, RangesIndexes, and Int64Indexes with a unit increment support extending. The index is set will contain the position relative to the data length.\n",
      "  warnings.warn(\n"
     ]
    },
    {
     "name": "stdout",
     "output_type": "stream",
     "text": [
      "Predicted buy: 37681.16329728848, actual: 36586.95\n",
      "stop_loss = 34963.52301876402\n",
      "Bought BTC by 37681.16329728848 at 2022-02-02 14:49:00+00:00\n",
      "Predicted sell: 38707.07202761927, actual: 37387.0\n",
      "Predicted sell: 37245.00730067085, actual: 41772.33\n",
      "Sold BTC by 37245.00730067085 at 2022-02-04 00:00:00+00:00\n",
      "\t\tSimulating 2022-02-05 00:00:00+00:00 day....\n"
     ]
    },
    {
     "name": "stderr",
     "output_type": "stream",
     "text": [
      "/home/olga/PycharmProjects/backtesting/venv/lib/python3.8/site-packages/statsmodels/tsa/deterministic.py:147: UserWarning: Only PeriodIndexes, DatetimeIndexes with a frequency set, RangesIndexes, and Int64Indexes with a unit increment support extending. The index is set will contain the position relative to the data length.\n",
      "  warnings.warn(\n"
     ]
    },
    {
     "name": "stdout",
     "output_type": "stream",
     "text": [
      "Predicted buy: 36783.354116039794, actual: 40843.01\n",
      "Predicted buy: 40634.685613020774, actual: 41116.56\n",
      "Predicted buy: 40946.912928322556, actual: 41645.85\n",
      "Predicted buy: 41505.773218198905, actual: 42666.0\n",
      "Predicted buy: 42560.56974928479, actual: 43117.92\n",
      "Predicted buy: 43053.63756146065, actual: 43174.01\n",
      "Predicted buy: 43140.394849593664, actual: 41938.51\n",
      "stop_loss = 40100.841587230054\n",
      "Bought BTC by 43140.394849593664 at 2022-02-11 00:24:00+00:00\n"
     ]
    },
    {
     "name": "stderr",
     "output_type": "stream",
     "text": [
      "/home/olga/PycharmProjects/backtesting/venv/lib/python3.8/site-packages/statsmodels/tsa/deterministic.py:147: UserWarning: Only PeriodIndexes, DatetimeIndexes with a frequency set, RangesIndexes, and Int64Indexes with a unit increment support extending. The index is set will contain the position relative to the data length.\n",
      "  warnings.warn(\n"
     ]
    },
    {
     "name": "stdout",
     "output_type": "stream",
     "text": [
      "Predicted sell: 43934.1403090849, actual: 43079.49\n",
      "Predicted sell: 43117.02090818355, actual: 42760.0\n",
      "Predicted sell: 42828.47484921291, actual: 42842.4\n",
      "Sold BTC by 42828.47484921291 at 2022-02-14 14:31:00+00:00\n",
      "\t\tSimulating 2022-02-15 00:00:00+00:00 day....\n"
     ]
    },
    {
     "name": "stderr",
     "output_type": "stream",
     "text": [
      "/home/olga/PycharmProjects/backtesting/venv/lib/python3.8/site-packages/statsmodels/tsa/deterministic.py:147: UserWarning: Only PeriodIndexes, DatetimeIndexes with a frequency set, RangesIndexes, and Int64Indexes with a unit increment support extending. The index is set will contain the position relative to the data length.\n",
      "  warnings.warn(\n"
     ]
    },
    {
     "name": "stdout",
     "output_type": "stream",
     "text": [
      "Predicted buy: 41605.14148936082, actual: 42427.03\n",
      "Predicted buy: 42503.27795222543, actual: 43307.0\n",
      "Predicted buy: 43407.876864851765, actual: 40073.21\n",
      "stop_loss = 40488.72553327579\n",
      "Bought BTC by 43407.876864851765 at 2022-02-17 04:03:00+00:00\n"
     ]
    },
    {
     "name": "stderr",
     "output_type": "stream",
     "text": [
      "/home/olga/PycharmProjects/backtesting/venv/lib/python3.8/site-packages/statsmodels/tsa/deterministic.py:147: UserWarning: Only PeriodIndexes, DatetimeIndexes with a frequency set, RangesIndexes, and Int64Indexes with a unit increment support extending. The index is set will contain the position relative to the data length.\n",
      "  warnings.warn(\n"
     ]
    },
    {
     "name": "stdout",
     "output_type": "stream",
     "text": [
      "Predicted sell: 44365.63254278087, actual: 40959.88\n",
      "Stopped out by 40488.72553327579. Max pain: 39450.0\n",
      "Sold BTC by 40488.72553327579 at 2022-02-18 00:00:00+00:00\n",
      "\t\tSimulating 2022-02-19 00:00:00+00:00 day....\n"
     ]
    },
    {
     "name": "stderr",
     "output_type": "stream",
     "text": [
      "/home/olga/PycharmProjects/backtesting/venv/lib/python3.8/site-packages/statsmodels/tsa/deterministic.py:147: UserWarning: Only PeriodIndexes, DatetimeIndexes with a frequency set, RangesIndexes, and Int64Indexes with a unit increment support extending. The index is set will contain the position relative to the data length.\n",
      "  warnings.warn(\n"
     ]
    },
    {
     "name": "stdout",
     "output_type": "stream",
     "text": [
      "Predicted buy: 39571.26431687905, actual: 39639.03\n",
      "Predicted buy: 39769.549016641206, actual: 38000.0\n",
      "stop_loss = 37223.826689894246\n",
      "Bought BTC by 39769.549016641206 at 2022-02-20 03:27:00+00:00\n"
     ]
    },
    {
     "name": "stderr",
     "output_type": "stream",
     "text": [
      "/home/olga/PycharmProjects/backtesting/venv/lib/python3.8/site-packages/statsmodels/tsa/deterministic.py:147: UserWarning: Only PeriodIndexes, DatetimeIndexes with a frequency set, RangesIndexes, and Int64Indexes with a unit increment support extending. The index is set will contain the position relative to the data length.\n",
      "  warnings.warn(\n"
     ]
    },
    {
     "name": "stdout",
     "output_type": "stream",
     "text": [
      "Predicted sell: 40368.73802947516, actual: 39494.35\n",
      "Stopped out by 37223.826689894246. Max pain: 36800.0\n",
      "Sold BTC by 37223.826689894246 at 2022-02-21 13:11:00+00:00\n",
      "\t\tSimulating 2022-02-22 00:00:00+00:00 day....\n"
     ]
    },
    {
     "name": "stderr",
     "output_type": "stream",
     "text": [
      "/home/olga/PycharmProjects/backtesting/venv/lib/python3.8/site-packages/statsmodels/tsa/deterministic.py:147: UserWarning: Only PeriodIndexes, DatetimeIndexes with a frequency set, RangesIndexes, and Int64Indexes with a unit increment support extending. The index is set will contain the position relative to the data length.\n",
      "  warnings.warn(\n",
      "/home/olga/PycharmProjects/backtesting/venv/lib/python3.8/site-packages/statsmodels/tsa/deterministic.py:147: UserWarning: Only PeriodIndexes, DatetimeIndexes with a frequency set, RangesIndexes, and Int64Indexes with a unit increment support extending. The index is set will contain the position relative to the data length.\n",
      "  warnings.warn(\n"
     ]
    },
    {
     "name": "stdout",
     "output_type": "stream",
     "text": [
      "Predicted buy: 36933.26315142234, actual: 36350.0\n",
      "stop_loss = 34467.975569952345\n",
      "Bought BTC by 36933.26315142234 at 2022-02-22 00:07:00+00:00\n",
      "Predicted sell: 38662.47570871019, actual: 39249.93\n",
      "Sold BTC by 38662.47570871019 at 2022-02-23 08:26:00+00:00\n",
      "\t\tSimulating 2022-02-24 00:00:00+00:00 day....\n"
     ]
    },
    {
     "name": "stderr",
     "output_type": "stream",
     "text": [
      "/home/olga/PycharmProjects/backtesting/venv/lib/python3.8/site-packages/statsmodels/tsa/deterministic.py:147: UserWarning: Only PeriodIndexes, DatetimeIndexes with a frequency set, RangesIndexes, and Int64Indexes with a unit increment support extending. The index is set will contain the position relative to the data length.\n",
      "  warnings.warn(\n",
      "/home/olga/PycharmProjects/backtesting/venv/lib/python3.8/site-packages/statsmodels/tsa/deterministic.py:147: UserWarning: Only PeriodIndexes, DatetimeIndexes with a frequency set, RangesIndexes, and Int64Indexes with a unit increment support extending. The index is set will contain the position relative to the data length.\n",
      "  warnings.warn(\n"
     ]
    },
    {
     "name": "stdout",
     "output_type": "stream",
     "text": [
      "Predicted buy: 37110.790968144094, actual: 34322.28\n",
      "stop_loss = 34663.956883281186\n",
      "Bought BTC by 37110.790968144094 at 2022-02-24 00:03:00+00:00\n",
      "Predicted sell: 39915.18514018249, actual: 39683.53\n",
      "Predicted sell: 39762.404045246716, actual: 40348.45\n",
      "Sold BTC by 39762.404045246716 at 2022-02-26 00:38:00+00:00\n",
      "\t\tSimulating 2022-02-27 00:00:00+00:00 day....\n"
     ]
    },
    {
     "name": "stderr",
     "output_type": "stream",
     "text": [
      "/home/olga/PycharmProjects/backtesting/venv/lib/python3.8/site-packages/statsmodels/tsa/deterministic.py:147: UserWarning: Only PeriodIndexes, DatetimeIndexes with a frequency set, RangesIndexes, and Int64Indexes with a unit increment support extending. The index is set will contain the position relative to the data length.\n",
      "  warnings.warn(\n",
      "/home/olga/PycharmProjects/backtesting/venv/lib/python3.8/site-packages/statsmodels/tsa/deterministic.py:147: UserWarning: Only PeriodIndexes, DatetimeIndexes with a frequency set, RangesIndexes, and Int64Indexes with a unit increment support extending. The index is set will contain the position relative to the data length.\n",
      "  warnings.warn(\n"
     ]
    },
    {
     "name": "stdout",
     "output_type": "stream",
     "text": [
      "Predicted buy: 38520.50298618227, actual: 37000.0\n",
      "stop_loss = 35533.635121829604\n",
      "Bought BTC by 38520.50298618227 at 2022-02-27 01:06:00+00:00\n",
      "Predicted sell: 39885.092844172825, actual: 44225.84\n",
      "Sold BTC by 39885.092844172825 at 2022-02-28 14:59:00+00:00\n",
      "\t\tSimulating 2022-03-01 00:00:00+00:00 day....\n"
     ]
    },
    {
     "name": "stderr",
     "output_type": "stream",
     "text": [
      "/home/olga/PycharmProjects/backtesting/venv/lib/python3.8/site-packages/statsmodels/tsa/deterministic.py:147: UserWarning: Only PeriodIndexes, DatetimeIndexes with a frequency set, RangesIndexes, and Int64Indexes with a unit increment support extending. The index is set will contain the position relative to the data length.\n",
      "  warnings.warn(\n"
     ]
    },
    {
     "name": "stdout",
     "output_type": "stream",
     "text": [
      "Predicted buy: 37311.80406389306, actual: 42809.98\n",
      "Predicted buy: 42330.22131025434, actual: 43334.09\n",
      "Predicted buy: 43243.413096946155, actual: 41832.28\n",
      "stop_loss = 39795.33859673113\n",
      "Bought BTC by 43243.413096946155 at 2022-03-03 03:46:00+00:00\n"
     ]
    },
    {
     "name": "stderr",
     "output_type": "stream",
     "text": [
      "/home/olga/PycharmProjects/backtesting/venv/lib/python3.8/site-packages/statsmodels/tsa/deterministic.py:147: UserWarning: Only PeriodIndexes, DatetimeIndexes with a frequency set, RangesIndexes, and Int64Indexes with a unit increment support extending. The index is set will contain the position relative to the data length.\n",
      "  warnings.warn(\n"
     ]
    },
    {
     "name": "stdout",
     "output_type": "stream",
     "text": [
      "Predicted sell: 44064.825022092766, actual: 42527.3\n",
      "Stopped out by 39795.33859673113. Max pain: 38550.0\n",
      "Sold BTC by 39795.33859673113 at 2022-03-04 19:53:00+00:00\n",
      "\t\tSimulating 2022-03-05 00:00:00+00:00 day....\n"
     ]
    },
    {
     "name": "stderr",
     "output_type": "stream",
     "text": [
      "/home/olga/PycharmProjects/backtesting/venv/lib/python3.8/site-packages/statsmodels/tsa/deterministic.py:147: UserWarning: Only PeriodIndexes, DatetimeIndexes with a frequency set, RangesIndexes, and Int64Indexes with a unit increment support extending. The index is set will contain the position relative to the data length.\n",
      "  warnings.warn(\n",
      "/home/olga/PycharmProjects/backtesting/venv/lib/python3.8/site-packages/statsmodels/tsa/deterministic.py:147: UserWarning: Only PeriodIndexes, DatetimeIndexes with a frequency set, RangesIndexes, and Int64Indexes with a unit increment support extending. The index is set will contain the position relative to the data length.\n",
      "  warnings.warn(\n"
     ]
    },
    {
     "name": "stdout",
     "output_type": "stream",
     "text": [
      "Predicted buy: 38413.13057866983, actual: 38407.59\n",
      "stop_loss = 34737.731760359115\n",
      "Bought BTC by 38413.13057866983 at 2022-03-05 04:51:00+00:00\n",
      "Predicted sell: 39561.12860730116, actual: 39693.87\n",
      "Sold BTC by 39561.12860730116 at 2022-03-06 00:59:00+00:00\n",
      "\t\tSimulating 2022-03-07 00:00:00+00:00 day....\n"
     ]
    },
    {
     "name": "stderr",
     "output_type": "stream",
     "text": [
      "/home/olga/PycharmProjects/backtesting/venv/lib/python3.8/site-packages/statsmodels/tsa/deterministic.py:147: UserWarning: Only PeriodIndexes, DatetimeIndexes with a frequency set, RangesIndexes, and Int64Indexes with a unit increment support extending. The index is set will contain the position relative to the data length.\n",
      "  warnings.warn(\n",
      "/home/olga/PycharmProjects/backtesting/venv/lib/python3.8/site-packages/statsmodels/tsa/deterministic.py:147: UserWarning: Only PeriodIndexes, DatetimeIndexes with a frequency set, RangesIndexes, and Int64Indexes with a unit increment support extending. The index is set will contain the position relative to the data length.\n",
      "  warnings.warn(\n"
     ]
    },
    {
     "name": "stdout",
     "output_type": "stream",
     "text": [
      "Predicted buy: 37934.08698190786, actual: 37155.0\n",
      "stop_loss = 34544.8939086514\n",
      "Bought BTC by 37934.08698190786 at 2022-03-07 02:24:00+00:00\n",
      "Predicted sell: 39483.89884439998, actual: 39362.08\n",
      "Predicted sell: 39301.24638025106, actual: 42594.06\n",
      "Sold BTC by 39301.24638025106 at 2022-03-09 01:49:00+00:00\n",
      "\t\tSimulating 2022-03-10 00:00:00+00:00 day....\n"
     ]
    },
    {
     "name": "stderr",
     "output_type": "stream",
     "text": [
      "/home/olga/PycharmProjects/backtesting/venv/lib/python3.8/site-packages/statsmodels/tsa/deterministic.py:147: UserWarning: Only PeriodIndexes, DatetimeIndexes with a frequency set, RangesIndexes, and Int64Indexes with a unit increment support extending. The index is set will contain the position relative to the data length.\n",
      "  warnings.warn(\n"
     ]
    },
    {
     "name": "stdout",
     "output_type": "stream",
     "text": [
      "Predicted buy: 38521.66921028327, actual: 38539.73\n",
      "Predicted buy: 38428.97700244144, actual: 38223.6\n",
      "stop_loss = 35004.80577312596\n",
      "Bought BTC by 38428.97700244144 at 2022-03-11 02:11:00+00:00\n"
     ]
    },
    {
     "name": "stderr",
     "output_type": "stream",
     "text": [
      "/home/olga/PycharmProjects/backtesting/venv/lib/python3.8/site-packages/statsmodels/tsa/deterministic.py:147: UserWarning: Only PeriodIndexes, DatetimeIndexes with a frequency set, RangesIndexes, and Int64Indexes with a unit increment support extending. The index is set will contain the position relative to the data length.\n",
      "  warnings.warn(\n"
     ]
    },
    {
     "name": "stdout",
     "output_type": "stream",
     "text": [
      "Predicted sell: 40612.09654111379, actual: 39486.71\n",
      "Predicted sell: 39457.15519037148, actual: 39310.0\n",
      "Predicted sell: 39277.47061020088, actual: 39947.12\n",
      "Sold BTC by 39277.47061020088 at 2022-03-14 09:56:00+00:00\n",
      "\t\tSimulating 2022-03-15 00:00:00+00:00 day....\n"
     ]
    },
    {
     "name": "stderr",
     "output_type": "stream",
     "text": [
      "/home/olga/PycharmProjects/backtesting/venv/lib/python3.8/site-packages/statsmodels/tsa/deterministic.py:147: UserWarning: Only PeriodIndexes, DatetimeIndexes with a frequency set, RangesIndexes, and Int64Indexes with a unit increment support extending. The index is set will contain the position relative to the data length.\n",
      "  warnings.warn(\n"
     ]
    },
    {
     "name": "stdout",
     "output_type": "stream",
     "text": [
      "Predicted buy: 37495.269918273785, actual: 38098.33\n",
      "Predicted buy: 38061.95142296796, actual: 38828.48\n",
      "Predicted buy: 38828.36384983618, actual: 40500.0\n",
      "Predicted buy: 40514.930484091135, actual: 40135.04\n",
      "stop_loss = 37025.15809723754\n",
      "Bought BTC by 40514.930484091135 at 2022-03-18 00:58:00+00:00\n"
     ]
    },
    {
     "name": "stderr",
     "output_type": "stream",
     "text": [
      "/home/olga/PycharmProjects/backtesting/venv/lib/python3.8/site-packages/statsmodels/tsa/deterministic.py:147: UserWarning: Only PeriodIndexes, DatetimeIndexes with a frequency set, RangesIndexes, and Int64Indexes with a unit increment support extending. The index is set will contain the position relative to the data length.\n",
      "  warnings.warn(\n"
     ]
    },
    {
     "name": "stdout",
     "output_type": "stream",
     "text": [
      "Predicted sell: 42350.792006763564, actual: 42400.0\n",
      "Sold BTC by 42350.792006763564 at 2022-03-19 20:41:00+00:00\n",
      "\t\tSimulating 2022-03-20 00:00:00+00:00 day....\n"
     ]
    },
    {
     "name": "stderr",
     "output_type": "stream",
     "text": [
      "/home/olga/PycharmProjects/backtesting/venv/lib/python3.8/site-packages/statsmodels/tsa/deterministic.py:147: UserWarning: Only PeriodIndexes, DatetimeIndexes with a frequency set, RangesIndexes, and Int64Indexes with a unit increment support extending. The index is set will contain the position relative to the data length.\n",
      "  warnings.warn(\n",
      "/home/olga/PycharmProjects/backtesting/venv/lib/python3.8/site-packages/statsmodels/tsa/deterministic.py:147: UserWarning: Only PeriodIndexes, DatetimeIndexes with a frequency set, RangesIndexes, and Int64Indexes with a unit increment support extending. The index is set will contain the position relative to the data length.\n",
      "  warnings.warn(\n"
     ]
    },
    {
     "name": "stdout",
     "output_type": "stream",
     "text": [
      "Predicted buy: 41494.886197234875, actual: 40911.0\n",
      "stop_loss = 38178.96969228693\n",
      "Bought BTC by 41494.886197234875 at 2022-03-20 12:01:00+00:00\n",
      "Predicted sell: 42331.96545476246, actual: 41544.22\n",
      "Predicted sell: 41570.9733621701, actual: 43361.0\n",
      "Sold BTC by 41570.9733621701 at 2022-03-22 02:03:00+00:00\n",
      "\t\tSimulating 2022-03-23 00:00:00+00:00 day....\n"
     ]
    },
    {
     "name": "stderr",
     "output_type": "stream",
     "text": [
      "/home/olga/PycharmProjects/backtesting/venv/lib/python3.8/site-packages/statsmodels/tsa/deterministic.py:147: UserWarning: Only PeriodIndexes, DatetimeIndexes with a frequency set, RangesIndexes, and Int64Indexes with a unit increment support extending. The index is set will contain the position relative to the data length.\n",
      "  warnings.warn(\n"
     ]
    },
    {
     "name": "stdout",
     "output_type": "stream",
     "text": [
      "Predicted buy: 40917.26036139963, actual: 41751.47\n",
      "Predicted buy: 41798.85754917935, actual: 42560.46\n",
      "Predicted buy: 42601.44502500745, actual: 43579.0\n",
      "Predicted buy: 43629.703285535004, actual: 44071.97\n",
      "Predicted buy: 44135.02019572474, actual: 44421.46\n",
      "Predicted buy: 44490.33084926128, actual: 46663.56\n",
      "Predicted buy: 46748.05219236023, actual: 46950.85\n",
      "Predicted buy: 47048.92653283788, actual: 46445.42\n",
      "stop_loss = 45088.190157911275\n",
      "Bought BTC by 47048.92653283788 at 2022-03-30 01:38:00+00:00\n"
     ]
    },
    {
     "name": "stderr",
     "output_type": "stream",
     "text": [
      "/home/olga/PycharmProjects/backtesting/venv/lib/python3.8/site-packages/statsmodels/tsa/deterministic.py:147: UserWarning: Only PeriodIndexes, DatetimeIndexes with a frequency set, RangesIndexes, and Int64Indexes with a unit increment support extending. The index is set will contain the position relative to the data length.\n",
      "  warnings.warn(\n"
     ]
    },
    {
     "name": "stdout",
     "output_type": "stream",
     "text": [
      "Predicted sell: 47847.170675596986, actual: 47600.0\n",
      "Predicted sell: 47785.396680777914, actual: 46720.09\n",
      "Stopped out by 45088.190157911275. Max pain: 44200.0\n",
      "Sold BTC by 45088.190157911275 at 2022-04-01 01:38:00+00:00\n",
      "\t\tSimulating 2022-04-02 00:00:00+00:00 day....\n"
     ]
    },
    {
     "name": "stderr",
     "output_type": "stream",
     "text": [
      "/home/olga/PycharmProjects/backtesting/venv/lib/python3.8/site-packages/statsmodels/tsa/deterministic.py:147: UserWarning: Only PeriodIndexes, DatetimeIndexes with a frequency set, RangesIndexes, and Int64Indexes with a unit increment support extending. The index is set will contain the position relative to the data length.\n",
      "  warnings.warn(\n"
     ]
    },
    {
     "name": "stdout",
     "output_type": "stream",
     "text": [
      "Predicted buy: 44325.654952750345, actual: 45620.0\n",
      "Predicted buy: 45766.698163620815, actual: 45530.92\n"
     ]
    },
    {
     "name": "stderr",
     "output_type": "stream",
     "text": [
      "/home/olga/PycharmProjects/backtesting/venv/lib/python3.8/site-packages/statsmodels/tsa/deterministic.py:147: UserWarning: Only PeriodIndexes, DatetimeIndexes with a frequency set, RangesIndexes, and Int64Indexes with a unit increment support extending. The index is set will contain the position relative to the data length.\n",
      "  warnings.warn(\n"
     ]
    },
    {
     "name": "stdout",
     "output_type": "stream",
     "text": [
      "stop_loss = 44026.78220640801\n",
      "Bought BTC by 45766.698163620815 at 2022-04-03 01:20:00+00:00\n",
      "Predicted sell: 47739.759529531955, actual: 46890.71\n",
      "Predicted sell: 47223.08571215348, actual: 47200.0\n",
      "Predicted sell: 47513.34621718382, actual: 45507.14\n",
      "Stopped out by 44026.78220640801. Max pain: 43121.0\n",
      "Sold BTC by 44026.78220640801 at 2022-04-06 14:04:00+00:00\n",
      "\t\tSimulating 2022-04-07 00:00:00+00:00 day....\n"
     ]
    },
    {
     "name": "stderr",
     "output_type": "stream",
     "text": [
      "/home/olga/PycharmProjects/backtesting/venv/lib/python3.8/site-packages/statsmodels/tsa/deterministic.py:147: UserWarning: Only PeriodIndexes, DatetimeIndexes with a frequency set, RangesIndexes, and Int64Indexes with a unit increment support extending. The index is set will contain the position relative to the data length.\n",
      "  warnings.warn(\n",
      "/home/olga/PycharmProjects/backtesting/venv/lib/python3.8/site-packages/statsmodels/tsa/deterministic.py:147: UserWarning: Only PeriodIndexes, DatetimeIndexes with a frequency set, RangesIndexes, and Int64Indexes with a unit increment support extending. The index is set will contain the position relative to the data length.\n",
      "  warnings.warn(\n"
     ]
    },
    {
     "name": "stdout",
     "output_type": "stream",
     "text": [
      "Predicted buy: 43282.42778550189, actual: 42727.35\n",
      "stop_loss = 41374.37789096047\n",
      "Bought BTC by 43282.42778550189 at 2022-04-07 00:00:00+00:00\n",
      "Predicted sell: 44180.482342744515, actual: 43970.62\n",
      "Predicted sell: 44221.84841128646, actual: 42800.0\n",
      "Predicted sell: 43035.450432231926, actual: 43410.3\n",
      "Sold BTC by 43035.450432231926 at 2022-04-10 17:22:00+00:00\n",
      "\t\tSimulating 2022-04-11 00:00:00+00:00 day....\n"
     ]
    },
    {
     "name": "stderr",
     "output_type": "stream",
     "text": [
      "/home/olga/PycharmProjects/backtesting/venv/lib/python3.8/site-packages/statsmodels/tsa/deterministic.py:147: UserWarning: Only PeriodIndexes, DatetimeIndexes with a frequency set, RangesIndexes, and Int64Indexes with a unit increment support extending. The index is set will contain the position relative to the data length.\n",
      "  warnings.warn(\n",
      "/home/olga/PycharmProjects/backtesting/venv/lib/python3.8/site-packages/statsmodels/tsa/deterministic.py:147: UserWarning: Only PeriodIndexes, DatetimeIndexes with a frequency set, RangesIndexes, and Int64Indexes with a unit increment support extending. The index is set will contain the position relative to the data length.\n",
      "  warnings.warn(\n"
     ]
    },
    {
     "name": "stdout",
     "output_type": "stream",
     "text": [
      "Predicted buy: 41979.64575870927, actual: 39200.0\n",
      "stop_loss = 40113.178195351844\n",
      "Bought BTC by 41979.64575870927 at 2022-04-11 00:09:00+00:00\n",
      "Predicted sell: 42607.34492707273, actual: 40699.0\n",
      "Stopped out by 40113.178195351844. Max pain: 39254.63\n",
      "Sold BTC by 40113.178195351844 at 2022-04-12 00:00:00+00:00\n",
      "\t\tSimulating 2022-04-13 00:00:00+00:00 day....\n"
     ]
    },
    {
     "name": "stderr",
     "output_type": "stream",
     "text": [
      "/home/olga/PycharmProjects/backtesting/venv/lib/python3.8/site-packages/statsmodels/tsa/deterministic.py:147: UserWarning: Only PeriodIndexes, DatetimeIndexes with a frequency set, RangesIndexes, and Int64Indexes with a unit increment support extending. The index is set will contain the position relative to the data length.\n",
      "  warnings.warn(\n"
     ]
    },
    {
     "name": "stdout",
     "output_type": "stream",
     "text": [
      "Predicted buy: 39321.96336028715, actual: 39588.54\n",
      "Predicted buy: 39631.78652931729, actual: 39551.94\n",
      "stop_loss = 37599.089313206736\n",
      "Bought BTC by 39631.78652931729 at 2022-04-14 18:58:00+00:00\n"
     ]
    },
    {
     "name": "stderr",
     "output_type": "stream",
     "text": [
      "/home/olga/PycharmProjects/backtesting/venv/lib/python3.8/site-packages/statsmodels/tsa/deterministic.py:147: UserWarning: Only PeriodIndexes, DatetimeIndexes with a frequency set, RangesIndexes, and Int64Indexes with a unit increment support extending. The index is set will contain the position relative to the data length.\n",
      "  warnings.warn(\n"
     ]
    },
    {
     "name": "stdout",
     "output_type": "stream",
     "text": [
      "Predicted sell: 41544.35973936367, actual: 40870.36\n",
      "Predicted sell: 40868.95382687709, actual: 40709.35\n",
      "Predicted sell: 40688.579811334246, actual: 40595.67\n",
      "Predicted sell: 40554.84567977137, actual: 41116.73\n",
      "Sold BTC by 40554.84567977137 at 2022-04-18 18:15:00+00:00\n",
      "\t\tSimulating 2022-04-19 00:00:00+00:00 day....\n"
     ]
    },
    {
     "name": "stderr",
     "output_type": "stream",
     "text": [
      "/home/olga/PycharmProjects/backtesting/venv/lib/python3.8/site-packages/statsmodels/tsa/deterministic.py:147: UserWarning: Only PeriodIndexes, DatetimeIndexes with a frequency set, RangesIndexes, and Int64Indexes with a unit increment support extending. The index is set will contain the position relative to the data length.\n",
      "  warnings.warn(\n"
     ]
    },
    {
     "name": "stdout",
     "output_type": "stream",
     "text": [
      "Predicted buy: 38415.27055182235, actual: 40571.0\n",
      "Predicted buy: 40430.727742757685, actual: 40820.0\n",
      "Predicted buy: 40659.522301105775, actual: 39751.0\n",
      "stop_loss = 38689.213059317175\n",
      "Bought BTC by 40659.522301105775 at 2022-04-21 20:42:00+00:00\n"
     ]
    },
    {
     "name": "stderr",
     "output_type": "stream",
     "text": [
      "/home/olga/PycharmProjects/backtesting/venv/lib/python3.8/site-packages/statsmodels/tsa/deterministic.py:147: UserWarning: Only PeriodIndexes, DatetimeIndexes with a frequency set, RangesIndexes, and Int64Indexes with a unit increment support extending. The index is set will contain the position relative to the data length.\n",
      "  warnings.warn(\n"
     ]
    },
    {
     "name": "stdout",
     "output_type": "stream",
     "text": [
      "Predicted sell: 42882.3165167788, actual: 40795.06\n",
      "Predicted sell: 40688.784874007586, actual: 39980.0\n",
      "Predicted sell: 39857.38708377746, actual: 39940.0\n",
      "Sold BTC by 39857.38708377746 at 2022-04-24 14:50:00+00:00\n",
      "\t\tSimulating 2022-04-25 00:00:00+00:00 day....\n"
     ]
    },
    {
     "name": "stderr",
     "output_type": "stream",
     "text": [
      "/home/olga/PycharmProjects/backtesting/venv/lib/python3.8/site-packages/statsmodels/tsa/deterministic.py:147: UserWarning: Only PeriodIndexes, DatetimeIndexes with a frequency set, RangesIndexes, and Int64Indexes with a unit increment support extending. The index is set will contain the position relative to the data length.\n",
      "  warnings.warn(\n",
      "/home/olga/PycharmProjects/backtesting/venv/lib/python3.8/site-packages/statsmodels/tsa/deterministic.py:147: UserWarning: Only PeriodIndexes, DatetimeIndexes with a frequency set, RangesIndexes, and Int64Indexes with a unit increment support extending. The index is set will contain the position relative to the data length.\n",
      "  warnings.warn(\n"
     ]
    },
    {
     "name": "stdout",
     "output_type": "stream",
     "text": [
      "Predicted buy: 38666.54379564388, actual: 38200.0\n",
      "stop_loss = 36824.149810143004\n",
      "Bought BTC by 38666.54379564388 at 2022-04-25 06:55:00+00:00\n",
      "Predicted sell: 40475.37089215917, actual: 40797.31\n",
      "Sold BTC by 40475.37089215917 at 2022-04-26 00:00:00+00:00\n",
      "\t\tSimulating 2022-04-27 00:00:00+00:00 day....\n"
     ]
    },
    {
     "name": "stderr",
     "output_type": "stream",
     "text": [
      "/home/olga/PycharmProjects/backtesting/venv/lib/python3.8/site-packages/statsmodels/tsa/deterministic.py:147: UserWarning: Only PeriodIndexes, DatetimeIndexes with a frequency set, RangesIndexes, and Int64Indexes with a unit increment support extending. The index is set will contain the position relative to the data length.\n",
      "  warnings.warn(\n"
     ]
    },
    {
     "name": "stdout",
     "output_type": "stream",
     "text": [
      "Predicted buy: 37410.24901736663, actual: 37881.31\n",
      "Predicted buy: 37581.728717036356, actual: 38881.43\n",
      "Predicted buy: 38597.33879716496, actual: 38175.0\n",
      "stop_loss = 37003.783881802556\n",
      "Bought BTC by 38597.33879716496 at 2022-04-29 16:44:00+00:00\n"
     ]
    },
    {
     "name": "stderr",
     "output_type": "stream",
     "text": [
      "/home/olga/PycharmProjects/backtesting/venv/lib/python3.8/site-packages/statsmodels/tsa/deterministic.py:147: UserWarning: Only PeriodIndexes, DatetimeIndexes with a frequency set, RangesIndexes, and Int64Indexes with a unit increment support extending. The index is set will contain the position relative to the data length.\n",
      "  warnings.warn(\n"
     ]
    },
    {
     "name": "stdout",
     "output_type": "stream",
     "text": [
      "Predicted sell: 39793.55030569545, actual: 38795.38\n",
      "Predicted sell: 38667.89738997081, actual: 38675.0\n",
      "Sold BTC by 38667.89738997081 at 2022-05-01 16:17:00+00:00\n",
      "\t\tSimulating 2022-05-02 00:00:00+00:00 day....\n"
     ]
    },
    {
     "name": "stderr",
     "output_type": "stream",
     "text": [
      "/home/olga/PycharmProjects/backtesting/venv/lib/python3.8/site-packages/statsmodels/tsa/deterministic.py:147: UserWarning: Only PeriodIndexes, DatetimeIndexes with a frequency set, RangesIndexes, and Int64Indexes with a unit increment support extending. The index is set will contain the position relative to the data length.\n",
      "  warnings.warn(\n"
     ]
    },
    {
     "name": "stdout",
     "output_type": "stream",
     "text": [
      "Predicted buy: 37139.21573393163, actual: 38052.0\n",
      "Predicted buy: 37824.76425932856, actual: 37517.8\n",
      "stop_loss = 36318.91307762303\n",
      "Bought BTC by 37824.76425932856 at 2022-05-03 18:05:00+00:00\n"
     ]
    },
    {
     "name": "stderr",
     "output_type": "stream",
     "text": [
      "/home/olga/PycharmProjects/backtesting/venv/lib/python3.8/site-packages/statsmodels/tsa/deterministic.py:147: UserWarning: Only PeriodIndexes, DatetimeIndexes with a frequency set, RangesIndexes, and Int64Indexes with a unit increment support extending. The index is set will contain the position relative to the data length.\n",
      "  warnings.warn(\n"
     ]
    },
    {
     "name": "stdout",
     "output_type": "stream",
     "text": [
      "Predicted sell: 38543.356216469445, actual: 40023.77\n",
      "Sold BTC by 38543.356216469445 at 2022-05-04 07:45:00+00:00\n",
      "\t\tSimulating 2022-05-05 00:00:00+00:00 day....\n"
     ]
    },
    {
     "name": "stderr",
     "output_type": "stream",
     "text": [
      "/home/olga/PycharmProjects/backtesting/venv/lib/python3.8/site-packages/statsmodels/tsa/deterministic.py:147: UserWarning: Only PeriodIndexes, DatetimeIndexes with a frequency set, RangesIndexes, and Int64Indexes with a unit increment support extending. The index is set will contain the position relative to the data length.\n",
      "  warnings.warn(\n",
      "/home/olga/PycharmProjects/backtesting/venv/lib/python3.8/site-packages/statsmodels/tsa/deterministic.py:147: UserWarning: Only PeriodIndexes, DatetimeIndexes with a frequency set, RangesIndexes, and Int64Indexes with a unit increment support extending. The index is set will contain the position relative to the data length.\n",
      "  warnings.warn(\n"
     ]
    },
    {
     "name": "stdout",
     "output_type": "stream",
     "text": [
      "Predicted buy: 37483.811845951284, actual: 35571.9\n",
      "stop_loss = 35960.52189604163\n",
      "Bought BTC by 37483.811845951284 at 2022-05-05 15:08:00+00:00\n",
      "Predicted sell: 39756.366921189976, actual: 36675.63\n",
      "Stopped out by 35960.52189604163. Max pain: 35258.0\n",
      "Sold BTC by 35960.52189604163 at 2022-05-06 07:40:00+00:00\n",
      "\t\tSimulating 2022-05-07 00:00:00+00:00 day....\n"
     ]
    },
    {
     "name": "stderr",
     "output_type": "stream",
     "text": [
      "/home/olga/PycharmProjects/backtesting/venv/lib/python3.8/site-packages/statsmodels/tsa/deterministic.py:147: UserWarning: Only PeriodIndexes, DatetimeIndexes with a frequency set, RangesIndexes, and Int64Indexes with a unit increment support extending. The index is set will contain the position relative to the data length.\n",
      "  warnings.warn(\n",
      "/home/olga/PycharmProjects/backtesting/venv/lib/python3.8/site-packages/statsmodels/tsa/deterministic.py:147: UserWarning: Only PeriodIndexes, DatetimeIndexes with a frequency set, RangesIndexes, and Int64Indexes with a unit increment support extending. The index is set will contain the position relative to the data length.\n",
      "  warnings.warn(\n"
     ]
    },
    {
     "name": "stdout",
     "output_type": "stream",
     "text": [
      "Predicted buy: 35085.707268306454, actual: 34785.0\n",
      "stop_loss = 33514.88781595879\n",
      "Bought BTC by 35085.707268306454 at 2022-05-07 21:59:00+00:00\n",
      "Predicted sell: 36066.87311485749, actual: 35514.22\n",
      "Predicted sell: 35426.85838940363, actual: 34243.15\n",
      "Stopped out by 33514.88781595879. Max pain: 30033.33\n",
      "Sold BTC by 33514.88781595879 at 2022-05-09 02:28:00+00:00\n",
      "\t\tSimulating 2022-05-10 00:00:00+00:00 day....\n"
     ]
    },
    {
     "name": "stderr",
     "output_type": "stream",
     "text": [
      "/home/olga/PycharmProjects/backtesting/venv/lib/python3.8/site-packages/statsmodels/tsa/deterministic.py:147: UserWarning: Only PeriodIndexes, DatetimeIndexes with a frequency set, RangesIndexes, and Int64Indexes with a unit increment support extending. The index is set will contain the position relative to the data length.\n",
      "  warnings.warn(\n",
      "/home/olga/PycharmProjects/backtesting/venv/lib/python3.8/site-packages/statsmodels/tsa/deterministic.py:147: UserWarning: Only PeriodIndexes, DatetimeIndexes with a frequency set, RangesIndexes, and Int64Indexes with a unit increment support extending. The index is set will contain the position relative to the data length.\n",
      "  warnings.warn(\n"
     ]
    },
    {
     "name": "stdout",
     "output_type": "stream",
     "text": [
      "Predicted buy: 29816.795187785094, actual: 29730.4\n",
      "stop_loss = 27926.51179092411\n",
      "Bought BTC by 29816.795187785094 at 2022-05-10 00:31:00+00:00\n",
      "Predicted sell: 32549.273093738877, actual: 32162.59\n",
      "Stopped out by 27926.51179092411. Max pain: 27785.0\n",
      "Sold BTC by 27926.51179092411 at 2022-05-11 21:27:00+00:00\n",
      "\t\tSimulating 2022-05-12 00:00:00+00:00 day....\n"
     ]
    },
    {
     "name": "stderr",
     "output_type": "stream",
     "text": [
      "/home/olga/PycharmProjects/backtesting/venv/lib/python3.8/site-packages/statsmodels/tsa/deterministic.py:147: UserWarning: Only PeriodIndexes, DatetimeIndexes with a frequency set, RangesIndexes, and Int64Indexes with a unit increment support extending. The index is set will contain the position relative to the data length.\n",
      "  warnings.warn(\n",
      "/home/olga/PycharmProjects/backtesting/venv/lib/python3.8/site-packages/statsmodels/tsa/deterministic.py:147: UserWarning: Only PeriodIndexes, DatetimeIndexes with a frequency set, RangesIndexes, and Int64Indexes with a unit increment support extending. The index is set will contain the position relative to the data length.\n",
      "  warnings.warn(\n"
     ]
    },
    {
     "name": "stdout",
     "output_type": "stream",
     "text": [
      "Predicted buy: 27485.513772215934, actual: 26700.0\n",
      "stop_loss = 25567.58815058067\n",
      "Bought BTC by 27485.513772215934 at 2022-05-12 04:23:00+00:00\n",
      "Predicted sell: 30094.521069607872, actual: 31083.37\n",
      "Sold BTC by 30094.521069607872 at 2022-05-13 02:27:00+00:00\n",
      "\t\tSimulating 2022-05-14 00:00:00+00:00 day....\n"
     ]
    },
    {
     "name": "stderr",
     "output_type": "stream",
     "text": [
      "/home/olga/PycharmProjects/backtesting/venv/lib/python3.8/site-packages/statsmodels/tsa/deterministic.py:147: UserWarning: Only PeriodIndexes, DatetimeIndexes with a frequency set, RangesIndexes, and Int64Indexes with a unit increment support extending. The index is set will contain the position relative to the data length.\n",
      "  warnings.warn(\n"
     ]
    },
    {
     "name": "stdout",
     "output_type": "stream",
     "text": [
      "Predicted buy: 28361.364787242772, actual: 28630.0\n",
      "Predicted buy: 28209.28234956539, actual: 29480.0\n",
      "Predicted buy: 29040.195002785313, actual: 29087.04\n",
      "Predicted buy: 28632.104911725575, actual: 29450.38\n",
      "Predicted buy: 28984.114348006246, actual: 28654.47\n",
      "stop_loss = 27088.444032884974\n",
      "Bought BTC by 28984.114348006246 at 2022-05-18 15:20:00+00:00\n"
     ]
    },
    {
     "name": "stderr",
     "output_type": "stream",
     "text": [
      "/home/olga/PycharmProjects/backtesting/venv/lib/python3.8/site-packages/statsmodels/tsa/deterministic.py:147: UserWarning: Only PeriodIndexes, DatetimeIndexes with a frequency set, RangesIndexes, and Int64Indexes with a unit increment support extending. The index is set will contain the position relative to the data length.\n",
      "  warnings.warn(\n"
     ]
    },
    {
     "name": "stdout",
     "output_type": "stream",
     "text": [
      "Predicted sell: 30484.955593392497, actual: 30545.18\n",
      "Sold BTC by 30484.955593392497 at 2022-05-19 15:34:00+00:00\n",
      "\t\tSimulating 2022-05-20 00:00:00+00:00 day....\n"
     ]
    },
    {
     "name": "stderr",
     "output_type": "stream",
     "text": [
      "/home/olga/PycharmProjects/backtesting/venv/lib/python3.8/site-packages/statsmodels/tsa/deterministic.py:147: UserWarning: Only PeriodIndexes, DatetimeIndexes with a frequency set, RangesIndexes, and Int64Indexes with a unit increment support extending. The index is set will contain the position relative to the data length.\n",
      "  warnings.warn(\n"
     ]
    },
    {
     "name": "stdout",
     "output_type": "stream",
     "text": [
      "Predicted buy: 28206.208876893106, actual: 28730.0\n",
      "Predicted buy: 28251.923355052844, actual: 28947.28\n",
      "Predicted buy: 28475.70175144781, actual: 29255.11\n",
      "Predicted buy: 28792.867234839527, actual: 28866.35\n",
      "Predicted buy: 28416.203502104374, actual: 28669.0\n",
      "Predicted buy: 28231.732409169075, actual: 29294.21\n",
      "Predicted buy: 28873.282516867006, actual: 28019.56\n",
      "stop_loss = 27061.095927727278\n",
      "Bought BTC by 28873.282516867006 at 2022-05-26 12:36:00+00:00\n"
     ]
    },
    {
     "name": "stderr",
     "output_type": "stream",
     "text": [
      "/home/olga/PycharmProjects/backtesting/venv/lib/python3.8/site-packages/statsmodels/tsa/deterministic.py:147: UserWarning: Only PeriodIndexes, DatetimeIndexes with a frequency set, RangesIndexes, and Int64Indexes with a unit increment support extending. The index is set will contain the position relative to the data length.\n",
      "  warnings.warn(\n"
     ]
    },
    {
     "name": "stdout",
     "output_type": "stream",
     "text": [
      "Predicted sell: 29676.21742980694, actual: 29397.66\n",
      "Predicted sell: 29191.197591832883, actual: 29266.0\n",
      "Sold BTC by 29191.197591832883 at 2022-05-28 13:17:00+00:00\n",
      "\t\tSimulating 2022-05-29 00:00:00+00:00 day....\n"
     ]
    },
    {
     "name": "stderr",
     "output_type": "stream",
     "text": [
      "/home/olga/PycharmProjects/backtesting/venv/lib/python3.8/site-packages/statsmodels/tsa/deterministic.py:147: UserWarning: Only PeriodIndexes, DatetimeIndexes with a frequency set, RangesIndexes, and Int64Indexes with a unit increment support extending. The index is set will contain the position relative to the data length.\n",
      "  warnings.warn(\n"
     ]
    },
    {
     "name": "stdout",
     "output_type": "stream",
     "text": [
      "Predicted buy: 28082.22875920765, actual: 28839.21\n",
      "Predicted buy: 28501.952865094132, actual: 29299.62\n",
      "Predicted buy: 28983.391601182033, actual: 31200.01\n",
      "Predicted buy: 30927.122740086957, actual: 29301.0\n",
      "stop_loss = 28899.82313150138\n",
      "Bought BTC by 30927.122740086957 at 2022-06-01 15:23:00+00:00\n"
     ]
    },
    {
     "name": "stderr",
     "output_type": "stream",
     "text": [
      "/home/olga/PycharmProjects/backtesting/venv/lib/python3.8/site-packages/statsmodels/tsa/deterministic.py:147: UserWarning: Only PeriodIndexes, DatetimeIndexes with a frequency set, RangesIndexes, and Int64Indexes with a unit increment support extending. The index is set will contain the position relative to the data length.\n",
      "  warnings.warn(\n"
     ]
    },
    {
     "name": "stdout",
     "output_type": "stream",
     "text": [
      "Predicted sell: 31845.73665562458, actual: 30689.0\n",
      "Predicted sell: 30567.823661980583, actual: 30699.0\n",
      "Sold BTC by 30567.823661980583 at 2022-06-03 01:37:00+00:00\n",
      "\t\tSimulating 2022-06-04 00:00:00+00:00 day....\n"
     ]
    },
    {
     "name": "stderr",
     "output_type": "stream",
     "text": [
      "/home/olga/PycharmProjects/backtesting/venv/lib/python3.8/site-packages/statsmodels/tsa/deterministic.py:147: UserWarning: Only PeriodIndexes, DatetimeIndexes with a frequency set, RangesIndexes, and Int64Indexes with a unit increment support extending. The index is set will contain the position relative to the data length.\n",
      "  warnings.warn(\n"
     ]
    },
    {
     "name": "stdout",
     "output_type": "stream",
     "text": [
      "Predicted buy: 29126.894936461573, actual: 29485.0\n",
      "Predicted buy: 29375.700249109137, actual: 29531.42\n",
      "Predicted buy: 29458.59796791956, actual: 29890.23\n",
      "Predicted buy: 29855.720145111223, actual: 29218.96\n",
      "stop_loss = 27771.92024244585\n",
      "Bought BTC by 29855.720145111223 at 2022-06-07 01:27:00+00:00\n"
     ]
    },
    {
     "name": "stderr",
     "output_type": "stream",
     "text": [
      "/home/olga/PycharmProjects/backtesting/venv/lib/python3.8/site-packages/statsmodels/tsa/deterministic.py:147: UserWarning: Only PeriodIndexes, DatetimeIndexes with a frequency set, RangesIndexes, and Int64Indexes with a unit increment support extending. The index is set will contain the position relative to the data length.\n",
      "  warnings.warn(\n"
     ]
    },
    {
     "name": "stdout",
     "output_type": "stream",
     "text": [
      "Predicted sell: 31561.741825224384, actual: 31327.22\n",
      "Predicted sell: 31324.996555361653, actual: 30700.0\n",
      "Predicted sell: 30761.660046956524, actual: 30382.8\n",
      "Predicted sell: 30445.34571255505, actual: 29440.41\n",
      "Predicted sell: 30657.079015939562, actual: 28544.96\n",
      "Stopped out by 27771.92024244585. Max pain: 26560.0\n",
      "Sold BTC by 27771.92024244585 at 2022-06-12 02:41:00+00:00\n",
      "\t\tSimulating 2022-06-13 00:00:00+00:00 day....\n"
     ]
    },
    {
     "name": "stderr",
     "output_type": "stream",
     "text": [
      "/home/olga/PycharmProjects/backtesting/venv/lib/python3.8/site-packages/statsmodels/tsa/deterministic.py:147: UserWarning: Only PeriodIndexes, DatetimeIndexes with a frequency set, RangesIndexes, and Int64Indexes with a unit increment support extending. The index is set will contain the position relative to the data length.\n",
      "  warnings.warn(\n",
      "/home/olga/PycharmProjects/backtesting/venv/lib/python3.8/site-packages/statsmodels/tsa/deterministic.py:147: UserWarning: Only PeriodIndexes, DatetimeIndexes with a frequency set, RangesIndexes, and Int64Indexes with a unit increment support extending. The index is set will contain the position relative to the data length.\n",
      "  warnings.warn(\n"
     ]
    },
    {
     "name": "stdout",
     "output_type": "stream",
     "text": [
      "Predicted buy: 26995.387640546236, actual: 21925.77\n",
      "stop_loss = 25503.041780331583\n",
      "Bought BTC by 26995.387640546236 at 2022-06-13 00:00:00+00:00\n",
      "Predicted sell: 26882.02321202215, actual: 23362.88\n",
      "Stopped out by 25503.041780331583. Max pain: 20846.0\n",
      "Sold BTC by 25503.041780331583 at 2022-06-14 00:00:00+00:00\n",
      "\t\tSimulating 2022-06-15 00:00:00+00:00 day....\n"
     ]
    },
    {
     "name": "stderr",
     "output_type": "stream",
     "text": [
      "/home/olga/PycharmProjects/backtesting/venv/lib/python3.8/site-packages/statsmodels/tsa/deterministic.py:147: UserWarning: Only PeriodIndexes, DatetimeIndexes with a frequency set, RangesIndexes, and Int64Indexes with a unit increment support extending. The index is set will contain the position relative to the data length.\n",
      "  warnings.warn(\n",
      "/home/olga/PycharmProjects/backtesting/venv/lib/python3.8/site-packages/statsmodels/tsa/deterministic.py:147: UserWarning: Only PeriodIndexes, DatetimeIndexes with a frequency set, RangesIndexes, and Int64Indexes with a unit increment support extending. The index is set will contain the position relative to the data length.\n",
      "  warnings.warn(\n"
     ]
    },
    {
     "name": "stdout",
     "output_type": "stream",
     "text": [
      "Predicted buy: 20756.016412595833, actual: 20111.62\n",
      "stop_loss = 18649.530959286938\n",
      "Bought BTC by 20756.016412595833 at 2022-06-15 05:31:00+00:00\n",
      "Predicted sell: 22745.787119846507, actual: 22995.73\n",
      "Sold BTC by 22745.787119846507 at 2022-06-16 00:04:00+00:00\n",
      "\t\tSimulating 2022-06-17 00:00:00+00:00 day....\n"
     ]
    },
    {
     "name": "stderr",
     "output_type": "stream",
     "text": [
      "/home/olga/PycharmProjects/backtesting/venv/lib/python3.8/site-packages/statsmodels/tsa/deterministic.py:147: UserWarning: Only PeriodIndexes, DatetimeIndexes with a frequency set, RangesIndexes, and Int64Indexes with a unit increment support extending. The index is set will contain the position relative to the data length.\n",
      "  warnings.warn(\n"
     ]
    },
    {
     "name": "stdout",
     "output_type": "stream",
     "text": [
      "Predicted buy: 20053.306360934374, actual: 20246.66\n",
      "Predicted buy: 20030.695349298974, actual: 17622.0\n",
      "stop_loss = 17875.50420442657\n",
      "Bought BTC by 20030.695349298974 at 2022-06-18 06:51:00+00:00\n"
     ]
    },
    {
     "name": "stderr",
     "output_type": "stream",
     "text": [
      "/home/olga/PycharmProjects/backtesting/venv/lib/python3.8/site-packages/statsmodels/tsa/deterministic.py:147: UserWarning: Only PeriodIndexes, DatetimeIndexes with a frequency set, RangesIndexes, and Int64Indexes with a unit increment support extending. The index is set will contain the position relative to the data length.\n",
      "  warnings.warn(\n"
     ]
    },
    {
     "name": "stdout",
     "output_type": "stream",
     "text": [
      "Predicted sell: 20678.196399260472, actual: 20815.95\n",
      "Sold BTC by 20678.196399260472 at 2022-06-19 20:33:00+00:00\n",
      "\t\tSimulating 2022-06-20 00:00:00+00:00 day....\n"
     ]
    },
    {
     "name": "stderr",
     "output_type": "stream",
     "text": [
      "/home/olga/PycharmProjects/backtesting/venv/lib/python3.8/site-packages/statsmodels/tsa/deterministic.py:147: UserWarning: Only PeriodIndexes, DatetimeIndexes with a frequency set, RangesIndexes, and Int64Indexes with a unit increment support extending. The index is set will contain the position relative to the data length.\n",
      "  warnings.warn(\n"
     ]
    },
    {
     "name": "stdout",
     "output_type": "stream",
     "text": [
      "Predicted buy: 17641.959309181635, actual: 19637.03\n",
      "Predicted buy: 19285.247819859556, actual: 20348.4\n",
      "Predicted buy: 19973.022268538996, actual: 19770.51\n",
      "stop_loss = 17642.83413695458\n",
      "Bought BTC by 19973.022268538996 at 2022-06-22 06:32:00+00:00\n"
     ]
    },
    {
     "name": "stderr",
     "output_type": "stream",
     "text": [
      "/home/olga/PycharmProjects/backtesting/venv/lib/python3.8/site-packages/statsmodels/tsa/deterministic.py:147: UserWarning: Only PeriodIndexes, DatetimeIndexes with a frequency set, RangesIndexes, and Int64Indexes with a unit increment support extending. The index is set will contain the position relative to the data length.\n",
      "  warnings.warn(\n"
     ]
    },
    {
     "name": "stdout",
     "output_type": "stream",
     "text": [
      "Predicted sell: 20718.81793629498, actual: 21233.0\n",
      "Sold BTC by 20718.81793629498 at 2022-06-23 09:23:00+00:00\n",
      "\t\tSimulating 2022-06-24 00:00:00+00:00 day....\n"
     ]
    },
    {
     "name": "stderr",
     "output_type": "stream",
     "text": [
      "/home/olga/PycharmProjects/backtesting/venv/lib/python3.8/site-packages/statsmodels/tsa/deterministic.py:147: UserWarning: Only PeriodIndexes, DatetimeIndexes with a frequency set, RangesIndexes, and Int64Indexes with a unit increment support extending. The index is set will contain the position relative to the data length.\n",
      "  warnings.warn(\n"
     ]
    },
    {
     "name": "stdout",
     "output_type": "stream",
     "text": [
      "Predicted buy: 19473.198863225454, actual: 20736.72\n",
      "Predicted buy: 20307.46331923547, actual: 20906.62\n",
      "Predicted buy: 20473.411881561355, actual: 20964.73\n",
      "Predicted buy: 20523.00974703094, actual: 20510.0\n",
      "stop_loss = 18354.671281257877\n",
      "Bought BTC by 20523.00974703094 at 2022-06-27 18:08:00+00:00\n"
     ]
    },
    {
     "name": "stderr",
     "output_type": "stream",
     "text": [
      "/home/olga/PycharmProjects/backtesting/venv/lib/python3.8/site-packages/statsmodels/tsa/deterministic.py:147: UserWarning: Only PeriodIndexes, DatetimeIndexes with a frequency set, RangesIndexes, and Int64Indexes with a unit increment support extending. The index is set will contain the position relative to the data length.\n",
      "  warnings.warn(\n"
     ]
    },
    {
     "name": "stdout",
     "output_type": "stream",
     "text": [
      "Predicted sell: 21315.8702637143, actual: 21212.1\n",
      "Predicted sell: 20981.078480143202, actual: 20432.31\n",
      "Predicted sell: 20194.606999608553, actual: 20179.08\n",
      "Predicted sell: 19943.36232213154, actual: 20918.35\n",
      "Sold BTC by 19943.36232213154 at 2022-07-01 00:00:00+00:00\n",
      "\t\tSimulating 2022-07-02 00:00:00+00:00 day....\n"
     ]
    },
    {
     "name": "stderr",
     "output_type": "stream",
     "text": [
      "/home/olga/PycharmProjects/backtesting/venv/lib/python3.8/site-packages/statsmodels/tsa/deterministic.py:147: UserWarning: Only PeriodIndexes, DatetimeIndexes with a frequency set, RangesIndexes, and Int64Indexes with a unit increment support extending. The index is set will contain the position relative to the data length.\n",
      "  warnings.warn(\n"
     ]
    },
    {
     "name": "stdout",
     "output_type": "stream",
     "text": [
      "Predicted buy: 18531.707095057318, actual: 18977.01\n",
      "Predicted buy: 18548.98346949304, actual: 18781.0\n",
      "Predicted buy: 18369.528513794867, actual: 19055.31\n",
      "Predicted buy: 18668.153206907038, actual: 19304.4\n",
      "Predicted buy: 18948.185825469307, actual: 19761.25\n",
      "Predicted buy: 19445.923596024644, actual: 20251.68\n",
      "Predicted buy: 19980.303552522764, actual: 21189.26\n",
      "Predicted buy: 20976.1334768269, actual: 21322.12\n",
      "Predicted buy: 21172.793195247716, actual: 20655.0\n",
      "stop_loss = 18980.665045428595\n",
      "Bought BTC by 21172.793195247716 at 2022-07-10 02:30:00+00:00\n"
     ]
    },
    {
     "name": "stderr",
     "output_type": "stream",
     "text": [
      "/home/olga/PycharmProjects/backtesting/venv/lib/python3.8/site-packages/statsmodels/tsa/deterministic.py:147: UserWarning: Only PeriodIndexes, DatetimeIndexes with a frequency set, RangesIndexes, and Int64Indexes with a unit increment support extending. The index is set will contain the position relative to the data length.\n",
      "  warnings.warn(\n"
     ]
    },
    {
     "name": "stdout",
     "output_type": "stream",
     "text": [
      "Predicted sell: 21530.063763411592, actual: 20868.48\n",
      "Predicted sell: 20812.915674976884, actual: 20059.42\n",
      "Predicted sell: 20022.087605348857, actual: 20366.61\n",
      "Sold BTC by 20022.087605348857 at 2022-07-13 12:25:00+00:00\n",
      "\t\tSimulating 2022-07-14 00:00:00+00:00 day....\n"
     ]
    },
    {
     "name": "stderr",
     "output_type": "stream",
     "text": [
      "/home/olga/PycharmProjects/backtesting/venv/lib/python3.8/site-packages/statsmodels/tsa/deterministic.py:147: UserWarning: Only PeriodIndexes, DatetimeIndexes with a frequency set, RangesIndexes, and Int64Indexes with a unit increment support extending. The index is set will contain the position relative to the data length.\n",
      "  warnings.warn(\n"
     ]
    },
    {
     "name": "stdout",
     "output_type": "stream",
     "text": [
      "Predicted buy: 18841.605411544148, actual: 19616.07\n",
      "Predicted buy: 19761.978855572845, actual: 20382.29\n",
      "Predicted buy: 19886.539131736063, actual: 20478.61\n",
      "Predicted buy: 20043.80142840769, actual: 20750.01\n",
      "Predicted buy: 20765.107182541964, actual: 20762.45\n",
      "stop_loss = 19645.707899874622\n",
      "Bought BTC by 20765.107182541964 at 2022-07-18 00:00:00+00:00\n"
     ]
    },
    {
     "name": "stderr",
     "output_type": "stream",
     "text": [
      "/home/olga/PycharmProjects/backtesting/venv/lib/python3.8/site-packages/statsmodels/tsa/deterministic.py:147: UserWarning: Only PeriodIndexes, DatetimeIndexes with a frequency set, RangesIndexes, and Int64Indexes with a unit increment support extending. The index is set will contain the position relative to the data length.\n",
      "  warnings.warn(\n"
     ]
    },
    {
     "name": "stdout",
     "output_type": "stream",
     "text": [
      "Predicted sell: 22789.13227307262, actual: 23800.0\n",
      "Sold BTC by 22789.13227307262 at 2022-07-19 00:11:00+00:00\n",
      "\t\tSimulating 2022-07-20 00:00:00+00:00 day....\n"
     ]
    },
    {
     "name": "stderr",
     "output_type": "stream",
     "text": [
      "/home/olga/PycharmProjects/backtesting/venv/lib/python3.8/site-packages/statsmodels/tsa/deterministic.py:147: UserWarning: Only PeriodIndexes, DatetimeIndexes with a frequency set, RangesIndexes, and Int64Indexes with a unit increment support extending. The index is set will contain the position relative to the data length.\n",
      "  warnings.warn(\n"
     ]
    },
    {
     "name": "stdout",
     "output_type": "stream",
     "text": [
      "Predicted buy: 21588.63291944733, actual: 22906.19\n",
      "Predicted buy: 22923.043484697926, actual: 22341.46\n",
      "stop_loss = 21797.176599632083\n",
      "Bought BTC by 22923.043484697926 at 2022-07-21 02:48:00+00:00\n"
     ]
    },
    {
     "name": "stderr",
     "output_type": "stream",
     "text": [
      "/home/olga/PycharmProjects/backtesting/venv/lib/python3.8/site-packages/statsmodels/tsa/deterministic.py:147: UserWarning: Only PeriodIndexes, DatetimeIndexes with a frequency set, RangesIndexes, and Int64Indexes with a unit increment support extending. The index is set will contain the position relative to the data length.\n",
      "  warnings.warn(\n"
     ]
    },
    {
     "name": "stdout",
     "output_type": "stream",
     "text": [
      "Predicted sell: 23505.31006226311, actual: 23756.49\n",
      "Sold BTC by 23505.31006226311 at 2022-07-22 09:50:00+00:00\n",
      "\t\tSimulating 2022-07-23 00:00:00+00:00 day....\n"
     ]
    },
    {
     "name": "stderr",
     "output_type": "stream",
     "text": [
      "/home/olga/PycharmProjects/backtesting/venv/lib/python3.8/site-packages/statsmodels/tsa/deterministic.py:147: UserWarning: Only PeriodIndexes, DatetimeIndexes with a frequency set, RangesIndexes, and Int64Indexes with a unit increment support extending. The index is set will contain the position relative to the data length.\n",
      "  warnings.warn(\n",
      "/home/olga/PycharmProjects/backtesting/venv/lib/python3.8/site-packages/statsmodels/tsa/deterministic.py:147: UserWarning: Only PeriodIndexes, DatetimeIndexes with a frequency set, RangesIndexes, and Int64Indexes with a unit increment support extending. The index is set will contain the position relative to the data length.\n",
      "  warnings.warn(\n"
     ]
    },
    {
     "name": "stdout",
     "output_type": "stream",
     "text": [
      "Predicted buy: 22530.53507896782, actual: 21934.57\n",
      "stop_loss = 21511.911663364244\n",
      "Bought BTC by 22530.53507896782 at 2022-07-23 09:06:00+00:00\n",
      "Predicted sell: 23083.6060224953, actual: 23014.64\n",
      "Predicted sell: 23107.136497435433, actual: 22666.0\n",
      "Stopped out by 21511.911663364244. Max pain: 21250.0\n",
      "Sold BTC by 21511.911663364244 at 2022-07-25 22:30:00+00:00\n",
      "\t\tSimulating 2022-07-26 00:00:00+00:00 day....\n"
     ]
    },
    {
     "name": "stderr",
     "output_type": "stream",
     "text": [
      "/home/olga/PycharmProjects/backtesting/venv/lib/python3.8/site-packages/statsmodels/tsa/deterministic.py:147: UserWarning: Only PeriodIndexes, DatetimeIndexes with a frequency set, RangesIndexes, and Int64Indexes with a unit increment support extending. The index is set will contain the position relative to the data length.\n",
      "  warnings.warn(\n",
      "/home/olga/PycharmProjects/backtesting/venv/lib/python3.8/site-packages/statsmodels/tsa/deterministic.py:147: UserWarning: Only PeriodIndexes, DatetimeIndexes with a frequency set, RangesIndexes, and Int64Indexes with a unit increment support extending. The index is set will contain the position relative to the data length.\n",
      "  warnings.warn(\n"
     ]
    },
    {
     "name": "stdout",
     "output_type": "stream",
     "text": [
      "Predicted buy: 21296.075170415057, actual: 20706.5\n",
      "stop_loss = 20114.78137845294\n",
      "Bought BTC by 21296.075170415057 at 2022-07-26 00:00:00+00:00\n",
      "Predicted sell: 21447.93350298072, actual: 23112.63\n",
      "Sold BTC by 21447.93350298072 at 2022-07-27 07:20:00+00:00\n",
      "\t\tSimulating 2022-07-28 00:00:00+00:00 day....\n"
     ]
    },
    {
     "name": "stderr",
     "output_type": "stream",
     "text": [
      "/home/olga/PycharmProjects/backtesting/venv/lib/python3.8/site-packages/statsmodels/tsa/deterministic.py:147: UserWarning: Only PeriodIndexes, DatetimeIndexes with a frequency set, RangesIndexes, and Int64Indexes with a unit increment support extending. The index is set will contain the position relative to the data length.\n",
      "  warnings.warn(\n"
     ]
    },
    {
     "name": "stdout",
     "output_type": "stream",
     "text": [
      "Predicted buy: 21093.33009208365, actual: 22582.13\n",
      "Predicted buy: 22638.79883691798, actual: nan\n",
      "Predicted buy: 22642.306345610497, actual: nan\n",
      "Predicted buy: 22642.306345610497, actual: nan\n",
      "Predicted buy: 22641.249171847085, actual: nan\n",
      "Predicted buy: 22640.94326506617, actual: nan\n",
      "Predicted buy: 22640.050585222216, actual: nan\n",
      "Predicted buy: 22637.34184169002, actual: nan\n",
      "Predicted buy: 22634.82089430962, actual: nan\n",
      "Predicted buy: 22632.42701028919, actual: nan\n",
      "Predicted buy: 22631.64184770826, actual: nan\n",
      "Predicted buy: 22633.432815738648, actual: nan\n",
      "Predicted buy: 22642.424251454297, actual: nan\n",
      "Predicted buy: 22654.68038125373, actual: nan\n",
      "Predicted buy: 22663.543358410025, actual: nan\n",
      "Predicted buy: 22665.56213469355, actual: nan\n",
      "Predicted buy: 22658.44790071003, actual: nan\n",
      "Predicted buy: 22641.16194284641, actual: nan\n",
      "Predicted buy: 22625.073691266607, actual: nan\n",
      "Predicted buy: 22613.535330188064, actual: nan\n",
      "Predicted buy: 22595.83342470657, actual: nan\n",
      "Predicted buy: 22563.919707753746, actual: nan\n",
      "Predicted buy: 21286.47912934074, actual: nan\n",
      "Predicted buy: 22424.884331733603, actual: nan\n",
      "Predicted buy: 22460.251483577056, actual: nan\n",
      "Predicted buy: 22472.50541610091, actual: nan\n",
      "Predicted buy: 21829.970436897147, actual: nan\n",
      "Predicted buy: 21825.017935923177, actual: nan\n",
      "Predicted buy: 22117.4010567665, actual: nan\n",
      "Predicted buy: 23051.929871001455, actual: nan\n"
     ]
    },
    {
     "ename": "ValueError",
     "evalue": "You must specify a period or endog must be a pandas object with a DatetimeIndex with a freq not set to None",
     "output_type": "error",
     "traceback": [
      "\u001b[0;31m---------------------------------------------------------------------------\u001b[0m",
      "\u001b[0;31mValueError\u001b[0m                                Traceback (most recent call last)",
      "\u001b[0;32m<ipython-input-33-735c6d4ca674>\u001b[0m in \u001b[0;36m<module>\u001b[0;34m\u001b[0m\n\u001b[0;32m----> 1\u001b[0;31m \u001b[0mBacktest_BTC_stop\u001b[0m \u001b[0;34m=\u001b[0m \u001b[0mbacktest\u001b[0m\u001b[0;34m(\u001b[0m\u001b[0mdata\u001b[0m\u001b[0;34m.\u001b[0m\u001b[0mindex\u001b[0m\u001b[0;34m[\u001b[0m\u001b[0;36m0\u001b[0m\u001b[0;34m]\u001b[0m\u001b[0;34m,\u001b[0m \u001b[0mdata\u001b[0m\u001b[0;34m.\u001b[0m\u001b[0mindex\u001b[0m\u001b[0;34m[\u001b[0m\u001b[0;34m-\u001b[0m\u001b[0;36m1\u001b[0m\u001b[0;34m]\u001b[0m\u001b[0;34m)\u001b[0m\u001b[0;34m\u001b[0m\u001b[0;34m\u001b[0m\u001b[0m\n\u001b[0m",
      "\u001b[0;32m<ipython-input-32-01528b6d5d1a>\u001b[0m in \u001b[0;36mbacktest\u001b[0;34m(start, end, train_period, dt, predictive_period)\u001b[0m\n\u001b[1;32m      9\u001b[0m     \u001b[0;32mwhile\u001b[0m \u001b[0mpredict_start\u001b[0m \u001b[0;34m<\u001b[0m \u001b[0mend\u001b[0m\u001b[0;34m:\u001b[0m\u001b[0;34m\u001b[0m\u001b[0;34m\u001b[0m\u001b[0m\n\u001b[1;32m     10\u001b[0m         \u001b[0mprint\u001b[0m\u001b[0;34m(\u001b[0m\u001b[0;34mf'\\t\\tSimulating {predict_start} day....'\u001b[0m\u001b[0;34m)\u001b[0m\u001b[0;34m\u001b[0m\u001b[0;34m\u001b[0m\u001b[0m\n\u001b[0;32m---> 11\u001b[0;31m         buy_price, ts, stop_loss = buy(\n\u001b[0m\u001b[1;32m     12\u001b[0m             \u001b[0mpredict_start\u001b[0m\u001b[0;34m,\u001b[0m \u001b[0mtrain_period\u001b[0m\u001b[0;34m,\u001b[0m \u001b[0mpredictive_period\u001b[0m\u001b[0;34m,\u001b[0m \u001b[0mdt\u001b[0m\u001b[0;34m=\u001b[0m\u001b[0mdt\u001b[0m\u001b[0;34m\u001b[0m\u001b[0;34m\u001b[0m\u001b[0m\n\u001b[1;32m     13\u001b[0m         )\n",
      "\u001b[0;32m<ipython-input-30-d85431a75cb3>\u001b[0m in \u001b[0;36mbuy\u001b[0;34m(start, train_period, predictive_period, dt)\u001b[0m\n\u001b[1;32m     14\u001b[0m         \u001b[0mdata\u001b[0m \u001b[0;34m=\u001b[0m \u001b[0mget_binance_historical_klines\u001b[0m\u001b[0;34m(\u001b[0m\u001b[0;34m'BTCUSDT'\u001b[0m\u001b[0;34m,\u001b[0m \u001b[0mdt\u001b[0m\u001b[0;34m,\u001b[0m \u001b[0mstart_tr\u001b[0m\u001b[0;34m,\u001b[0m \u001b[0mend_tr\u001b[0m\u001b[0;34m)\u001b[0m\u001b[0;34m.\u001b[0m\u001b[0mset_index\u001b[0m\u001b[0;34m(\u001b[0m\u001b[0;34m'datetime'\u001b[0m\u001b[0;34m)\u001b[0m\u001b[0;34m\u001b[0m\u001b[0;34m\u001b[0m\u001b[0m\n\u001b[1;32m     15\u001b[0m         \u001b[0my\u001b[0m \u001b[0;34m=\u001b[0m \u001b[0mminute_data\u001b[0m\u001b[0;34m[\u001b[0m\u001b[0;34m'low'\u001b[0m\u001b[0;34m]\u001b[0m\u001b[0;34m\u001b[0m\u001b[0;34m\u001b[0m\u001b[0m\n\u001b[0;32m---> 16\u001b[0;31m         \u001b[0mbuy_price\u001b[0m \u001b[0;34m=\u001b[0m \u001b[0mTheta_predict\u001b[0m\u001b[0;34m(\u001b[0m\u001b[0mdata\u001b[0m\u001b[0;34m[\u001b[0m\u001b[0;34m'low'\u001b[0m\u001b[0;34m]\u001b[0m\u001b[0;34m[\u001b[0m\u001b[0;34m:\u001b[0m\u001b[0mend_tr\u001b[0m\u001b[0;34m]\u001b[0m\u001b[0;34m)\u001b[0m\u001b[0;34m.\u001b[0m\u001b[0mmin\u001b[0m\u001b[0;34m(\u001b[0m\u001b[0;34m)\u001b[0m\u001b[0;34m\u001b[0m\u001b[0;34m\u001b[0m\u001b[0m\n\u001b[0m\u001b[1;32m     17\u001b[0m         \u001b[0mprint\u001b[0m\u001b[0;34m(\u001b[0m\u001b[0;34mf'Predicted buy: {buy_price}, actual: {y.min()}'\u001b[0m\u001b[0;34m)\u001b[0m\u001b[0;34m\u001b[0m\u001b[0;34m\u001b[0m\u001b[0m\n\u001b[1;32m     18\u001b[0m \u001b[0;34m\u001b[0m\u001b[0m\n",
      "\u001b[0;32m<ipython-input-12-02759f553b3f>\u001b[0m in \u001b[0;36mTheta_predict\u001b[0;34m(data, period)\u001b[0m\n\u001b[1;32m      1\u001b[0m \u001b[0;32mdef\u001b[0m \u001b[0mTheta_predict\u001b[0m\u001b[0;34m(\u001b[0m\u001b[0mdata\u001b[0m\u001b[0;34m,\u001b[0m \u001b[0mperiod\u001b[0m\u001b[0;34m=\u001b[0m\u001b[0;36m2\u001b[0m\u001b[0;34m)\u001b[0m\u001b[0;34m:\u001b[0m\u001b[0;34m\u001b[0m\u001b[0;34m\u001b[0m\u001b[0m\n\u001b[0;32m----> 2\u001b[0;31m     \u001b[0mmodel_Theta\u001b[0m \u001b[0;34m=\u001b[0m \u001b[0mThetaModel\u001b[0m\u001b[0;34m(\u001b[0m\u001b[0mdata\u001b[0m\u001b[0;34m)\u001b[0m\u001b[0;34m.\u001b[0m\u001b[0mfit\u001b[0m\u001b[0;34m(\u001b[0m\u001b[0;34m)\u001b[0m\u001b[0;34m\u001b[0m\u001b[0;34m\u001b[0m\u001b[0m\n\u001b[0m\u001b[1;32m      3\u001b[0m     \u001b[0mpredict\u001b[0m \u001b[0;34m=\u001b[0m \u001b[0mmodel_Theta\u001b[0m\u001b[0;34m.\u001b[0m\u001b[0mforecast\u001b[0m\u001b[0;34m(\u001b[0m\u001b[0mperiod\u001b[0m\u001b[0;34m)\u001b[0m\u001b[0;34m\u001b[0m\u001b[0;34m\u001b[0m\u001b[0m\n\u001b[1;32m      4\u001b[0m     \u001b[0;32mreturn\u001b[0m \u001b[0mpredict\u001b[0m\u001b[0;34m\u001b[0m\u001b[0;34m\u001b[0m\u001b[0m\n",
      "\u001b[0;32m~/PycharmProjects/backtesting/venv/lib/python3.8/site-packages/statsmodels/tsa/forecasting/theta.py\u001b[0m in \u001b[0;36m__init__\u001b[0;34m(self, endog, period, deseasonalize, use_test, method, difference)\u001b[0m\n\u001b[1;32m    162\u001b[0m                 \u001b[0mself\u001b[0m\u001b[0;34m.\u001b[0m\u001b[0m_period\u001b[0m \u001b[0;34m=\u001b[0m \u001b[0mfreq_to_period\u001b[0m\u001b[0;34m(\u001b[0m\u001b[0mpfreq\u001b[0m\u001b[0;34m)\u001b[0m\u001b[0;34m\u001b[0m\u001b[0;34m\u001b[0m\u001b[0m\n\u001b[1;32m    163\u001b[0m             \u001b[0;32melse\u001b[0m\u001b[0;34m:\u001b[0m\u001b[0;34m\u001b[0m\u001b[0;34m\u001b[0m\u001b[0m\n\u001b[0;32m--> 164\u001b[0;31m                 raise ValueError(\n\u001b[0m\u001b[1;32m    165\u001b[0m                     \u001b[0;34m\"You must specify a period or endog must be a \"\u001b[0m\u001b[0;34m\u001b[0m\u001b[0;34m\u001b[0m\u001b[0m\n\u001b[1;32m    166\u001b[0m                     \u001b[0;34m\"pandas object with a DatetimeIndex with \"\u001b[0m\u001b[0;34m\u001b[0m\u001b[0;34m\u001b[0m\u001b[0m\n",
      "\u001b[0;31mValueError\u001b[0m: You must specify a period or endog must be a pandas object with a DatetimeIndex with a freq not set to None"
     ]
    }
   ],
   "source": [
    "Backtest_BTC_stop = backtest(data.index[0], data.index[-1])\n"
   ]
  },
  {
   "cell_type": "code",
   "execution_count": 34,
   "metadata": {},
   "outputs": [
    {
     "data": {
      "text/html": [
       "<div>\n",
       "<style scoped>\n",
       "    .dataframe tbody tr th:only-of-type {\n",
       "        vertical-align: middle;\n",
       "    }\n",
       "\n",
       "    .dataframe tbody tr th {\n",
       "        vertical-align: top;\n",
       "    }\n",
       "\n",
       "    .dataframe thead th {\n",
       "        text-align: right;\n",
       "    }\n",
       "</style>\n",
       "<table border=\"1\" class=\"dataframe\">\n",
       "  <thead>\n",
       "    <tr style=\"text-align: right;\">\n",
       "      <th></th>\n",
       "      <th>Unnamed: 0</th>\n",
       "      <th>buy_price</th>\n",
       "      <th>stop_loss</th>\n",
       "      <th>sold</th>\n",
       "      <th>sell_price</th>\n",
       "      <th>stoped</th>\n",
       "    </tr>\n",
       "    <tr>\n",
       "      <th>bought</th>\n",
       "      <th></th>\n",
       "      <th></th>\n",
       "      <th></th>\n",
       "      <th></th>\n",
       "      <th></th>\n",
       "      <th></th>\n",
       "    </tr>\n",
       "  </thead>\n",
       "  <tbody>\n",
       "    <tr>\n",
       "      <th>2021-05-02 04:00:00+00:00</th>\n",
       "      <td>0</td>\n",
       "      <td>56314.736359</td>\n",
       "      <td>51396.690388</td>\n",
       "      <td>2021-05-03 01:38:00+00:00</td>\n",
       "      <td>57808.014368</td>\n",
       "      <td>False</td>\n",
       "    </tr>\n",
       "    <tr>\n",
       "      <th>2021-05-04 00:51:00+00:00</th>\n",
       "      <td>1</td>\n",
       "      <td>56162.387544</td>\n",
       "      <td>51268.179626</td>\n",
       "      <td>2021-05-05 15:00:00+00:00</td>\n",
       "      <td>57100.577722</td>\n",
       "      <td>False</td>\n",
       "    </tr>\n",
       "    <tr>\n",
       "      <th>2021-05-09 12:56:00+00:00</th>\n",
       "      <td>2</td>\n",
       "      <td>56525.221483</td>\n",
       "      <td>51416.733382</td>\n",
       "      <td>2021-05-10 03:08:00+00:00</td>\n",
       "      <td>59219.126492</td>\n",
       "      <td>False</td>\n",
       "    </tr>\n",
       "    <tr>\n",
       "      <th>2021-05-12 18:16:00+00:00</th>\n",
       "      <td>3</td>\n",
       "      <td>54171.357162</td>\n",
       "      <td>49018.947600</td>\n",
       "      <td>2021-05-13 00:00:00+00:00</td>\n",
       "      <td>49018.947600</td>\n",
       "      <td>True</td>\n",
       "    </tr>\n",
       "    <tr>\n",
       "      <th>2021-05-15 07:59:00+00:00</th>\n",
       "      <td>4</td>\n",
       "      <td>48458.115031</td>\n",
       "      <td>43797.923270</td>\n",
       "      <td>2021-05-17 03:23:00+00:00</td>\n",
       "      <td>43797.923270</td>\n",
       "      <td>True</td>\n",
       "    </tr>\n",
       "    <tr>\n",
       "      <th>...</th>\n",
       "      <td>...</td>\n",
       "      <td>...</td>\n",
       "      <td>...</td>\n",
       "      <td>...</td>\n",
       "      <td>...</td>\n",
       "      <td>...</td>\n",
       "    </tr>\n",
       "    <tr>\n",
       "      <th>2022-05-26 12:36:00+00:00</th>\n",
       "      <td>95</td>\n",
       "      <td>28873.282517</td>\n",
       "      <td>27061.095928</td>\n",
       "      <td>2022-05-28 13:17:00+00:00</td>\n",
       "      <td>29191.197592</td>\n",
       "      <td>False</td>\n",
       "    </tr>\n",
       "    <tr>\n",
       "      <th>2022-06-01 15:23:00+00:00</th>\n",
       "      <td>96</td>\n",
       "      <td>30927.122740</td>\n",
       "      <td>28899.823132</td>\n",
       "      <td>2022-06-03 01:37:00+00:00</td>\n",
       "      <td>30567.823662</td>\n",
       "      <td>False</td>\n",
       "    </tr>\n",
       "    <tr>\n",
       "      <th>2022-06-07 01:27:00+00:00</th>\n",
       "      <td>97</td>\n",
       "      <td>29855.720145</td>\n",
       "      <td>27771.920242</td>\n",
       "      <td>2022-06-12 02:41:00+00:00</td>\n",
       "      <td>27771.920242</td>\n",
       "      <td>True</td>\n",
       "    </tr>\n",
       "    <tr>\n",
       "      <th>2022-06-13 00:00:00+00:00</th>\n",
       "      <td>98</td>\n",
       "      <td>26995.387641</td>\n",
       "      <td>25503.041780</td>\n",
       "      <td>2022-06-14 00:00:00+00:00</td>\n",
       "      <td>25503.041780</td>\n",
       "      <td>True</td>\n",
       "    </tr>\n",
       "    <tr>\n",
       "      <th>2022-06-15 05:31:00+00:00</th>\n",
       "      <td>99</td>\n",
       "      <td>20756.016413</td>\n",
       "      <td>18649.530959</td>\n",
       "      <td>2022-06-16 00:04:00+00:00</td>\n",
       "      <td>22745.787120</td>\n",
       "      <td>False</td>\n",
       "    </tr>\n",
       "  </tbody>\n",
       "</table>\n",
       "<p>100 rows × 6 columns</p>\n",
       "</div>"
      ],
      "text/plain": [
       "                           Unnamed: 0     buy_price     stop_loss  \\\n",
       "bought                                                              \n",
       "2021-05-02 04:00:00+00:00           0  56314.736359  51396.690388   \n",
       "2021-05-04 00:51:00+00:00           1  56162.387544  51268.179626   \n",
       "2021-05-09 12:56:00+00:00           2  56525.221483  51416.733382   \n",
       "2021-05-12 18:16:00+00:00           3  54171.357162  49018.947600   \n",
       "2021-05-15 07:59:00+00:00           4  48458.115031  43797.923270   \n",
       "...                               ...           ...           ...   \n",
       "2022-05-26 12:36:00+00:00          95  28873.282517  27061.095928   \n",
       "2022-06-01 15:23:00+00:00          96  30927.122740  28899.823132   \n",
       "2022-06-07 01:27:00+00:00          97  29855.720145  27771.920242   \n",
       "2022-06-13 00:00:00+00:00          98  26995.387641  25503.041780   \n",
       "2022-06-15 05:31:00+00:00          99  20756.016413  18649.530959   \n",
       "\n",
       "                                                sold    sell_price  stoped  \n",
       "bought                                                                      \n",
       "2021-05-02 04:00:00+00:00  2021-05-03 01:38:00+00:00  57808.014368   False  \n",
       "2021-05-04 00:51:00+00:00  2021-05-05 15:00:00+00:00  57100.577722   False  \n",
       "2021-05-09 12:56:00+00:00  2021-05-10 03:08:00+00:00  59219.126492   False  \n",
       "2021-05-12 18:16:00+00:00  2021-05-13 00:00:00+00:00  49018.947600    True  \n",
       "2021-05-15 07:59:00+00:00  2021-05-17 03:23:00+00:00  43797.923270    True  \n",
       "...                                              ...           ...     ...  \n",
       "2022-05-26 12:36:00+00:00  2022-05-28 13:17:00+00:00  29191.197592   False  \n",
       "2022-06-01 15:23:00+00:00  2022-06-03 01:37:00+00:00  30567.823662   False  \n",
       "2022-06-07 01:27:00+00:00  2022-06-12 02:41:00+00:00  27771.920242    True  \n",
       "2022-06-13 00:00:00+00:00  2022-06-14 00:00:00+00:00  25503.041780    True  \n",
       "2022-06-15 05:31:00+00:00  2022-06-16 00:04:00+00:00  22745.787120   False  \n",
       "\n",
       "[100 rows x 6 columns]"
      ]
     },
     "execution_count": 34,
     "metadata": {},
     "output_type": "execute_result"
    }
   ],
   "source": [
    "Backtest_BTC_stop = pd.read_csv('backtest_Theta_stop.csv', index_col='bought')\n",
    "Backtest_BTC_stop"
   ]
  },
  {
   "cell_type": "code",
   "execution_count": 35,
   "metadata": {},
   "outputs": [
    {
     "data": {
      "text/html": [
       "<div>\n",
       "<style scoped>\n",
       "    .dataframe tbody tr th:only-of-type {\n",
       "        vertical-align: middle;\n",
       "    }\n",
       "\n",
       "    .dataframe tbody tr th {\n",
       "        vertical-align: top;\n",
       "    }\n",
       "\n",
       "    .dataframe thead th {\n",
       "        text-align: right;\n",
       "    }\n",
       "</style>\n",
       "<table border=\"1\" class=\"dataframe\">\n",
       "  <thead>\n",
       "    <tr style=\"text-align: right;\">\n",
       "      <th></th>\n",
       "      <th>Unnamed: 0</th>\n",
       "      <th>buy_price</th>\n",
       "      <th>stop_loss</th>\n",
       "      <th>sold</th>\n",
       "      <th>sell_price</th>\n",
       "      <th>stoped</th>\n",
       "      <th>profit</th>\n",
       "    </tr>\n",
       "    <tr>\n",
       "      <th>bought</th>\n",
       "      <th></th>\n",
       "      <th></th>\n",
       "      <th></th>\n",
       "      <th></th>\n",
       "      <th></th>\n",
       "      <th></th>\n",
       "      <th></th>\n",
       "    </tr>\n",
       "  </thead>\n",
       "  <tbody>\n",
       "    <tr>\n",
       "      <th>2021-05-02 04:00:00+00:00</th>\n",
       "      <td>0</td>\n",
       "      <td>56314.736359</td>\n",
       "      <td>51396.690388</td>\n",
       "      <td>2021-05-03 01:38:00+00:00</td>\n",
       "      <td>57808.014368</td>\n",
       "      <td>False</td>\n",
       "      <td>0.026517</td>\n",
       "    </tr>\n",
       "    <tr>\n",
       "      <th>2021-05-04 00:51:00+00:00</th>\n",
       "      <td>1</td>\n",
       "      <td>56162.387544</td>\n",
       "      <td>51268.179626</td>\n",
       "      <td>2021-05-05 15:00:00+00:00</td>\n",
       "      <td>57100.577722</td>\n",
       "      <td>False</td>\n",
       "      <td>0.016705</td>\n",
       "    </tr>\n",
       "    <tr>\n",
       "      <th>2021-05-09 12:56:00+00:00</th>\n",
       "      <td>2</td>\n",
       "      <td>56525.221483</td>\n",
       "      <td>51416.733382</td>\n",
       "      <td>2021-05-10 03:08:00+00:00</td>\n",
       "      <td>59219.126492</td>\n",
       "      <td>False</td>\n",
       "      <td>0.047658</td>\n",
       "    </tr>\n",
       "    <tr>\n",
       "      <th>2021-05-12 18:16:00+00:00</th>\n",
       "      <td>3</td>\n",
       "      <td>54171.357162</td>\n",
       "      <td>49018.947600</td>\n",
       "      <td>2021-05-13 00:00:00+00:00</td>\n",
       "      <td>49018.947600</td>\n",
       "      <td>True</td>\n",
       "      <td>-0.095113</td>\n",
       "    </tr>\n",
       "    <tr>\n",
       "      <th>2021-05-15 07:59:00+00:00</th>\n",
       "      <td>4</td>\n",
       "      <td>48458.115031</td>\n",
       "      <td>43797.923270</td>\n",
       "      <td>2021-05-17 03:23:00+00:00</td>\n",
       "      <td>43797.923270</td>\n",
       "      <td>True</td>\n",
       "      <td>-0.096169</td>\n",
       "    </tr>\n",
       "    <tr>\n",
       "      <th>...</th>\n",
       "      <td>...</td>\n",
       "      <td>...</td>\n",
       "      <td>...</td>\n",
       "      <td>...</td>\n",
       "      <td>...</td>\n",
       "      <td>...</td>\n",
       "      <td>...</td>\n",
       "    </tr>\n",
       "    <tr>\n",
       "      <th>2022-05-26 12:36:00+00:00</th>\n",
       "      <td>95</td>\n",
       "      <td>28873.282517</td>\n",
       "      <td>27061.095928</td>\n",
       "      <td>2022-05-28 13:17:00+00:00</td>\n",
       "      <td>29191.197592</td>\n",
       "      <td>False</td>\n",
       "      <td>0.011011</td>\n",
       "    </tr>\n",
       "    <tr>\n",
       "      <th>2022-06-01 15:23:00+00:00</th>\n",
       "      <td>96</td>\n",
       "      <td>30927.122740</td>\n",
       "      <td>28899.823132</td>\n",
       "      <td>2022-06-03 01:37:00+00:00</td>\n",
       "      <td>30567.823662</td>\n",
       "      <td>False</td>\n",
       "      <td>-0.011618</td>\n",
       "    </tr>\n",
       "    <tr>\n",
       "      <th>2022-06-07 01:27:00+00:00</th>\n",
       "      <td>97</td>\n",
       "      <td>29855.720145</td>\n",
       "      <td>27771.920242</td>\n",
       "      <td>2022-06-12 02:41:00+00:00</td>\n",
       "      <td>27771.920242</td>\n",
       "      <td>True</td>\n",
       "      <td>-0.069796</td>\n",
       "    </tr>\n",
       "    <tr>\n",
       "      <th>2022-06-13 00:00:00+00:00</th>\n",
       "      <td>98</td>\n",
       "      <td>26995.387641</td>\n",
       "      <td>25503.041780</td>\n",
       "      <td>2022-06-14 00:00:00+00:00</td>\n",
       "      <td>25503.041780</td>\n",
       "      <td>True</td>\n",
       "      <td>-0.055282</td>\n",
       "    </tr>\n",
       "    <tr>\n",
       "      <th>2022-06-15 05:31:00+00:00</th>\n",
       "      <td>99</td>\n",
       "      <td>20756.016413</td>\n",
       "      <td>18649.530959</td>\n",
       "      <td>2022-06-16 00:04:00+00:00</td>\n",
       "      <td>22745.787120</td>\n",
       "      <td>False</td>\n",
       "      <td>0.095865</td>\n",
       "    </tr>\n",
       "  </tbody>\n",
       "</table>\n",
       "<p>100 rows × 7 columns</p>\n",
       "</div>"
      ],
      "text/plain": [
       "                           Unnamed: 0     buy_price     stop_loss  \\\n",
       "bought                                                              \n",
       "2021-05-02 04:00:00+00:00           0  56314.736359  51396.690388   \n",
       "2021-05-04 00:51:00+00:00           1  56162.387544  51268.179626   \n",
       "2021-05-09 12:56:00+00:00           2  56525.221483  51416.733382   \n",
       "2021-05-12 18:16:00+00:00           3  54171.357162  49018.947600   \n",
       "2021-05-15 07:59:00+00:00           4  48458.115031  43797.923270   \n",
       "...                               ...           ...           ...   \n",
       "2022-05-26 12:36:00+00:00          95  28873.282517  27061.095928   \n",
       "2022-06-01 15:23:00+00:00          96  30927.122740  28899.823132   \n",
       "2022-06-07 01:27:00+00:00          97  29855.720145  27771.920242   \n",
       "2022-06-13 00:00:00+00:00          98  26995.387641  25503.041780   \n",
       "2022-06-15 05:31:00+00:00          99  20756.016413  18649.530959   \n",
       "\n",
       "                                                sold    sell_price  stoped  \\\n",
       "bought                                                                       \n",
       "2021-05-02 04:00:00+00:00  2021-05-03 01:38:00+00:00  57808.014368   False   \n",
       "2021-05-04 00:51:00+00:00  2021-05-05 15:00:00+00:00  57100.577722   False   \n",
       "2021-05-09 12:56:00+00:00  2021-05-10 03:08:00+00:00  59219.126492   False   \n",
       "2021-05-12 18:16:00+00:00  2021-05-13 00:00:00+00:00  49018.947600    True   \n",
       "2021-05-15 07:59:00+00:00  2021-05-17 03:23:00+00:00  43797.923270    True   \n",
       "...                                              ...           ...     ...   \n",
       "2022-05-26 12:36:00+00:00  2022-05-28 13:17:00+00:00  29191.197592   False   \n",
       "2022-06-01 15:23:00+00:00  2022-06-03 01:37:00+00:00  30567.823662   False   \n",
       "2022-06-07 01:27:00+00:00  2022-06-12 02:41:00+00:00  27771.920242    True   \n",
       "2022-06-13 00:00:00+00:00  2022-06-14 00:00:00+00:00  25503.041780    True   \n",
       "2022-06-15 05:31:00+00:00  2022-06-16 00:04:00+00:00  22745.787120   False   \n",
       "\n",
       "                             profit  \n",
       "bought                               \n",
       "2021-05-02 04:00:00+00:00  0.026517  \n",
       "2021-05-04 00:51:00+00:00  0.016705  \n",
       "2021-05-09 12:56:00+00:00  0.047658  \n",
       "2021-05-12 18:16:00+00:00 -0.095113  \n",
       "2021-05-15 07:59:00+00:00 -0.096169  \n",
       "...                             ...  \n",
       "2022-05-26 12:36:00+00:00  0.011011  \n",
       "2022-06-01 15:23:00+00:00 -0.011618  \n",
       "2022-06-07 01:27:00+00:00 -0.069796  \n",
       "2022-06-13 00:00:00+00:00 -0.055282  \n",
       "2022-06-15 05:31:00+00:00  0.095865  \n",
       "\n",
       "[100 rows x 7 columns]"
      ]
     },
     "execution_count": 35,
     "metadata": {},
     "output_type": "execute_result"
    }
   ],
   "source": [
    "Backtest_BTC_stop['profit'] = Backtest_BTC_stop['sell_price'] / Backtest_BTC_stop['buy_price'] - 1\n",
    "Backtest_BTC_stop"
   ]
  },
  {
   "cell_type": "code",
   "execution_count": 36,
   "metadata": {},
   "outputs": [
    {
     "data": {
      "text/plain": [
       "0.20934540749824904"
      ]
     },
     "execution_count": 36,
     "metadata": {},
     "output_type": "execute_result"
    }
   ],
   "source": [
    "Backtest_BTC_stop['profit'].sum()"
   ]
  },
  {
   "cell_type": "code",
   "execution_count": 37,
   "metadata": {},
   "outputs": [
    {
     "data": {
      "image/png": "[encoded data removed]",
      "text/plain": [
       "<Figure size 1296x576 with 1 Axes>"
      ]
     },
     "metadata": {
      "needs_background": "light"
     },
     "output_type": "display_data"
    }
   ],
   "source": [
    "Backtest_BTC_stop['profit'].hist(figsize=(18, 8), bins=50);"
   ]
  },
  {
   "cell_type": "code",
   "execution_count": 38,
   "metadata": {},
   "outputs": [
    {
     "name": "stderr",
     "output_type": "stream",
     "text": [
      "/home/olga/PycharmProjects/backtesting/venv/lib/python3.8/site-packages/pandas/plotting/_matplotlib/core.py:1235: UserWarning: FixedFormatter should only be used together with FixedLocator\n",
      "  ax.set_xticklabels(xticklabels)\n"
     ]
    },
    {
     "data": {
      "image/png": "[encoded data removed]",
      "text/plain": [
       "<Figure size 1296x648 with 1 Axes>"
      ]
     },
     "metadata": {
      "needs_background": "light"
     },
     "output_type": "display_data"
    }
   ],
   "source": [
    "Backtest_BTC_stop['profit'].cumsum().plot(figsize=(18, 9));"
   ]
  },
  {
   "cell_type": "code",
   "execution_count": null,
   "metadata": {},
   "outputs": [
    {
     "name": "stdout",
     "output_type": "stream",
     "text": [
      "\t\tSimulating 2021-05-01 00:00:00+00:00 day....\n"
     ]
    },
    {
     "name": "stderr",
     "output_type": "stream",
     "text": [
      "/home/olga/PycharmProjects/backtesting/venv/lib/python3.8/site-packages/statsmodels/tsa/deterministic.py:147: UserWarning: Only PeriodIndexes, DatetimeIndexes with a frequency set, RangesIndexes, and Int64Indexes with a unit increment support extending. The index is set will contain the position relative to the data length.\n",
      "  warnings.warn(\n"
     ]
    },
    {
     "name": "stdout",
     "output_type": "stream",
     "text": [
      "Predicted buy: 52640.75261456766, actual: 57421.05\n",
      "Predicted buy: 56314.73635850582, actual: 57931.89\n",
      "Predicted buy: 56314.73635850582, actual: 57687.04\n",
      "Predicted buy: 56314.73635850582, actual: 57585.55\n",
      "Predicted buy: 56314.73635850582, actual: 57116.16\n",
      "Predicted buy: 56314.73635850582, actual: 57335.75\n",
      "Predicted buy: 56314.73635850582, actual: 57525.0\n",
      "Predicted buy: 56314.73635850582, actual: 56956.14\n",
      "Predicted buy: 56314.73635850582, actual: 57218.0\n",
      "Predicted buy: 56314.73635850582, actual: 57400.35\n",
      "Predicted buy: 56314.73635850582, actual: 57372.01\n",
      "Predicted buy: 56314.73635850582, actual: 57243.65\n",
      "Predicted buy: 56314.73635850582, actual: 57275.0\n",
      "Predicted buy: 55831.119781361835, actual: 56323.66\n",
      "Predicted buy: 55831.119781361835, actual: 56171.31\n",
      "Predicted buy: 55831.119781361835, actual: 56404.31\n",
      "Predicted buy: 55831.119781361835, actual: 56035.25\n",
      "Predicted buy: 55831.119781361835, actual: 56385.16\n",
      "Predicted buy: 55831.119781361835, actual: 56451.01\n",
      "Predicted buy: 55831.119781361835, actual: 56231.55\n",
      "Predicted buy: 55831.119781361835, actual: 56317.59\n",
      "Predicted buy: 55831.119781361835, actual: 56546.47\n",
      "Predicted buy: 55831.119781361835, actual: 56615.05\n",
      "Predicted buy: 55831.119781361835, actual: 56212.0\n",
      "Predicted buy: 55831.119781361835, actual: 56525.0\n",
      "Predicted buy: 56162.38754389197, actual: 57768.67\n",
      "Predicted buy: 56162.38754389197, actual: 57696.7\n",
      "Predicted buy: 56162.38754389197, actual: 57814.34\n",
      "Predicted buy: 56162.38754389197, actual: 58277.12\n",
      "Predicted buy: 56162.38754389197, actual: 58344.97\n",
      "Predicted buy: 56162.38754389197, actual: 57260.0\n",
      "Predicted buy: 56162.38754389197, actual: 57379.57\n",
      "Predicted buy: 56162.38754389197, actual: 57169.0\n",
      "Predicted buy: 56162.38754389197, actual: 57326.01\n",
      "Predicted buy: 56162.38754389197, actual: 56435.0\n",
      "Predicted buy: 56162.38754389197, actual: 56723.01\n",
      "Predicted buy: 56162.38754389197, actual: 54580.0\n",
      "stop_loss = 51268.17962576914\n",
      "Bought BTC by 56162.38754389197 at 2021-05-04 00:51:00+00:00\n"
     ]
    },
    {
     "name": "stderr",
     "output_type": "stream",
     "text": [
      "/home/olga/PycharmProjects/backtesting/venv/lib/python3.8/site-packages/statsmodels/tsa/deterministic.py:147: UserWarning: Only PeriodIndexes, DatetimeIndexes with a frequency set, RangesIndexes, and Int64Indexes with a unit increment support extending. The index is set will contain the position relative to the data length.\n",
      "  warnings.warn(\n"
     ]
    },
    {
     "name": "stdout",
     "output_type": "stream",
     "text": [
      "Predicted sell: 57100.57772185521, actual: 56012.49\n",
      "Predicted sell: 57100.57772185521, actual: 56291.37\n",
      "Predicted sell: 57100.57772185521, actual: 56361.82\n",
      "Predicted sell: 57100.57772185521, actual: 56399.68\n",
      "Predicted sell: 57100.57772185521, actual: 56637.89\n",
      "Predicted sell: 57100.57772185521, actual: 56321.18\n",
      "Predicted sell: 57100.57772185521, actual: 55552.85\n",
      "Predicted sell: 57100.57772185521, actual: 54315.57\n",
      "Predicted sell: 57100.57772185521, actual: 54745.81\n",
      "Predicted sell: 57100.57772185521, actual: 54824.0\n",
      "Predicted sell: 57100.57772185521, actual: 54427.0\n",
      "Predicted sell: 57100.57772185521, actual: 55098.0\n",
      "Predicted sell: 57972.52200035217, actual: 55415.83\n",
      "Predicted sell: 57972.52200035217, actual: 55285.71\n",
      "Predicted sell: 57972.52200035217, actual: 55028.21\n",
      "Predicted sell: 57972.52200035217, actual: 55555.0\n",
      "Predicted sell: 57972.52200035217, actual: 55809.24\n",
      "Predicted sell: 57972.52200035217, actual: 56259.74\n",
      "Predicted sell: 57972.52200035217, actual: 57712.06\n",
      "Predicted sell: 57972.52200035217, actual: 58069.82\n",
      "Sold BTC by 57972.52200035217 at 2021-05-05 16:03:00+00:00\n",
      "\t\tSimulating 2021-05-05 02:00:00+00:00 day....\n"
     ]
    },
    {
     "name": "stderr",
     "output_type": "stream",
     "text": [
      "/home/olga/PycharmProjects/backtesting/venv/lib/python3.8/site-packages/statsmodels/tsa/deterministic.py:147: UserWarning: Only PeriodIndexes, DatetimeIndexes with a frequency set, RangesIndexes, and Int64Indexes with a unit increment support extending. The index is set will contain the position relative to the data length.\n",
      "  warnings.warn(\n"
     ]
    },
    {
     "name": "stdout",
     "output_type": "stream",
     "text": [
      "Predicted buy: 52704.87950476773, actual: 54659.0\n",
      "Predicted buy: 52704.87950476773, actual: 54276.0\n",
      "Predicted buy: 52704.87950476773, actual: 53922.84\n",
      "Predicted buy: 52704.87950476773, actual: 54679.13\n",
      "Predicted buy: 52704.87950476773, actual: 55000.0\n",
      "Predicted buy: 52704.87950476773, actual: 55032.65\n",
      "Predicted buy: 52704.87950476773, actual: 55659.69\n",
      "Predicted buy: 52704.87950476773, actual: 57198.03\n",
      "Predicted buy: 52704.87950476773, actual: 57043.0\n",
      "Predicted buy: 52704.87950476773, actual: 56576.04\n",
      "Predicted buy: 52704.87950476773, actual: 56715.3\n",
      "Predicted buy: 52704.87950476773, actual: 56570.66\n",
      "Predicted buy: 54744.66301375414, actual: 56632.65\n",
      "Predicted buy: 54744.66301375414, actual: 56700.0\n",
      "Predicted buy: 54744.66301375414, actual: 56331.66\n",
      "Predicted buy: 54744.66301375414, actual: 56772.75\n",
      "Predicted buy: 54744.66301375414, actual: 57150.0\n",
      "Predicted buy: 54744.66301375414, actual: 57051.96\n",
      "Predicted buy: 54744.66301375414, actual: 56763.0\n",
      "Predicted buy: 54744.66301375414, actual: 56574.19\n",
      "Predicted buy: 54744.66301375414, actual: 55200.0\n",
      "Predicted buy: 54744.66301375414, actual: 55674.13\n",
      "Predicted buy: 54744.66301375414, actual: 56186.16\n",
      "Predicted buy: 54744.66301375414, actual: 55900.0\n",
      "Predicted buy: 54998.32334841293, actual: 55476.74\n",
      "Predicted buy: 54998.32334841293, actual: 55241.63\n",
      "Predicted buy: 54998.32334841293, actual: 55640.37\n",
      "Predicted buy: 54998.32334841293, actual: 55570.35\n",
      "Predicted buy: 54998.32334841293, actual: 56217.22\n",
      "Predicted buy: 54998.32334841293, actual: 56228.24\n",
      "Predicted buy: 54998.32334841293, actual: 56696.0\n",
      "Predicted buy: 54998.32334841293, actual: 57132.65\n",
      "Predicted buy: 54998.32334841293, actual: 57430.0\n",
      "Predicted buy: 54998.32334841293, actual: 57147.0\n",
      "Predicted buy: 54998.32334841293, actual: 56749.75\n",
      "Predicted buy: 54998.32334841293, actual: 56900.0\n",
      "Predicted buy: 56525.22148262928, actual: 57500.34\n",
      "Predicted buy: 56525.22148262928, actual: 57791.0\n",
      "Predicted buy: 56525.22148262928, actual: 57500.0\n",
      "Predicted buy: 56525.22148262928, actual: 58458.29\n",
      "Predicted buy: 56525.22148262928, actual: 58305.0\n",
      "Predicted buy: 56525.22148262928, actual: 58213.76\n",
      "Predicted buy: 56525.22148262928, actual: 57472.95\n",
      "Predicted buy: 56525.22148262928, actual: 57560.63\n",
      "Predicted buy: 56525.22148262928, actual: 58863.18\n",
      "Predicted buy: 56525.22148262928, actual: 58623.21\n",
      "Predicted buy: 56525.22148262928, actual: 58466.0\n",
      "Predicted buy: 56525.22148262928, actual: 58325.09\n",
      "Predicted buy: 56122.822857511055, actual: 58465.96\n",
      "Predicted buy: 56122.822857511055, actual: 57575.0\n",
      "Predicted buy: 56122.822857511055, actual: 57711.71\n",
      "Predicted buy: 56122.822857511055, actual: 57589.94\n",
      "Predicted buy: 56122.822857511055, actual: 57535.61\n",
      "Predicted buy: 56122.822857511055, actual: 56235.66\n",
      "Predicted buy: 56122.822857511055, actual: 57000.0\n",
      "Predicted buy: 56122.822857511055, actual: 57262.51\n",
      "Predicted buy: 56122.822857511055, actual: 57048.96\n",
      "Predicted buy: 56122.822857511055, actual: 57179.18\n",
      "Predicted buy: 56122.822857511055, actual: 57850.0\n",
      "Predicted buy: 56122.822857511055, actual: 58009.96\n",
      "Predicted buy: 53569.26636154183, actual: 58650.39\n",
      "Predicted buy: 53569.26636154183, actual: 58680.26\n",
      "Predicted buy: 53569.26636154183, actual: 58355.79\n",
      "Predicted buy: 53569.26636154183, actual: 57736.46\n",
      "Predicted buy: 53569.26636154183, actual: 57301.81\n",
      "Predicted buy: 53569.26636154183, actual: 57455.0\n",
      "Predicted buy: 53569.26636154183, actual: 56700.0\n",
      "Predicted buy: 53569.26636154183, actual: 56849.75\n",
      "Predicted buy: 53569.26636154183, actual: 55516.85\n",
      "Predicted buy: 53569.26636154183, actual: 53400.0\n",
      "stop_loss = 48407.06203292374\n",
      "Bought BTC by 53569.26636154183 at 2021-05-10 20:05:00+00:00\n"
     ]
    },
    {
     "name": "stderr",
     "output_type": "stream",
     "text": [
      "/home/olga/PycharmProjects/backtesting/venv/lib/python3.8/site-packages/statsmodels/tsa/deterministic.py:147: UserWarning: Only PeriodIndexes, DatetimeIndexes with a frequency set, RangesIndexes, and Int64Indexes with a unit increment support extending. The index is set will contain the position relative to the data length.\n",
      "  warnings.warn(\n"
     ]
    },
    {
     "name": "stdout",
     "output_type": "stream",
     "text": [
      "Predicted sell: 59433.97139404371, actual: 59444.9\n",
      "Sold BTC by 59433.97139404371 at 2021-05-10 03:34:00+00:00\n",
      "\t\tSimulating 2021-05-10 02:00:00+00:00 day....\n"
     ]
    },
    {
     "name": "stderr",
     "output_type": "stream",
     "text": [
      "/home/olga/PycharmProjects/backtesting/venv/lib/python3.8/site-packages/statsmodels/tsa/deterministic.py:147: UserWarning: Only PeriodIndexes, DatetimeIndexes with a frequency set, RangesIndexes, and Int64Indexes with a unit increment support extending. The index is set will contain the position relative to the data length.\n",
      "  warnings.warn(\n"
     ]
    },
    {
     "name": "stdout",
     "output_type": "stream",
     "text": [
      "Predicted buy: 53569.26636154183, actual: 58650.39\n",
      "Predicted buy: 53569.26636154183, actual: 58680.26\n",
      "Predicted buy: 53569.26636154183, actual: 58355.79\n",
      "Predicted buy: 53569.26636154183, actual: 57736.46\n",
      "Predicted buy: 53569.26636154183, actual: 57301.81\n",
      "Predicted buy: 53569.26636154183, actual: 57455.0\n",
      "Predicted buy: 53569.26636154183, actual: 56700.0\n",
      "Predicted buy: 53569.26636154183, actual: 56849.75\n",
      "Predicted buy: 53569.26636154183, actual: 55516.85\n",
      "Predicted buy: 53569.26636154183, actual: 53400.0\n",
      "stop_loss = 48407.06203292374\n",
      "Bought BTC by 53569.26636154183 at 2021-05-10 20:05:00+00:00\n"
     ]
    },
    {
     "name": "stderr",
     "output_type": "stream",
     "text": [
      "/home/olga/PycharmProjects/backtesting/venv/lib/python3.8/site-packages/statsmodels/tsa/deterministic.py:147: UserWarning: Only PeriodIndexes, DatetimeIndexes with a frequency set, RangesIndexes, and Int64Indexes with a unit increment support extending. The index is set will contain the position relative to the data length.\n",
      "  warnings.warn(\n"
     ]
    },
    {
     "name": "stdout",
     "output_type": "stream",
     "text": [
      "Predicted sell: 59433.97139404371, actual: 59444.9\n",
      "Sold BTC by 59433.97139404371 at 2021-05-10 03:34:00+00:00\n",
      "\t\tSimulating 2021-05-10 02:00:00+00:00 day....\n"
     ]
    },
    {
     "name": "stderr",
     "output_type": "stream",
     "text": [
      "/home/olga/PycharmProjects/backtesting/venv/lib/python3.8/site-packages/statsmodels/tsa/deterministic.py:147: UserWarning: Only PeriodIndexes, DatetimeIndexes with a frequency set, RangesIndexes, and Int64Indexes with a unit increment support extending. The index is set will contain the position relative to the data length.\n",
      "  warnings.warn(\n"
     ]
    },
    {
     "name": "stdout",
     "output_type": "stream",
     "text": [
      "Predicted buy: 53569.26636154183, actual: 58650.39\n",
      "Predicted buy: 53569.26636154183, actual: 58680.26\n",
      "Predicted buy: 53569.26636154183, actual: 58355.79\n",
      "Predicted buy: 53569.26636154183, actual: 57736.46\n",
      "Predicted buy: 53569.26636154183, actual: 57301.81\n",
      "Predicted buy: 53569.26636154183, actual: 57455.0\n",
      "Predicted buy: 53569.26636154183, actual: 56700.0\n",
      "Predicted buy: 53569.26636154183, actual: 56849.75\n",
      "Predicted buy: 53569.26636154183, actual: 55516.85\n",
      "Predicted buy: 53569.26636154183, actual: 53400.0\n",
      "stop_loss = 48407.06203292374\n",
      "Bought BTC by 53569.26636154183 at 2021-05-10 20:05:00+00:00\n"
     ]
    },
    {
     "name": "stderr",
     "output_type": "stream",
     "text": [
      "/home/olga/PycharmProjects/backtesting/venv/lib/python3.8/site-packages/statsmodels/tsa/deterministic.py:147: UserWarning: Only PeriodIndexes, DatetimeIndexes with a frequency set, RangesIndexes, and Int64Indexes with a unit increment support extending. The index is set will contain the position relative to the data length.\n",
      "  warnings.warn(\n"
     ]
    },
    {
     "name": "stdout",
     "output_type": "stream",
     "text": [
      "Predicted sell: 59433.97139404371, actual: 59444.9\n",
      "Sold BTC by 59433.97139404371 at 2021-05-10 03:34:00+00:00\n",
      "\t\tSimulating 2021-05-10 02:00:00+00:00 day....\n"
     ]
    },
    {
     "name": "stderr",
     "output_type": "stream",
     "text": [
      "/home/olga/PycharmProjects/backtesting/venv/lib/python3.8/site-packages/statsmodels/tsa/deterministic.py:147: UserWarning: Only PeriodIndexes, DatetimeIndexes with a frequency set, RangesIndexes, and Int64Indexes with a unit increment support extending. The index is set will contain the position relative to the data length.\n",
      "  warnings.warn(\n"
     ]
    },
    {
     "name": "stdout",
     "output_type": "stream",
     "text": [
      "Predicted buy: 53569.26636154183, actual: 58650.39\n",
      "Predicted buy: 53569.26636154183, actual: 58680.26\n",
      "Predicted buy: 53569.26636154183, actual: 58355.79\n",
      "Predicted buy: 53569.26636154183, actual: 57736.46\n",
      "Predicted buy: 53569.26636154183, actual: 57301.81\n",
      "Predicted buy: 53569.26636154183, actual: 57455.0\n",
      "Predicted buy: 53569.26636154183, actual: 56700.0\n",
      "Predicted buy: 53569.26636154183, actual: 56849.75\n",
      "Predicted buy: 53569.26636154183, actual: 55516.85\n",
      "Predicted buy: 53569.26636154183, actual: 53400.0\n",
      "stop_loss = 48407.06203292374\n",
      "Bought BTC by 53569.26636154183 at 2021-05-10 20:05:00+00:00\n"
     ]
    },
    {
     "name": "stderr",
     "output_type": "stream",
     "text": [
      "/home/olga/PycharmProjects/backtesting/venv/lib/python3.8/site-packages/statsmodels/tsa/deterministic.py:147: UserWarning: Only PeriodIndexes, DatetimeIndexes with a frequency set, RangesIndexes, and Int64Indexes with a unit increment support extending. The index is set will contain the position relative to the data length.\n",
      "  warnings.warn(\n"
     ]
    },
    {
     "name": "stdout",
     "output_type": "stream",
     "text": [
      "Predicted sell: 59433.97139404371, actual: 59444.9\n",
      "Sold BTC by 59433.97139404371 at 2021-05-10 03:34:00+00:00\n",
      "\t\tSimulating 2021-05-10 02:00:00+00:00 day....\n"
     ]
    },
    {
     "name": "stderr",
     "output_type": "stream",
     "text": [
      "/home/olga/PycharmProjects/backtesting/venv/lib/python3.8/site-packages/statsmodels/tsa/deterministic.py:147: UserWarning: Only PeriodIndexes, DatetimeIndexes with a frequency set, RangesIndexes, and Int64Indexes with a unit increment support extending. The index is set will contain the position relative to the data length.\n",
      "  warnings.warn(\n"
     ]
    },
    {
     "name": "stdout",
     "output_type": "stream",
     "text": [
      "Predicted buy: 53569.26636154183, actual: 58650.39\n",
      "Predicted buy: 53569.26636154183, actual: 58680.26\n",
      "Predicted buy: 53569.26636154183, actual: 58355.79\n",
      "Predicted buy: 53569.26636154183, actual: 57736.46\n",
      "Predicted buy: 53569.26636154183, actual: 57301.81\n",
      "Predicted buy: 53569.26636154183, actual: 57455.0\n",
      "Predicted buy: 53569.26636154183, actual: 56700.0\n",
      "Predicted buy: 53569.26636154183, actual: 56849.75\n",
      "Predicted buy: 53569.26636154183, actual: 55516.85\n",
      "Predicted buy: 53569.26636154183, actual: 53400.0\n",
      "stop_loss = 48407.06203292374\n",
      "Bought BTC by 53569.26636154183 at 2021-05-10 20:05:00+00:00\n"
     ]
    },
    {
     "name": "stderr",
     "output_type": "stream",
     "text": [
      "/home/olga/PycharmProjects/backtesting/venv/lib/python3.8/site-packages/statsmodels/tsa/deterministic.py:147: UserWarning: Only PeriodIndexes, DatetimeIndexes with a frequency set, RangesIndexes, and Int64Indexes with a unit increment support extending. The index is set will contain the position relative to the data length.\n",
      "  warnings.warn(\n"
     ]
    },
    {
     "name": "stdout",
     "output_type": "stream",
     "text": [
      "Predicted sell: 59433.97139404371, actual: 59444.9\n",
      "Sold BTC by 59433.97139404371 at 2021-05-10 03:34:00+00:00\n",
      "\t\tSimulating 2021-05-10 02:00:00+00:00 day....\n"
     ]
    },
    {
     "name": "stderr",
     "output_type": "stream",
     "text": [
      "/home/olga/PycharmProjects/backtesting/venv/lib/python3.8/site-packages/statsmodels/tsa/deterministic.py:147: UserWarning: Only PeriodIndexes, DatetimeIndexes with a frequency set, RangesIndexes, and Int64Indexes with a unit increment support extending. The index is set will contain the position relative to the data length.\n",
      "  warnings.warn(\n"
     ]
    },
    {
     "name": "stdout",
     "output_type": "stream",
     "text": [
      "Predicted buy: 53569.26636154183, actual: 58650.39\n",
      "Predicted buy: 53569.26636154183, actual: 58680.26\n",
      "Predicted buy: 53569.26636154183, actual: 58355.79\n",
      "Predicted buy: 53569.26636154183, actual: 57736.46\n",
      "Predicted buy: 53569.26636154183, actual: 57301.81\n",
      "Predicted buy: 53569.26636154183, actual: 57455.0\n",
      "Predicted buy: 53569.26636154183, actual: 56700.0\n",
      "Predicted buy: 53569.26636154183, actual: 56849.75\n",
      "Predicted buy: 53569.26636154183, actual: 55516.85\n",
      "Predicted buy: 53569.26636154183, actual: 53400.0\n",
      "stop_loss = 48407.06203292374\n",
      "Bought BTC by 53569.26636154183 at 2021-05-10 20:05:00+00:00\n"
     ]
    },
    {
     "name": "stderr",
     "output_type": "stream",
     "text": [
      "/home/olga/PycharmProjects/backtesting/venv/lib/python3.8/site-packages/statsmodels/tsa/deterministic.py:147: UserWarning: Only PeriodIndexes, DatetimeIndexes with a frequency set, RangesIndexes, and Int64Indexes with a unit increment support extending. The index is set will contain the position relative to the data length.\n",
      "  warnings.warn(\n"
     ]
    },
    {
     "name": "stdout",
     "output_type": "stream",
     "text": [
      "Predicted sell: 59433.97139404371, actual: 59444.9\n",
      "Sold BTC by 59433.97139404371 at 2021-05-10 03:34:00+00:00\n",
      "\t\tSimulating 2021-05-10 02:00:00+00:00 day....\n"
     ]
    },
    {
     "name": "stderr",
     "output_type": "stream",
     "text": [
      "/home/olga/PycharmProjects/backtesting/venv/lib/python3.8/site-packages/statsmodels/tsa/deterministic.py:147: UserWarning: Only PeriodIndexes, DatetimeIndexes with a frequency set, RangesIndexes, and Int64Indexes with a unit increment support extending. The index is set will contain the position relative to the data length.\n",
      "  warnings.warn(\n"
     ]
    },
    {
     "name": "stdout",
     "output_type": "stream",
     "text": [
      "Predicted buy: 53569.26636154183, actual: 58650.39\n",
      "Predicted buy: 53569.26636154183, actual: 58680.26\n",
      "Predicted buy: 53569.26636154183, actual: 58355.79\n",
      "Predicted buy: 53569.26636154183, actual: 57736.46\n",
      "Predicted buy: 53569.26636154183, actual: 57301.81\n",
      "Predicted buy: 53569.26636154183, actual: 57455.0\n",
      "Predicted buy: 53569.26636154183, actual: 56700.0\n",
      "Predicted buy: 53569.26636154183, actual: 56849.75\n",
      "Predicted buy: 53569.26636154183, actual: 55516.85\n",
      "Predicted buy: 53569.26636154183, actual: 53400.0\n",
      "stop_loss = 48407.06203292374\n",
      "Bought BTC by 53569.26636154183 at 2021-05-10 20:05:00+00:00\n"
     ]
    },
    {
     "name": "stderr",
     "output_type": "stream",
     "text": [
      "/home/olga/PycharmProjects/backtesting/venv/lib/python3.8/site-packages/statsmodels/tsa/deterministic.py:147: UserWarning: Only PeriodIndexes, DatetimeIndexes with a frequency set, RangesIndexes, and Int64Indexes with a unit increment support extending. The index is set will contain the position relative to the data length.\n",
      "  warnings.warn(\n"
     ]
    },
    {
     "name": "stdout",
     "output_type": "stream",
     "text": [
      "Predicted sell: 59433.97139404371, actual: 59444.9\n",
      "Sold BTC by 59433.97139404371 at 2021-05-10 03:34:00+00:00\n",
      "\t\tSimulating 2021-05-10 02:00:00+00:00 day....\n"
     ]
    },
    {
     "name": "stderr",
     "output_type": "stream",
     "text": [
      "/home/olga/PycharmProjects/backtesting/venv/lib/python3.8/site-packages/statsmodels/tsa/deterministic.py:147: UserWarning: Only PeriodIndexes, DatetimeIndexes with a frequency set, RangesIndexes, and Int64Indexes with a unit increment support extending. The index is set will contain the position relative to the data length.\n",
      "  warnings.warn(\n"
     ]
    },
    {
     "name": "stdout",
     "output_type": "stream",
     "text": [
      "Predicted buy: 53569.26636154183, actual: 58650.39\n",
      "Predicted buy: 53569.26636154183, actual: 58680.26\n",
      "Predicted buy: 53569.26636154183, actual: 58355.79\n",
      "Predicted buy: 53569.26636154183, actual: 57736.46\n",
      "Predicted buy: 53569.26636154183, actual: 57301.81\n",
      "Predicted buy: 53569.26636154183, actual: 57455.0\n",
      "Predicted buy: 53569.26636154183, actual: 56700.0\n",
      "Predicted buy: 53569.26636154183, actual: 56849.75\n",
      "Predicted buy: 53569.26636154183, actual: 55516.85\n",
      "Predicted buy: 53569.26636154183, actual: 53400.0\n",
      "stop_loss = 48407.06203292374\n",
      "Bought BTC by 53569.26636154183 at 2021-05-10 20:05:00+00:00\n"
     ]
    },
    {
     "name": "stderr",
     "output_type": "stream",
     "text": [
      "/home/olga/PycharmProjects/backtesting/venv/lib/python3.8/site-packages/statsmodels/tsa/deterministic.py:147: UserWarning: Only PeriodIndexes, DatetimeIndexes with a frequency set, RangesIndexes, and Int64Indexes with a unit increment support extending. The index is set will contain the position relative to the data length.\n",
      "  warnings.warn(\n"
     ]
    },
    {
     "name": "stdout",
     "output_type": "stream",
     "text": [
      "Predicted sell: 59433.97139404371, actual: 59444.9\n",
      "Sold BTC by 59433.97139404371 at 2021-05-10 03:34:00+00:00\n",
      "\t\tSimulating 2021-05-10 02:00:00+00:00 day....\n"
     ]
    },
    {
     "name": "stderr",
     "output_type": "stream",
     "text": [
      "/home/olga/PycharmProjects/backtesting/venv/lib/python3.8/site-packages/statsmodels/tsa/deterministic.py:147: UserWarning: Only PeriodIndexes, DatetimeIndexes with a frequency set, RangesIndexes, and Int64Indexes with a unit increment support extending. The index is set will contain the position relative to the data length.\n",
      "  warnings.warn(\n"
     ]
    },
    {
     "name": "stdout",
     "output_type": "stream",
     "text": [
      "Predicted buy: 53569.26636154183, actual: 58650.39\n",
      "Predicted buy: 53569.26636154183, actual: 58680.26\n",
      "Predicted buy: 53569.26636154183, actual: 58355.79\n",
      "Predicted buy: 53569.26636154183, actual: 57736.46\n",
      "Predicted buy: 53569.26636154183, actual: 57301.81\n",
      "Predicted buy: 53569.26636154183, actual: 57455.0\n",
      "Predicted buy: 53569.26636154183, actual: 56700.0\n",
      "Predicted buy: 53569.26636154183, actual: 56849.75\n",
      "Predicted buy: 53569.26636154183, actual: 55516.85\n",
      "Predicted buy: 53569.26636154183, actual: 53400.0\n",
      "stop_loss = 48407.06203292374\n",
      "Bought BTC by 53569.26636154183 at 2021-05-10 20:05:00+00:00\n"
     ]
    },
    {
     "name": "stderr",
     "output_type": "stream",
     "text": [
      "/home/olga/PycharmProjects/backtesting/venv/lib/python3.8/site-packages/statsmodels/tsa/deterministic.py:147: UserWarning: Only PeriodIndexes, DatetimeIndexes with a frequency set, RangesIndexes, and Int64Indexes with a unit increment support extending. The index is set will contain the position relative to the data length.\n",
      "  warnings.warn(\n"
     ]
    },
    {
     "name": "stdout",
     "output_type": "stream",
     "text": [
      "Predicted sell: 59433.97139404371, actual: 59444.9\n",
      "Sold BTC by 59433.97139404371 at 2021-05-10 03:34:00+00:00\n",
      "\t\tSimulating 2021-05-10 02:00:00+00:00 day....\n"
     ]
    },
    {
     "name": "stderr",
     "output_type": "stream",
     "text": [
      "/home/olga/PycharmProjects/backtesting/venv/lib/python3.8/site-packages/statsmodels/tsa/deterministic.py:147: UserWarning: Only PeriodIndexes, DatetimeIndexes with a frequency set, RangesIndexes, and Int64Indexes with a unit increment support extending. The index is set will contain the position relative to the data length.\n",
      "  warnings.warn(\n"
     ]
    },
    {
     "name": "stdout",
     "output_type": "stream",
     "text": [
      "Predicted buy: 53569.26636154183, actual: 58650.39\n",
      "Predicted buy: 53569.26636154183, actual: 58680.26\n",
      "Predicted buy: 53569.26636154183, actual: 58355.79\n",
      "Predicted buy: 53569.26636154183, actual: 57736.46\n",
      "Predicted buy: 53569.26636154183, actual: 57301.81\n",
      "Predicted buy: 53569.26636154183, actual: 57455.0\n",
      "Predicted buy: 53569.26636154183, actual: 56700.0\n",
      "Predicted buy: 53569.26636154183, actual: 56849.75\n",
      "Predicted buy: 53569.26636154183, actual: 55516.85\n",
      "Predicted buy: 53569.26636154183, actual: 53400.0\n",
      "stop_loss = 48407.06203292374\n",
      "Bought BTC by 53569.26636154183 at 2021-05-10 20:05:00+00:00\n"
     ]
    },
    {
     "name": "stderr",
     "output_type": "stream",
     "text": [
      "/home/olga/PycharmProjects/backtesting/venv/lib/python3.8/site-packages/statsmodels/tsa/deterministic.py:147: UserWarning: Only PeriodIndexes, DatetimeIndexes with a frequency set, RangesIndexes, and Int64Indexes with a unit increment support extending. The index is set will contain the position relative to the data length.\n",
      "  warnings.warn(\n"
     ]
    },
    {
     "name": "stdout",
     "output_type": "stream",
     "text": [
      "Predicted sell: 59433.97139404371, actual: 59444.9\n",
      "Sold BTC by 59433.97139404371 at 2021-05-10 03:34:00+00:00\n",
      "\t\tSimulating 2021-05-10 02:00:00+00:00 day....\n"
     ]
    },
    {
     "name": "stderr",
     "output_type": "stream",
     "text": [
      "/home/olga/PycharmProjects/backtesting/venv/lib/python3.8/site-packages/statsmodels/tsa/deterministic.py:147: UserWarning: Only PeriodIndexes, DatetimeIndexes with a frequency set, RangesIndexes, and Int64Indexes with a unit increment support extending. The index is set will contain the position relative to the data length.\n",
      "  warnings.warn(\n"
     ]
    },
    {
     "name": "stdout",
     "output_type": "stream",
     "text": [
      "Predicted buy: 53569.26636154183, actual: 58650.39\n",
      "Predicted buy: 53569.26636154183, actual: 58680.26\n",
      "Predicted buy: 53569.26636154183, actual: 58355.79\n",
      "Predicted buy: 53569.26636154183, actual: 57736.46\n",
      "Predicted buy: 53569.26636154183, actual: 57301.81\n",
      "Predicted buy: 53569.26636154183, actual: 57455.0\n",
      "Predicted buy: 53569.26636154183, actual: 56700.0\n",
      "Predicted buy: 53569.26636154183, actual: 56849.75\n",
      "Predicted buy: 53569.26636154183, actual: 55516.85\n",
      "Predicted buy: 53569.26636154183, actual: 53400.0\n",
      "stop_loss = 48407.06203292374\n",
      "Bought BTC by 53569.26636154183 at 2021-05-10 20:05:00+00:00\n"
     ]
    },
    {
     "name": "stderr",
     "output_type": "stream",
     "text": [
      "/home/olga/PycharmProjects/backtesting/venv/lib/python3.8/site-packages/statsmodels/tsa/deterministic.py:147: UserWarning: Only PeriodIndexes, DatetimeIndexes with a frequency set, RangesIndexes, and Int64Indexes with a unit increment support extending. The index is set will contain the position relative to the data length.\n",
      "  warnings.warn(\n"
     ]
    },
    {
     "name": "stdout",
     "output_type": "stream",
     "text": [
      "Predicted sell: 59433.97139404371, actual: 59444.9\n",
      "Sold BTC by 59433.97139404371 at 2021-05-10 03:34:00+00:00\n",
      "\t\tSimulating 2021-05-10 02:00:00+00:00 day....\n"
     ]
    },
    {
     "name": "stderr",
     "output_type": "stream",
     "text": [
      "/home/olga/PycharmProjects/backtesting/venv/lib/python3.8/site-packages/statsmodels/tsa/deterministic.py:147: UserWarning: Only PeriodIndexes, DatetimeIndexes with a frequency set, RangesIndexes, and Int64Indexes with a unit increment support extending. The index is set will contain the position relative to the data length.\n",
      "  warnings.warn(\n"
     ]
    },
    {
     "name": "stdout",
     "output_type": "stream",
     "text": [
      "Predicted buy: 53569.26636154183, actual: 58650.39\n",
      "Predicted buy: 53569.26636154183, actual: 58680.26\n",
      "Predicted buy: 53569.26636154183, actual: 58355.79\n",
      "Predicted buy: 53569.26636154183, actual: 57736.46\n",
      "Predicted buy: 53569.26636154183, actual: 57301.81\n",
      "Predicted buy: 53569.26636154183, actual: 57455.0\n",
      "Predicted buy: 53569.26636154183, actual: 56700.0\n",
      "Predicted buy: 53569.26636154183, actual: 56849.75\n",
      "Predicted buy: 53569.26636154183, actual: 55516.85\n",
      "Predicted buy: 53569.26636154183, actual: 53400.0\n",
      "stop_loss = 48407.06203292374\n",
      "Bought BTC by 53569.26636154183 at 2021-05-10 20:05:00+00:00\n"
     ]
    },
    {
     "name": "stderr",
     "output_type": "stream",
     "text": [
      "/home/olga/PycharmProjects/backtesting/venv/lib/python3.8/site-packages/statsmodels/tsa/deterministic.py:147: UserWarning: Only PeriodIndexes, DatetimeIndexes with a frequency set, RangesIndexes, and Int64Indexes with a unit increment support extending. The index is set will contain the position relative to the data length.\n",
      "  warnings.warn(\n"
     ]
    },
    {
     "name": "stdout",
     "output_type": "stream",
     "text": [
      "Predicted sell: 59433.97139404371, actual: 59444.9\n",
      "Sold BTC by 59433.97139404371 at 2021-05-10 03:34:00+00:00\n",
      "\t\tSimulating 2021-05-10 02:00:00+00:00 day....\n"
     ]
    },
    {
     "name": "stderr",
     "output_type": "stream",
     "text": [
      "/home/olga/PycharmProjects/backtesting/venv/lib/python3.8/site-packages/statsmodels/tsa/deterministic.py:147: UserWarning: Only PeriodIndexes, DatetimeIndexes with a frequency set, RangesIndexes, and Int64Indexes with a unit increment support extending. The index is set will contain the position relative to the data length.\n",
      "  warnings.warn(\n"
     ]
    },
    {
     "name": "stdout",
     "output_type": "stream",
     "text": [
      "Predicted buy: 53569.26636154183, actual: 58650.39\n",
      "Predicted buy: 53569.26636154183, actual: 58680.26\n",
      "Predicted buy: 53569.26636154183, actual: 58355.79\n",
      "Predicted buy: 53569.26636154183, actual: 57736.46\n",
      "Predicted buy: 53569.26636154183, actual: 57301.81\n",
      "Predicted buy: 53569.26636154183, actual: 57455.0\n",
      "Predicted buy: 53569.26636154183, actual: 56700.0\n",
      "Predicted buy: 53569.26636154183, actual: 56849.75\n",
      "Predicted buy: 53569.26636154183, actual: 55516.85\n",
      "Predicted buy: 53569.26636154183, actual: 53400.0\n",
      "stop_loss = 48407.06203292374\n",
      "Bought BTC by 53569.26636154183 at 2021-05-10 20:05:00+00:00\n"
     ]
    },
    {
     "name": "stderr",
     "output_type": "stream",
     "text": [
      "/home/olga/PycharmProjects/backtesting/venv/lib/python3.8/site-packages/statsmodels/tsa/deterministic.py:147: UserWarning: Only PeriodIndexes, DatetimeIndexes with a frequency set, RangesIndexes, and Int64Indexes with a unit increment support extending. The index is set will contain the position relative to the data length.\n",
      "  warnings.warn(\n"
     ]
    },
    {
     "name": "stdout",
     "output_type": "stream",
     "text": [
      "Predicted sell: 59433.97139404371, actual: 59444.9\n",
      "Sold BTC by 59433.97139404371 at 2021-05-10 03:34:00+00:00\n",
      "\t\tSimulating 2021-05-10 02:00:00+00:00 day....\n"
     ]
    },
    {
     "name": "stderr",
     "output_type": "stream",
     "text": [
      "/home/olga/PycharmProjects/backtesting/venv/lib/python3.8/site-packages/statsmodels/tsa/deterministic.py:147: UserWarning: Only PeriodIndexes, DatetimeIndexes with a frequency set, RangesIndexes, and Int64Indexes with a unit increment support extending. The index is set will contain the position relative to the data length.\n",
      "  warnings.warn(\n"
     ]
    },
    {
     "name": "stdout",
     "output_type": "stream",
     "text": [
      "Predicted buy: 53569.26636154183, actual: 58650.39\n",
      "Predicted buy: 53569.26636154183, actual: 58680.26\n",
      "Predicted buy: 53569.26636154183, actual: 58355.79\n",
      "Predicted buy: 53569.26636154183, actual: 57736.46\n",
      "Predicted buy: 53569.26636154183, actual: 57301.81\n",
      "Predicted buy: 53569.26636154183, actual: 57455.0\n",
      "Predicted buy: 53569.26636154183, actual: 56700.0\n",
      "Predicted buy: 53569.26636154183, actual: 56849.75\n",
      "Predicted buy: 53569.26636154183, actual: 55516.85\n",
      "Predicted buy: 53569.26636154183, actual: 53400.0\n",
      "stop_loss = 48407.06203292374\n",
      "Bought BTC by 53569.26636154183 at 2021-05-10 20:05:00+00:00\n"
     ]
    },
    {
     "name": "stderr",
     "output_type": "stream",
     "text": [
      "/home/olga/PycharmProjects/backtesting/venv/lib/python3.8/site-packages/statsmodels/tsa/deterministic.py:147: UserWarning: Only PeriodIndexes, DatetimeIndexes with a frequency set, RangesIndexes, and Int64Indexes with a unit increment support extending. The index is set will contain the position relative to the data length.\n",
      "  warnings.warn(\n"
     ]
    },
    {
     "name": "stdout",
     "output_type": "stream",
     "text": [
      "Predicted sell: 59433.97139404371, actual: 59444.9\n",
      "Sold BTC by 59433.97139404371 at 2021-05-10 03:34:00+00:00\n",
      "\t\tSimulating 2021-05-10 02:00:00+00:00 day....\n"
     ]
    },
    {
     "name": "stderr",
     "output_type": "stream",
     "text": [
      "/home/olga/PycharmProjects/backtesting/venv/lib/python3.8/site-packages/statsmodels/tsa/deterministic.py:147: UserWarning: Only PeriodIndexes, DatetimeIndexes with a frequency set, RangesIndexes, and Int64Indexes with a unit increment support extending. The index is set will contain the position relative to the data length.\n",
      "  warnings.warn(\n"
     ]
    },
    {
     "name": "stdout",
     "output_type": "stream",
     "text": [
      "Predicted buy: 53569.26636154183, actual: 58650.39\n",
      "Predicted buy: 53569.26636154183, actual: 58680.26\n",
      "Predicted buy: 53569.26636154183, actual: 58355.79\n",
      "Predicted buy: 53569.26636154183, actual: 57736.46\n",
      "Predicted buy: 53569.26636154183, actual: 57301.81\n",
      "Predicted buy: 53569.26636154183, actual: 57455.0\n",
      "Predicted buy: 53569.26636154183, actual: 56700.0\n",
      "Predicted buy: 53569.26636154183, actual: 56849.75\n",
      "Predicted buy: 53569.26636154183, actual: 55516.85\n",
      "Predicted buy: 53569.26636154183, actual: 53400.0\n",
      "stop_loss = 48407.06203292374\n",
      "Bought BTC by 53569.26636154183 at 2021-05-10 20:05:00+00:00\n"
     ]
    },
    {
     "name": "stderr",
     "output_type": "stream",
     "text": [
      "/home/olga/PycharmProjects/backtesting/venv/lib/python3.8/site-packages/statsmodels/tsa/deterministic.py:147: UserWarning: Only PeriodIndexes, DatetimeIndexes with a frequency set, RangesIndexes, and Int64Indexes with a unit increment support extending. The index is set will contain the position relative to the data length.\n",
      "  warnings.warn(\n"
     ]
    },
    {
     "name": "stdout",
     "output_type": "stream",
     "text": [
      "Predicted sell: 59433.97139404371, actual: 59444.9\n",
      "Sold BTC by 59433.97139404371 at 2021-05-10 03:34:00+00:00\n",
      "\t\tSimulating 2021-05-10 02:00:00+00:00 day....\n"
     ]
    },
    {
     "name": "stderr",
     "output_type": "stream",
     "text": [
      "/home/olga/PycharmProjects/backtesting/venv/lib/python3.8/site-packages/statsmodels/tsa/deterministic.py:147: UserWarning: Only PeriodIndexes, DatetimeIndexes with a frequency set, RangesIndexes, and Int64Indexes with a unit increment support extending. The index is set will contain the position relative to the data length.\n",
      "  warnings.warn(\n"
     ]
    },
    {
     "name": "stdout",
     "output_type": "stream",
     "text": [
      "Predicted buy: 53569.26636154183, actual: 58650.39\n",
      "Predicted buy: 53569.26636154183, actual: 58680.26\n",
      "Predicted buy: 53569.26636154183, actual: 58355.79\n",
      "Predicted buy: 53569.26636154183, actual: 57736.46\n",
      "Predicted buy: 53569.26636154183, actual: 57301.81\n",
      "Predicted buy: 53569.26636154183, actual: 57455.0\n",
      "Predicted buy: 53569.26636154183, actual: 56700.0\n",
      "Predicted buy: 53569.26636154183, actual: 56849.75\n",
      "Predicted buy: 53569.26636154183, actual: 55516.85\n",
      "Predicted buy: 53569.26636154183, actual: 53400.0\n",
      "stop_loss = 48407.06203292374\n",
      "Bought BTC by 53569.26636154183 at 2021-05-10 20:05:00+00:00\n"
     ]
    },
    {
     "name": "stderr",
     "output_type": "stream",
     "text": [
      "/home/olga/PycharmProjects/backtesting/venv/lib/python3.8/site-packages/statsmodels/tsa/deterministic.py:147: UserWarning: Only PeriodIndexes, DatetimeIndexes with a frequency set, RangesIndexes, and Int64Indexes with a unit increment support extending. The index is set will contain the position relative to the data length.\n",
      "  warnings.warn(\n"
     ]
    },
    {
     "name": "stdout",
     "output_type": "stream",
     "text": [
      "Predicted sell: 59433.97139404371, actual: 59444.9\n",
      "Sold BTC by 59433.97139404371 at 2021-05-10 03:34:00+00:00\n",
      "\t\tSimulating 2021-05-10 02:00:00+00:00 day....\n"
     ]
    },
    {
     "name": "stderr",
     "output_type": "stream",
     "text": [
      "/home/olga/PycharmProjects/backtesting/venv/lib/python3.8/site-packages/statsmodels/tsa/deterministic.py:147: UserWarning: Only PeriodIndexes, DatetimeIndexes with a frequency set, RangesIndexes, and Int64Indexes with a unit increment support extending. The index is set will contain the position relative to the data length.\n",
      "  warnings.warn(\n"
     ]
    },
    {
     "name": "stdout",
     "output_type": "stream",
     "text": [
      "Predicted buy: 53569.26636154183, actual: 58650.39\n",
      "Predicted buy: 53569.26636154183, actual: 58680.26\n",
      "Predicted buy: 53569.26636154183, actual: 58355.79\n",
      "Predicted buy: 53569.26636154183, actual: 57736.46\n",
      "Predicted buy: 53569.26636154183, actual: 57301.81\n",
      "Predicted buy: 53569.26636154183, actual: 57455.0\n",
      "Predicted buy: 53569.26636154183, actual: 56700.0\n",
      "Predicted buy: 53569.26636154183, actual: 56849.75\n",
      "Predicted buy: 53569.26636154183, actual: 55516.85\n",
      "Predicted buy: 53569.26636154183, actual: 53400.0\n",
      "stop_loss = 48407.06203292374\n",
      "Bought BTC by 53569.26636154183 at 2021-05-10 20:05:00+00:00\n"
     ]
    },
    {
     "name": "stderr",
     "output_type": "stream",
     "text": [
      "/home/olga/PycharmProjects/backtesting/venv/lib/python3.8/site-packages/statsmodels/tsa/deterministic.py:147: UserWarning: Only PeriodIndexes, DatetimeIndexes with a frequency set, RangesIndexes, and Int64Indexes with a unit increment support extending. The index is set will contain the position relative to the data length.\n",
      "  warnings.warn(\n"
     ]
    },
    {
     "name": "stdout",
     "output_type": "stream",
     "text": [
      "Predicted sell: 59433.97139404371, actual: 59444.9\n",
      "Sold BTC by 59433.97139404371 at 2021-05-10 03:34:00+00:00\n",
      "\t\tSimulating 2021-05-10 02:00:00+00:00 day....\n"
     ]
    },
    {
     "name": "stderr",
     "output_type": "stream",
     "text": [
      "/home/olga/PycharmProjects/backtesting/venv/lib/python3.8/site-packages/statsmodels/tsa/deterministic.py:147: UserWarning: Only PeriodIndexes, DatetimeIndexes with a frequency set, RangesIndexes, and Int64Indexes with a unit increment support extending. The index is set will contain the position relative to the data length.\n",
      "  warnings.warn(\n"
     ]
    },
    {
     "name": "stdout",
     "output_type": "stream",
     "text": [
      "Predicted buy: 53569.26636154183, actual: 58650.39\n",
      "Predicted buy: 53569.26636154183, actual: 58680.26\n",
      "Predicted buy: 53569.26636154183, actual: 58355.79\n",
      "Predicted buy: 53569.26636154183, actual: 57736.46\n",
      "Predicted buy: 53569.26636154183, actual: 57301.81\n",
      "Predicted buy: 53569.26636154183, actual: 57455.0\n",
      "Predicted buy: 53569.26636154183, actual: 56700.0\n",
      "Predicted buy: 53569.26636154183, actual: 56849.75\n",
      "Predicted buy: 53569.26636154183, actual: 55516.85\n",
      "Predicted buy: 53569.26636154183, actual: 53400.0\n",
      "stop_loss = 48407.06203292374\n",
      "Bought BTC by 53569.26636154183 at 2021-05-10 20:05:00+00:00\n"
     ]
    },
    {
     "name": "stderr",
     "output_type": "stream",
     "text": [
      "/home/olga/PycharmProjects/backtesting/venv/lib/python3.8/site-packages/statsmodels/tsa/deterministic.py:147: UserWarning: Only PeriodIndexes, DatetimeIndexes with a frequency set, RangesIndexes, and Int64Indexes with a unit increment support extending. The index is set will contain the position relative to the data length.\n",
      "  warnings.warn(\n"
     ]
    },
    {
     "name": "stdout",
     "output_type": "stream",
     "text": [
      "Predicted sell: 59433.97139404371, actual: 59444.9\n",
      "Sold BTC by 59433.97139404371 at 2021-05-10 03:34:00+00:00\n",
      "\t\tSimulating 2021-05-10 02:00:00+00:00 day....\n"
     ]
    },
    {
     "name": "stderr",
     "output_type": "stream",
     "text": [
      "/home/olga/PycharmProjects/backtesting/venv/lib/python3.8/site-packages/statsmodels/tsa/deterministic.py:147: UserWarning: Only PeriodIndexes, DatetimeIndexes with a frequency set, RangesIndexes, and Int64Indexes with a unit increment support extending. The index is set will contain the position relative to the data length.\n",
      "  warnings.warn(\n"
     ]
    },
    {
     "name": "stdout",
     "output_type": "stream",
     "text": [
      "Predicted buy: 53569.26636154183, actual: 58650.39\n",
      "Predicted buy: 53569.26636154183, actual: 58680.26\n",
      "Predicted buy: 53569.26636154183, actual: 58355.79\n",
      "Predicted buy: 53569.26636154183, actual: 57736.46\n",
      "Predicted buy: 53569.26636154183, actual: 57301.81\n",
      "Predicted buy: 53569.26636154183, actual: 57455.0\n",
      "Predicted buy: 53569.26636154183, actual: 56700.0\n",
      "Predicted buy: 53569.26636154183, actual: 56849.75\n",
      "Predicted buy: 53569.26636154183, actual: 55516.85\n",
      "Predicted buy: 53569.26636154183, actual: 53400.0\n",
      "stop_loss = 48407.06203292374\n",
      "Bought BTC by 53569.26636154183 at 2021-05-10 20:05:00+00:00\n"
     ]
    },
    {
     "name": "stderr",
     "output_type": "stream",
     "text": [
      "/home/olga/PycharmProjects/backtesting/venv/lib/python3.8/site-packages/statsmodels/tsa/deterministic.py:147: UserWarning: Only PeriodIndexes, DatetimeIndexes with a frequency set, RangesIndexes, and Int64Indexes with a unit increment support extending. The index is set will contain the position relative to the data length.\n",
      "  warnings.warn(\n"
     ]
    },
    {
     "name": "stdout",
     "output_type": "stream",
     "text": [
      "Predicted sell: 59433.97139404371, actual: 59444.9\n",
      "Sold BTC by 59433.97139404371 at 2021-05-10 03:34:00+00:00\n",
      "\t\tSimulating 2021-05-10 02:00:00+00:00 day....\n"
     ]
    },
    {
     "name": "stderr",
     "output_type": "stream",
     "text": [
      "/home/olga/PycharmProjects/backtesting/venv/lib/python3.8/site-packages/statsmodels/tsa/deterministic.py:147: UserWarning: Only PeriodIndexes, DatetimeIndexes with a frequency set, RangesIndexes, and Int64Indexes with a unit increment support extending. The index is set will contain the position relative to the data length.\n",
      "  warnings.warn(\n"
     ]
    },
    {
     "name": "stdout",
     "output_type": "stream",
     "text": [
      "Predicted buy: 53569.26636154183, actual: 58650.39\n",
      "Predicted buy: 53569.26636154183, actual: 58680.26\n",
      "Predicted buy: 53569.26636154183, actual: 58355.79\n",
      "Predicted buy: 53569.26636154183, actual: 57736.46\n",
      "Predicted buy: 53569.26636154183, actual: 57301.81\n",
      "Predicted buy: 53569.26636154183, actual: 57455.0\n",
      "Predicted buy: 53569.26636154183, actual: 56700.0\n",
      "Predicted buy: 53569.26636154183, actual: 56849.75\n",
      "Predicted buy: 53569.26636154183, actual: 55516.85\n",
      "Predicted buy: 53569.26636154183, actual: 53400.0\n",
      "stop_loss = 48407.06203292374\n",
      "Bought BTC by 53569.26636154183 at 2021-05-10 20:05:00+00:00\n"
     ]
    },
    {
     "name": "stderr",
     "output_type": "stream",
     "text": [
      "/home/olga/PycharmProjects/backtesting/venv/lib/python3.8/site-packages/statsmodels/tsa/deterministic.py:147: UserWarning: Only PeriodIndexes, DatetimeIndexes with a frequency set, RangesIndexes, and Int64Indexes with a unit increment support extending. The index is set will contain the position relative to the data length.\n",
      "  warnings.warn(\n"
     ]
    },
    {
     "name": "stdout",
     "output_type": "stream",
     "text": [
      "Predicted sell: 59433.97139404371, actual: 59444.9\n",
      "Sold BTC by 59433.97139404371 at 2021-05-10 03:34:00+00:00\n",
      "\t\tSimulating 2021-05-10 02:00:00+00:00 day....\n"
     ]
    },
    {
     "name": "stderr",
     "output_type": "stream",
     "text": [
      "/home/olga/PycharmProjects/backtesting/venv/lib/python3.8/site-packages/statsmodels/tsa/deterministic.py:147: UserWarning: Only PeriodIndexes, DatetimeIndexes with a frequency set, RangesIndexes, and Int64Indexes with a unit increment support extending. The index is set will contain the position relative to the data length.\n",
      "  warnings.warn(\n"
     ]
    },
    {
     "name": "stdout",
     "output_type": "stream",
     "text": [
      "Predicted buy: 53569.26636154183, actual: 58650.39\n",
      "Predicted buy: 53569.26636154183, actual: 58680.26\n",
      "Predicted buy: 53569.26636154183, actual: 58355.79\n",
      "Predicted buy: 53569.26636154183, actual: 57736.46\n",
      "Predicted buy: 53569.26636154183, actual: 57301.81\n",
      "Predicted buy: 53569.26636154183, actual: 57455.0\n",
      "Predicted buy: 53569.26636154183, actual: 56700.0\n",
      "Predicted buy: 53569.26636154183, actual: 56849.75\n",
      "Predicted buy: 53569.26636154183, actual: 55516.85\n",
      "Predicted buy: 53569.26636154183, actual: 53400.0\n",
      "stop_loss = 48407.06203292374\n",
      "Bought BTC by 53569.26636154183 at 2021-05-10 20:05:00+00:00\n"
     ]
    },
    {
     "name": "stderr",
     "output_type": "stream",
     "text": [
      "/home/olga/PycharmProjects/backtesting/venv/lib/python3.8/site-packages/statsmodels/tsa/deterministic.py:147: UserWarning: Only PeriodIndexes, DatetimeIndexes with a frequency set, RangesIndexes, and Int64Indexes with a unit increment support extending. The index is set will contain the position relative to the data length.\n",
      "  warnings.warn(\n"
     ]
    },
    {
     "name": "stdout",
     "output_type": "stream",
     "text": [
      "Predicted sell: 59433.97139404371, actual: 59444.9\n",
      "Sold BTC by 59433.97139404371 at 2021-05-10 03:34:00+00:00\n",
      "\t\tSimulating 2021-05-10 02:00:00+00:00 day....\n"
     ]
    },
    {
     "name": "stderr",
     "output_type": "stream",
     "text": [
      "/home/olga/PycharmProjects/backtesting/venv/lib/python3.8/site-packages/statsmodels/tsa/deterministic.py:147: UserWarning: Only PeriodIndexes, DatetimeIndexes with a frequency set, RangesIndexes, and Int64Indexes with a unit increment support extending. The index is set will contain the position relative to the data length.\n",
      "  warnings.warn(\n"
     ]
    },
    {
     "name": "stdout",
     "output_type": "stream",
     "text": [
      "Predicted buy: 53569.26636154183, actual: 58650.39\n",
      "Predicted buy: 53569.26636154183, actual: 58680.26\n",
      "Predicted buy: 53569.26636154183, actual: 58355.79\n",
      "Predicted buy: 53569.26636154183, actual: 57736.46\n",
      "Predicted buy: 53569.26636154183, actual: 57301.81\n",
      "Predicted buy: 53569.26636154183, actual: 57455.0\n",
      "Predicted buy: 53569.26636154183, actual: 56700.0\n",
      "Predicted buy: 53569.26636154183, actual: 56849.75\n",
      "Predicted buy: 53569.26636154183, actual: 55516.85\n",
      "Predicted buy: 53569.26636154183, actual: 53400.0\n",
      "stop_loss = 48407.06203292374\n",
      "Bought BTC by 53569.26636154183 at 2021-05-10 20:05:00+00:00\n"
     ]
    },
    {
     "name": "stderr",
     "output_type": "stream",
     "text": [
      "/home/olga/PycharmProjects/backtesting/venv/lib/python3.8/site-packages/statsmodels/tsa/deterministic.py:147: UserWarning: Only PeriodIndexes, DatetimeIndexes with a frequency set, RangesIndexes, and Int64Indexes with a unit increment support extending. The index is set will contain the position relative to the data length.\n",
      "  warnings.warn(\n"
     ]
    },
    {
     "name": "stdout",
     "output_type": "stream",
     "text": [
      "Predicted sell: 59433.97139404371, actual: 59444.9\n",
      "Sold BTC by 59433.97139404371 at 2021-05-10 03:34:00+00:00\n",
      "\t\tSimulating 2021-05-10 02:00:00+00:00 day....\n"
     ]
    },
    {
     "name": "stderr",
     "output_type": "stream",
     "text": [
      "/home/olga/PycharmProjects/backtesting/venv/lib/python3.8/site-packages/statsmodels/tsa/deterministic.py:147: UserWarning: Only PeriodIndexes, DatetimeIndexes with a frequency set, RangesIndexes, and Int64Indexes with a unit increment support extending. The index is set will contain the position relative to the data length.\n",
      "  warnings.warn(\n"
     ]
    },
    {
     "name": "stdout",
     "output_type": "stream",
     "text": [
      "Predicted buy: 53569.26636154183, actual: 58650.39\n",
      "Predicted buy: 53569.26636154183, actual: 58680.26\n",
      "Predicted buy: 53569.26636154183, actual: 58355.79\n",
      "Predicted buy: 53569.26636154183, actual: 57736.46\n",
      "Predicted buy: 53569.26636154183, actual: 57301.81\n",
      "Predicted buy: 53569.26636154183, actual: 57455.0\n",
      "Predicted buy: 53569.26636154183, actual: 56700.0\n",
      "Predicted buy: 53569.26636154183, actual: 56849.75\n",
      "Predicted buy: 53569.26636154183, actual: 55516.85\n",
      "Predicted buy: 53569.26636154183, actual: 53400.0\n",
      "stop_loss = 48407.06203292374\n",
      "Bought BTC by 53569.26636154183 at 2021-05-10 20:05:00+00:00\n"
     ]
    },
    {
     "name": "stderr",
     "output_type": "stream",
     "text": [
      "/home/olga/PycharmProjects/backtesting/venv/lib/python3.8/site-packages/statsmodels/tsa/deterministic.py:147: UserWarning: Only PeriodIndexes, DatetimeIndexes with a frequency set, RangesIndexes, and Int64Indexes with a unit increment support extending. The index is set will contain the position relative to the data length.\n",
      "  warnings.warn(\n"
     ]
    },
    {
     "name": "stdout",
     "output_type": "stream",
     "text": [
      "Predicted sell: 59433.97139404371, actual: 59444.9\n",
      "Sold BTC by 59433.97139404371 at 2021-05-10 03:34:00+00:00\n",
      "\t\tSimulating 2021-05-10 02:00:00+00:00 day....\n"
     ]
    },
    {
     "name": "stderr",
     "output_type": "stream",
     "text": [
      "/home/olga/PycharmProjects/backtesting/venv/lib/python3.8/site-packages/statsmodels/tsa/deterministic.py:147: UserWarning: Only PeriodIndexes, DatetimeIndexes with a frequency set, RangesIndexes, and Int64Indexes with a unit increment support extending. The index is set will contain the position relative to the data length.\n",
      "  warnings.warn(\n"
     ]
    },
    {
     "name": "stdout",
     "output_type": "stream",
     "text": [
      "Predicted buy: 53569.26636154183, actual: 58650.39\n",
      "Predicted buy: 53569.26636154183, actual: 58680.26\n",
      "Predicted buy: 53569.26636154183, actual: 58355.79\n",
      "Predicted buy: 53569.26636154183, actual: 57736.46\n",
      "Predicted buy: 53569.26636154183, actual: 57301.81\n",
      "Predicted buy: 53569.26636154183, actual: 57455.0\n",
      "Predicted buy: 53569.26636154183, actual: 56700.0\n",
      "Predicted buy: 53569.26636154183, actual: 56849.75\n",
      "Predicted buy: 53569.26636154183, actual: 55516.85\n",
      "Predicted buy: 53569.26636154183, actual: 53400.0\n",
      "stop_loss = 48407.06203292374\n",
      "Bought BTC by 53569.26636154183 at 2021-05-10 20:05:00+00:00\n"
     ]
    },
    {
     "name": "stderr",
     "output_type": "stream",
     "text": [
      "/home/olga/PycharmProjects/backtesting/venv/lib/python3.8/site-packages/statsmodels/tsa/deterministic.py:147: UserWarning: Only PeriodIndexes, DatetimeIndexes with a frequency set, RangesIndexes, and Int64Indexes with a unit increment support extending. The index is set will contain the position relative to the data length.\n",
      "  warnings.warn(\n"
     ]
    },
    {
     "name": "stdout",
     "output_type": "stream",
     "text": [
      "Predicted sell: 59433.97139404371, actual: 59444.9\n",
      "Sold BTC by 59433.97139404371 at 2021-05-10 03:34:00+00:00\n",
      "\t\tSimulating 2021-05-10 02:00:00+00:00 day....\n"
     ]
    },
    {
     "name": "stderr",
     "output_type": "stream",
     "text": [
      "/home/olga/PycharmProjects/backtesting/venv/lib/python3.8/site-packages/statsmodels/tsa/deterministic.py:147: UserWarning: Only PeriodIndexes, DatetimeIndexes with a frequency set, RangesIndexes, and Int64Indexes with a unit increment support extending. The index is set will contain the position relative to the data length.\n",
      "  warnings.warn(\n"
     ]
    },
    {
     "name": "stdout",
     "output_type": "stream",
     "text": [
      "Predicted buy: 53569.26636154183, actual: 58650.39\n",
      "Predicted buy: 53569.26636154183, actual: 58680.26\n",
      "Predicted buy: 53569.26636154183, actual: 58355.79\n",
      "Predicted buy: 53569.26636154183, actual: 57736.46\n",
      "Predicted buy: 53569.26636154183, actual: 57301.81\n",
      "Predicted buy: 53569.26636154183, actual: 57455.0\n",
      "Predicted buy: 53569.26636154183, actual: 56700.0\n",
      "Predicted buy: 53569.26636154183, actual: 56849.75\n",
      "Predicted buy: 53569.26636154183, actual: 55516.85\n",
      "Predicted buy: 53569.26636154183, actual: 53400.0\n",
      "stop_loss = 48407.06203292374\n",
      "Bought BTC by 53569.26636154183 at 2021-05-10 20:05:00+00:00\n"
     ]
    },
    {
     "name": "stderr",
     "output_type": "stream",
     "text": [
      "/home/olga/PycharmProjects/backtesting/venv/lib/python3.8/site-packages/statsmodels/tsa/deterministic.py:147: UserWarning: Only PeriodIndexes, DatetimeIndexes with a frequency set, RangesIndexes, and Int64Indexes with a unit increment support extending. The index is set will contain the position relative to the data length.\n",
      "  warnings.warn(\n"
     ]
    },
    {
     "name": "stdout",
     "output_type": "stream",
     "text": [
      "Predicted sell: 59433.97139404371, actual: 59444.9\n",
      "Sold BTC by 59433.97139404371 at 2021-05-10 03:34:00+00:00\n",
      "\t\tSimulating 2021-05-10 02:00:00+00:00 day....\n"
     ]
    },
    {
     "name": "stderr",
     "output_type": "stream",
     "text": [
      "/home/olga/PycharmProjects/backtesting/venv/lib/python3.8/site-packages/statsmodels/tsa/deterministic.py:147: UserWarning: Only PeriodIndexes, DatetimeIndexes with a frequency set, RangesIndexes, and Int64Indexes with a unit increment support extending. The index is set will contain the position relative to the data length.\n",
      "  warnings.warn(\n"
     ]
    },
    {
     "name": "stdout",
     "output_type": "stream",
     "text": [
      "Predicted buy: 53569.26636154183, actual: 58650.39\n",
      "Predicted buy: 53569.26636154183, actual: 58680.26\n",
      "Predicted buy: 53569.26636154183, actual: 58355.79\n",
      "Predicted buy: 53569.26636154183, actual: 57736.46\n",
      "Predicted buy: 53569.26636154183, actual: 57301.81\n",
      "Predicted buy: 53569.26636154183, actual: 57455.0\n",
      "Predicted buy: 53569.26636154183, actual: 56700.0\n",
      "Predicted buy: 53569.26636154183, actual: 56849.75\n",
      "Predicted buy: 53569.26636154183, actual: 55516.85\n",
      "Predicted buy: 53569.26636154183, actual: 53400.0\n",
      "stop_loss = 48407.06203292374\n",
      "Bought BTC by 53569.26636154183 at 2021-05-10 20:05:00+00:00\n"
     ]
    },
    {
     "name": "stderr",
     "output_type": "stream",
     "text": [
      "/home/olga/PycharmProjects/backtesting/venv/lib/python3.8/site-packages/statsmodels/tsa/deterministic.py:147: UserWarning: Only PeriodIndexes, DatetimeIndexes with a frequency set, RangesIndexes, and Int64Indexes with a unit increment support extending. The index is set will contain the position relative to the data length.\n",
      "  warnings.warn(\n"
     ]
    },
    {
     "name": "stdout",
     "output_type": "stream",
     "text": [
      "Predicted sell: 59433.97139404371, actual: 59444.9\n",
      "Sold BTC by 59433.97139404371 at 2021-05-10 03:34:00+00:00\n",
      "\t\tSimulating 2021-05-10 02:00:00+00:00 day....\n"
     ]
    },
    {
     "name": "stderr",
     "output_type": "stream",
     "text": [
      "/home/olga/PycharmProjects/backtesting/venv/lib/python3.8/site-packages/statsmodels/tsa/deterministic.py:147: UserWarning: Only PeriodIndexes, DatetimeIndexes with a frequency set, RangesIndexes, and Int64Indexes with a unit increment support extending. The index is set will contain the position relative to the data length.\n",
      "  warnings.warn(\n"
     ]
    },
    {
     "name": "stdout",
     "output_type": "stream",
     "text": [
      "Predicted buy: 53569.26636154183, actual: 58650.39\n",
      "Predicted buy: 53569.26636154183, actual: 58680.26\n",
      "Predicted buy: 53569.26636154183, actual: 58355.79\n",
      "Predicted buy: 53569.26636154183, actual: 57736.46\n",
      "Predicted buy: 53569.26636154183, actual: 57301.81\n",
      "Predicted buy: 53569.26636154183, actual: 57455.0\n",
      "Predicted buy: 53569.26636154183, actual: 56700.0\n",
      "Predicted buy: 53569.26636154183, actual: 56849.75\n",
      "Predicted buy: 53569.26636154183, actual: 55516.85\n",
      "Predicted buy: 53569.26636154183, actual: 53400.0\n",
      "stop_loss = 48407.06203292374\n",
      "Bought BTC by 53569.26636154183 at 2021-05-10 20:05:00+00:00\n"
     ]
    },
    {
     "name": "stderr",
     "output_type": "stream",
     "text": [
      "/home/olga/PycharmProjects/backtesting/venv/lib/python3.8/site-packages/statsmodels/tsa/deterministic.py:147: UserWarning: Only PeriodIndexes, DatetimeIndexes with a frequency set, RangesIndexes, and Int64Indexes with a unit increment support extending. The index is set will contain the position relative to the data length.\n",
      "  warnings.warn(\n"
     ]
    },
    {
     "name": "stdout",
     "output_type": "stream",
     "text": [
      "Predicted sell: 59433.97139404371, actual: 59444.9\n",
      "Sold BTC by 59433.97139404371 at 2021-05-10 03:34:00+00:00\n",
      "\t\tSimulating 2021-05-10 02:00:00+00:00 day....\n"
     ]
    },
    {
     "name": "stderr",
     "output_type": "stream",
     "text": [
      "/home/olga/PycharmProjects/backtesting/venv/lib/python3.8/site-packages/statsmodels/tsa/deterministic.py:147: UserWarning: Only PeriodIndexes, DatetimeIndexes with a frequency set, RangesIndexes, and Int64Indexes with a unit increment support extending. The index is set will contain the position relative to the data length.\n",
      "  warnings.warn(\n"
     ]
    },
    {
     "name": "stdout",
     "output_type": "stream",
     "text": [
      "Predicted buy: 53569.26636154183, actual: 58650.39\n",
      "Predicted buy: 53569.26636154183, actual: 58680.26\n",
      "Predicted buy: 53569.26636154183, actual: 58355.79\n",
      "Predicted buy: 53569.26636154183, actual: 57736.46\n",
      "Predicted buy: 53569.26636154183, actual: 57301.81\n",
      "Predicted buy: 53569.26636154183, actual: 57455.0\n",
      "Predicted buy: 53569.26636154183, actual: 56700.0\n",
      "Predicted buy: 53569.26636154183, actual: 56849.75\n",
      "Predicted buy: 53569.26636154183, actual: 55516.85\n",
      "Predicted buy: 53569.26636154183, actual: 53400.0\n",
      "stop_loss = 48407.06203292374\n",
      "Bought BTC by 53569.26636154183 at 2021-05-10 20:05:00+00:00\n"
     ]
    },
    {
     "name": "stderr",
     "output_type": "stream",
     "text": [
      "/home/olga/PycharmProjects/backtesting/venv/lib/python3.8/site-packages/statsmodels/tsa/deterministic.py:147: UserWarning: Only PeriodIndexes, DatetimeIndexes with a frequency set, RangesIndexes, and Int64Indexes with a unit increment support extending. The index is set will contain the position relative to the data length.\n",
      "  warnings.warn(\n"
     ]
    },
    {
     "name": "stdout",
     "output_type": "stream",
     "text": [
      "Predicted sell: 59433.97139404371, actual: 59444.9\n",
      "Sold BTC by 59433.97139404371 at 2021-05-10 03:34:00+00:00\n",
      "\t\tSimulating 2021-05-10 02:00:00+00:00 day....\n"
     ]
    },
    {
     "name": "stderr",
     "output_type": "stream",
     "text": [
      "/home/olga/PycharmProjects/backtesting/venv/lib/python3.8/site-packages/statsmodels/tsa/deterministic.py:147: UserWarning: Only PeriodIndexes, DatetimeIndexes with a frequency set, RangesIndexes, and Int64Indexes with a unit increment support extending. The index is set will contain the position relative to the data length.\n",
      "  warnings.warn(\n"
     ]
    },
    {
     "name": "stdout",
     "output_type": "stream",
     "text": [
      "Predicted buy: 53569.26636154183, actual: 58650.39\n",
      "Predicted buy: 53569.26636154183, actual: 58680.26\n",
      "Predicted buy: 53569.26636154183, actual: 58355.79\n",
      "Predicted buy: 53569.26636154183, actual: 57736.46\n",
      "Predicted buy: 53569.26636154183, actual: 57301.81\n",
      "Predicted buy: 53569.26636154183, actual: 57455.0\n",
      "Predicted buy: 53569.26636154183, actual: 56700.0\n",
      "Predicted buy: 53569.26636154183, actual: 56849.75\n",
      "Predicted buy: 53569.26636154183, actual: 55516.85\n",
      "Predicted buy: 53569.26636154183, actual: 53400.0\n",
      "stop_loss = 48407.06203292374\n",
      "Bought BTC by 53569.26636154183 at 2021-05-10 20:05:00+00:00\n"
     ]
    },
    {
     "name": "stderr",
     "output_type": "stream",
     "text": [
      "/home/olga/PycharmProjects/backtesting/venv/lib/python3.8/site-packages/statsmodels/tsa/deterministic.py:147: UserWarning: Only PeriodIndexes, DatetimeIndexes with a frequency set, RangesIndexes, and Int64Indexes with a unit increment support extending. The index is set will contain the position relative to the data length.\n",
      "  warnings.warn(\n"
     ]
    },
    {
     "name": "stdout",
     "output_type": "stream",
     "text": [
      "Predicted sell: 59433.97139404371, actual: 59444.9\n",
      "Sold BTC by 59433.97139404371 at 2021-05-10 03:34:00+00:00\n",
      "\t\tSimulating 2021-05-10 02:00:00+00:00 day....\n"
     ]
    },
    {
     "name": "stderr",
     "output_type": "stream",
     "text": [
      "/home/olga/PycharmProjects/backtesting/venv/lib/python3.8/site-packages/statsmodels/tsa/deterministic.py:147: UserWarning: Only PeriodIndexes, DatetimeIndexes with a frequency set, RangesIndexes, and Int64Indexes with a unit increment support extending. The index is set will contain the position relative to the data length.\n",
      "  warnings.warn(\n"
     ]
    },
    {
     "name": "stdout",
     "output_type": "stream",
     "text": [
      "Predicted buy: 53569.26636154183, actual: 58650.39\n",
      "Predicted buy: 53569.26636154183, actual: 58680.26\n",
      "Predicted buy: 53569.26636154183, actual: 58355.79\n",
      "Predicted buy: 53569.26636154183, actual: 57736.46\n",
      "Predicted buy: 53569.26636154183, actual: 57301.81\n",
      "Predicted buy: 53569.26636154183, actual: 57455.0\n",
      "Predicted buy: 53569.26636154183, actual: 56700.0\n",
      "Predicted buy: 53569.26636154183, actual: 56849.75\n",
      "Predicted buy: 53569.26636154183, actual: 55516.85\n",
      "Predicted buy: 53569.26636154183, actual: 53400.0\n",
      "stop_loss = 48407.06203292374\n",
      "Bought BTC by 53569.26636154183 at 2021-05-10 20:05:00+00:00\n"
     ]
    },
    {
     "name": "stderr",
     "output_type": "stream",
     "text": [
      "/home/olga/PycharmProjects/backtesting/venv/lib/python3.8/site-packages/statsmodels/tsa/deterministic.py:147: UserWarning: Only PeriodIndexes, DatetimeIndexes with a frequency set, RangesIndexes, and Int64Indexes with a unit increment support extending. The index is set will contain the position relative to the data length.\n",
      "  warnings.warn(\n"
     ]
    },
    {
     "name": "stdout",
     "output_type": "stream",
     "text": [
      "Predicted sell: 59433.97139404371, actual: 59444.9\n",
      "Sold BTC by 59433.97139404371 at 2021-05-10 03:34:00+00:00\n",
      "\t\tSimulating 2021-05-10 02:00:00+00:00 day....\n"
     ]
    },
    {
     "name": "stderr",
     "output_type": "stream",
     "text": [
      "/home/olga/PycharmProjects/backtesting/venv/lib/python3.8/site-packages/statsmodels/tsa/deterministic.py:147: UserWarning: Only PeriodIndexes, DatetimeIndexes with a frequency set, RangesIndexes, and Int64Indexes with a unit increment support extending. The index is set will contain the position relative to the data length.\n",
      "  warnings.warn(\n"
     ]
    },
    {
     "name": "stdout",
     "output_type": "stream",
     "text": [
      "Predicted buy: 53569.26636154183, actual: 58650.39\n",
      "Predicted buy: 53569.26636154183, actual: 58680.26\n",
      "Predicted buy: 53569.26636154183, actual: 58355.79\n",
      "Predicted buy: 53569.26636154183, actual: 57736.46\n",
      "Predicted buy: 53569.26636154183, actual: 57301.81\n",
      "Predicted buy: 53569.26636154183, actual: 57455.0\n",
      "Predicted buy: 53569.26636154183, actual: 56700.0\n",
      "Predicted buy: 53569.26636154183, actual: 56849.75\n",
      "Predicted buy: 53569.26636154183, actual: 55516.85\n",
      "Predicted buy: 53569.26636154183, actual: 53400.0\n",
      "stop_loss = 48407.06203292374\n",
      "Bought BTC by 53569.26636154183 at 2021-05-10 20:05:00+00:00\n"
     ]
    },
    {
     "name": "stderr",
     "output_type": "stream",
     "text": [
      "/home/olga/PycharmProjects/backtesting/venv/lib/python3.8/site-packages/statsmodels/tsa/deterministic.py:147: UserWarning: Only PeriodIndexes, DatetimeIndexes with a frequency set, RangesIndexes, and Int64Indexes with a unit increment support extending. The index is set will contain the position relative to the data length.\n",
      "  warnings.warn(\n"
     ]
    },
    {
     "name": "stdout",
     "output_type": "stream",
     "text": [
      "Predicted sell: 59433.97139404371, actual: 59444.9\n",
      "Sold BTC by 59433.97139404371 at 2021-05-10 03:34:00+00:00\n",
      "\t\tSimulating 2021-05-10 02:00:00+00:00 day....\n"
     ]
    },
    {
     "name": "stderr",
     "output_type": "stream",
     "text": [
      "/home/olga/PycharmProjects/backtesting/venv/lib/python3.8/site-packages/statsmodels/tsa/deterministic.py:147: UserWarning: Only PeriodIndexes, DatetimeIndexes with a frequency set, RangesIndexes, and Int64Indexes with a unit increment support extending. The index is set will contain the position relative to the data length.\n",
      "  warnings.warn(\n"
     ]
    },
    {
     "name": "stdout",
     "output_type": "stream",
     "text": [
      "Predicted buy: 53569.26636154183, actual: 58650.39\n",
      "Predicted buy: 53569.26636154183, actual: 58680.26\n",
      "Predicted buy: 53569.26636154183, actual: 58355.79\n",
      "Predicted buy: 53569.26636154183, actual: 57736.46\n",
      "Predicted buy: 53569.26636154183, actual: 57301.81\n",
      "Predicted buy: 53569.26636154183, actual: 57455.0\n",
      "Predicted buy: 53569.26636154183, actual: 56700.0\n",
      "Predicted buy: 53569.26636154183, actual: 56849.75\n",
      "Predicted buy: 53569.26636154183, actual: 55516.85\n",
      "Predicted buy: 53569.26636154183, actual: 53400.0\n",
      "stop_loss = 48407.06203292374\n",
      "Bought BTC by 53569.26636154183 at 2021-05-10 20:05:00+00:00\n"
     ]
    },
    {
     "name": "stderr",
     "output_type": "stream",
     "text": [
      "/home/olga/PycharmProjects/backtesting/venv/lib/python3.8/site-packages/statsmodels/tsa/deterministic.py:147: UserWarning: Only PeriodIndexes, DatetimeIndexes with a frequency set, RangesIndexes, and Int64Indexes with a unit increment support extending. The index is set will contain the position relative to the data length.\n",
      "  warnings.warn(\n"
     ]
    },
    {
     "name": "stdout",
     "output_type": "stream",
     "text": [
      "Predicted sell: 59433.97139404371, actual: 59444.9\n",
      "Sold BTC by 59433.97139404371 at 2021-05-10 03:34:00+00:00\n",
      "\t\tSimulating 2021-05-10 02:00:00+00:00 day....\n"
     ]
    },
    {
     "name": "stderr",
     "output_type": "stream",
     "text": [
      "/home/olga/PycharmProjects/backtesting/venv/lib/python3.8/site-packages/statsmodels/tsa/deterministic.py:147: UserWarning: Only PeriodIndexes, DatetimeIndexes with a frequency set, RangesIndexes, and Int64Indexes with a unit increment support extending. The index is set will contain the position relative to the data length.\n",
      "  warnings.warn(\n"
     ]
    },
    {
     "name": "stdout",
     "output_type": "stream",
     "text": [
      "Predicted buy: 53569.26636154183, actual: 58650.39\n",
      "Predicted buy: 53569.26636154183, actual: 58680.26\n",
      "Predicted buy: 53569.26636154183, actual: 58355.79\n",
      "Predicted buy: 53569.26636154183, actual: 57736.46\n",
      "Predicted buy: 53569.26636154183, actual: 57301.81\n",
      "Predicted buy: 53569.26636154183, actual: 57455.0\n",
      "Predicted buy: 53569.26636154183, actual: 56700.0\n",
      "Predicted buy: 53569.26636154183, actual: 56849.75\n",
      "Predicted buy: 53569.26636154183, actual: 55516.85\n",
      "Predicted buy: 53569.26636154183, actual: 53400.0\n",
      "stop_loss = 48407.06203292374\n",
      "Bought BTC by 53569.26636154183 at 2021-05-10 20:05:00+00:00\n"
     ]
    },
    {
     "name": "stderr",
     "output_type": "stream",
     "text": [
      "/home/olga/PycharmProjects/backtesting/venv/lib/python3.8/site-packages/statsmodels/tsa/deterministic.py:147: UserWarning: Only PeriodIndexes, DatetimeIndexes with a frequency set, RangesIndexes, and Int64Indexes with a unit increment support extending. The index is set will contain the position relative to the data length.\n",
      "  warnings.warn(\n"
     ]
    },
    {
     "name": "stdout",
     "output_type": "stream",
     "text": [
      "Predicted sell: 59433.97139404371, actual: 59444.9\n",
      "Sold BTC by 59433.97139404371 at 2021-05-10 03:34:00+00:00\n",
      "\t\tSimulating 2021-05-10 02:00:00+00:00 day....\n"
     ]
    },
    {
     "name": "stderr",
     "output_type": "stream",
     "text": [
      "/home/olga/PycharmProjects/backtesting/venv/lib/python3.8/site-packages/statsmodels/tsa/deterministic.py:147: UserWarning: Only PeriodIndexes, DatetimeIndexes with a frequency set, RangesIndexes, and Int64Indexes with a unit increment support extending. The index is set will contain the position relative to the data length.\n",
      "  warnings.warn(\n"
     ]
    },
    {
     "name": "stdout",
     "output_type": "stream",
     "text": [
      "Predicted buy: 53569.26636154183, actual: 58650.39\n",
      "Predicted buy: 53569.26636154183, actual: 58680.26\n",
      "Predicted buy: 53569.26636154183, actual: 58355.79\n",
      "Predicted buy: 53569.26636154183, actual: 57736.46\n",
      "Predicted buy: 53569.26636154183, actual: 57301.81\n",
      "Predicted buy: 53569.26636154183, actual: 57455.0\n",
      "Predicted buy: 53569.26636154183, actual: 56700.0\n",
      "Predicted buy: 53569.26636154183, actual: 56849.75\n",
      "Predicted buy: 53569.26636154183, actual: 55516.85\n",
      "Predicted buy: 53569.26636154183, actual: 53400.0\n",
      "stop_loss = 48407.06203292374\n",
      "Bought BTC by 53569.26636154183 at 2021-05-10 20:05:00+00:00\n"
     ]
    },
    {
     "name": "stderr",
     "output_type": "stream",
     "text": [
      "/home/olga/PycharmProjects/backtesting/venv/lib/python3.8/site-packages/statsmodels/tsa/deterministic.py:147: UserWarning: Only PeriodIndexes, DatetimeIndexes with a frequency set, RangesIndexes, and Int64Indexes with a unit increment support extending. The index is set will contain the position relative to the data length.\n",
      "  warnings.warn(\n"
     ]
    },
    {
     "name": "stdout",
     "output_type": "stream",
     "text": [
      "Predicted sell: 59433.97139404371, actual: 59444.9\n",
      "Sold BTC by 59433.97139404371 at 2021-05-10 03:34:00+00:00\n",
      "\t\tSimulating 2021-05-10 02:00:00+00:00 day....\n"
     ]
    },
    {
     "name": "stderr",
     "output_type": "stream",
     "text": [
      "/home/olga/PycharmProjects/backtesting/venv/lib/python3.8/site-packages/statsmodels/tsa/deterministic.py:147: UserWarning: Only PeriodIndexes, DatetimeIndexes with a frequency set, RangesIndexes, and Int64Indexes with a unit increment support extending. The index is set will contain the position relative to the data length.\n",
      "  warnings.warn(\n"
     ]
    },
    {
     "name": "stdout",
     "output_type": "stream",
     "text": [
      "Predicted buy: 53569.26636154183, actual: 58650.39\n",
      "Predicted buy: 53569.26636154183, actual: 58680.26\n",
      "Predicted buy: 53569.26636154183, actual: 58355.79\n",
      "Predicted buy: 53569.26636154183, actual: 57736.46\n",
      "Predicted buy: 53569.26636154183, actual: 57301.81\n",
      "Predicted buy: 53569.26636154183, actual: 57455.0\n",
      "Predicted buy: 53569.26636154183, actual: 56700.0\n",
      "Predicted buy: 53569.26636154183, actual: 56849.75\n",
      "Predicted buy: 53569.26636154183, actual: 55516.85\n",
      "Predicted buy: 53569.26636154183, actual: 53400.0\n",
      "stop_loss = 48407.06203292374\n",
      "Bought BTC by 53569.26636154183 at 2021-05-10 20:05:00+00:00\n"
     ]
    },
    {
     "name": "stderr",
     "output_type": "stream",
     "text": [
      "/home/olga/PycharmProjects/backtesting/venv/lib/python3.8/site-packages/statsmodels/tsa/deterministic.py:147: UserWarning: Only PeriodIndexes, DatetimeIndexes with a frequency set, RangesIndexes, and Int64Indexes with a unit increment support extending. The index is set will contain the position relative to the data length.\n",
      "  warnings.warn(\n"
     ]
    },
    {
     "name": "stdout",
     "output_type": "stream",
     "text": [
      "Predicted sell: 59433.97139404371, actual: 59444.9\n",
      "Sold BTC by 59433.97139404371 at 2021-05-10 03:34:00+00:00\n",
      "\t\tSimulating 2021-05-10 02:00:00+00:00 day....\n"
     ]
    },
    {
     "name": "stderr",
     "output_type": "stream",
     "text": [
      "/home/olga/PycharmProjects/backtesting/venv/lib/python3.8/site-packages/statsmodels/tsa/deterministic.py:147: UserWarning: Only PeriodIndexes, DatetimeIndexes with a frequency set, RangesIndexes, and Int64Indexes with a unit increment support extending. The index is set will contain the position relative to the data length.\n",
      "  warnings.warn(\n"
     ]
    },
    {
     "name": "stdout",
     "output_type": "stream",
     "text": [
      "Predicted buy: 53569.26636154183, actual: 58650.39\n",
      "Predicted buy: 53569.26636154183, actual: 58680.26\n",
      "Predicted buy: 53569.26636154183, actual: 58355.79\n",
      "Predicted buy: 53569.26636154183, actual: 57736.46\n",
      "Predicted buy: 53569.26636154183, actual: 57301.81\n",
      "Predicted buy: 53569.26636154183, actual: 57455.0\n",
      "Predicted buy: 53569.26636154183, actual: 56700.0\n",
      "Predicted buy: 53569.26636154183, actual: 56849.75\n",
      "Predicted buy: 53569.26636154183, actual: 55516.85\n",
      "Predicted buy: 53569.26636154183, actual: 53400.0\n",
      "stop_loss = 48407.06203292374\n",
      "Bought BTC by 53569.26636154183 at 2021-05-10 20:05:00+00:00\n"
     ]
    },
    {
     "name": "stderr",
     "output_type": "stream",
     "text": [
      "/home/olga/PycharmProjects/backtesting/venv/lib/python3.8/site-packages/statsmodels/tsa/deterministic.py:147: UserWarning: Only PeriodIndexes, DatetimeIndexes with a frequency set, RangesIndexes, and Int64Indexes with a unit increment support extending. The index is set will contain the position relative to the data length.\n",
      "  warnings.warn(\n"
     ]
    },
    {
     "name": "stdout",
     "output_type": "stream",
     "text": [
      "Predicted sell: 59433.97139404371, actual: 59444.9\n",
      "Sold BTC by 59433.97139404371 at 2021-05-10 03:34:00+00:00\n",
      "\t\tSimulating 2021-05-10 02:00:00+00:00 day....\n"
     ]
    },
    {
     "name": "stderr",
     "output_type": "stream",
     "text": [
      "/home/olga/PycharmProjects/backtesting/venv/lib/python3.8/site-packages/statsmodels/tsa/deterministic.py:147: UserWarning: Only PeriodIndexes, DatetimeIndexes with a frequency set, RangesIndexes, and Int64Indexes with a unit increment support extending. The index is set will contain the position relative to the data length.\n",
      "  warnings.warn(\n"
     ]
    },
    {
     "name": "stdout",
     "output_type": "stream",
     "text": [
      "Predicted buy: 53569.26636154183, actual: 58650.39\n",
      "Predicted buy: 53569.26636154183, actual: 58680.26\n",
      "Predicted buy: 53569.26636154183, actual: 58355.79\n",
      "Predicted buy: 53569.26636154183, actual: 57736.46\n",
      "Predicted buy: 53569.26636154183, actual: 57301.81\n",
      "Predicted buy: 53569.26636154183, actual: 57455.0\n",
      "Predicted buy: 53569.26636154183, actual: 56700.0\n",
      "Predicted buy: 53569.26636154183, actual: 56849.75\n",
      "Predicted buy: 53569.26636154183, actual: 55516.85\n",
      "Predicted buy: 53569.26636154183, actual: 53400.0\n",
      "stop_loss = 48407.06203292374\n",
      "Bought BTC by 53569.26636154183 at 2021-05-10 20:05:00+00:00\n"
     ]
    },
    {
     "name": "stderr",
     "output_type": "stream",
     "text": [
      "/home/olga/PycharmProjects/backtesting/venv/lib/python3.8/site-packages/statsmodels/tsa/deterministic.py:147: UserWarning: Only PeriodIndexes, DatetimeIndexes with a frequency set, RangesIndexes, and Int64Indexes with a unit increment support extending. The index is set will contain the position relative to the data length.\n",
      "  warnings.warn(\n"
     ]
    },
    {
     "name": "stdout",
     "output_type": "stream",
     "text": [
      "Predicted sell: 59433.97139404371, actual: 59444.9\n",
      "Sold BTC by 59433.97139404371 at 2021-05-10 03:34:00+00:00\n",
      "\t\tSimulating 2021-05-10 02:00:00+00:00 day....\n"
     ]
    },
    {
     "name": "stderr",
     "output_type": "stream",
     "text": [
      "/home/olga/PycharmProjects/backtesting/venv/lib/python3.8/site-packages/statsmodels/tsa/deterministic.py:147: UserWarning: Only PeriodIndexes, DatetimeIndexes with a frequency set, RangesIndexes, and Int64Indexes with a unit increment support extending. The index is set will contain the position relative to the data length.\n",
      "  warnings.warn(\n"
     ]
    },
    {
     "name": "stdout",
     "output_type": "stream",
     "text": [
      "Predicted buy: 53569.26636154183, actual: 58650.39\n",
      "Predicted buy: 53569.26636154183, actual: 58680.26\n",
      "Predicted buy: 53569.26636154183, actual: 58355.79\n",
      "Predicted buy: 53569.26636154183, actual: 57736.46\n",
      "Predicted buy: 53569.26636154183, actual: 57301.81\n",
      "Predicted buy: 53569.26636154183, actual: 57455.0\n",
      "Predicted buy: 53569.26636154183, actual: 56700.0\n",
      "Predicted buy: 53569.26636154183, actual: 56849.75\n",
      "Predicted buy: 53569.26636154183, actual: 55516.85\n",
      "Predicted buy: 53569.26636154183, actual: 53400.0\n",
      "stop_loss = 48407.06203292374\n",
      "Bought BTC by 53569.26636154183 at 2021-05-10 20:05:00+00:00\n"
     ]
    },
    {
     "name": "stderr",
     "output_type": "stream",
     "text": [
      "/home/olga/PycharmProjects/backtesting/venv/lib/python3.8/site-packages/statsmodels/tsa/deterministic.py:147: UserWarning: Only PeriodIndexes, DatetimeIndexes with a frequency set, RangesIndexes, and Int64Indexes with a unit increment support extending. The index is set will contain the position relative to the data length.\n",
      "  warnings.warn(\n"
     ]
    },
    {
     "name": "stdout",
     "output_type": "stream",
     "text": [
      "Predicted sell: 59433.97139404371, actual: 59444.9\n",
      "Sold BTC by 59433.97139404371 at 2021-05-10 03:34:00+00:00\n",
      "\t\tSimulating 2021-05-10 02:00:00+00:00 day....\n"
     ]
    },
    {
     "name": "stderr",
     "output_type": "stream",
     "text": [
      "/home/olga/PycharmProjects/backtesting/venv/lib/python3.8/site-packages/statsmodels/tsa/deterministic.py:147: UserWarning: Only PeriodIndexes, DatetimeIndexes with a frequency set, RangesIndexes, and Int64Indexes with a unit increment support extending. The index is set will contain the position relative to the data length.\n",
      "  warnings.warn(\n"
     ]
    },
    {
     "name": "stdout",
     "output_type": "stream",
     "text": [
      "Predicted buy: 53569.26636154183, actual: 58650.39\n",
      "Predicted buy: 53569.26636154183, actual: 58680.26\n",
      "Predicted buy: 53569.26636154183, actual: 58355.79\n",
      "Predicted buy: 53569.26636154183, actual: 57736.46\n",
      "Predicted buy: 53569.26636154183, actual: 57301.81\n",
      "Predicted buy: 53569.26636154183, actual: 57455.0\n",
      "Predicted buy: 53569.26636154183, actual: 56700.0\n",
      "Predicted buy: 53569.26636154183, actual: 56849.75\n",
      "Predicted buy: 53569.26636154183, actual: 55516.85\n",
      "Predicted buy: 53569.26636154183, actual: 53400.0\n",
      "stop_loss = 48407.06203292374\n",
      "Bought BTC by 53569.26636154183 at 2021-05-10 20:05:00+00:00\n"
     ]
    },
    {
     "name": "stderr",
     "output_type": "stream",
     "text": [
      "/home/olga/PycharmProjects/backtesting/venv/lib/python3.8/site-packages/statsmodels/tsa/deterministic.py:147: UserWarning: Only PeriodIndexes, DatetimeIndexes with a frequency set, RangesIndexes, and Int64Indexes with a unit increment support extending. The index is set will contain the position relative to the data length.\n",
      "  warnings.warn(\n"
     ]
    },
    {
     "name": "stdout",
     "output_type": "stream",
     "text": [
      "Predicted sell: 59433.97139404371, actual: 59444.9\n",
      "Sold BTC by 59433.97139404371 at 2021-05-10 03:34:00+00:00\n",
      "\t\tSimulating 2021-05-10 02:00:00+00:00 day....\n"
     ]
    },
    {
     "name": "stderr",
     "output_type": "stream",
     "text": [
      "/home/olga/PycharmProjects/backtesting/venv/lib/python3.8/site-packages/statsmodels/tsa/deterministic.py:147: UserWarning: Only PeriodIndexes, DatetimeIndexes with a frequency set, RangesIndexes, and Int64Indexes with a unit increment support extending. The index is set will contain the position relative to the data length.\n",
      "  warnings.warn(\n"
     ]
    },
    {
     "name": "stdout",
     "output_type": "stream",
     "text": [
      "Predicted buy: 53569.26636154183, actual: 58650.39\n",
      "Predicted buy: 53569.26636154183, actual: 58680.26\n",
      "Predicted buy: 53569.26636154183, actual: 58355.79\n",
      "Predicted buy: 53569.26636154183, actual: 57736.46\n",
      "Predicted buy: 53569.26636154183, actual: 57301.81\n",
      "Predicted buy: 53569.26636154183, actual: 57455.0\n",
      "Predicted buy: 53569.26636154183, actual: 56700.0\n",
      "Predicted buy: 53569.26636154183, actual: 56849.75\n",
      "Predicted buy: 53569.26636154183, actual: 55516.85\n",
      "Predicted buy: 53569.26636154183, actual: 53400.0\n",
      "stop_loss = 48407.06203292374\n",
      "Bought BTC by 53569.26636154183 at 2021-05-10 20:05:00+00:00\n"
     ]
    },
    {
     "name": "stderr",
     "output_type": "stream",
     "text": [
      "/home/olga/PycharmProjects/backtesting/venv/lib/python3.8/site-packages/statsmodels/tsa/deterministic.py:147: UserWarning: Only PeriodIndexes, DatetimeIndexes with a frequency set, RangesIndexes, and Int64Indexes with a unit increment support extending. The index is set will contain the position relative to the data length.\n",
      "  warnings.warn(\n"
     ]
    },
    {
     "name": "stdout",
     "output_type": "stream",
     "text": [
      "Predicted sell: 59433.97139404371, actual: 59444.9\n",
      "Sold BTC by 59433.97139404371 at 2021-05-10 03:34:00+00:00\n",
      "\t\tSimulating 2021-05-10 02:00:00+00:00 day....\n"
     ]
    },
    {
     "name": "stderr",
     "output_type": "stream",
     "text": [
      "/home/olga/PycharmProjects/backtesting/venv/lib/python3.8/site-packages/statsmodels/tsa/deterministic.py:147: UserWarning: Only PeriodIndexes, DatetimeIndexes with a frequency set, RangesIndexes, and Int64Indexes with a unit increment support extending. The index is set will contain the position relative to the data length.\n",
      "  warnings.warn(\n"
     ]
    },
    {
     "name": "stdout",
     "output_type": "stream",
     "text": [
      "Predicted buy: 53569.26636154183, actual: 58650.39\n",
      "Predicted buy: 53569.26636154183, actual: 58680.26\n",
      "Predicted buy: 53569.26636154183, actual: 58355.79\n",
      "Predicted buy: 53569.26636154183, actual: 57736.46\n",
      "Predicted buy: 53569.26636154183, actual: 57301.81\n",
      "Predicted buy: 53569.26636154183, actual: 57455.0\n",
      "Predicted buy: 53569.26636154183, actual: 56700.0\n",
      "Predicted buy: 53569.26636154183, actual: 56849.75\n",
      "Predicted buy: 53569.26636154183, actual: 55516.85\n",
      "Predicted buy: 53569.26636154183, actual: 53400.0\n",
      "stop_loss = 48407.06203292374\n",
      "Bought BTC by 53569.26636154183 at 2021-05-10 20:05:00+00:00\n"
     ]
    },
    {
     "name": "stderr",
     "output_type": "stream",
     "text": [
      "/home/olga/PycharmProjects/backtesting/venv/lib/python3.8/site-packages/statsmodels/tsa/deterministic.py:147: UserWarning: Only PeriodIndexes, DatetimeIndexes with a frequency set, RangesIndexes, and Int64Indexes with a unit increment support extending. The index is set will contain the position relative to the data length.\n",
      "  warnings.warn(\n"
     ]
    },
    {
     "name": "stdout",
     "output_type": "stream",
     "text": [
      "Predicted sell: 59433.97139404371, actual: 59444.9\n",
      "Sold BTC by 59433.97139404371 at 2021-05-10 03:34:00+00:00\n",
      "\t\tSimulating 2021-05-10 02:00:00+00:00 day....\n"
     ]
    },
    {
     "name": "stderr",
     "output_type": "stream",
     "text": [
      "/home/olga/PycharmProjects/backtesting/venv/lib/python3.8/site-packages/statsmodels/tsa/deterministic.py:147: UserWarning: Only PeriodIndexes, DatetimeIndexes with a frequency set, RangesIndexes, and Int64Indexes with a unit increment support extending. The index is set will contain the position relative to the data length.\n",
      "  warnings.warn(\n"
     ]
    },
    {
     "name": "stdout",
     "output_type": "stream",
     "text": [
      "Predicted buy: 53569.26636154183, actual: 58650.39\n",
      "Predicted buy: 53569.26636154183, actual: 58680.26\n",
      "Predicted buy: 53569.26636154183, actual: 58355.79\n",
      "Predicted buy: 53569.26636154183, actual: 57736.46\n",
      "Predicted buy: 53569.26636154183, actual: 57301.81\n",
      "Predicted buy: 53569.26636154183, actual: 57455.0\n",
      "Predicted buy: 53569.26636154183, actual: 56700.0\n",
      "Predicted buy: 53569.26636154183, actual: 56849.75\n",
      "Predicted buy: 53569.26636154183, actual: 55516.85\n",
      "Predicted buy: 53569.26636154183, actual: 53400.0\n",
      "stop_loss = 48407.06203292374\n",
      "Bought BTC by 53569.26636154183 at 2021-05-10 20:05:00+00:00\n"
     ]
    },
    {
     "name": "stderr",
     "output_type": "stream",
     "text": [
      "/home/olga/PycharmProjects/backtesting/venv/lib/python3.8/site-packages/statsmodels/tsa/deterministic.py:147: UserWarning: Only PeriodIndexes, DatetimeIndexes with a frequency set, RangesIndexes, and Int64Indexes with a unit increment support extending. The index is set will contain the position relative to the data length.\n",
      "  warnings.warn(\n"
     ]
    },
    {
     "name": "stdout",
     "output_type": "stream",
     "text": [
      "Predicted sell: 59433.97139404371, actual: 59444.9\n",
      "Sold BTC by 59433.97139404371 at 2021-05-10 03:34:00+00:00\n",
      "\t\tSimulating 2021-05-10 02:00:00+00:00 day....\n"
     ]
    },
    {
     "name": "stderr",
     "output_type": "stream",
     "text": [
      "/home/olga/PycharmProjects/backtesting/venv/lib/python3.8/site-packages/statsmodels/tsa/deterministic.py:147: UserWarning: Only PeriodIndexes, DatetimeIndexes with a frequency set, RangesIndexes, and Int64Indexes with a unit increment support extending. The index is set will contain the position relative to the data length.\n",
      "  warnings.warn(\n"
     ]
    },
    {
     "name": "stdout",
     "output_type": "stream",
     "text": [
      "Predicted buy: 53569.26636154183, actual: 58650.39\n",
      "Predicted buy: 53569.26636154183, actual: 58680.26\n",
      "Predicted buy: 53569.26636154183, actual: 58355.79\n",
      "Predicted buy: 53569.26636154183, actual: 57736.46\n",
      "Predicted buy: 53569.26636154183, actual: 57301.81\n",
      "Predicted buy: 53569.26636154183, actual: 57455.0\n",
      "Predicted buy: 53569.26636154183, actual: 56700.0\n",
      "Predicted buy: 53569.26636154183, actual: 56849.75\n",
      "Predicted buy: 53569.26636154183, actual: 55516.85\n",
      "Predicted buy: 53569.26636154183, actual: 53400.0\n",
      "stop_loss = 48407.06203292374\n",
      "Bought BTC by 53569.26636154183 at 2021-05-10 20:05:00+00:00\n"
     ]
    },
    {
     "name": "stderr",
     "output_type": "stream",
     "text": [
      "/home/olga/PycharmProjects/backtesting/venv/lib/python3.8/site-packages/statsmodels/tsa/deterministic.py:147: UserWarning: Only PeriodIndexes, DatetimeIndexes with a frequency set, RangesIndexes, and Int64Indexes with a unit increment support extending. The index is set will contain the position relative to the data length.\n",
      "  warnings.warn(\n"
     ]
    },
    {
     "name": "stdout",
     "output_type": "stream",
     "text": [
      "Predicted sell: 59433.97139404371, actual: 59444.9\n",
      "Sold BTC by 59433.97139404371 at 2021-05-10 03:34:00+00:00\n",
      "\t\tSimulating 2021-05-10 02:00:00+00:00 day....\n"
     ]
    },
    {
     "name": "stderr",
     "output_type": "stream",
     "text": [
      "/home/olga/PycharmProjects/backtesting/venv/lib/python3.8/site-packages/statsmodels/tsa/deterministic.py:147: UserWarning: Only PeriodIndexes, DatetimeIndexes with a frequency set, RangesIndexes, and Int64Indexes with a unit increment support extending. The index is set will contain the position relative to the data length.\n",
      "  warnings.warn(\n"
     ]
    },
    {
     "name": "stdout",
     "output_type": "stream",
     "text": [
      "Predicted buy: 53569.26636154183, actual: 58650.39\n",
      "Predicted buy: 53569.26636154183, actual: 58680.26\n",
      "Predicted buy: 53569.26636154183, actual: 58355.79\n",
      "Predicted buy: 53569.26636154183, actual: 57736.46\n",
      "Predicted buy: 53569.26636154183, actual: 57301.81\n",
      "Predicted buy: 53569.26636154183, actual: 57455.0\n",
      "Predicted buy: 53569.26636154183, actual: 56700.0\n",
      "Predicted buy: 53569.26636154183, actual: 56849.75\n",
      "Predicted buy: 53569.26636154183, actual: 55516.85\n",
      "Predicted buy: 53569.26636154183, actual: 53400.0\n",
      "stop_loss = 48407.06203292374\n",
      "Bought BTC by 53569.26636154183 at 2021-05-10 20:05:00+00:00\n"
     ]
    },
    {
     "name": "stderr",
     "output_type": "stream",
     "text": [
      "/home/olga/PycharmProjects/backtesting/venv/lib/python3.8/site-packages/statsmodels/tsa/deterministic.py:147: UserWarning: Only PeriodIndexes, DatetimeIndexes with a frequency set, RangesIndexes, and Int64Indexes with a unit increment support extending. The index is set will contain the position relative to the data length.\n",
      "  warnings.warn(\n"
     ]
    },
    {
     "name": "stdout",
     "output_type": "stream",
     "text": [
      "Predicted sell: 59433.97139404371, actual: 59444.9\n",
      "Sold BTC by 59433.97139404371 at 2021-05-10 03:34:00+00:00\n",
      "\t\tSimulating 2021-05-10 02:00:00+00:00 day....\n"
     ]
    },
    {
     "name": "stderr",
     "output_type": "stream",
     "text": [
      "/home/olga/PycharmProjects/backtesting/venv/lib/python3.8/site-packages/statsmodels/tsa/deterministic.py:147: UserWarning: Only PeriodIndexes, DatetimeIndexes with a frequency set, RangesIndexes, and Int64Indexes with a unit increment support extending. The index is set will contain the position relative to the data length.\n",
      "  warnings.warn(\n"
     ]
    },
    {
     "name": "stdout",
     "output_type": "stream",
     "text": [
      "Predicted buy: 53569.26636154183, actual: 58650.39\n",
      "Predicted buy: 53569.26636154183, actual: 58680.26\n",
      "Predicted buy: 53569.26636154183, actual: 58355.79\n",
      "Predicted buy: 53569.26636154183, actual: 57736.46\n",
      "Predicted buy: 53569.26636154183, actual: 57301.81\n",
      "Predicted buy: 53569.26636154183, actual: 57455.0\n",
      "Predicted buy: 53569.26636154183, actual: 56700.0\n",
      "Predicted buy: 53569.26636154183, actual: 56849.75\n",
      "Predicted buy: 53569.26636154183, actual: 55516.85\n",
      "Predicted buy: 53569.26636154183, actual: 53400.0\n",
      "stop_loss = 48407.06203292374\n",
      "Bought BTC by 53569.26636154183 at 2021-05-10 20:05:00+00:00\n"
     ]
    },
    {
     "name": "stderr",
     "output_type": "stream",
     "text": [
      "/home/olga/PycharmProjects/backtesting/venv/lib/python3.8/site-packages/statsmodels/tsa/deterministic.py:147: UserWarning: Only PeriodIndexes, DatetimeIndexes with a frequency set, RangesIndexes, and Int64Indexes with a unit increment support extending. The index is set will contain the position relative to the data length.\n",
      "  warnings.warn(\n"
     ]
    },
    {
     "name": "stdout",
     "output_type": "stream",
     "text": [
      "Predicted sell: 59433.97139404371, actual: 59444.9\n",
      "Sold BTC by 59433.97139404371 at 2021-05-10 03:34:00+00:00\n",
      "\t\tSimulating 2021-05-10 02:00:00+00:00 day....\n"
     ]
    },
    {
     "name": "stderr",
     "output_type": "stream",
     "text": [
      "/home/olga/PycharmProjects/backtesting/venv/lib/python3.8/site-packages/statsmodels/tsa/deterministic.py:147: UserWarning: Only PeriodIndexes, DatetimeIndexes with a frequency set, RangesIndexes, and Int64Indexes with a unit increment support extending. The index is set will contain the position relative to the data length.\n",
      "  warnings.warn(\n"
     ]
    },
    {
     "name": "stdout",
     "output_type": "stream",
     "text": [
      "Predicted buy: 53569.26636154183, actual: 58650.39\n",
      "Predicted buy: 53569.26636154183, actual: 58680.26\n",
      "Predicted buy: 53569.26636154183, actual: 58355.79\n",
      "Predicted buy: 53569.26636154183, actual: 57736.46\n",
      "Predicted buy: 53569.26636154183, actual: 57301.81\n",
      "Predicted buy: 53569.26636154183, actual: 57455.0\n",
      "Predicted buy: 53569.26636154183, actual: 56700.0\n",
      "Predicted buy: 53569.26636154183, actual: 56849.75\n",
      "Predicted buy: 53569.26636154183, actual: 55516.85\n",
      "Predicted buy: 53569.26636154183, actual: 53400.0\n",
      "stop_loss = 48407.06203292374\n",
      "Bought BTC by 53569.26636154183 at 2021-05-10 20:05:00+00:00\n"
     ]
    },
    {
     "name": "stderr",
     "output_type": "stream",
     "text": [
      "/home/olga/PycharmProjects/backtesting/venv/lib/python3.8/site-packages/statsmodels/tsa/deterministic.py:147: UserWarning: Only PeriodIndexes, DatetimeIndexes with a frequency set, RangesIndexes, and Int64Indexes with a unit increment support extending. The index is set will contain the position relative to the data length.\n",
      "  warnings.warn(\n"
     ]
    },
    {
     "name": "stdout",
     "output_type": "stream",
     "text": [
      "Predicted sell: 59433.97139404371, actual: 59444.9\n",
      "Sold BTC by 59433.97139404371 at 2021-05-10 03:34:00+00:00\n",
      "\t\tSimulating 2021-05-10 02:00:00+00:00 day....\n"
     ]
    },
    {
     "name": "stderr",
     "output_type": "stream",
     "text": [
      "/home/olga/PycharmProjects/backtesting/venv/lib/python3.8/site-packages/statsmodels/tsa/deterministic.py:147: UserWarning: Only PeriodIndexes, DatetimeIndexes with a frequency set, RangesIndexes, and Int64Indexes with a unit increment support extending. The index is set will contain the position relative to the data length.\n",
      "  warnings.warn(\n"
     ]
    },
    {
     "name": "stdout",
     "output_type": "stream",
     "text": [
      "Predicted buy: 53569.26636154183, actual: 58650.39\n",
      "Predicted buy: 53569.26636154183, actual: 58680.26\n",
      "Predicted buy: 53569.26636154183, actual: 58355.79\n",
      "Predicted buy: 53569.26636154183, actual: 57736.46\n",
      "Predicted buy: 53569.26636154183, actual: 57301.81\n",
      "Predicted buy: 53569.26636154183, actual: 57455.0\n",
      "Predicted buy: 53569.26636154183, actual: 56700.0\n",
      "Predicted buy: 53569.26636154183, actual: 56849.75\n",
      "Predicted buy: 53569.26636154183, actual: 55516.85\n",
      "Predicted buy: 53569.26636154183, actual: 53400.0\n",
      "stop_loss = 48407.06203292374\n",
      "Bought BTC by 53569.26636154183 at 2021-05-10 20:05:00+00:00\n"
     ]
    },
    {
     "name": "stderr",
     "output_type": "stream",
     "text": [
      "/home/olga/PycharmProjects/backtesting/venv/lib/python3.8/site-packages/statsmodels/tsa/deterministic.py:147: UserWarning: Only PeriodIndexes, DatetimeIndexes with a frequency set, RangesIndexes, and Int64Indexes with a unit increment support extending. The index is set will contain the position relative to the data length.\n",
      "  warnings.warn(\n"
     ]
    },
    {
     "name": "stdout",
     "output_type": "stream",
     "text": [
      "Predicted sell: 59433.97139404371, actual: 59444.9\n",
      "Sold BTC by 59433.97139404371 at 2021-05-10 03:34:00+00:00\n",
      "\t\tSimulating 2021-05-10 02:00:00+00:00 day....\n"
     ]
    },
    {
     "name": "stderr",
     "output_type": "stream",
     "text": [
      "/home/olga/PycharmProjects/backtesting/venv/lib/python3.8/site-packages/statsmodels/tsa/deterministic.py:147: UserWarning: Only PeriodIndexes, DatetimeIndexes with a frequency set, RangesIndexes, and Int64Indexes with a unit increment support extending. The index is set will contain the position relative to the data length.\n",
      "  warnings.warn(\n"
     ]
    },
    {
     "name": "stdout",
     "output_type": "stream",
     "text": [
      "Predicted buy: 53569.26636154183, actual: 58650.39\n",
      "Predicted buy: 53569.26636154183, actual: 58680.26\n",
      "Predicted buy: 53569.26636154183, actual: 58355.79\n",
      "Predicted buy: 53569.26636154183, actual: 57736.46\n",
      "Predicted buy: 53569.26636154183, actual: 57301.81\n",
      "Predicted buy: 53569.26636154183, actual: 57455.0\n",
      "Predicted buy: 53569.26636154183, actual: 56700.0\n",
      "Predicted buy: 53569.26636154183, actual: 56849.75\n",
      "Predicted buy: 53569.26636154183, actual: 55516.85\n",
      "Predicted buy: 53569.26636154183, actual: 53400.0\n",
      "stop_loss = 48407.06203292374\n",
      "Bought BTC by 53569.26636154183 at 2021-05-10 20:05:00+00:00\n"
     ]
    },
    {
     "name": "stderr",
     "output_type": "stream",
     "text": [
      "/home/olga/PycharmProjects/backtesting/venv/lib/python3.8/site-packages/statsmodels/tsa/deterministic.py:147: UserWarning: Only PeriodIndexes, DatetimeIndexes with a frequency set, RangesIndexes, and Int64Indexes with a unit increment support extending. The index is set will contain the position relative to the data length.\n",
      "  warnings.warn(\n"
     ]
    },
    {
     "name": "stdout",
     "output_type": "stream",
     "text": [
      "Predicted sell: 59433.97139404371, actual: 59444.9\n",
      "Sold BTC by 59433.97139404371 at 2021-05-10 03:34:00+00:00\n",
      "\t\tSimulating 2021-05-10 02:00:00+00:00 day....\n"
     ]
    },
    {
     "name": "stderr",
     "output_type": "stream",
     "text": [
      "/home/olga/PycharmProjects/backtesting/venv/lib/python3.8/site-packages/statsmodels/tsa/deterministic.py:147: UserWarning: Only PeriodIndexes, DatetimeIndexes with a frequency set, RangesIndexes, and Int64Indexes with a unit increment support extending. The index is set will contain the position relative to the data length.\n",
      "  warnings.warn(\n"
     ]
    },
    {
     "name": "stdout",
     "output_type": "stream",
     "text": [
      "Predicted buy: 53569.26636154183, actual: 58650.39\n",
      "Predicted buy: 53569.26636154183, actual: 58680.26\n",
      "Predicted buy: 53569.26636154183, actual: 58355.79\n",
      "Predicted buy: 53569.26636154183, actual: 57736.46\n",
      "Predicted buy: 53569.26636154183, actual: 57301.81\n",
      "Predicted buy: 53569.26636154183, actual: 57455.0\n",
      "Predicted buy: 53569.26636154183, actual: 56700.0\n",
      "Predicted buy: 53569.26636154183, actual: 56849.75\n",
      "Predicted buy: 53569.26636154183, actual: 55516.85\n",
      "Predicted buy: 53569.26636154183, actual: 53400.0\n",
      "stop_loss = 48407.06203292374\n",
      "Bought BTC by 53569.26636154183 at 2021-05-10 20:05:00+00:00\n"
     ]
    },
    {
     "name": "stderr",
     "output_type": "stream",
     "text": [
      "/home/olga/PycharmProjects/backtesting/venv/lib/python3.8/site-packages/statsmodels/tsa/deterministic.py:147: UserWarning: Only PeriodIndexes, DatetimeIndexes with a frequency set, RangesIndexes, and Int64Indexes with a unit increment support extending. The index is set will contain the position relative to the data length.\n",
      "  warnings.warn(\n"
     ]
    },
    {
     "name": "stdout",
     "output_type": "stream",
     "text": [
      "Predicted sell: 59433.97139404371, actual: 59444.9\n",
      "Sold BTC by 59433.97139404371 at 2021-05-10 03:34:00+00:00\n",
      "\t\tSimulating 2021-05-10 02:00:00+00:00 day....\n"
     ]
    },
    {
     "name": "stderr",
     "output_type": "stream",
     "text": [
      "/home/olga/PycharmProjects/backtesting/venv/lib/python3.8/site-packages/statsmodels/tsa/deterministic.py:147: UserWarning: Only PeriodIndexes, DatetimeIndexes with a frequency set, RangesIndexes, and Int64Indexes with a unit increment support extending. The index is set will contain the position relative to the data length.\n",
      "  warnings.warn(\n"
     ]
    },
    {
     "name": "stdout",
     "output_type": "stream",
     "text": [
      "Predicted buy: 53569.26636154183, actual: 58650.39\n",
      "Predicted buy: 53569.26636154183, actual: 58680.26\n",
      "Predicted buy: 53569.26636154183, actual: 58355.79\n",
      "Predicted buy: 53569.26636154183, actual: 57736.46\n",
      "Predicted buy: 53569.26636154183, actual: 57301.81\n",
      "Predicted buy: 53569.26636154183, actual: 57455.0\n",
      "Predicted buy: 53569.26636154183, actual: 56700.0\n",
      "Predicted buy: 53569.26636154183, actual: 56849.75\n",
      "Predicted buy: 53569.26636154183, actual: 55516.85\n",
      "Predicted buy: 53569.26636154183, actual: 53400.0\n",
      "stop_loss = 48407.06203292374\n",
      "Bought BTC by 53569.26636154183 at 2021-05-10 20:05:00+00:00\n"
     ]
    },
    {
     "name": "stderr",
     "output_type": "stream",
     "text": [
      "/home/olga/PycharmProjects/backtesting/venv/lib/python3.8/site-packages/statsmodels/tsa/deterministic.py:147: UserWarning: Only PeriodIndexes, DatetimeIndexes with a frequency set, RangesIndexes, and Int64Indexes with a unit increment support extending. The index is set will contain the position relative to the data length.\n",
      "  warnings.warn(\n"
     ]
    },
    {
     "name": "stdout",
     "output_type": "stream",
     "text": [
      "Predicted sell: 59433.97139404371, actual: 59444.9\n",
      "Sold BTC by 59433.97139404371 at 2021-05-10 03:34:00+00:00\n",
      "\t\tSimulating 2021-05-10 02:00:00+00:00 day....\n"
     ]
    },
    {
     "name": "stderr",
     "output_type": "stream",
     "text": [
      "/home/olga/PycharmProjects/backtesting/venv/lib/python3.8/site-packages/statsmodels/tsa/deterministic.py:147: UserWarning: Only PeriodIndexes, DatetimeIndexes with a frequency set, RangesIndexes, and Int64Indexes with a unit increment support extending. The index is set will contain the position relative to the data length.\n",
      "  warnings.warn(\n"
     ]
    },
    {
     "name": "stdout",
     "output_type": "stream",
     "text": [
      "Predicted buy: 53569.26636154183, actual: 58650.39\n",
      "Predicted buy: 53569.26636154183, actual: 58680.26\n",
      "Predicted buy: 53569.26636154183, actual: 58355.79\n",
      "Predicted buy: 53569.26636154183, actual: 57736.46\n",
      "Predicted buy: 53569.26636154183, actual: 57301.81\n",
      "Predicted buy: 53569.26636154183, actual: 57455.0\n",
      "Predicted buy: 53569.26636154183, actual: 56700.0\n",
      "Predicted buy: 53569.26636154183, actual: 56849.75\n",
      "Predicted buy: 53569.26636154183, actual: 55516.85\n",
      "Predicted buy: 53569.26636154183, actual: 53400.0\n",
      "stop_loss = 48407.06203292374\n",
      "Bought BTC by 53569.26636154183 at 2021-05-10 20:05:00+00:00\n"
     ]
    },
    {
     "name": "stderr",
     "output_type": "stream",
     "text": [
      "/home/olga/PycharmProjects/backtesting/venv/lib/python3.8/site-packages/statsmodels/tsa/deterministic.py:147: UserWarning: Only PeriodIndexes, DatetimeIndexes with a frequency set, RangesIndexes, and Int64Indexes with a unit increment support extending. The index is set will contain the position relative to the data length.\n",
      "  warnings.warn(\n"
     ]
    },
    {
     "name": "stdout",
     "output_type": "stream",
     "text": [
      "Predicted sell: 59433.97139404371, actual: 59444.9\n",
      "Sold BTC by 59433.97139404371 at 2021-05-10 03:34:00+00:00\n",
      "\t\tSimulating 2021-05-10 02:00:00+00:00 day....\n"
     ]
    },
    {
     "name": "stderr",
     "output_type": "stream",
     "text": [
      "/home/olga/PycharmProjects/backtesting/venv/lib/python3.8/site-packages/statsmodels/tsa/deterministic.py:147: UserWarning: Only PeriodIndexes, DatetimeIndexes with a frequency set, RangesIndexes, and Int64Indexes with a unit increment support extending. The index is set will contain the position relative to the data length.\n",
      "  warnings.warn(\n"
     ]
    },
    {
     "name": "stdout",
     "output_type": "stream",
     "text": [
      "Predicted buy: 53569.26636154183, actual: 58650.39\n",
      "Predicted buy: 53569.26636154183, actual: 58680.26\n",
      "Predicted buy: 53569.26636154183, actual: 58355.79\n",
      "Predicted buy: 53569.26636154183, actual: 57736.46\n",
      "Predicted buy: 53569.26636154183, actual: 57301.81\n",
      "Predicted buy: 53569.26636154183, actual: 57455.0\n",
      "Predicted buy: 53569.26636154183, actual: 56700.0\n",
      "Predicted buy: 53569.26636154183, actual: 56849.75\n",
      "Predicted buy: 53569.26636154183, actual: 55516.85\n",
      "Predicted buy: 53569.26636154183, actual: 53400.0\n",
      "stop_loss = 48407.06203292374\n",
      "Bought BTC by 53569.26636154183 at 2021-05-10 20:05:00+00:00\n"
     ]
    },
    {
     "name": "stderr",
     "output_type": "stream",
     "text": [
      "/home/olga/PycharmProjects/backtesting/venv/lib/python3.8/site-packages/statsmodels/tsa/deterministic.py:147: UserWarning: Only PeriodIndexes, DatetimeIndexes with a frequency set, RangesIndexes, and Int64Indexes with a unit increment support extending. The index is set will contain the position relative to the data length.\n",
      "  warnings.warn(\n"
     ]
    },
    {
     "name": "stdout",
     "output_type": "stream",
     "text": [
      "Predicted sell: 59433.97139404371, actual: 59444.9\n",
      "Sold BTC by 59433.97139404371 at 2021-05-10 03:34:00+00:00\n",
      "\t\tSimulating 2021-05-10 02:00:00+00:00 day....\n"
     ]
    },
    {
     "name": "stderr",
     "output_type": "stream",
     "text": [
      "/home/olga/PycharmProjects/backtesting/venv/lib/python3.8/site-packages/statsmodels/tsa/deterministic.py:147: UserWarning: Only PeriodIndexes, DatetimeIndexes with a frequency set, RangesIndexes, and Int64Indexes with a unit increment support extending. The index is set will contain the position relative to the data length.\n",
      "  warnings.warn(\n"
     ]
    },
    {
     "name": "stdout",
     "output_type": "stream",
     "text": [
      "Predicted buy: 53569.26636154183, actual: 58650.39\n",
      "Predicted buy: 53569.26636154183, actual: 58680.26\n",
      "Predicted buy: 53569.26636154183, actual: 58355.79\n",
      "Predicted buy: 53569.26636154183, actual: 57736.46\n",
      "Predicted buy: 53569.26636154183, actual: 57301.81\n",
      "Predicted buy: 53569.26636154183, actual: 57455.0\n",
      "Predicted buy: 53569.26636154183, actual: 56700.0\n",
      "Predicted buy: 53569.26636154183, actual: 56849.75\n",
      "Predicted buy: 53569.26636154183, actual: 55516.85\n",
      "Predicted buy: 53569.26636154183, actual: 53400.0\n",
      "stop_loss = 48407.06203292374\n",
      "Bought BTC by 53569.26636154183 at 2021-05-10 20:05:00+00:00\n"
     ]
    },
    {
     "name": "stderr",
     "output_type": "stream",
     "text": [
      "/home/olga/PycharmProjects/backtesting/venv/lib/python3.8/site-packages/statsmodels/tsa/deterministic.py:147: UserWarning: Only PeriodIndexes, DatetimeIndexes with a frequency set, RangesIndexes, and Int64Indexes with a unit increment support extending. The index is set will contain the position relative to the data length.\n",
      "  warnings.warn(\n"
     ]
    },
    {
     "name": "stdout",
     "output_type": "stream",
     "text": [
      "Predicted sell: 59433.97139404371, actual: 59444.9\n",
      "Sold BTC by 59433.97139404371 at 2021-05-10 03:34:00+00:00\n",
      "\t\tSimulating 2021-05-10 02:00:00+00:00 day....\n"
     ]
    },
    {
     "name": "stderr",
     "output_type": "stream",
     "text": [
      "/home/olga/PycharmProjects/backtesting/venv/lib/python3.8/site-packages/statsmodels/tsa/deterministic.py:147: UserWarning: Only PeriodIndexes, DatetimeIndexes with a frequency set, RangesIndexes, and Int64Indexes with a unit increment support extending. The index is set will contain the position relative to the data length.\n",
      "  warnings.warn(\n"
     ]
    },
    {
     "name": "stdout",
     "output_type": "stream",
     "text": [
      "Predicted buy: 53569.26636154183, actual: 58650.39\n",
      "Predicted buy: 53569.26636154183, actual: 58680.26\n",
      "Predicted buy: 53569.26636154183, actual: 58355.79\n",
      "Predicted buy: 53569.26636154183, actual: 57736.46\n",
      "Predicted buy: 53569.26636154183, actual: 57301.81\n",
      "Predicted buy: 53569.26636154183, actual: 57455.0\n",
      "Predicted buy: 53569.26636154183, actual: 56700.0\n",
      "Predicted buy: 53569.26636154183, actual: 56849.75\n",
      "Predicted buy: 53569.26636154183, actual: 55516.85\n",
      "Predicted buy: 53569.26636154183, actual: 53400.0\n",
      "stop_loss = 48407.06203292374\n",
      "Bought BTC by 53569.26636154183 at 2021-05-10 20:05:00+00:00\n"
     ]
    },
    {
     "name": "stderr",
     "output_type": "stream",
     "text": [
      "/home/olga/PycharmProjects/backtesting/venv/lib/python3.8/site-packages/statsmodels/tsa/deterministic.py:147: UserWarning: Only PeriodIndexes, DatetimeIndexes with a frequency set, RangesIndexes, and Int64Indexes with a unit increment support extending. The index is set will contain the position relative to the data length.\n",
      "  warnings.warn(\n"
     ]
    },
    {
     "name": "stdout",
     "output_type": "stream",
     "text": [
      "Predicted sell: 59433.97139404371, actual: 59444.9\n",
      "Sold BTC by 59433.97139404371 at 2021-05-10 03:34:00+00:00\n",
      "\t\tSimulating 2021-05-10 02:00:00+00:00 day....\n"
     ]
    },
    {
     "name": "stderr",
     "output_type": "stream",
     "text": [
      "/home/olga/PycharmProjects/backtesting/venv/lib/python3.8/site-packages/statsmodels/tsa/deterministic.py:147: UserWarning: Only PeriodIndexes, DatetimeIndexes with a frequency set, RangesIndexes, and Int64Indexes with a unit increment support extending. The index is set will contain the position relative to the data length.\n",
      "  warnings.warn(\n"
     ]
    },
    {
     "name": "stdout",
     "output_type": "stream",
     "text": [
      "Predicted buy: 53569.26636154183, actual: 58650.39\n",
      "Predicted buy: 53569.26636154183, actual: 58680.26\n",
      "Predicted buy: 53569.26636154183, actual: 58355.79\n",
      "Predicted buy: 53569.26636154183, actual: 57736.46\n",
      "Predicted buy: 53569.26636154183, actual: 57301.81\n",
      "Predicted buy: 53569.26636154183, actual: 57455.0\n",
      "Predicted buy: 53569.26636154183, actual: 56700.0\n",
      "Predicted buy: 53569.26636154183, actual: 56849.75\n",
      "Predicted buy: 53569.26636154183, actual: 55516.85\n",
      "Predicted buy: 53569.26636154183, actual: 53400.0\n",
      "stop_loss = 48407.06203292374\n",
      "Bought BTC by 53569.26636154183 at 2021-05-10 20:05:00+00:00\n"
     ]
    },
    {
     "name": "stderr",
     "output_type": "stream",
     "text": [
      "/home/olga/PycharmProjects/backtesting/venv/lib/python3.8/site-packages/statsmodels/tsa/deterministic.py:147: UserWarning: Only PeriodIndexes, DatetimeIndexes with a frequency set, RangesIndexes, and Int64Indexes with a unit increment support extending. The index is set will contain the position relative to the data length.\n",
      "  warnings.warn(\n"
     ]
    },
    {
     "name": "stdout",
     "output_type": "stream",
     "text": [
      "Predicted sell: 59433.97139404371, actual: 59444.9\n",
      "Sold BTC by 59433.97139404371 at 2021-05-10 03:34:00+00:00\n",
      "\t\tSimulating 2021-05-10 02:00:00+00:00 day....\n"
     ]
    },
    {
     "name": "stderr",
     "output_type": "stream",
     "text": [
      "/home/olga/PycharmProjects/backtesting/venv/lib/python3.8/site-packages/statsmodels/tsa/deterministic.py:147: UserWarning: Only PeriodIndexes, DatetimeIndexes with a frequency set, RangesIndexes, and Int64Indexes with a unit increment support extending. The index is set will contain the position relative to the data length.\n",
      "  warnings.warn(\n"
     ]
    },
    {
     "name": "stdout",
     "output_type": "stream",
     "text": [
      "Predicted buy: 53569.26636154183, actual: 58650.39\n",
      "Predicted buy: 53569.26636154183, actual: 58680.26\n",
      "Predicted buy: 53569.26636154183, actual: 58355.79\n",
      "Predicted buy: 53569.26636154183, actual: 57736.46\n",
      "Predicted buy: 53569.26636154183, actual: 57301.81\n",
      "Predicted buy: 53569.26636154183, actual: 57455.0\n",
      "Predicted buy: 53569.26636154183, actual: 56700.0\n",
      "Predicted buy: 53569.26636154183, actual: 56849.75\n",
      "Predicted buy: 53569.26636154183, actual: 55516.85\n",
      "Predicted buy: 53569.26636154183, actual: 53400.0\n",
      "stop_loss = 48407.06203292374\n",
      "Bought BTC by 53569.26636154183 at 2021-05-10 20:05:00+00:00\n"
     ]
    },
    {
     "name": "stderr",
     "output_type": "stream",
     "text": [
      "/home/olga/PycharmProjects/backtesting/venv/lib/python3.8/site-packages/statsmodels/tsa/deterministic.py:147: UserWarning: Only PeriodIndexes, DatetimeIndexes with a frequency set, RangesIndexes, and Int64Indexes with a unit increment support extending. The index is set will contain the position relative to the data length.\n",
      "  warnings.warn(\n"
     ]
    },
    {
     "name": "stdout",
     "output_type": "stream",
     "text": [
      "Predicted sell: 59433.97139404371, actual: 59444.9\n",
      "Sold BTC by 59433.97139404371 at 2021-05-10 03:34:00+00:00\n",
      "\t\tSimulating 2021-05-10 02:00:00+00:00 day....\n"
     ]
    },
    {
     "name": "stderr",
     "output_type": "stream",
     "text": [
      "/home/olga/PycharmProjects/backtesting/venv/lib/python3.8/site-packages/statsmodels/tsa/deterministic.py:147: UserWarning: Only PeriodIndexes, DatetimeIndexes with a frequency set, RangesIndexes, and Int64Indexes with a unit increment support extending. The index is set will contain the position relative to the data length.\n",
      "  warnings.warn(\n"
     ]
    },
    {
     "name": "stdout",
     "output_type": "stream",
     "text": [
      "Predicted buy: 53569.26636154183, actual: 58650.39\n",
      "Predicted buy: 53569.26636154183, actual: 58680.26\n",
      "Predicted buy: 53569.26636154183, actual: 58355.79\n",
      "Predicted buy: 53569.26636154183, actual: 57736.46\n",
      "Predicted buy: 53569.26636154183, actual: 57301.81\n",
      "Predicted buy: 53569.26636154183, actual: 57455.0\n",
      "Predicted buy: 53569.26636154183, actual: 56700.0\n",
      "Predicted buy: 53569.26636154183, actual: 56849.75\n",
      "Predicted buy: 53569.26636154183, actual: 55516.85\n",
      "Predicted buy: 53569.26636154183, actual: 53400.0\n",
      "stop_loss = 48407.06203292374\n",
      "Bought BTC by 53569.26636154183 at 2021-05-10 20:05:00+00:00\n"
     ]
    },
    {
     "name": "stderr",
     "output_type": "stream",
     "text": [
      "/home/olga/PycharmProjects/backtesting/venv/lib/python3.8/site-packages/statsmodels/tsa/deterministic.py:147: UserWarning: Only PeriodIndexes, DatetimeIndexes with a frequency set, RangesIndexes, and Int64Indexes with a unit increment support extending. The index is set will contain the position relative to the data length.\n",
      "  warnings.warn(\n"
     ]
    },
    {
     "name": "stdout",
     "output_type": "stream",
     "text": [
      "Predicted sell: 59433.97139404371, actual: 59444.9\n",
      "Sold BTC by 59433.97139404371 at 2021-05-10 03:34:00+00:00\n",
      "\t\tSimulating 2021-05-10 02:00:00+00:00 day....\n"
     ]
    },
    {
     "name": "stderr",
     "output_type": "stream",
     "text": [
      "/home/olga/PycharmProjects/backtesting/venv/lib/python3.8/site-packages/statsmodels/tsa/deterministic.py:147: UserWarning: Only PeriodIndexes, DatetimeIndexes with a frequency set, RangesIndexes, and Int64Indexes with a unit increment support extending. The index is set will contain the position relative to the data length.\n",
      "  warnings.warn(\n"
     ]
    },
    {
     "name": "stdout",
     "output_type": "stream",
     "text": [
      "Predicted buy: 53569.26636154183, actual: 58650.39\n",
      "Predicted buy: 53569.26636154183, actual: 58680.26\n",
      "Predicted buy: 53569.26636154183, actual: 58355.79\n",
      "Predicted buy: 53569.26636154183, actual: 57736.46\n",
      "Predicted buy: 53569.26636154183, actual: 57301.81\n",
      "Predicted buy: 53569.26636154183, actual: 57455.0\n",
      "Predicted buy: 53569.26636154183, actual: 56700.0\n",
      "Predicted buy: 53569.26636154183, actual: 56849.75\n",
      "Predicted buy: 53569.26636154183, actual: 55516.85\n",
      "Predicted buy: 53569.26636154183, actual: 53400.0\n",
      "stop_loss = 48407.06203292374\n",
      "Bought BTC by 53569.26636154183 at 2021-05-10 20:05:00+00:00\n"
     ]
    },
    {
     "name": "stderr",
     "output_type": "stream",
     "text": [
      "/home/olga/PycharmProjects/backtesting/venv/lib/python3.8/site-packages/statsmodels/tsa/deterministic.py:147: UserWarning: Only PeriodIndexes, DatetimeIndexes with a frequency set, RangesIndexes, and Int64Indexes with a unit increment support extending. The index is set will contain the position relative to the data length.\n",
      "  warnings.warn(\n"
     ]
    },
    {
     "name": "stdout",
     "output_type": "stream",
     "text": [
      "Predicted sell: 59433.97139404371, actual: 59444.9\n",
      "Sold BTC by 59433.97139404371 at 2021-05-10 03:34:00+00:00\n",
      "\t\tSimulating 2021-05-10 02:00:00+00:00 day....\n"
     ]
    },
    {
     "name": "stderr",
     "output_type": "stream",
     "text": [
      "/home/olga/PycharmProjects/backtesting/venv/lib/python3.8/site-packages/statsmodels/tsa/deterministic.py:147: UserWarning: Only PeriodIndexes, DatetimeIndexes with a frequency set, RangesIndexes, and Int64Indexes with a unit increment support extending. The index is set will contain the position relative to the data length.\n",
      "  warnings.warn(\n"
     ]
    },
    {
     "name": "stdout",
     "output_type": "stream",
     "text": [
      "Predicted buy: 53569.26636154183, actual: 58650.39\n",
      "Predicted buy: 53569.26636154183, actual: 58680.26\n",
      "Predicted buy: 53569.26636154183, actual: 58355.79\n",
      "Predicted buy: 53569.26636154183, actual: 57736.46\n",
      "Predicted buy: 53569.26636154183, actual: 57301.81\n",
      "Predicted buy: 53569.26636154183, actual: 57455.0\n",
      "Predicted buy: 53569.26636154183, actual: 56700.0\n",
      "Predicted buy: 53569.26636154183, actual: 56849.75\n",
      "Predicted buy: 53569.26636154183, actual: 55516.85\n",
      "Predicted buy: 53569.26636154183, actual: 53400.0\n",
      "stop_loss = 48407.06203292374\n",
      "Bought BTC by 53569.26636154183 at 2021-05-10 20:05:00+00:00\n"
     ]
    },
    {
     "name": "stderr",
     "output_type": "stream",
     "text": [
      "/home/olga/PycharmProjects/backtesting/venv/lib/python3.8/site-packages/statsmodels/tsa/deterministic.py:147: UserWarning: Only PeriodIndexes, DatetimeIndexes with a frequency set, RangesIndexes, and Int64Indexes with a unit increment support extending. The index is set will contain the position relative to the data length.\n",
      "  warnings.warn(\n"
     ]
    },
    {
     "name": "stdout",
     "output_type": "stream",
     "text": [
      "Predicted sell: 59433.97139404371, actual: 59444.9\n",
      "Sold BTC by 59433.97139404371 at 2021-05-10 03:34:00+00:00\n",
      "\t\tSimulating 2021-05-10 02:00:00+00:00 day....\n"
     ]
    },
    {
     "name": "stderr",
     "output_type": "stream",
     "text": [
      "/home/olga/PycharmProjects/backtesting/venv/lib/python3.8/site-packages/statsmodels/tsa/deterministic.py:147: UserWarning: Only PeriodIndexes, DatetimeIndexes with a frequency set, RangesIndexes, and Int64Indexes with a unit increment support extending. The index is set will contain the position relative to the data length.\n",
      "  warnings.warn(\n"
     ]
    },
    {
     "name": "stdout",
     "output_type": "stream",
     "text": [
      "Predicted buy: 53569.26636154183, actual: 58650.39\n",
      "Predicted buy: 53569.26636154183, actual: 58680.26\n",
      "Predicted buy: 53569.26636154183, actual: 58355.79\n",
      "Predicted buy: 53569.26636154183, actual: 57736.46\n",
      "Predicted buy: 53569.26636154183, actual: 57301.81\n",
      "Predicted buy: 53569.26636154183, actual: 57455.0\n",
      "Predicted buy: 53569.26636154183, actual: 56700.0\n",
      "Predicted buy: 53569.26636154183, actual: 56849.75\n",
      "Predicted buy: 53569.26636154183, actual: 55516.85\n",
      "Predicted buy: 53569.26636154183, actual: 53400.0\n",
      "stop_loss = 48407.06203292374\n",
      "Bought BTC by 53569.26636154183 at 2021-05-10 20:05:00+00:00\n"
     ]
    },
    {
     "name": "stderr",
     "output_type": "stream",
     "text": [
      "/home/olga/PycharmProjects/backtesting/venv/lib/python3.8/site-packages/statsmodels/tsa/deterministic.py:147: UserWarning: Only PeriodIndexes, DatetimeIndexes with a frequency set, RangesIndexes, and Int64Indexes with a unit increment support extending. The index is set will contain the position relative to the data length.\n",
      "  warnings.warn(\n"
     ]
    },
    {
     "name": "stdout",
     "output_type": "stream",
     "text": [
      "Predicted sell: 59433.97139404371, actual: 59444.9\n",
      "Sold BTC by 59433.97139404371 at 2021-05-10 03:34:00+00:00\n",
      "\t\tSimulating 2021-05-10 02:00:00+00:00 day....\n"
     ]
    },
    {
     "name": "stderr",
     "output_type": "stream",
     "text": [
      "/home/olga/PycharmProjects/backtesting/venv/lib/python3.8/site-packages/statsmodels/tsa/deterministic.py:147: UserWarning: Only PeriodIndexes, DatetimeIndexes with a frequency set, RangesIndexes, and Int64Indexes with a unit increment support extending. The index is set will contain the position relative to the data length.\n",
      "  warnings.warn(\n"
     ]
    },
    {
     "name": "stdout",
     "output_type": "stream",
     "text": [
      "Predicted buy: 53569.26636154183, actual: 58650.39\n",
      "Predicted buy: 53569.26636154183, actual: 58680.26\n",
      "Predicted buy: 53569.26636154183, actual: 58355.79\n",
      "Predicted buy: 53569.26636154183, actual: 57736.46\n",
      "Predicted buy: 53569.26636154183, actual: 57301.81\n",
      "Predicted buy: 53569.26636154183, actual: 57455.0\n",
      "Predicted buy: 53569.26636154183, actual: 56700.0\n",
      "Predicted buy: 53569.26636154183, actual: 56849.75\n",
      "Predicted buy: 53569.26636154183, actual: 55516.85\n",
      "Predicted buy: 53569.26636154183, actual: 53400.0\n",
      "stop_loss = 48407.06203292374\n",
      "Bought BTC by 53569.26636154183 at 2021-05-10 20:05:00+00:00\n"
     ]
    },
    {
     "name": "stderr",
     "output_type": "stream",
     "text": [
      "/home/olga/PycharmProjects/backtesting/venv/lib/python3.8/site-packages/statsmodels/tsa/deterministic.py:147: UserWarning: Only PeriodIndexes, DatetimeIndexes with a frequency set, RangesIndexes, and Int64Indexes with a unit increment support extending. The index is set will contain the position relative to the data length.\n",
      "  warnings.warn(\n"
     ]
    },
    {
     "name": "stdout",
     "output_type": "stream",
     "text": [
      "Predicted sell: 59433.97139404371, actual: 59444.9\n",
      "Sold BTC by 59433.97139404371 at 2021-05-10 03:34:00+00:00\n",
      "\t\tSimulating 2021-05-10 02:00:00+00:00 day....\n"
     ]
    },
    {
     "name": "stderr",
     "output_type": "stream",
     "text": [
      "/home/olga/PycharmProjects/backtesting/venv/lib/python3.8/site-packages/statsmodels/tsa/deterministic.py:147: UserWarning: Only PeriodIndexes, DatetimeIndexes with a frequency set, RangesIndexes, and Int64Indexes with a unit increment support extending. The index is set will contain the position relative to the data length.\n",
      "  warnings.warn(\n"
     ]
    },
    {
     "name": "stdout",
     "output_type": "stream",
     "text": [
      "Predicted buy: 53569.26636154183, actual: 58650.39\n",
      "Predicted buy: 53569.26636154183, actual: 58680.26\n",
      "Predicted buy: 53569.26636154183, actual: 58355.79\n",
      "Predicted buy: 53569.26636154183, actual: 57736.46\n",
      "Predicted buy: 53569.26636154183, actual: 57301.81\n",
      "Predicted buy: 53569.26636154183, actual: 57455.0\n",
      "Predicted buy: 53569.26636154183, actual: 56700.0\n",
      "Predicted buy: 53569.26636154183, actual: 56849.75\n",
      "Predicted buy: 53569.26636154183, actual: 55516.85\n",
      "Predicted buy: 53569.26636154183, actual: 53400.0\n",
      "stop_loss = 48407.06203292374\n",
      "Bought BTC by 53569.26636154183 at 2021-05-10 20:05:00+00:00\n"
     ]
    },
    {
     "name": "stderr",
     "output_type": "stream",
     "text": [
      "/home/olga/PycharmProjects/backtesting/venv/lib/python3.8/site-packages/statsmodels/tsa/deterministic.py:147: UserWarning: Only PeriodIndexes, DatetimeIndexes with a frequency set, RangesIndexes, and Int64Indexes with a unit increment support extending. The index is set will contain the position relative to the data length.\n",
      "  warnings.warn(\n"
     ]
    },
    {
     "name": "stdout",
     "output_type": "stream",
     "text": [
      "Predicted sell: 59433.97139404371, actual: 59444.9\n",
      "Sold BTC by 59433.97139404371 at 2021-05-10 03:34:00+00:00\n",
      "\t\tSimulating 2021-05-10 02:00:00+00:00 day....\n"
     ]
    },
    {
     "name": "stderr",
     "output_type": "stream",
     "text": [
      "/home/olga/PycharmProjects/backtesting/venv/lib/python3.8/site-packages/statsmodels/tsa/deterministic.py:147: UserWarning: Only PeriodIndexes, DatetimeIndexes with a frequency set, RangesIndexes, and Int64Indexes with a unit increment support extending. The index is set will contain the position relative to the data length.\n",
      "  warnings.warn(\n"
     ]
    },
    {
     "name": "stdout",
     "output_type": "stream",
     "text": [
      "Predicted buy: 53569.26636154183, actual: 58650.39\n",
      "Predicted buy: 53569.26636154183, actual: 58680.26\n",
      "Predicted buy: 53569.26636154183, actual: 58355.79\n",
      "Predicted buy: 53569.26636154183, actual: 57736.46\n",
      "Predicted buy: 53569.26636154183, actual: 57301.81\n",
      "Predicted buy: 53569.26636154183, actual: 57455.0\n",
      "Predicted buy: 53569.26636154183, actual: 56700.0\n",
      "Predicted buy: 53569.26636154183, actual: 56849.75\n",
      "Predicted buy: 53569.26636154183, actual: 55516.85\n",
      "Predicted buy: 53569.26636154183, actual: 53400.0\n",
      "stop_loss = 48407.06203292374\n",
      "Bought BTC by 53569.26636154183 at 2021-05-10 20:05:00+00:00\n"
     ]
    },
    {
     "name": "stderr",
     "output_type": "stream",
     "text": [
      "/home/olga/PycharmProjects/backtesting/venv/lib/python3.8/site-packages/statsmodels/tsa/deterministic.py:147: UserWarning: Only PeriodIndexes, DatetimeIndexes with a frequency set, RangesIndexes, and Int64Indexes with a unit increment support extending. The index is set will contain the position relative to the data length.\n",
      "  warnings.warn(\n"
     ]
    },
    {
     "name": "stdout",
     "output_type": "stream",
     "text": [
      "Predicted sell: 59433.97139404371, actual: 59444.9\n",
      "Sold BTC by 59433.97139404371 at 2021-05-10 03:34:00+00:00\n",
      "\t\tSimulating 2021-05-10 02:00:00+00:00 day....\n"
     ]
    },
    {
     "name": "stderr",
     "output_type": "stream",
     "text": [
      "/home/olga/PycharmProjects/backtesting/venv/lib/python3.8/site-packages/statsmodels/tsa/deterministic.py:147: UserWarning: Only PeriodIndexes, DatetimeIndexes with a frequency set, RangesIndexes, and Int64Indexes with a unit increment support extending. The index is set will contain the position relative to the data length.\n",
      "  warnings.warn(\n"
     ]
    },
    {
     "name": "stdout",
     "output_type": "stream",
     "text": [
      "Predicted buy: 53569.26636154183, actual: 58650.39\n",
      "Predicted buy: 53569.26636154183, actual: 58680.26\n",
      "Predicted buy: 53569.26636154183, actual: 58355.79\n",
      "Predicted buy: 53569.26636154183, actual: 57736.46\n",
      "Predicted buy: 53569.26636154183, actual: 57301.81\n",
      "Predicted buy: 53569.26636154183, actual: 57455.0\n",
      "Predicted buy: 53569.26636154183, actual: 56700.0\n",
      "Predicted buy: 53569.26636154183, actual: 56849.75\n",
      "Predicted buy: 53569.26636154183, actual: 55516.85\n",
      "Predicted buy: 53569.26636154183, actual: 53400.0\n",
      "stop_loss = 48407.06203292374\n",
      "Bought BTC by 53569.26636154183 at 2021-05-10 20:05:00+00:00\n"
     ]
    },
    {
     "name": "stderr",
     "output_type": "stream",
     "text": [
      "/home/olga/PycharmProjects/backtesting/venv/lib/python3.8/site-packages/statsmodels/tsa/deterministic.py:147: UserWarning: Only PeriodIndexes, DatetimeIndexes with a frequency set, RangesIndexes, and Int64Indexes with a unit increment support extending. The index is set will contain the position relative to the data length.\n",
      "  warnings.warn(\n"
     ]
    },
    {
     "name": "stdout",
     "output_type": "stream",
     "text": [
      "Predicted sell: 59433.97139404371, actual: 59444.9\n",
      "Sold BTC by 59433.97139404371 at 2021-05-10 03:34:00+00:00\n",
      "\t\tSimulating 2021-05-10 02:00:00+00:00 day....\n"
     ]
    },
    {
     "name": "stderr",
     "output_type": "stream",
     "text": [
      "/home/olga/PycharmProjects/backtesting/venv/lib/python3.8/site-packages/statsmodels/tsa/deterministic.py:147: UserWarning: Only PeriodIndexes, DatetimeIndexes with a frequency set, RangesIndexes, and Int64Indexes with a unit increment support extending. The index is set will contain the position relative to the data length.\n",
      "  warnings.warn(\n"
     ]
    },
    {
     "name": "stdout",
     "output_type": "stream",
     "text": [
      "Predicted buy: 53569.26636154183, actual: 58650.39\n",
      "Predicted buy: 53569.26636154183, actual: 58680.26\n",
      "Predicted buy: 53569.26636154183, actual: 58355.79\n",
      "Predicted buy: 53569.26636154183, actual: 57736.46\n",
      "Predicted buy: 53569.26636154183, actual: 57301.81\n",
      "Predicted buy: 53569.26636154183, actual: 57455.0\n",
      "Predicted buy: 53569.26636154183, actual: 56700.0\n",
      "Predicted buy: 53569.26636154183, actual: 56849.75\n",
      "Predicted buy: 53569.26636154183, actual: 55516.85\n",
      "Predicted buy: 53569.26636154183, actual: 53400.0\n",
      "stop_loss = 48407.06203292374\n",
      "Bought BTC by 53569.26636154183 at 2021-05-10 20:05:00+00:00\n"
     ]
    },
    {
     "name": "stderr",
     "output_type": "stream",
     "text": [
      "/home/olga/PycharmProjects/backtesting/venv/lib/python3.8/site-packages/statsmodels/tsa/deterministic.py:147: UserWarning: Only PeriodIndexes, DatetimeIndexes with a frequency set, RangesIndexes, and Int64Indexes with a unit increment support extending. The index is set will contain the position relative to the data length.\n",
      "  warnings.warn(\n"
     ]
    },
    {
     "name": "stdout",
     "output_type": "stream",
     "text": [
      "Predicted sell: 59433.97139404371, actual: 59444.9\n",
      "Sold BTC by 59433.97139404371 at 2021-05-10 03:34:00+00:00\n",
      "\t\tSimulating 2021-05-10 02:00:00+00:00 day....\n"
     ]
    },
    {
     "name": "stderr",
     "output_type": "stream",
     "text": [
      "/home/olga/PycharmProjects/backtesting/venv/lib/python3.8/site-packages/statsmodels/tsa/deterministic.py:147: UserWarning: Only PeriodIndexes, DatetimeIndexes with a frequency set, RangesIndexes, and Int64Indexes with a unit increment support extending. The index is set will contain the position relative to the data length.\n",
      "  warnings.warn(\n"
     ]
    },
    {
     "name": "stdout",
     "output_type": "stream",
     "text": [
      "Predicted buy: 53569.26636154183, actual: 58650.39\n",
      "Predicted buy: 53569.26636154183, actual: 58680.26\n",
      "Predicted buy: 53569.26636154183, actual: 58355.79\n",
      "Predicted buy: 53569.26636154183, actual: 57736.46\n",
      "Predicted buy: 53569.26636154183, actual: 57301.81\n",
      "Predicted buy: 53569.26636154183, actual: 57455.0\n",
      "Predicted buy: 53569.26636154183, actual: 56700.0\n",
      "Predicted buy: 53569.26636154183, actual: 56849.75\n",
      "Predicted buy: 53569.26636154183, actual: 55516.85\n",
      "Predicted buy: 53569.26636154183, actual: 53400.0\n",
      "stop_loss = 48407.06203292374\n",
      "Bought BTC by 53569.26636154183 at 2021-05-10 20:05:00+00:00\n"
     ]
    },
    {
     "name": "stderr",
     "output_type": "stream",
     "text": [
      "/home/olga/PycharmProjects/backtesting/venv/lib/python3.8/site-packages/statsmodels/tsa/deterministic.py:147: UserWarning: Only PeriodIndexes, DatetimeIndexes with a frequency set, RangesIndexes, and Int64Indexes with a unit increment support extending. The index is set will contain the position relative to the data length.\n",
      "  warnings.warn(\n"
     ]
    },
    {
     "name": "stdout",
     "output_type": "stream",
     "text": [
      "Predicted sell: 59433.97139404371, actual: 59444.9\n",
      "Sold BTC by 59433.97139404371 at 2021-05-10 03:34:00+00:00\n",
      "\t\tSimulating 2021-05-10 02:00:00+00:00 day....\n"
     ]
    },
    {
     "name": "stderr",
     "output_type": "stream",
     "text": [
      "/home/olga/PycharmProjects/backtesting/venv/lib/python3.8/site-packages/statsmodels/tsa/deterministic.py:147: UserWarning: Only PeriodIndexes, DatetimeIndexes with a frequency set, RangesIndexes, and Int64Indexes with a unit increment support extending. The index is set will contain the position relative to the data length.\n",
      "  warnings.warn(\n"
     ]
    },
    {
     "name": "stdout",
     "output_type": "stream",
     "text": [
      "Predicted buy: 53569.26636154183, actual: 58650.39\n",
      "Predicted buy: 53569.26636154183, actual: 58680.26\n",
      "Predicted buy: 53569.26636154183, actual: 58355.79\n",
      "Predicted buy: 53569.26636154183, actual: 57736.46\n",
      "Predicted buy: 53569.26636154183, actual: 57301.81\n",
      "Predicted buy: 53569.26636154183, actual: 57455.0\n",
      "Predicted buy: 53569.26636154183, actual: 56700.0\n",
      "Predicted buy: 53569.26636154183, actual: 56849.75\n",
      "Predicted buy: 53569.26636154183, actual: 55516.85\n",
      "Predicted buy: 53569.26636154183, actual: 53400.0\n",
      "stop_loss = 48407.06203292374\n",
      "Bought BTC by 53569.26636154183 at 2021-05-10 20:05:00+00:00\n"
     ]
    },
    {
     "name": "stderr",
     "output_type": "stream",
     "text": [
      "/home/olga/PycharmProjects/backtesting/venv/lib/python3.8/site-packages/statsmodels/tsa/deterministic.py:147: UserWarning: Only PeriodIndexes, DatetimeIndexes with a frequency set, RangesIndexes, and Int64Indexes with a unit increment support extending. The index is set will contain the position relative to the data length.\n",
      "  warnings.warn(\n"
     ]
    },
    {
     "name": "stdout",
     "output_type": "stream",
     "text": [
      "Predicted sell: 59433.97139404371, actual: 59444.9\n",
      "Sold BTC by 59433.97139404371 at 2021-05-10 03:34:00+00:00\n",
      "\t\tSimulating 2021-05-10 02:00:00+00:00 day....\n"
     ]
    },
    {
     "name": "stderr",
     "output_type": "stream",
     "text": [
      "/home/olga/PycharmProjects/backtesting/venv/lib/python3.8/site-packages/statsmodels/tsa/deterministic.py:147: UserWarning: Only PeriodIndexes, DatetimeIndexes with a frequency set, RangesIndexes, and Int64Indexes with a unit increment support extending. The index is set will contain the position relative to the data length.\n",
      "  warnings.warn(\n"
     ]
    },
    {
     "name": "stdout",
     "output_type": "stream",
     "text": [
      "Predicted buy: 53569.26636154183, actual: 58650.39\n",
      "Predicted buy: 53569.26636154183, actual: 58680.26\n",
      "Predicted buy: 53569.26636154183, actual: 58355.79\n",
      "Predicted buy: 53569.26636154183, actual: 57736.46\n",
      "Predicted buy: 53569.26636154183, actual: 57301.81\n",
      "Predicted buy: 53569.26636154183, actual: 57455.0\n",
      "Predicted buy: 53569.26636154183, actual: 56700.0\n",
      "Predicted buy: 53569.26636154183, actual: 56849.75\n",
      "Predicted buy: 53569.26636154183, actual: 55516.85\n",
      "Predicted buy: 53569.26636154183, actual: 53400.0\n",
      "stop_loss = 48407.06203292374\n",
      "Bought BTC by 53569.26636154183 at 2021-05-10 20:05:00+00:00\n"
     ]
    },
    {
     "name": "stderr",
     "output_type": "stream",
     "text": [
      "/home/olga/PycharmProjects/backtesting/venv/lib/python3.8/site-packages/statsmodels/tsa/deterministic.py:147: UserWarning: Only PeriodIndexes, DatetimeIndexes with a frequency set, RangesIndexes, and Int64Indexes with a unit increment support extending. The index is set will contain the position relative to the data length.\n",
      "  warnings.warn(\n"
     ]
    },
    {
     "name": "stdout",
     "output_type": "stream",
     "text": [
      "Predicted sell: 59433.97139404371, actual: 59444.9\n",
      "Sold BTC by 59433.97139404371 at 2021-05-10 03:34:00+00:00\n",
      "\t\tSimulating 2021-05-10 02:00:00+00:00 day....\n"
     ]
    },
    {
     "name": "stderr",
     "output_type": "stream",
     "text": [
      "/home/olga/PycharmProjects/backtesting/venv/lib/python3.8/site-packages/statsmodels/tsa/deterministic.py:147: UserWarning: Only PeriodIndexes, DatetimeIndexes with a frequency set, RangesIndexes, and Int64Indexes with a unit increment support extending. The index is set will contain the position relative to the data length.\n",
      "  warnings.warn(\n"
     ]
    },
    {
     "name": "stdout",
     "output_type": "stream",
     "text": [
      "Predicted buy: 53569.26636154183, actual: 58650.39\n",
      "Predicted buy: 53569.26636154183, actual: 58680.26\n",
      "Predicted buy: 53569.26636154183, actual: 58355.79\n",
      "Predicted buy: 53569.26636154183, actual: 57736.46\n",
      "Predicted buy: 53569.26636154183, actual: 57301.81\n",
      "Predicted buy: 53569.26636154183, actual: 57455.0\n",
      "Predicted buy: 53569.26636154183, actual: 56700.0\n",
      "Predicted buy: 53569.26636154183, actual: 56849.75\n",
      "Predicted buy: 53569.26636154183, actual: 55516.85\n",
      "Predicted buy: 53569.26636154183, actual: 53400.0\n",
      "stop_loss = 48407.06203292374\n",
      "Bought BTC by 53569.26636154183 at 2021-05-10 20:05:00+00:00\n"
     ]
    },
    {
     "name": "stderr",
     "output_type": "stream",
     "text": [
      "/home/olga/PycharmProjects/backtesting/venv/lib/python3.8/site-packages/statsmodels/tsa/deterministic.py:147: UserWarning: Only PeriodIndexes, DatetimeIndexes with a frequency set, RangesIndexes, and Int64Indexes with a unit increment support extending. The index is set will contain the position relative to the data length.\n",
      "  warnings.warn(\n"
     ]
    },
    {
     "name": "stdout",
     "output_type": "stream",
     "text": [
      "Predicted sell: 59433.97139404371, actual: 59444.9\n",
      "Sold BTC by 59433.97139404371 at 2021-05-10 03:34:00+00:00\n",
      "\t\tSimulating 2021-05-10 02:00:00+00:00 day....\n"
     ]
    },
    {
     "name": "stderr",
     "output_type": "stream",
     "text": [
      "/home/olga/PycharmProjects/backtesting/venv/lib/python3.8/site-packages/statsmodels/tsa/deterministic.py:147: UserWarning: Only PeriodIndexes, DatetimeIndexes with a frequency set, RangesIndexes, and Int64Indexes with a unit increment support extending. The index is set will contain the position relative to the data length.\n",
      "  warnings.warn(\n"
     ]
    },
    {
     "name": "stdout",
     "output_type": "stream",
     "text": [
      "Predicted buy: 53569.26636154183, actual: 58650.39\n",
      "Predicted buy: 53569.26636154183, actual: 58680.26\n",
      "Predicted buy: 53569.26636154183, actual: 58355.79\n",
      "Predicted buy: 53569.26636154183, actual: 57736.46\n",
      "Predicted buy: 53569.26636154183, actual: 57301.81\n",
      "Predicted buy: 53569.26636154183, actual: 57455.0\n",
      "Predicted buy: 53569.26636154183, actual: 56700.0\n",
      "Predicted buy: 53569.26636154183, actual: 56849.75\n",
      "Predicted buy: 53569.26636154183, actual: 55516.85\n",
      "Predicted buy: 53569.26636154183, actual: 53400.0\n",
      "stop_loss = 48407.06203292374\n",
      "Bought BTC by 53569.26636154183 at 2021-05-10 20:05:00+00:00\n"
     ]
    },
    {
     "name": "stderr",
     "output_type": "stream",
     "text": [
      "/home/olga/PycharmProjects/backtesting/venv/lib/python3.8/site-packages/statsmodels/tsa/deterministic.py:147: UserWarning: Only PeriodIndexes, DatetimeIndexes with a frequency set, RangesIndexes, and Int64Indexes with a unit increment support extending. The index is set will contain the position relative to the data length.\n",
      "  warnings.warn(\n"
     ]
    },
    {
     "name": "stdout",
     "output_type": "stream",
     "text": [
      "Predicted sell: 59433.97139404371, actual: 59444.9\n",
      "Sold BTC by 59433.97139404371 at 2021-05-10 03:34:00+00:00\n",
      "\t\tSimulating 2021-05-10 02:00:00+00:00 day....\n"
     ]
    },
    {
     "name": "stderr",
     "output_type": "stream",
     "text": [
      "/home/olga/PycharmProjects/backtesting/venv/lib/python3.8/site-packages/statsmodels/tsa/deterministic.py:147: UserWarning: Only PeriodIndexes, DatetimeIndexes with a frequency set, RangesIndexes, and Int64Indexes with a unit increment support extending. The index is set will contain the position relative to the data length.\n",
      "  warnings.warn(\n"
     ]
    },
    {
     "name": "stdout",
     "output_type": "stream",
     "text": [
      "Predicted buy: 53569.26636154183, actual: 58650.39\n",
      "Predicted buy: 53569.26636154183, actual: 58680.26\n",
      "Predicted buy: 53569.26636154183, actual: 58355.79\n",
      "Predicted buy: 53569.26636154183, actual: 57736.46\n",
      "Predicted buy: 53569.26636154183, actual: 57301.81\n",
      "Predicted buy: 53569.26636154183, actual: 57455.0\n",
      "Predicted buy: 53569.26636154183, actual: 56700.0\n",
      "Predicted buy: 53569.26636154183, actual: 56849.75\n",
      "Predicted buy: 53569.26636154183, actual: 55516.85\n",
      "Predicted buy: 53569.26636154183, actual: 53400.0\n",
      "stop_loss = 48407.06203292374\n",
      "Bought BTC by 53569.26636154183 at 2021-05-10 20:05:00+00:00\n"
     ]
    },
    {
     "name": "stderr",
     "output_type": "stream",
     "text": [
      "/home/olga/PycharmProjects/backtesting/venv/lib/python3.8/site-packages/statsmodels/tsa/deterministic.py:147: UserWarning: Only PeriodIndexes, DatetimeIndexes with a frequency set, RangesIndexes, and Int64Indexes with a unit increment support extending. The index is set will contain the position relative to the data length.\n",
      "  warnings.warn(\n"
     ]
    },
    {
     "name": "stdout",
     "output_type": "stream",
     "text": [
      "Predicted sell: 59433.97139404371, actual: 59444.9\n",
      "Sold BTC by 59433.97139404371 at 2021-05-10 03:34:00+00:00\n",
      "\t\tSimulating 2021-05-10 02:00:00+00:00 day....\n"
     ]
    },
    {
     "name": "stderr",
     "output_type": "stream",
     "text": [
      "/home/olga/PycharmProjects/backtesting/venv/lib/python3.8/site-packages/statsmodels/tsa/deterministic.py:147: UserWarning: Only PeriodIndexes, DatetimeIndexes with a frequency set, RangesIndexes, and Int64Indexes with a unit increment support extending. The index is set will contain the position relative to the data length.\n",
      "  warnings.warn(\n"
     ]
    },
    {
     "name": "stdout",
     "output_type": "stream",
     "text": [
      "Predicted buy: 53569.26636154183, actual: 58650.39\n",
      "Predicted buy: 53569.26636154183, actual: 58680.26\n",
      "Predicted buy: 53569.26636154183, actual: 58355.79\n",
      "Predicted buy: 53569.26636154183, actual: 57736.46\n",
      "Predicted buy: 53569.26636154183, actual: 57301.81\n",
      "Predicted buy: 53569.26636154183, actual: 57455.0\n",
      "Predicted buy: 53569.26636154183, actual: 56700.0\n",
      "Predicted buy: 53569.26636154183, actual: 56849.75\n",
      "Predicted buy: 53569.26636154183, actual: 55516.85\n",
      "Predicted buy: 53569.26636154183, actual: 53400.0\n",
      "stop_loss = 48407.06203292374\n",
      "Bought BTC by 53569.26636154183 at 2021-05-10 20:05:00+00:00\n"
     ]
    },
    {
     "name": "stderr",
     "output_type": "stream",
     "text": [
      "/home/olga/PycharmProjects/backtesting/venv/lib/python3.8/site-packages/statsmodels/tsa/deterministic.py:147: UserWarning: Only PeriodIndexes, DatetimeIndexes with a frequency set, RangesIndexes, and Int64Indexes with a unit increment support extending. The index is set will contain the position relative to the data length.\n",
      "  warnings.warn(\n"
     ]
    },
    {
     "name": "stdout",
     "output_type": "stream",
     "text": [
      "Predicted sell: 59433.97139404371, actual: 59444.9\n",
      "Sold BTC by 59433.97139404371 at 2021-05-10 03:34:00+00:00\n",
      "\t\tSimulating 2021-05-10 02:00:00+00:00 day....\n"
     ]
    },
    {
     "name": "stderr",
     "output_type": "stream",
     "text": [
      "/home/olga/PycharmProjects/backtesting/venv/lib/python3.8/site-packages/statsmodels/tsa/deterministic.py:147: UserWarning: Only PeriodIndexes, DatetimeIndexes with a frequency set, RangesIndexes, and Int64Indexes with a unit increment support extending. The index is set will contain the position relative to the data length.\n",
      "  warnings.warn(\n"
     ]
    },
    {
     "name": "stdout",
     "output_type": "stream",
     "text": [
      "Predicted buy: 53569.26636154183, actual: 58650.39\n",
      "Predicted buy: 53569.26636154183, actual: 58680.26\n",
      "Predicted buy: 53569.26636154183, actual: 58355.79\n",
      "Predicted buy: 53569.26636154183, actual: 57736.46\n",
      "Predicted buy: 53569.26636154183, actual: 57301.81\n",
      "Predicted buy: 53569.26636154183, actual: 57455.0\n",
      "Predicted buy: 53569.26636154183, actual: 56700.0\n",
      "Predicted buy: 53569.26636154183, actual: 56849.75\n",
      "Predicted buy: 53569.26636154183, actual: 55516.85\n",
      "Predicted buy: 53569.26636154183, actual: 53400.0\n",
      "stop_loss = 48407.06203292374\n",
      "Bought BTC by 53569.26636154183 at 2021-05-10 20:05:00+00:00\n"
     ]
    },
    {
     "name": "stderr",
     "output_type": "stream",
     "text": [
      "/home/olga/PycharmProjects/backtesting/venv/lib/python3.8/site-packages/statsmodels/tsa/deterministic.py:147: UserWarning: Only PeriodIndexes, DatetimeIndexes with a frequency set, RangesIndexes, and Int64Indexes with a unit increment support extending. The index is set will contain the position relative to the data length.\n",
      "  warnings.warn(\n"
     ]
    },
    {
     "name": "stdout",
     "output_type": "stream",
     "text": [
      "Predicted sell: 59433.97139404371, actual: 59444.9\n",
      "Sold BTC by 59433.97139404371 at 2021-05-10 03:34:00+00:00\n",
      "\t\tSimulating 2021-05-10 02:00:00+00:00 day....\n"
     ]
    },
    {
     "name": "stderr",
     "output_type": "stream",
     "text": [
      "/home/olga/PycharmProjects/backtesting/venv/lib/python3.8/site-packages/statsmodels/tsa/deterministic.py:147: UserWarning: Only PeriodIndexes, DatetimeIndexes with a frequency set, RangesIndexes, and Int64Indexes with a unit increment support extending. The index is set will contain the position relative to the data length.\n",
      "  warnings.warn(\n"
     ]
    },
    {
     "name": "stdout",
     "output_type": "stream",
     "text": [
      "Predicted buy: 53569.26636154183, actual: 58650.39\n",
      "Predicted buy: 53569.26636154183, actual: 58680.26\n",
      "Predicted buy: 53569.26636154183, actual: 58355.79\n",
      "Predicted buy: 53569.26636154183, actual: 57736.46\n",
      "Predicted buy: 53569.26636154183, actual: 57301.81\n",
      "Predicted buy: 53569.26636154183, actual: 57455.0\n",
      "Predicted buy: 53569.26636154183, actual: 56700.0\n",
      "Predicted buy: 53569.26636154183, actual: 56849.75\n",
      "Predicted buy: 53569.26636154183, actual: 55516.85\n",
      "Predicted buy: 53569.26636154183, actual: 53400.0\n",
      "stop_loss = 48407.06203292374\n",
      "Bought BTC by 53569.26636154183 at 2021-05-10 20:05:00+00:00\n"
     ]
    },
    {
     "name": "stderr",
     "output_type": "stream",
     "text": [
      "/home/olga/PycharmProjects/backtesting/venv/lib/python3.8/site-packages/statsmodels/tsa/deterministic.py:147: UserWarning: Only PeriodIndexes, DatetimeIndexes with a frequency set, RangesIndexes, and Int64Indexes with a unit increment support extending. The index is set will contain the position relative to the data length.\n",
      "  warnings.warn(\n"
     ]
    },
    {
     "name": "stdout",
     "output_type": "stream",
     "text": [
      "Predicted sell: 59433.97139404371, actual: 59444.9\n",
      "Sold BTC by 59433.97139404371 at 2021-05-10 03:34:00+00:00\n",
      "\t\tSimulating 2021-05-10 02:00:00+00:00 day....\n"
     ]
    },
    {
     "name": "stderr",
     "output_type": "stream",
     "text": [
      "/home/olga/PycharmProjects/backtesting/venv/lib/python3.8/site-packages/statsmodels/tsa/deterministic.py:147: UserWarning: Only PeriodIndexes, DatetimeIndexes with a frequency set, RangesIndexes, and Int64Indexes with a unit increment support extending. The index is set will contain the position relative to the data length.\n",
      "  warnings.warn(\n"
     ]
    },
    {
     "name": "stdout",
     "output_type": "stream",
     "text": [
      "Predicted buy: 53569.26636154183, actual: 58650.39\n",
      "Predicted buy: 53569.26636154183, actual: 58680.26\n",
      "Predicted buy: 53569.26636154183, actual: 58355.79\n",
      "Predicted buy: 53569.26636154183, actual: 57736.46\n",
      "Predicted buy: 53569.26636154183, actual: 57301.81\n",
      "Predicted buy: 53569.26636154183, actual: 57455.0\n",
      "Predicted buy: 53569.26636154183, actual: 56700.0\n",
      "Predicted buy: 53569.26636154183, actual: 56849.75\n",
      "Predicted buy: 53569.26636154183, actual: 55516.85\n",
      "Predicted buy: 53569.26636154183, actual: 53400.0\n",
      "stop_loss = 48407.06203292374\n",
      "Bought BTC by 53569.26636154183 at 2021-05-10 20:05:00+00:00\n"
     ]
    },
    {
     "name": "stderr",
     "output_type": "stream",
     "text": [
      "/home/olga/PycharmProjects/backtesting/venv/lib/python3.8/site-packages/statsmodels/tsa/deterministic.py:147: UserWarning: Only PeriodIndexes, DatetimeIndexes with a frequency set, RangesIndexes, and Int64Indexes with a unit increment support extending. The index is set will contain the position relative to the data length.\n",
      "  warnings.warn(\n"
     ]
    },
    {
     "name": "stdout",
     "output_type": "stream",
     "text": [
      "Predicted sell: 59433.97139404371, actual: 59444.9\n",
      "Sold BTC by 59433.97139404371 at 2021-05-10 03:34:00+00:00\n",
      "\t\tSimulating 2021-05-10 02:00:00+00:00 day....\n"
     ]
    },
    {
     "name": "stderr",
     "output_type": "stream",
     "text": [
      "/home/olga/PycharmProjects/backtesting/venv/lib/python3.8/site-packages/statsmodels/tsa/deterministic.py:147: UserWarning: Only PeriodIndexes, DatetimeIndexes with a frequency set, RangesIndexes, and Int64Indexes with a unit increment support extending. The index is set will contain the position relative to the data length.\n",
      "  warnings.warn(\n"
     ]
    },
    {
     "name": "stdout",
     "output_type": "stream",
     "text": [
      "Predicted buy: 53569.26636154183, actual: 58650.39\n",
      "Predicted buy: 53569.26636154183, actual: 58680.26\n",
      "Predicted buy: 53569.26636154183, actual: 58355.79\n",
      "Predicted buy: 53569.26636154183, actual: 57736.46\n",
      "Predicted buy: 53569.26636154183, actual: 57301.81\n",
      "Predicted buy: 53569.26636154183, actual: 57455.0\n",
      "Predicted buy: 53569.26636154183, actual: 56700.0\n",
      "Predicted buy: 53569.26636154183, actual: 56849.75\n",
      "Predicted buy: 53569.26636154183, actual: 55516.85\n",
      "Predicted buy: 53569.26636154183, actual: 53400.0\n",
      "stop_loss = 48407.06203292374\n",
      "Bought BTC by 53569.26636154183 at 2021-05-10 20:05:00+00:00\n"
     ]
    },
    {
     "name": "stderr",
     "output_type": "stream",
     "text": [
      "/home/olga/PycharmProjects/backtesting/venv/lib/python3.8/site-packages/statsmodels/tsa/deterministic.py:147: UserWarning: Only PeriodIndexes, DatetimeIndexes with a frequency set, RangesIndexes, and Int64Indexes with a unit increment support extending. The index is set will contain the position relative to the data length.\n",
      "  warnings.warn(\n"
     ]
    },
    {
     "name": "stdout",
     "output_type": "stream",
     "text": [
      "Predicted sell: 59433.97139404371, actual: 59444.9\n",
      "Sold BTC by 59433.97139404371 at 2021-05-10 03:34:00+00:00\n",
      "\t\tSimulating 2021-05-10 02:00:00+00:00 day....\n"
     ]
    },
    {
     "name": "stderr",
     "output_type": "stream",
     "text": [
      "/home/olga/PycharmProjects/backtesting/venv/lib/python3.8/site-packages/statsmodels/tsa/deterministic.py:147: UserWarning: Only PeriodIndexes, DatetimeIndexes with a frequency set, RangesIndexes, and Int64Indexes with a unit increment support extending. The index is set will contain the position relative to the data length.\n",
      "  warnings.warn(\n"
     ]
    },
    {
     "name": "stdout",
     "output_type": "stream",
     "text": [
      "Predicted buy: 53569.26636154183, actual: 58650.39\n",
      "Predicted buy: 53569.26636154183, actual: 58680.26\n",
      "Predicted buy: 53569.26636154183, actual: 58355.79\n",
      "Predicted buy: 53569.26636154183, actual: 57736.46\n",
      "Predicted buy: 53569.26636154183, actual: 57301.81\n",
      "Predicted buy: 53569.26636154183, actual: 57455.0\n",
      "Predicted buy: 53569.26636154183, actual: 56700.0\n",
      "Predicted buy: 53569.26636154183, actual: 56849.75\n",
      "Predicted buy: 53569.26636154183, actual: 55516.85\n",
      "Predicted buy: 53569.26636154183, actual: 53400.0\n",
      "stop_loss = 48407.06203292374\n",
      "Bought BTC by 53569.26636154183 at 2021-05-10 20:05:00+00:00\n"
     ]
    },
    {
     "name": "stderr",
     "output_type": "stream",
     "text": [
      "/home/olga/PycharmProjects/backtesting/venv/lib/python3.8/site-packages/statsmodels/tsa/deterministic.py:147: UserWarning: Only PeriodIndexes, DatetimeIndexes with a frequency set, RangesIndexes, and Int64Indexes with a unit increment support extending. The index is set will contain the position relative to the data length.\n",
      "  warnings.warn(\n"
     ]
    },
    {
     "name": "stdout",
     "output_type": "stream",
     "text": [
      "Predicted sell: 59433.97139404371, actual: 59444.9\n",
      "Sold BTC by 59433.97139404371 at 2021-05-10 03:34:00+00:00\n",
      "\t\tSimulating 2021-05-10 02:00:00+00:00 day....\n"
     ]
    },
    {
     "name": "stderr",
     "output_type": "stream",
     "text": [
      "/home/olga/PycharmProjects/backtesting/venv/lib/python3.8/site-packages/statsmodels/tsa/deterministic.py:147: UserWarning: Only PeriodIndexes, DatetimeIndexes with a frequency set, RangesIndexes, and Int64Indexes with a unit increment support extending. The index is set will contain the position relative to the data length.\n",
      "  warnings.warn(\n"
     ]
    },
    {
     "name": "stdout",
     "output_type": "stream",
     "text": [
      "Predicted buy: 53569.26636154183, actual: 58650.39\n",
      "Predicted buy: 53569.26636154183, actual: 58680.26\n",
      "Predicted buy: 53569.26636154183, actual: 58355.79\n",
      "Predicted buy: 53569.26636154183, actual: 57736.46\n",
      "Predicted buy: 53569.26636154183, actual: 57301.81\n",
      "Predicted buy: 53569.26636154183, actual: 57455.0\n",
      "Predicted buy: 53569.26636154183, actual: 56700.0\n",
      "Predicted buy: 53569.26636154183, actual: 56849.75\n",
      "Predicted buy: 53569.26636154183, actual: 55516.85\n",
      "Predicted buy: 53569.26636154183, actual: 53400.0\n",
      "stop_loss = 48407.06203292374\n",
      "Bought BTC by 53569.26636154183 at 2021-05-10 20:05:00+00:00\n"
     ]
    },
    {
     "name": "stderr",
     "output_type": "stream",
     "text": [
      "/home/olga/PycharmProjects/backtesting/venv/lib/python3.8/site-packages/statsmodels/tsa/deterministic.py:147: UserWarning: Only PeriodIndexes, DatetimeIndexes with a frequency set, RangesIndexes, and Int64Indexes with a unit increment support extending. The index is set will contain the position relative to the data length.\n",
      "  warnings.warn(\n"
     ]
    },
    {
     "name": "stdout",
     "output_type": "stream",
     "text": [
      "Predicted sell: 59433.97139404371, actual: 59444.9\n",
      "Sold BTC by 59433.97139404371 at 2021-05-10 03:34:00+00:00\n",
      "\t\tSimulating 2021-05-10 02:00:00+00:00 day....\n"
     ]
    },
    {
     "name": "stderr",
     "output_type": "stream",
     "text": [
      "/home/olga/PycharmProjects/backtesting/venv/lib/python3.8/site-packages/statsmodels/tsa/deterministic.py:147: UserWarning: Only PeriodIndexes, DatetimeIndexes with a frequency set, RangesIndexes, and Int64Indexes with a unit increment support extending. The index is set will contain the position relative to the data length.\n",
      "  warnings.warn(\n"
     ]
    },
    {
     "name": "stdout",
     "output_type": "stream",
     "text": [
      "Predicted buy: 53569.26636154183, actual: 58650.39\n",
      "Predicted buy: 53569.26636154183, actual: 58680.26\n",
      "Predicted buy: 53569.26636154183, actual: 58355.79\n",
      "Predicted buy: 53569.26636154183, actual: 57736.46\n",
      "Predicted buy: 53569.26636154183, actual: 57301.81\n",
      "Predicted buy: 53569.26636154183, actual: 57455.0\n",
      "Predicted buy: 53569.26636154183, actual: 56700.0\n",
      "Predicted buy: 53569.26636154183, actual: 56849.75\n",
      "Predicted buy: 53569.26636154183, actual: 55516.85\n",
      "Predicted buy: 53569.26636154183, actual: 53400.0\n",
      "stop_loss = 48407.06203292374\n",
      "Bought BTC by 53569.26636154183 at 2021-05-10 20:05:00+00:00\n"
     ]
    },
    {
     "name": "stderr",
     "output_type": "stream",
     "text": [
      "/home/olga/PycharmProjects/backtesting/venv/lib/python3.8/site-packages/statsmodels/tsa/deterministic.py:147: UserWarning: Only PeriodIndexes, DatetimeIndexes with a frequency set, RangesIndexes, and Int64Indexes with a unit increment support extending. The index is set will contain the position relative to the data length.\n",
      "  warnings.warn(\n"
     ]
    },
    {
     "name": "stdout",
     "output_type": "stream",
     "text": [
      "Predicted sell: 59433.97139404371, actual: 59444.9\n",
      "Sold BTC by 59433.97139404371 at 2021-05-10 03:34:00+00:00\n",
      "\t\tSimulating 2021-05-10 02:00:00+00:00 day....\n"
     ]
    },
    {
     "name": "stderr",
     "output_type": "stream",
     "text": [
      "/home/olga/PycharmProjects/backtesting/venv/lib/python3.8/site-packages/statsmodels/tsa/deterministic.py:147: UserWarning: Only PeriodIndexes, DatetimeIndexes with a frequency set, RangesIndexes, and Int64Indexes with a unit increment support extending. The index is set will contain the position relative to the data length.\n",
      "  warnings.warn(\n"
     ]
    },
    {
     "name": "stdout",
     "output_type": "stream",
     "text": [
      "Predicted buy: 53569.26636154183, actual: 58650.39\n",
      "Predicted buy: 53569.26636154183, actual: 58680.26\n",
      "Predicted buy: 53569.26636154183, actual: 58355.79\n",
      "Predicted buy: 53569.26636154183, actual: 57736.46\n",
      "Predicted buy: 53569.26636154183, actual: 57301.81\n",
      "Predicted buy: 53569.26636154183, actual: 57455.0\n",
      "Predicted buy: 53569.26636154183, actual: 56700.0\n",
      "Predicted buy: 53569.26636154183, actual: 56849.75\n",
      "Predicted buy: 53569.26636154183, actual: 55516.85\n",
      "Predicted buy: 53569.26636154183, actual: 53400.0\n",
      "stop_loss = 48407.06203292374\n",
      "Bought BTC by 53569.26636154183 at 2021-05-10 20:05:00+00:00\n"
     ]
    },
    {
     "name": "stderr",
     "output_type": "stream",
     "text": [
      "/home/olga/PycharmProjects/backtesting/venv/lib/python3.8/site-packages/statsmodels/tsa/deterministic.py:147: UserWarning: Only PeriodIndexes, DatetimeIndexes with a frequency set, RangesIndexes, and Int64Indexes with a unit increment support extending. The index is set will contain the position relative to the data length.\n",
      "  warnings.warn(\n"
     ]
    },
    {
     "name": "stdout",
     "output_type": "stream",
     "text": [
      "Predicted sell: 59433.97139404371, actual: 59444.9\n",
      "Sold BTC by 59433.97139404371 at 2021-05-10 03:34:00+00:00\n",
      "\t\tSimulating 2021-05-10 02:00:00+00:00 day....\n"
     ]
    },
    {
     "name": "stderr",
     "output_type": "stream",
     "text": [
      "/home/olga/PycharmProjects/backtesting/venv/lib/python3.8/site-packages/statsmodels/tsa/deterministic.py:147: UserWarning: Only PeriodIndexes, DatetimeIndexes with a frequency set, RangesIndexes, and Int64Indexes with a unit increment support extending. The index is set will contain the position relative to the data length.\n",
      "  warnings.warn(\n"
     ]
    },
    {
     "name": "stdout",
     "output_type": "stream",
     "text": [
      "Predicted buy: 53569.26636154183, actual: 58650.39\n",
      "Predicted buy: 53569.26636154183, actual: 58680.26\n",
      "Predicted buy: 53569.26636154183, actual: 58355.79\n",
      "Predicted buy: 53569.26636154183, actual: 57736.46\n",
      "Predicted buy: 53569.26636154183, actual: 57301.81\n",
      "Predicted buy: 53569.26636154183, actual: 57455.0\n",
      "Predicted buy: 53569.26636154183, actual: 56700.0\n",
      "Predicted buy: 53569.26636154183, actual: 56849.75\n",
      "Predicted buy: 53569.26636154183, actual: 55516.85\n",
      "Predicted buy: 53569.26636154183, actual: 53400.0\n",
      "stop_loss = 48407.06203292374\n",
      "Bought BTC by 53569.26636154183 at 2021-05-10 20:05:00+00:00\n"
     ]
    },
    {
     "name": "stderr",
     "output_type": "stream",
     "text": [
      "/home/olga/PycharmProjects/backtesting/venv/lib/python3.8/site-packages/statsmodels/tsa/deterministic.py:147: UserWarning: Only PeriodIndexes, DatetimeIndexes with a frequency set, RangesIndexes, and Int64Indexes with a unit increment support extending. The index is set will contain the position relative to the data length.\n",
      "  warnings.warn(\n"
     ]
    },
    {
     "name": "stdout",
     "output_type": "stream",
     "text": [
      "Predicted sell: 59433.97139404371, actual: 59444.9\n",
      "Sold BTC by 59433.97139404371 at 2021-05-10 03:34:00+00:00\n",
      "\t\tSimulating 2021-05-10 02:00:00+00:00 day....\n"
     ]
    },
    {
     "name": "stderr",
     "output_type": "stream",
     "text": [
      "/home/olga/PycharmProjects/backtesting/venv/lib/python3.8/site-packages/statsmodels/tsa/deterministic.py:147: UserWarning: Only PeriodIndexes, DatetimeIndexes with a frequency set, RangesIndexes, and Int64Indexes with a unit increment support extending. The index is set will contain the position relative to the data length.\n",
      "  warnings.warn(\n"
     ]
    },
    {
     "name": "stdout",
     "output_type": "stream",
     "text": [
      "Predicted buy: 53569.26636154183, actual: 58650.39\n",
      "Predicted buy: 53569.26636154183, actual: 58680.26\n",
      "Predicted buy: 53569.26636154183, actual: 58355.79\n",
      "Predicted buy: 53569.26636154183, actual: 57736.46\n",
      "Predicted buy: 53569.26636154183, actual: 57301.81\n",
      "Predicted buy: 53569.26636154183, actual: 57455.0\n",
      "Predicted buy: 53569.26636154183, actual: 56700.0\n",
      "Predicted buy: 53569.26636154183, actual: 56849.75\n",
      "Predicted buy: 53569.26636154183, actual: 55516.85\n",
      "Predicted buy: 53569.26636154183, actual: 53400.0\n",
      "stop_loss = 48407.06203292374\n",
      "Bought BTC by 53569.26636154183 at 2021-05-10 20:05:00+00:00\n"
     ]
    },
    {
     "name": "stderr",
     "output_type": "stream",
     "text": [
      "/home/olga/PycharmProjects/backtesting/venv/lib/python3.8/site-packages/statsmodels/tsa/deterministic.py:147: UserWarning: Only PeriodIndexes, DatetimeIndexes with a frequency set, RangesIndexes, and Int64Indexes with a unit increment support extending. The index is set will contain the position relative to the data length.\n",
      "  warnings.warn(\n"
     ]
    },
    {
     "name": "stdout",
     "output_type": "stream",
     "text": [
      "Predicted sell: 59433.97139404371, actual: 59444.9\n",
      "Sold BTC by 59433.97139404371 at 2021-05-10 03:34:00+00:00\n",
      "\t\tSimulating 2021-05-10 02:00:00+00:00 day....\n"
     ]
    },
    {
     "name": "stderr",
     "output_type": "stream",
     "text": [
      "/home/olga/PycharmProjects/backtesting/venv/lib/python3.8/site-packages/statsmodels/tsa/deterministic.py:147: UserWarning: Only PeriodIndexes, DatetimeIndexes with a frequency set, RangesIndexes, and Int64Indexes with a unit increment support extending. The index is set will contain the position relative to the data length.\n",
      "  warnings.warn(\n"
     ]
    },
    {
     "name": "stdout",
     "output_type": "stream",
     "text": [
      "Predicted buy: 53569.26636154183, actual: 58650.39\n",
      "Predicted buy: 53569.26636154183, actual: 58680.26\n",
      "Predicted buy: 53569.26636154183, actual: 58355.79\n",
      "Predicted buy: 53569.26636154183, actual: 57736.46\n",
      "Predicted buy: 53569.26636154183, actual: 57301.81\n",
      "Predicted buy: 53569.26636154183, actual: 57455.0\n",
      "Predicted buy: 53569.26636154183, actual: 56700.0\n",
      "Predicted buy: 53569.26636154183, actual: 56849.75\n",
      "Predicted buy: 53569.26636154183, actual: 55516.85\n",
      "Predicted buy: 53569.26636154183, actual: 53400.0\n",
      "stop_loss = 48407.06203292374\n",
      "Bought BTC by 53569.26636154183 at 2021-05-10 20:05:00+00:00\n"
     ]
    },
    {
     "name": "stderr",
     "output_type": "stream",
     "text": [
      "/home/olga/PycharmProjects/backtesting/venv/lib/python3.8/site-packages/statsmodels/tsa/deterministic.py:147: UserWarning: Only PeriodIndexes, DatetimeIndexes with a frequency set, RangesIndexes, and Int64Indexes with a unit increment support extending. The index is set will contain the position relative to the data length.\n",
      "  warnings.warn(\n"
     ]
    },
    {
     "name": "stdout",
     "output_type": "stream",
     "text": [
      "Predicted sell: 59433.97139404371, actual: 59444.9\n",
      "Sold BTC by 59433.97139404371 at 2021-05-10 03:34:00+00:00\n",
      "\t\tSimulating 2021-05-10 02:00:00+00:00 day....\n"
     ]
    },
    {
     "name": "stderr",
     "output_type": "stream",
     "text": [
      "/home/olga/PycharmProjects/backtesting/venv/lib/python3.8/site-packages/statsmodels/tsa/deterministic.py:147: UserWarning: Only PeriodIndexes, DatetimeIndexes with a frequency set, RangesIndexes, and Int64Indexes with a unit increment support extending. The index is set will contain the position relative to the data length.\n",
      "  warnings.warn(\n"
     ]
    },
    {
     "name": "stdout",
     "output_type": "stream",
     "text": [
      "Predicted buy: 53569.26636154183, actual: 58650.39\n",
      "Predicted buy: 53569.26636154183, actual: 58680.26\n",
      "Predicted buy: 53569.26636154183, actual: 58355.79\n",
      "Predicted buy: 53569.26636154183, actual: 57736.46\n",
      "Predicted buy: 53569.26636154183, actual: 57301.81\n",
      "Predicted buy: 53569.26636154183, actual: 57455.0\n",
      "Predicted buy: 53569.26636154183, actual: 56700.0\n",
      "Predicted buy: 53569.26636154183, actual: 56849.75\n",
      "Predicted buy: 53569.26636154183, actual: 55516.85\n",
      "Predicted buy: 53569.26636154183, actual: 53400.0\n",
      "stop_loss = 48407.06203292374\n",
      "Bought BTC by 53569.26636154183 at 2021-05-10 20:05:00+00:00\n"
     ]
    },
    {
     "name": "stderr",
     "output_type": "stream",
     "text": [
      "/home/olga/PycharmProjects/backtesting/venv/lib/python3.8/site-packages/statsmodels/tsa/deterministic.py:147: UserWarning: Only PeriodIndexes, DatetimeIndexes with a frequency set, RangesIndexes, and Int64Indexes with a unit increment support extending. The index is set will contain the position relative to the data length.\n",
      "  warnings.warn(\n"
     ]
    },
    {
     "name": "stdout",
     "output_type": "stream",
     "text": [
      "Predicted sell: 59433.97139404371, actual: 59444.9\n",
      "Sold BTC by 59433.97139404371 at 2021-05-10 03:34:00+00:00\n",
      "\t\tSimulating 2021-05-10 02:00:00+00:00 day....\n"
     ]
    },
    {
     "name": "stderr",
     "output_type": "stream",
     "text": [
      "/home/olga/PycharmProjects/backtesting/venv/lib/python3.8/site-packages/statsmodels/tsa/deterministic.py:147: UserWarning: Only PeriodIndexes, DatetimeIndexes with a frequency set, RangesIndexes, and Int64Indexes with a unit increment support extending. The index is set will contain the position relative to the data length.\n",
      "  warnings.warn(\n"
     ]
    },
    {
     "name": "stdout",
     "output_type": "stream",
     "text": [
      "Predicted buy: 53569.26636154183, actual: 58650.39\n",
      "Predicted buy: 53569.26636154183, actual: 58680.26\n",
      "Predicted buy: 53569.26636154183, actual: 58355.79\n",
      "Predicted buy: 53569.26636154183, actual: 57736.46\n",
      "Predicted buy: 53569.26636154183, actual: 57301.81\n",
      "Predicted buy: 53569.26636154183, actual: 57455.0\n",
      "Predicted buy: 53569.26636154183, actual: 56700.0\n",
      "Predicted buy: 53569.26636154183, actual: 56849.75\n",
      "Predicted buy: 53569.26636154183, actual: 55516.85\n",
      "Predicted buy: 53569.26636154183, actual: 53400.0\n",
      "stop_loss = 48407.06203292374\n",
      "Bought BTC by 53569.26636154183 at 2021-05-10 20:05:00+00:00\n"
     ]
    },
    {
     "name": "stderr",
     "output_type": "stream",
     "text": [
      "/home/olga/PycharmProjects/backtesting/venv/lib/python3.8/site-packages/statsmodels/tsa/deterministic.py:147: UserWarning: Only PeriodIndexes, DatetimeIndexes with a frequency set, RangesIndexes, and Int64Indexes with a unit increment support extending. The index is set will contain the position relative to the data length.\n",
      "  warnings.warn(\n"
     ]
    },
    {
     "name": "stdout",
     "output_type": "stream",
     "text": [
      "Predicted sell: 59433.97139404371, actual: 59444.9\n",
      "Sold BTC by 59433.97139404371 at 2021-05-10 03:34:00+00:00\n",
      "\t\tSimulating 2021-05-10 02:00:00+00:00 day....\n"
     ]
    },
    {
     "name": "stderr",
     "output_type": "stream",
     "text": [
      "/home/olga/PycharmProjects/backtesting/venv/lib/python3.8/site-packages/statsmodels/tsa/deterministic.py:147: UserWarning: Only PeriodIndexes, DatetimeIndexes with a frequency set, RangesIndexes, and Int64Indexes with a unit increment support extending. The index is set will contain the position relative to the data length.\n",
      "  warnings.warn(\n"
     ]
    },
    {
     "name": "stdout",
     "output_type": "stream",
     "text": [
      "Predicted buy: 53569.26636154183, actual: 58650.39\n",
      "Predicted buy: 53569.26636154183, actual: 58680.26\n",
      "Predicted buy: 53569.26636154183, actual: 58355.79\n",
      "Predicted buy: 53569.26636154183, actual: 57736.46\n",
      "Predicted buy: 53569.26636154183, actual: 57301.81\n",
      "Predicted buy: 53569.26636154183, actual: 57455.0\n",
      "Predicted buy: 53569.26636154183, actual: 56700.0\n",
      "Predicted buy: 53569.26636154183, actual: 56849.75\n",
      "Predicted buy: 53569.26636154183, actual: 55516.85\n",
      "Predicted buy: 53569.26636154183, actual: 53400.0\n",
      "stop_loss = 48407.06203292374\n",
      "Bought BTC by 53569.26636154183 at 2021-05-10 20:05:00+00:00\n"
     ]
    },
    {
     "name": "stderr",
     "output_type": "stream",
     "text": [
      "/home/olga/PycharmProjects/backtesting/venv/lib/python3.8/site-packages/statsmodels/tsa/deterministic.py:147: UserWarning: Only PeriodIndexes, DatetimeIndexes with a frequency set, RangesIndexes, and Int64Indexes with a unit increment support extending. The index is set will contain the position relative to the data length.\n",
      "  warnings.warn(\n"
     ]
    },
    {
     "name": "stdout",
     "output_type": "stream",
     "text": [
      "Predicted sell: 59433.97139404371, actual: 59444.9\n",
      "Sold BTC by 59433.97139404371 at 2021-05-10 03:34:00+00:00\n",
      "\t\tSimulating 2021-05-10 02:00:00+00:00 day....\n"
     ]
    },
    {
     "name": "stderr",
     "output_type": "stream",
     "text": [
      "/home/olga/PycharmProjects/backtesting/venv/lib/python3.8/site-packages/statsmodels/tsa/deterministic.py:147: UserWarning: Only PeriodIndexes, DatetimeIndexes with a frequency set, RangesIndexes, and Int64Indexes with a unit increment support extending. The index is set will contain the position relative to the data length.\n",
      "  warnings.warn(\n"
     ]
    },
    {
     "name": "stdout",
     "output_type": "stream",
     "text": [
      "Predicted buy: 53569.26636154183, actual: 58650.39\n",
      "Predicted buy: 53569.26636154183, actual: 58680.26\n",
      "Predicted buy: 53569.26636154183, actual: 58355.79\n",
      "Predicted buy: 53569.26636154183, actual: 57736.46\n",
      "Predicted buy: 53569.26636154183, actual: 57301.81\n",
      "Predicted buy: 53569.26636154183, actual: 57455.0\n",
      "Predicted buy: 53569.26636154183, actual: 56700.0\n",
      "Predicted buy: 53569.26636154183, actual: 56849.75\n",
      "Predicted buy: 53569.26636154183, actual: 55516.85\n",
      "Predicted buy: 53569.26636154183, actual: 53400.0\n",
      "stop_loss = 48407.06203292374\n",
      "Bought BTC by 53569.26636154183 at 2021-05-10 20:05:00+00:00\n"
     ]
    },
    {
     "name": "stderr",
     "output_type": "stream",
     "text": [
      "/home/olga/PycharmProjects/backtesting/venv/lib/python3.8/site-packages/statsmodels/tsa/deterministic.py:147: UserWarning: Only PeriodIndexes, DatetimeIndexes with a frequency set, RangesIndexes, and Int64Indexes with a unit increment support extending. The index is set will contain the position relative to the data length.\n",
      "  warnings.warn(\n"
     ]
    },
    {
     "name": "stdout",
     "output_type": "stream",
     "text": [
      "Predicted sell: 59433.97139404371, actual: 59444.9\n",
      "Sold BTC by 59433.97139404371 at 2021-05-10 03:34:00+00:00\n",
      "\t\tSimulating 2021-05-10 02:00:00+00:00 day....\n"
     ]
    },
    {
     "name": "stderr",
     "output_type": "stream",
     "text": [
      "/home/olga/PycharmProjects/backtesting/venv/lib/python3.8/site-packages/statsmodels/tsa/deterministic.py:147: UserWarning: Only PeriodIndexes, DatetimeIndexes with a frequency set, RangesIndexes, and Int64Indexes with a unit increment support extending. The index is set will contain the position relative to the data length.\n",
      "  warnings.warn(\n"
     ]
    },
    {
     "name": "stdout",
     "output_type": "stream",
     "text": [
      "Predicted buy: 53569.26636154183, actual: 58650.39\n",
      "Predicted buy: 53569.26636154183, actual: 58680.26\n",
      "Predicted buy: 53569.26636154183, actual: 58355.79\n",
      "Predicted buy: 53569.26636154183, actual: 57736.46\n",
      "Predicted buy: 53569.26636154183, actual: 57301.81\n",
      "Predicted buy: 53569.26636154183, actual: 57455.0\n",
      "Predicted buy: 53569.26636154183, actual: 56700.0\n",
      "Predicted buy: 53569.26636154183, actual: 56849.75\n",
      "Predicted buy: 53569.26636154183, actual: 55516.85\n",
      "Predicted buy: 53569.26636154183, actual: 53400.0\n",
      "stop_loss = 48407.06203292374\n",
      "Bought BTC by 53569.26636154183 at 2021-05-10 20:05:00+00:00\n"
     ]
    },
    {
     "name": "stderr",
     "output_type": "stream",
     "text": [
      "/home/olga/PycharmProjects/backtesting/venv/lib/python3.8/site-packages/statsmodels/tsa/deterministic.py:147: UserWarning: Only PeriodIndexes, DatetimeIndexes with a frequency set, RangesIndexes, and Int64Indexes with a unit increment support extending. The index is set will contain the position relative to the data length.\n",
      "  warnings.warn(\n"
     ]
    },
    {
     "name": "stdout",
     "output_type": "stream",
     "text": [
      "Predicted sell: 59433.97139404371, actual: 59444.9\n",
      "Sold BTC by 59433.97139404371 at 2021-05-10 03:34:00+00:00\n",
      "\t\tSimulating 2021-05-10 02:00:00+00:00 day....\n"
     ]
    },
    {
     "name": "stderr",
     "output_type": "stream",
     "text": [
      "/home/olga/PycharmProjects/backtesting/venv/lib/python3.8/site-packages/statsmodels/tsa/deterministic.py:147: UserWarning: Only PeriodIndexes, DatetimeIndexes with a frequency set, RangesIndexes, and Int64Indexes with a unit increment support extending. The index is set will contain the position relative to the data length.\n",
      "  warnings.warn(\n"
     ]
    },
    {
     "name": "stdout",
     "output_type": "stream",
     "text": [
      "Predicted buy: 53569.26636154183, actual: 58650.39\n",
      "Predicted buy: 53569.26636154183, actual: 58680.26\n",
      "Predicted buy: 53569.26636154183, actual: 58355.79\n",
      "Predicted buy: 53569.26636154183, actual: 57736.46\n",
      "Predicted buy: 53569.26636154183, actual: 57301.81\n",
      "Predicted buy: 53569.26636154183, actual: 57455.0\n",
      "Predicted buy: 53569.26636154183, actual: 56700.0\n",
      "Predicted buy: 53569.26636154183, actual: 56849.75\n",
      "Predicted buy: 53569.26636154183, actual: 55516.85\n",
      "Predicted buy: 53569.26636154183, actual: 53400.0\n",
      "stop_loss = 48407.06203292374\n",
      "Bought BTC by 53569.26636154183 at 2021-05-10 20:05:00+00:00\n"
     ]
    },
    {
     "name": "stderr",
     "output_type": "stream",
     "text": [
      "/home/olga/PycharmProjects/backtesting/venv/lib/python3.8/site-packages/statsmodels/tsa/deterministic.py:147: UserWarning: Only PeriodIndexes, DatetimeIndexes with a frequency set, RangesIndexes, and Int64Indexes with a unit increment support extending. The index is set will contain the position relative to the data length.\n",
      "  warnings.warn(\n"
     ]
    },
    {
     "name": "stdout",
     "output_type": "stream",
     "text": [
      "Predicted sell: 59433.97139404371, actual: 59444.9\n",
      "Sold BTC by 59433.97139404371 at 2021-05-10 03:34:00+00:00\n",
      "\t\tSimulating 2021-05-10 02:00:00+00:00 day....\n"
     ]
    },
    {
     "name": "stderr",
     "output_type": "stream",
     "text": [
      "/home/olga/PycharmProjects/backtesting/venv/lib/python3.8/site-packages/statsmodels/tsa/deterministic.py:147: UserWarning: Only PeriodIndexes, DatetimeIndexes with a frequency set, RangesIndexes, and Int64Indexes with a unit increment support extending. The index is set will contain the position relative to the data length.\n",
      "  warnings.warn(\n"
     ]
    },
    {
     "name": "stdout",
     "output_type": "stream",
     "text": [
      "Predicted buy: 53569.26636154183, actual: 58650.39\n",
      "Predicted buy: 53569.26636154183, actual: 58680.26\n",
      "Predicted buy: 53569.26636154183, actual: 58355.79\n",
      "Predicted buy: 53569.26636154183, actual: 57736.46\n",
      "Predicted buy: 53569.26636154183, actual: 57301.81\n",
      "Predicted buy: 53569.26636154183, actual: 57455.0\n",
      "Predicted buy: 53569.26636154183, actual: 56700.0\n",
      "Predicted buy: 53569.26636154183, actual: 56849.75\n",
      "Predicted buy: 53569.26636154183, actual: 55516.85\n",
      "Predicted buy: 53569.26636154183, actual: 53400.0\n",
      "stop_loss = 48407.06203292374\n",
      "Bought BTC by 53569.26636154183 at 2021-05-10 20:05:00+00:00\n"
     ]
    },
    {
     "name": "stderr",
     "output_type": "stream",
     "text": [
      "/home/olga/PycharmProjects/backtesting/venv/lib/python3.8/site-packages/statsmodels/tsa/deterministic.py:147: UserWarning: Only PeriodIndexes, DatetimeIndexes with a frequency set, RangesIndexes, and Int64Indexes with a unit increment support extending. The index is set will contain the position relative to the data length.\n",
      "  warnings.warn(\n"
     ]
    },
    {
     "name": "stdout",
     "output_type": "stream",
     "text": [
      "Predicted sell: 59433.97139404371, actual: 59444.9\n",
      "Sold BTC by 59433.97139404371 at 2021-05-10 03:34:00+00:00\n",
      "\t\tSimulating 2021-05-10 02:00:00+00:00 day....\n"
     ]
    },
    {
     "name": "stderr",
     "output_type": "stream",
     "text": [
      "/home/olga/PycharmProjects/backtesting/venv/lib/python3.8/site-packages/statsmodels/tsa/deterministic.py:147: UserWarning: Only PeriodIndexes, DatetimeIndexes with a frequency set, RangesIndexes, and Int64Indexes with a unit increment support extending. The index is set will contain the position relative to the data length.\n",
      "  warnings.warn(\n"
     ]
    },
    {
     "name": "stdout",
     "output_type": "stream",
     "text": [
      "Predicted buy: 53569.26636154183, actual: 58650.39\n",
      "Predicted buy: 53569.26636154183, actual: 58680.26\n",
      "Predicted buy: 53569.26636154183, actual: 58355.79\n",
      "Predicted buy: 53569.26636154183, actual: 57736.46\n",
      "Predicted buy: 53569.26636154183, actual: 57301.81\n",
      "Predicted buy: 53569.26636154183, actual: 57455.0\n",
      "Predicted buy: 53569.26636154183, actual: 56700.0\n",
      "Predicted buy: 53569.26636154183, actual: 56849.75\n",
      "Predicted buy: 53569.26636154183, actual: 55516.85\n",
      "Predicted buy: 53569.26636154183, actual: 53400.0\n",
      "stop_loss = 48407.06203292374\n",
      "Bought BTC by 53569.26636154183 at 2021-05-10 20:05:00+00:00\n"
     ]
    },
    {
     "name": "stderr",
     "output_type": "stream",
     "text": [
      "/home/olga/PycharmProjects/backtesting/venv/lib/python3.8/site-packages/statsmodels/tsa/deterministic.py:147: UserWarning: Only PeriodIndexes, DatetimeIndexes with a frequency set, RangesIndexes, and Int64Indexes with a unit increment support extending. The index is set will contain the position relative to the data length.\n",
      "  warnings.warn(\n"
     ]
    },
    {
     "name": "stdout",
     "output_type": "stream",
     "text": [
      "Predicted sell: 59433.97139404371, actual: 59444.9\n",
      "Sold BTC by 59433.97139404371 at 2021-05-10 03:34:00+00:00\n",
      "\t\tSimulating 2021-05-10 02:00:00+00:00 day....\n"
     ]
    },
    {
     "name": "stderr",
     "output_type": "stream",
     "text": [
      "/home/olga/PycharmProjects/backtesting/venv/lib/python3.8/site-packages/statsmodels/tsa/deterministic.py:147: UserWarning: Only PeriodIndexes, DatetimeIndexes with a frequency set, RangesIndexes, and Int64Indexes with a unit increment support extending. The index is set will contain the position relative to the data length.\n",
      "  warnings.warn(\n"
     ]
    },
    {
     "name": "stdout",
     "output_type": "stream",
     "text": [
      "Predicted buy: 53569.26636154183, actual: 58650.39\n",
      "Predicted buy: 53569.26636154183, actual: 58680.26\n",
      "Predicted buy: 53569.26636154183, actual: 58355.79\n",
      "Predicted buy: 53569.26636154183, actual: 57736.46\n",
      "Predicted buy: 53569.26636154183, actual: 57301.81\n",
      "Predicted buy: 53569.26636154183, actual: 57455.0\n",
      "Predicted buy: 53569.26636154183, actual: 56700.0\n",
      "Predicted buy: 53569.26636154183, actual: 56849.75\n",
      "Predicted buy: 53569.26636154183, actual: 55516.85\n",
      "Predicted buy: 53569.26636154183, actual: 53400.0\n",
      "stop_loss = 48407.06203292374\n",
      "Bought BTC by 53569.26636154183 at 2021-05-10 20:05:00+00:00\n"
     ]
    },
    {
     "name": "stderr",
     "output_type": "stream",
     "text": [
      "/home/olga/PycharmProjects/backtesting/venv/lib/python3.8/site-packages/statsmodels/tsa/deterministic.py:147: UserWarning: Only PeriodIndexes, DatetimeIndexes with a frequency set, RangesIndexes, and Int64Indexes with a unit increment support extending. The index is set will contain the position relative to the data length.\n",
      "  warnings.warn(\n"
     ]
    },
    {
     "name": "stdout",
     "output_type": "stream",
     "text": [
      "Predicted sell: 59433.97139404371, actual: 59444.9\n",
      "Sold BTC by 59433.97139404371 at 2021-05-10 03:34:00+00:00\n",
      "\t\tSimulating 2021-05-10 02:00:00+00:00 day....\n"
     ]
    },
    {
     "name": "stderr",
     "output_type": "stream",
     "text": [
      "/home/olga/PycharmProjects/backtesting/venv/lib/python3.8/site-packages/statsmodels/tsa/deterministic.py:147: UserWarning: Only PeriodIndexes, DatetimeIndexes with a frequency set, RangesIndexes, and Int64Indexes with a unit increment support extending. The index is set will contain the position relative to the data length.\n",
      "  warnings.warn(\n"
     ]
    },
    {
     "name": "stdout",
     "output_type": "stream",
     "text": [
      "Predicted buy: 53569.26636154183, actual: 58650.39\n",
      "Predicted buy: 53569.26636154183, actual: 58680.26\n",
      "Predicted buy: 53569.26636154183, actual: 58355.79\n",
      "Predicted buy: 53569.26636154183, actual: 57736.46\n",
      "Predicted buy: 53569.26636154183, actual: 57301.81\n",
      "Predicted buy: 53569.26636154183, actual: 57455.0\n",
      "Predicted buy: 53569.26636154183, actual: 56700.0\n",
      "Predicted buy: 53569.26636154183, actual: 56849.75\n",
      "Predicted buy: 53569.26636154183, actual: 55516.85\n",
      "Predicted buy: 53569.26636154183, actual: 53400.0\n",
      "stop_loss = 48407.06203292374\n",
      "Bought BTC by 53569.26636154183 at 2021-05-10 20:05:00+00:00\n"
     ]
    },
    {
     "name": "stderr",
     "output_type": "stream",
     "text": [
      "/home/olga/PycharmProjects/backtesting/venv/lib/python3.8/site-packages/statsmodels/tsa/deterministic.py:147: UserWarning: Only PeriodIndexes, DatetimeIndexes with a frequency set, RangesIndexes, and Int64Indexes with a unit increment support extending. The index is set will contain the position relative to the data length.\n",
      "  warnings.warn(\n"
     ]
    },
    {
     "name": "stdout",
     "output_type": "stream",
     "text": [
      "Predicted sell: 59433.97139404371, actual: 59444.9\n",
      "Sold BTC by 59433.97139404371 at 2021-05-10 03:34:00+00:00\n",
      "\t\tSimulating 2021-05-10 02:00:00+00:00 day....\n"
     ]
    },
    {
     "name": "stderr",
     "output_type": "stream",
     "text": [
      "/home/olga/PycharmProjects/backtesting/venv/lib/python3.8/site-packages/statsmodels/tsa/deterministic.py:147: UserWarning: Only PeriodIndexes, DatetimeIndexes with a frequency set, RangesIndexes, and Int64Indexes with a unit increment support extending. The index is set will contain the position relative to the data length.\n",
      "  warnings.warn(\n"
     ]
    },
    {
     "name": "stdout",
     "output_type": "stream",
     "text": [
      "Predicted buy: 53569.26636154183, actual: 58650.39\n",
      "Predicted buy: 53569.26636154183, actual: 58680.26\n",
      "Predicted buy: 53569.26636154183, actual: 58355.79\n",
      "Predicted buy: 53569.26636154183, actual: 57736.46\n",
      "Predicted buy: 53569.26636154183, actual: 57301.81\n",
      "Predicted buy: 53569.26636154183, actual: 57455.0\n",
      "Predicted buy: 53569.26636154183, actual: 56700.0\n",
      "Predicted buy: 53569.26636154183, actual: 56849.75\n",
      "Predicted buy: 53569.26636154183, actual: 55516.85\n",
      "Predicted buy: 53569.26636154183, actual: 53400.0\n",
      "stop_loss = 48407.06203292374\n",
      "Bought BTC by 53569.26636154183 at 2021-05-10 20:05:00+00:00\n"
     ]
    },
    {
     "name": "stderr",
     "output_type": "stream",
     "text": [
      "/home/olga/PycharmProjects/backtesting/venv/lib/python3.8/site-packages/statsmodels/tsa/deterministic.py:147: UserWarning: Only PeriodIndexes, DatetimeIndexes with a frequency set, RangesIndexes, and Int64Indexes with a unit increment support extending. The index is set will contain the position relative to the data length.\n",
      "  warnings.warn(\n"
     ]
    },
    {
     "name": "stdout",
     "output_type": "stream",
     "text": [
      "Predicted sell: 59433.97139404371, actual: 59444.9\n",
      "Sold BTC by 59433.97139404371 at 2021-05-10 03:34:00+00:00\n",
      "\t\tSimulating 2021-05-10 02:00:00+00:00 day....\n"
     ]
    },
    {
     "name": "stderr",
     "output_type": "stream",
     "text": [
      "/home/olga/PycharmProjects/backtesting/venv/lib/python3.8/site-packages/statsmodels/tsa/deterministic.py:147: UserWarning: Only PeriodIndexes, DatetimeIndexes with a frequency set, RangesIndexes, and Int64Indexes with a unit increment support extending. The index is set will contain the position relative to the data length.\n",
      "  warnings.warn(\n"
     ]
    },
    {
     "name": "stdout",
     "output_type": "stream",
     "text": [
      "Predicted buy: 53569.26636154183, actual: 58650.39\n",
      "Predicted buy: 53569.26636154183, actual: 58680.26\n",
      "Predicted buy: 53569.26636154183, actual: 58355.79\n",
      "Predicted buy: 53569.26636154183, actual: 57736.46\n",
      "Predicted buy: 53569.26636154183, actual: 57301.81\n",
      "Predicted buy: 53569.26636154183, actual: 57455.0\n",
      "Predicted buy: 53569.26636154183, actual: 56700.0\n",
      "Predicted buy: 53569.26636154183, actual: 56849.75\n",
      "Predicted buy: 53569.26636154183, actual: 55516.85\n",
      "Predicted buy: 53569.26636154183, actual: 53400.0\n",
      "stop_loss = 48407.06203292374\n",
      "Bought BTC by 53569.26636154183 at 2021-05-10 20:05:00+00:00\n"
     ]
    },
    {
     "name": "stderr",
     "output_type": "stream",
     "text": [
      "/home/olga/PycharmProjects/backtesting/venv/lib/python3.8/site-packages/statsmodels/tsa/deterministic.py:147: UserWarning: Only PeriodIndexes, DatetimeIndexes with a frequency set, RangesIndexes, and Int64Indexes with a unit increment support extending. The index is set will contain the position relative to the data length.\n",
      "  warnings.warn(\n"
     ]
    },
    {
     "name": "stdout",
     "output_type": "stream",
     "text": [
      "Predicted sell: 59433.97139404371, actual: 59444.9\n",
      "Sold BTC by 59433.97139404371 at 2021-05-10 03:34:00+00:00\n",
      "\t\tSimulating 2021-05-10 02:00:00+00:00 day....\n"
     ]
    },
    {
     "name": "stderr",
     "output_type": "stream",
     "text": [
      "/home/olga/PycharmProjects/backtesting/venv/lib/python3.8/site-packages/statsmodels/tsa/deterministic.py:147: UserWarning: Only PeriodIndexes, DatetimeIndexes with a frequency set, RangesIndexes, and Int64Indexes with a unit increment support extending. The index is set will contain the position relative to the data length.\n",
      "  warnings.warn(\n"
     ]
    },
    {
     "name": "stdout",
     "output_type": "stream",
     "text": [
      "Predicted buy: 53569.26636154183, actual: 58650.39\n",
      "Predicted buy: 53569.26636154183, actual: 58680.26\n",
      "Predicted buy: 53569.26636154183, actual: 58355.79\n",
      "Predicted buy: 53569.26636154183, actual: 57736.46\n",
      "Predicted buy: 53569.26636154183, actual: 57301.81\n",
      "Predicted buy: 53569.26636154183, actual: 57455.0\n",
      "Predicted buy: 53569.26636154183, actual: 56700.0\n",
      "Predicted buy: 53569.26636154183, actual: 56849.75\n",
      "Predicted buy: 53569.26636154183, actual: 55516.85\n",
      "Predicted buy: 53569.26636154183, actual: 53400.0\n",
      "stop_loss = 48407.06203292374\n",
      "Bought BTC by 53569.26636154183 at 2021-05-10 20:05:00+00:00\n"
     ]
    },
    {
     "name": "stderr",
     "output_type": "stream",
     "text": [
      "/home/olga/PycharmProjects/backtesting/venv/lib/python3.8/site-packages/statsmodels/tsa/deterministic.py:147: UserWarning: Only PeriodIndexes, DatetimeIndexes with a frequency set, RangesIndexes, and Int64Indexes with a unit increment support extending. The index is set will contain the position relative to the data length.\n",
      "  warnings.warn(\n"
     ]
    },
    {
     "name": "stdout",
     "output_type": "stream",
     "text": [
      "Predicted sell: 59433.97139404371, actual: 59444.9\n",
      "Sold BTC by 59433.97139404371 at 2021-05-10 03:34:00+00:00\n",
      "\t\tSimulating 2021-05-10 02:00:00+00:00 day....\n"
     ]
    },
    {
     "name": "stderr",
     "output_type": "stream",
     "text": [
      "/home/olga/PycharmProjects/backtesting/venv/lib/python3.8/site-packages/statsmodels/tsa/deterministic.py:147: UserWarning: Only PeriodIndexes, DatetimeIndexes with a frequency set, RangesIndexes, and Int64Indexes with a unit increment support extending. The index is set will contain the position relative to the data length.\n",
      "  warnings.warn(\n"
     ]
    },
    {
     "name": "stdout",
     "output_type": "stream",
     "text": [
      "Predicted buy: 53569.26636154183, actual: 58650.39\n",
      "Predicted buy: 53569.26636154183, actual: 58680.26\n",
      "Predicted buy: 53569.26636154183, actual: 58355.79\n",
      "Predicted buy: 53569.26636154183, actual: 57736.46\n",
      "Predicted buy: 53569.26636154183, actual: 57301.81\n",
      "Predicted buy: 53569.26636154183, actual: 57455.0\n",
      "Predicted buy: 53569.26636154183, actual: 56700.0\n",
      "Predicted buy: 53569.26636154183, actual: 56849.75\n",
      "Predicted buy: 53569.26636154183, actual: 55516.85\n",
      "Predicted buy: 53569.26636154183, actual: 53400.0\n",
      "stop_loss = 48407.06203292374\n",
      "Bought BTC by 53569.26636154183 at 2021-05-10 20:05:00+00:00\n"
     ]
    },
    {
     "name": "stderr",
     "output_type": "stream",
     "text": [
      "/home/olga/PycharmProjects/backtesting/venv/lib/python3.8/site-packages/statsmodels/tsa/deterministic.py:147: UserWarning: Only PeriodIndexes, DatetimeIndexes with a frequency set, RangesIndexes, and Int64Indexes with a unit increment support extending. The index is set will contain the position relative to the data length.\n",
      "  warnings.warn(\n"
     ]
    },
    {
     "name": "stdout",
     "output_type": "stream",
     "text": [
      "Predicted sell: 59433.97139404371, actual: 59444.9\n",
      "Sold BTC by 59433.97139404371 at 2021-05-10 03:34:00+00:00\n",
      "\t\tSimulating 2021-05-10 02:00:00+00:00 day....\n"
     ]
    },
    {
     "name": "stderr",
     "output_type": "stream",
     "text": [
      "/home/olga/PycharmProjects/backtesting/venv/lib/python3.8/site-packages/statsmodels/tsa/deterministic.py:147: UserWarning: Only PeriodIndexes, DatetimeIndexes with a frequency set, RangesIndexes, and Int64Indexes with a unit increment support extending. The index is set will contain the position relative to the data length.\n",
      "  warnings.warn(\n"
     ]
    },
    {
     "name": "stdout",
     "output_type": "stream",
     "text": [
      "Predicted buy: 53569.26636154183, actual: 58650.39\n",
      "Predicted buy: 53569.26636154183, actual: 58680.26\n",
      "Predicted buy: 53569.26636154183, actual: 58355.79\n",
      "Predicted buy: 53569.26636154183, actual: 57736.46\n",
      "Predicted buy: 53569.26636154183, actual: 57301.81\n",
      "Predicted buy: 53569.26636154183, actual: 57455.0\n",
      "Predicted buy: 53569.26636154183, actual: 56700.0\n",
      "Predicted buy: 53569.26636154183, actual: 56849.75\n",
      "Predicted buy: 53569.26636154183, actual: 55516.85\n",
      "Predicted buy: 53569.26636154183, actual: 53400.0\n",
      "stop_loss = 48407.06203292374\n",
      "Bought BTC by 53569.26636154183 at 2021-05-10 20:05:00+00:00\n"
     ]
    },
    {
     "name": "stderr",
     "output_type": "stream",
     "text": [
      "/home/olga/PycharmProjects/backtesting/venv/lib/python3.8/site-packages/statsmodels/tsa/deterministic.py:147: UserWarning: Only PeriodIndexes, DatetimeIndexes with a frequency set, RangesIndexes, and Int64Indexes with a unit increment support extending. The index is set will contain the position relative to the data length.\n",
      "  warnings.warn(\n"
     ]
    },
    {
     "name": "stdout",
     "output_type": "stream",
     "text": [
      "Predicted sell: 59433.97139404371, actual: 59444.9\n",
      "Sold BTC by 59433.97139404371 at 2021-05-10 03:34:00+00:00\n",
      "\t\tSimulating 2021-05-10 02:00:00+00:00 day....\n"
     ]
    },
    {
     "name": "stderr",
     "output_type": "stream",
     "text": [
      "/home/olga/PycharmProjects/backtesting/venv/lib/python3.8/site-packages/statsmodels/tsa/deterministic.py:147: UserWarning: Only PeriodIndexes, DatetimeIndexes with a frequency set, RangesIndexes, and Int64Indexes with a unit increment support extending. The index is set will contain the position relative to the data length.\n",
      "  warnings.warn(\n"
     ]
    },
    {
     "name": "stdout",
     "output_type": "stream",
     "text": [
      "Predicted buy: 53569.26636154183, actual: 58650.39\n",
      "Predicted buy: 53569.26636154183, actual: 58680.26\n",
      "Predicted buy: 53569.26636154183, actual: 58355.79\n",
      "Predicted buy: 53569.26636154183, actual: 57736.46\n",
      "Predicted buy: 53569.26636154183, actual: 57301.81\n",
      "Predicted buy: 53569.26636154183, actual: 57455.0\n",
      "Predicted buy: 53569.26636154183, actual: 56700.0\n",
      "Predicted buy: 53569.26636154183, actual: 56849.75\n",
      "Predicted buy: 53569.26636154183, actual: 55516.85\n",
      "Predicted buy: 53569.26636154183, actual: 53400.0\n",
      "stop_loss = 48407.06203292374\n",
      "Bought BTC by 53569.26636154183 at 2021-05-10 20:05:00+00:00\n"
     ]
    },
    {
     "name": "stderr",
     "output_type": "stream",
     "text": [
      "/home/olga/PycharmProjects/backtesting/venv/lib/python3.8/site-packages/statsmodels/tsa/deterministic.py:147: UserWarning: Only PeriodIndexes, DatetimeIndexes with a frequency set, RangesIndexes, and Int64Indexes with a unit increment support extending. The index is set will contain the position relative to the data length.\n",
      "  warnings.warn(\n"
     ]
    },
    {
     "name": "stdout",
     "output_type": "stream",
     "text": [
      "Predicted sell: 59433.97139404371, actual: 59444.9\n",
      "Sold BTC by 59433.97139404371 at 2021-05-10 03:34:00+00:00\n",
      "\t\tSimulating 2021-05-10 02:00:00+00:00 day....\n"
     ]
    },
    {
     "name": "stderr",
     "output_type": "stream",
     "text": [
      "/home/olga/PycharmProjects/backtesting/venv/lib/python3.8/site-packages/statsmodels/tsa/deterministic.py:147: UserWarning: Only PeriodIndexes, DatetimeIndexes with a frequency set, RangesIndexes, and Int64Indexes with a unit increment support extending. The index is set will contain the position relative to the data length.\n",
      "  warnings.warn(\n"
     ]
    },
    {
     "name": "stdout",
     "output_type": "stream",
     "text": [
      "Predicted buy: 53569.26636154183, actual: 58650.39\n",
      "Predicted buy: 53569.26636154183, actual: 58680.26\n",
      "Predicted buy: 53569.26636154183, actual: 58355.79\n",
      "Predicted buy: 53569.26636154183, actual: 57736.46\n",
      "Predicted buy: 53569.26636154183, actual: 57301.81\n",
      "Predicted buy: 53569.26636154183, actual: 57455.0\n",
      "Predicted buy: 53569.26636154183, actual: 56700.0\n",
      "Predicted buy: 53569.26636154183, actual: 56849.75\n",
      "Predicted buy: 53569.26636154183, actual: 55516.85\n",
      "Predicted buy: 53569.26636154183, actual: 53400.0\n",
      "stop_loss = 48407.06203292374\n",
      "Bought BTC by 53569.26636154183 at 2021-05-10 20:05:00+00:00\n"
     ]
    },
    {
     "name": "stderr",
     "output_type": "stream",
     "text": [
      "/home/olga/PycharmProjects/backtesting/venv/lib/python3.8/site-packages/statsmodels/tsa/deterministic.py:147: UserWarning: Only PeriodIndexes, DatetimeIndexes with a frequency set, RangesIndexes, and Int64Indexes with a unit increment support extending. The index is set will contain the position relative to the data length.\n",
      "  warnings.warn(\n"
     ]
    },
    {
     "name": "stdout",
     "output_type": "stream",
     "text": [
      "Predicted sell: 59433.97139404371, actual: 59444.9\n",
      "Sold BTC by 59433.97139404371 at 2021-05-10 03:34:00+00:00\n",
      "\t\tSimulating 2021-05-10 02:00:00+00:00 day....\n"
     ]
    },
    {
     "name": "stderr",
     "output_type": "stream",
     "text": [
      "/home/olga/PycharmProjects/backtesting/venv/lib/python3.8/site-packages/statsmodels/tsa/deterministic.py:147: UserWarning: Only PeriodIndexes, DatetimeIndexes with a frequency set, RangesIndexes, and Int64Indexes with a unit increment support extending. The index is set will contain the position relative to the data length.\n",
      "  warnings.warn(\n"
     ]
    },
    {
     "name": "stdout",
     "output_type": "stream",
     "text": [
      "Predicted buy: 53569.26636154183, actual: 58650.39\n",
      "Predicted buy: 53569.26636154183, actual: 58680.26\n",
      "Predicted buy: 53569.26636154183, actual: 58355.79\n",
      "Predicted buy: 53569.26636154183, actual: 57736.46\n",
      "Predicted buy: 53569.26636154183, actual: 57301.81\n",
      "Predicted buy: 53569.26636154183, actual: 57455.0\n",
      "Predicted buy: 53569.26636154183, actual: 56700.0\n",
      "Predicted buy: 53569.26636154183, actual: 56849.75\n",
      "Predicted buy: 53569.26636154183, actual: 55516.85\n",
      "Predicted buy: 53569.26636154183, actual: 53400.0\n",
      "stop_loss = 48407.06203292374\n",
      "Bought BTC by 53569.26636154183 at 2021-05-10 20:05:00+00:00\n"
     ]
    },
    {
     "name": "stderr",
     "output_type": "stream",
     "text": [
      "/home/olga/PycharmProjects/backtesting/venv/lib/python3.8/site-packages/statsmodels/tsa/deterministic.py:147: UserWarning: Only PeriodIndexes, DatetimeIndexes with a frequency set, RangesIndexes, and Int64Indexes with a unit increment support extending. The index is set will contain the position relative to the data length.\n",
      "  warnings.warn(\n"
     ]
    },
    {
     "name": "stdout",
     "output_type": "stream",
     "text": [
      "Predicted sell: 59433.97139404371, actual: 59444.9\n",
      "Sold BTC by 59433.97139404371 at 2021-05-10 03:34:00+00:00\n",
      "\t\tSimulating 2021-05-10 02:00:00+00:00 day....\n"
     ]
    },
    {
     "name": "stderr",
     "output_type": "stream",
     "text": [
      "/home/olga/PycharmProjects/backtesting/venv/lib/python3.8/site-packages/statsmodels/tsa/deterministic.py:147: UserWarning: Only PeriodIndexes, DatetimeIndexes with a frequency set, RangesIndexes, and Int64Indexes with a unit increment support extending. The index is set will contain the position relative to the data length.\n",
      "  warnings.warn(\n"
     ]
    },
    {
     "name": "stdout",
     "output_type": "stream",
     "text": [
      "Predicted buy: 53569.26636154183, actual: 58650.39\n",
      "Predicted buy: 53569.26636154183, actual: 58680.26\n",
      "Predicted buy: 53569.26636154183, actual: 58355.79\n",
      "Predicted buy: 53569.26636154183, actual: 57736.46\n",
      "Predicted buy: 53569.26636154183, actual: 57301.81\n",
      "Predicted buy: 53569.26636154183, actual: 57455.0\n",
      "Predicted buy: 53569.26636154183, actual: 56700.0\n",
      "Predicted buy: 53569.26636154183, actual: 56849.75\n",
      "Predicted buy: 53569.26636154183, actual: 55516.85\n",
      "Predicted buy: 53569.26636154183, actual: 53400.0\n",
      "stop_loss = 48407.06203292374\n",
      "Bought BTC by 53569.26636154183 at 2021-05-10 20:05:00+00:00\n"
     ]
    },
    {
     "name": "stderr",
     "output_type": "stream",
     "text": [
      "/home/olga/PycharmProjects/backtesting/venv/lib/python3.8/site-packages/statsmodels/tsa/deterministic.py:147: UserWarning: Only PeriodIndexes, DatetimeIndexes with a frequency set, RangesIndexes, and Int64Indexes with a unit increment support extending. The index is set will contain the position relative to the data length.\n",
      "  warnings.warn(\n"
     ]
    },
    {
     "name": "stdout",
     "output_type": "stream",
     "text": [
      "Predicted sell: 59433.97139404371, actual: 59444.9\n",
      "Sold BTC by 59433.97139404371 at 2021-05-10 03:34:00+00:00\n",
      "\t\tSimulating 2021-05-10 02:00:00+00:00 day....\n"
     ]
    },
    {
     "name": "stderr",
     "output_type": "stream",
     "text": [
      "/home/olga/PycharmProjects/backtesting/venv/lib/python3.8/site-packages/statsmodels/tsa/deterministic.py:147: UserWarning: Only PeriodIndexes, DatetimeIndexes with a frequency set, RangesIndexes, and Int64Indexes with a unit increment support extending. The index is set will contain the position relative to the data length.\n",
      "  warnings.warn(\n"
     ]
    },
    {
     "name": "stdout",
     "output_type": "stream",
     "text": [
      "Predicted buy: 53569.26636154183, actual: 58650.39\n",
      "Predicted buy: 53569.26636154183, actual: 58680.26\n",
      "Predicted buy: 53569.26636154183, actual: 58355.79\n",
      "Predicted buy: 53569.26636154183, actual: 57736.46\n",
      "Predicted buy: 53569.26636154183, actual: 57301.81\n",
      "Predicted buy: 53569.26636154183, actual: 57455.0\n",
      "Predicted buy: 53569.26636154183, actual: 56700.0\n",
      "Predicted buy: 53569.26636154183, actual: 56849.75\n",
      "Predicted buy: 53569.26636154183, actual: 55516.85\n",
      "Predicted buy: 53569.26636154183, actual: 53400.0\n",
      "stop_loss = 48407.06203292374\n",
      "Bought BTC by 53569.26636154183 at 2021-05-10 20:05:00+00:00\n"
     ]
    },
    {
     "name": "stderr",
     "output_type": "stream",
     "text": [
      "/home/olga/PycharmProjects/backtesting/venv/lib/python3.8/site-packages/statsmodels/tsa/deterministic.py:147: UserWarning: Only PeriodIndexes, DatetimeIndexes with a frequency set, RangesIndexes, and Int64Indexes with a unit increment support extending. The index is set will contain the position relative to the data length.\n",
      "  warnings.warn(\n"
     ]
    },
    {
     "name": "stdout",
     "output_type": "stream",
     "text": [
      "Predicted sell: 59433.97139404371, actual: 59444.9\n",
      "Sold BTC by 59433.97139404371 at 2021-05-10 03:34:00+00:00\n",
      "\t\tSimulating 2021-05-10 02:00:00+00:00 day....\n"
     ]
    },
    {
     "name": "stderr",
     "output_type": "stream",
     "text": [
      "/home/olga/PycharmProjects/backtesting/venv/lib/python3.8/site-packages/statsmodels/tsa/deterministic.py:147: UserWarning: Only PeriodIndexes, DatetimeIndexes with a frequency set, RangesIndexes, and Int64Indexes with a unit increment support extending. The index is set will contain the position relative to the data length.\n",
      "  warnings.warn(\n"
     ]
    },
    {
     "name": "stdout",
     "output_type": "stream",
     "text": [
      "Predicted buy: 53569.26636154183, actual: 58650.39\n",
      "Predicted buy: 53569.26636154183, actual: 58680.26\n",
      "Predicted buy: 53569.26636154183, actual: 58355.79\n",
      "Predicted buy: 53569.26636154183, actual: 57736.46\n",
      "Predicted buy: 53569.26636154183, actual: 57301.81\n",
      "Predicted buy: 53569.26636154183, actual: 57455.0\n",
      "Predicted buy: 53569.26636154183, actual: 56700.0\n",
      "Predicted buy: 53569.26636154183, actual: 56849.75\n",
      "Predicted buy: 53569.26636154183, actual: 55516.85\n",
      "Predicted buy: 53569.26636154183, actual: 53400.0\n",
      "stop_loss = 48407.06203292374\n",
      "Bought BTC by 53569.26636154183 at 2021-05-10 20:05:00+00:00\n"
     ]
    },
    {
     "name": "stderr",
     "output_type": "stream",
     "text": [
      "/home/olga/PycharmProjects/backtesting/venv/lib/python3.8/site-packages/statsmodels/tsa/deterministic.py:147: UserWarning: Only PeriodIndexes, DatetimeIndexes with a frequency set, RangesIndexes, and Int64Indexes with a unit increment support extending. The index is set will contain the position relative to the data length.\n",
      "  warnings.warn(\n"
     ]
    },
    {
     "name": "stdout",
     "output_type": "stream",
     "text": [
      "Predicted sell: 59433.97139404371, actual: 59444.9\n",
      "Sold BTC by 59433.97139404371 at 2021-05-10 03:34:00+00:00\n",
      "\t\tSimulating 2021-05-10 02:00:00+00:00 day....\n"
     ]
    },
    {
     "name": "stderr",
     "output_type": "stream",
     "text": [
      "/home/olga/PycharmProjects/backtesting/venv/lib/python3.8/site-packages/statsmodels/tsa/deterministic.py:147: UserWarning: Only PeriodIndexes, DatetimeIndexes with a frequency set, RangesIndexes, and Int64Indexes with a unit increment support extending. The index is set will contain the position relative to the data length.\n",
      "  warnings.warn(\n"
     ]
    },
    {
     "name": "stdout",
     "output_type": "stream",
     "text": [
      "Predicted buy: 53569.26636154183, actual: 58650.39\n",
      "Predicted buy: 53569.26636154183, actual: 58680.26\n",
      "Predicted buy: 53569.26636154183, actual: 58355.79\n",
      "Predicted buy: 53569.26636154183, actual: 57736.46\n",
      "Predicted buy: 53569.26636154183, actual: 57301.81\n",
      "Predicted buy: 53569.26636154183, actual: 57455.0\n",
      "Predicted buy: 53569.26636154183, actual: 56700.0\n",
      "Predicted buy: 53569.26636154183, actual: 56849.75\n",
      "Predicted buy: 53569.26636154183, actual: 55516.85\n",
      "Predicted buy: 53569.26636154183, actual: 53400.0\n",
      "stop_loss = 48407.06203292374\n",
      "Bought BTC by 53569.26636154183 at 2021-05-10 20:05:00+00:00\n"
     ]
    },
    {
     "name": "stderr",
     "output_type": "stream",
     "text": [
      "/home/olga/PycharmProjects/backtesting/venv/lib/python3.8/site-packages/statsmodels/tsa/deterministic.py:147: UserWarning: Only PeriodIndexes, DatetimeIndexes with a frequency set, RangesIndexes, and Int64Indexes with a unit increment support extending. The index is set will contain the position relative to the data length.\n",
      "  warnings.warn(\n"
     ]
    },
    {
     "name": "stdout",
     "output_type": "stream",
     "text": [
      "Predicted sell: 59433.97139404371, actual: 59444.9\n",
      "Sold BTC by 59433.97139404371 at 2021-05-10 03:34:00+00:00\n",
      "\t\tSimulating 2021-05-10 02:00:00+00:00 day....\n"
     ]
    },
    {
     "name": "stderr",
     "output_type": "stream",
     "text": [
      "/home/olga/PycharmProjects/backtesting/venv/lib/python3.8/site-packages/statsmodels/tsa/deterministic.py:147: UserWarning: Only PeriodIndexes, DatetimeIndexes with a frequency set, RangesIndexes, and Int64Indexes with a unit increment support extending. The index is set will contain the position relative to the data length.\n",
      "  warnings.warn(\n"
     ]
    },
    {
     "name": "stdout",
     "output_type": "stream",
     "text": [
      "Predicted buy: 53569.26636154183, actual: 58650.39\n",
      "Predicted buy: 53569.26636154183, actual: 58680.26\n",
      "Predicted buy: 53569.26636154183, actual: 58355.79\n",
      "Predicted buy: 53569.26636154183, actual: 57736.46\n",
      "Predicted buy: 53569.26636154183, actual: 57301.81\n",
      "Predicted buy: 53569.26636154183, actual: 57455.0\n",
      "Predicted buy: 53569.26636154183, actual: 56700.0\n",
      "Predicted buy: 53569.26636154183, actual: 56849.75\n",
      "Predicted buy: 53569.26636154183, actual: 55516.85\n",
      "Predicted buy: 53569.26636154183, actual: 53400.0\n",
      "stop_loss = 48407.06203292374\n",
      "Bought BTC by 53569.26636154183 at 2021-05-10 20:05:00+00:00\n"
     ]
    },
    {
     "name": "stderr",
     "output_type": "stream",
     "text": [
      "/home/olga/PycharmProjects/backtesting/venv/lib/python3.8/site-packages/statsmodels/tsa/deterministic.py:147: UserWarning: Only PeriodIndexes, DatetimeIndexes with a frequency set, RangesIndexes, and Int64Indexes with a unit increment support extending. The index is set will contain the position relative to the data length.\n",
      "  warnings.warn(\n"
     ]
    },
    {
     "name": "stdout",
     "output_type": "stream",
     "text": [
      "Predicted sell: 59433.97139404371, actual: 59444.9\n",
      "Sold BTC by 59433.97139404371 at 2021-05-10 03:34:00+00:00\n",
      "\t\tSimulating 2021-05-10 02:00:00+00:00 day....\n"
     ]
    },
    {
     "name": "stderr",
     "output_type": "stream",
     "text": [
      "/home/olga/PycharmProjects/backtesting/venv/lib/python3.8/site-packages/statsmodels/tsa/deterministic.py:147: UserWarning: Only PeriodIndexes, DatetimeIndexes with a frequency set, RangesIndexes, and Int64Indexes with a unit increment support extending. The index is set will contain the position relative to the data length.\n",
      "  warnings.warn(\n"
     ]
    },
    {
     "name": "stdout",
     "output_type": "stream",
     "text": [
      "Predicted buy: 53569.26636154183, actual: 58650.39\n",
      "Predicted buy: 53569.26636154183, actual: 58680.26\n",
      "Predicted buy: 53569.26636154183, actual: 58355.79\n",
      "Predicted buy: 53569.26636154183, actual: 57736.46\n",
      "Predicted buy: 53569.26636154183, actual: 57301.81\n",
      "Predicted buy: 53569.26636154183, actual: 57455.0\n",
      "Predicted buy: 53569.26636154183, actual: 56700.0\n",
      "Predicted buy: 53569.26636154183, actual: 56849.75\n",
      "Predicted buy: 53569.26636154183, actual: 55516.85\n",
      "Predicted buy: 53569.26636154183, actual: 53400.0\n",
      "stop_loss = 48407.06203292374\n",
      "Bought BTC by 53569.26636154183 at 2021-05-10 20:05:00+00:00\n"
     ]
    },
    {
     "name": "stderr",
     "output_type": "stream",
     "text": [
      "/home/olga/PycharmProjects/backtesting/venv/lib/python3.8/site-packages/statsmodels/tsa/deterministic.py:147: UserWarning: Only PeriodIndexes, DatetimeIndexes with a frequency set, RangesIndexes, and Int64Indexes with a unit increment support extending. The index is set will contain the position relative to the data length.\n",
      "  warnings.warn(\n"
     ]
    },
    {
     "name": "stdout",
     "output_type": "stream",
     "text": [
      "Predicted sell: 59433.97139404371, actual: 59444.9\n",
      "Sold BTC by 59433.97139404371 at 2021-05-10 03:34:00+00:00\n",
      "\t\tSimulating 2021-05-10 02:00:00+00:00 day....\n"
     ]
    },
    {
     "name": "stderr",
     "output_type": "stream",
     "text": [
      "/home/olga/PycharmProjects/backtesting/venv/lib/python3.8/site-packages/statsmodels/tsa/deterministic.py:147: UserWarning: Only PeriodIndexes, DatetimeIndexes with a frequency set, RangesIndexes, and Int64Indexes with a unit increment support extending. The index is set will contain the position relative to the data length.\n",
      "  warnings.warn(\n"
     ]
    },
    {
     "name": "stdout",
     "output_type": "stream",
     "text": [
      "Predicted buy: 53569.26636154183, actual: 58650.39\n",
      "Predicted buy: 53569.26636154183, actual: 58680.26\n",
      "Predicted buy: 53569.26636154183, actual: 58355.79\n",
      "Predicted buy: 53569.26636154183, actual: 57736.46\n",
      "Predicted buy: 53569.26636154183, actual: 57301.81\n",
      "Predicted buy: 53569.26636154183, actual: 57455.0\n",
      "Predicted buy: 53569.26636154183, actual: 56700.0\n",
      "Predicted buy: 53569.26636154183, actual: 56849.75\n",
      "Predicted buy: 53569.26636154183, actual: 55516.85\n",
      "Predicted buy: 53569.26636154183, actual: 53400.0\n",
      "stop_loss = 48407.06203292374\n",
      "Bought BTC by 53569.26636154183 at 2021-05-10 20:05:00+00:00\n"
     ]
    },
    {
     "name": "stderr",
     "output_type": "stream",
     "text": [
      "/home/olga/PycharmProjects/backtesting/venv/lib/python3.8/site-packages/statsmodels/tsa/deterministic.py:147: UserWarning: Only PeriodIndexes, DatetimeIndexes with a frequency set, RangesIndexes, and Int64Indexes with a unit increment support extending. The index is set will contain the position relative to the data length.\n",
      "  warnings.warn(\n"
     ]
    },
    {
     "name": "stdout",
     "output_type": "stream",
     "text": [
      "Predicted sell: 59433.97139404371, actual: 59444.9\n",
      "Sold BTC by 59433.97139404371 at 2021-05-10 03:34:00+00:00\n",
      "\t\tSimulating 2021-05-10 02:00:00+00:00 day....\n"
     ]
    },
    {
     "name": "stderr",
     "output_type": "stream",
     "text": [
      "/home/olga/PycharmProjects/backtesting/venv/lib/python3.8/site-packages/statsmodels/tsa/deterministic.py:147: UserWarning: Only PeriodIndexes, DatetimeIndexes with a frequency set, RangesIndexes, and Int64Indexes with a unit increment support extending. The index is set will contain the position relative to the data length.\n",
      "  warnings.warn(\n"
     ]
    },
    {
     "name": "stdout",
     "output_type": "stream",
     "text": [
      "Predicted buy: 53569.26636154183, actual: 58650.39\n",
      "Predicted buy: 53569.26636154183, actual: 58680.26\n",
      "Predicted buy: 53569.26636154183, actual: 58355.79\n",
      "Predicted buy: 53569.26636154183, actual: 57736.46\n",
      "Predicted buy: 53569.26636154183, actual: 57301.81\n",
      "Predicted buy: 53569.26636154183, actual: 57455.0\n",
      "Predicted buy: 53569.26636154183, actual: 56700.0\n",
      "Predicted buy: 53569.26636154183, actual: 56849.75\n",
      "Predicted buy: 53569.26636154183, actual: 55516.85\n",
      "Predicted buy: 53569.26636154183, actual: 53400.0\n",
      "stop_loss = 48407.06203292374\n",
      "Bought BTC by 53569.26636154183 at 2021-05-10 20:05:00+00:00\n"
     ]
    },
    {
     "name": "stderr",
     "output_type": "stream",
     "text": [
      "/home/olga/PycharmProjects/backtesting/venv/lib/python3.8/site-packages/statsmodels/tsa/deterministic.py:147: UserWarning: Only PeriodIndexes, DatetimeIndexes with a frequency set, RangesIndexes, and Int64Indexes with a unit increment support extending. The index is set will contain the position relative to the data length.\n",
      "  warnings.warn(\n"
     ]
    },
    {
     "name": "stdout",
     "output_type": "stream",
     "text": [
      "Predicted sell: 59433.97139404371, actual: 59444.9\n",
      "Sold BTC by 59433.97139404371 at 2021-05-10 03:34:00+00:00\n",
      "\t\tSimulating 2021-05-10 02:00:00+00:00 day....\n"
     ]
    },
    {
     "name": "stderr",
     "output_type": "stream",
     "text": [
      "/home/olga/PycharmProjects/backtesting/venv/lib/python3.8/site-packages/statsmodels/tsa/deterministic.py:147: UserWarning: Only PeriodIndexes, DatetimeIndexes with a frequency set, RangesIndexes, and Int64Indexes with a unit increment support extending. The index is set will contain the position relative to the data length.\n",
      "  warnings.warn(\n"
     ]
    },
    {
     "name": "stdout",
     "output_type": "stream",
     "text": [
      "Predicted buy: 53569.26636154183, actual: 58650.39\n",
      "Predicted buy: 53569.26636154183, actual: 58680.26\n",
      "Predicted buy: 53569.26636154183, actual: 58355.79\n",
      "Predicted buy: 53569.26636154183, actual: 57736.46\n",
      "Predicted buy: 53569.26636154183, actual: 57301.81\n",
      "Predicted buy: 53569.26636154183, actual: 57455.0\n",
      "Predicted buy: 53569.26636154183, actual: 56700.0\n",
      "Predicted buy: 53569.26636154183, actual: 56849.75\n",
      "Predicted buy: 53569.26636154183, actual: 55516.85\n",
      "Predicted buy: 53569.26636154183, actual: 53400.0\n",
      "stop_loss = 48407.06203292374\n",
      "Bought BTC by 53569.26636154183 at 2021-05-10 20:05:00+00:00\n"
     ]
    },
    {
     "name": "stderr",
     "output_type": "stream",
     "text": [
      "/home/olga/PycharmProjects/backtesting/venv/lib/python3.8/site-packages/statsmodels/tsa/deterministic.py:147: UserWarning: Only PeriodIndexes, DatetimeIndexes with a frequency set, RangesIndexes, and Int64Indexes with a unit increment support extending. The index is set will contain the position relative to the data length.\n",
      "  warnings.warn(\n"
     ]
    },
    {
     "name": "stdout",
     "output_type": "stream",
     "text": [
      "Predicted sell: 59433.97139404371, actual: 59444.9\n",
      "Sold BTC by 59433.97139404371 at 2021-05-10 03:34:00+00:00\n",
      "\t\tSimulating 2021-05-10 02:00:00+00:00 day....\n"
     ]
    },
    {
     "name": "stderr",
     "output_type": "stream",
     "text": [
      "/home/olga/PycharmProjects/backtesting/venv/lib/python3.8/site-packages/statsmodels/tsa/deterministic.py:147: UserWarning: Only PeriodIndexes, DatetimeIndexes with a frequency set, RangesIndexes, and Int64Indexes with a unit increment support extending. The index is set will contain the position relative to the data length.\n",
      "  warnings.warn(\n"
     ]
    },
    {
     "name": "stdout",
     "output_type": "stream",
     "text": [
      "Predicted buy: 53569.26636154183, actual: 58650.39\n",
      "Predicted buy: 53569.26636154183, actual: 58680.26\n",
      "Predicted buy: 53569.26636154183, actual: 58355.79\n",
      "Predicted buy: 53569.26636154183, actual: 57736.46\n",
      "Predicted buy: 53569.26636154183, actual: 57301.81\n",
      "Predicted buy: 53569.26636154183, actual: 57455.0\n",
      "Predicted buy: 53569.26636154183, actual: 56700.0\n",
      "Predicted buy: 53569.26636154183, actual: 56849.75\n",
      "Predicted buy: 53569.26636154183, actual: 55516.85\n",
      "Predicted buy: 53569.26636154183, actual: 53400.0\n",
      "stop_loss = 48407.06203292374\n",
      "Bought BTC by 53569.26636154183 at 2021-05-10 20:05:00+00:00\n"
     ]
    },
    {
     "name": "stderr",
     "output_type": "stream",
     "text": [
      "/home/olga/PycharmProjects/backtesting/venv/lib/python3.8/site-packages/statsmodels/tsa/deterministic.py:147: UserWarning: Only PeriodIndexes, DatetimeIndexes with a frequency set, RangesIndexes, and Int64Indexes with a unit increment support extending. The index is set will contain the position relative to the data length.\n",
      "  warnings.warn(\n"
     ]
    },
    {
     "name": "stdout",
     "output_type": "stream",
     "text": [
      "Predicted sell: 59433.97139404371, actual: 59444.9\n",
      "Sold BTC by 59433.97139404371 at 2021-05-10 03:34:00+00:00\n",
      "\t\tSimulating 2021-05-10 02:00:00+00:00 day....\n"
     ]
    },
    {
     "name": "stderr",
     "output_type": "stream",
     "text": [
      "/home/olga/PycharmProjects/backtesting/venv/lib/python3.8/site-packages/statsmodels/tsa/deterministic.py:147: UserWarning: Only PeriodIndexes, DatetimeIndexes with a frequency set, RangesIndexes, and Int64Indexes with a unit increment support extending. The index is set will contain the position relative to the data length.\n",
      "  warnings.warn(\n"
     ]
    },
    {
     "name": "stdout",
     "output_type": "stream",
     "text": [
      "Predicted buy: 53569.26636154183, actual: 58650.39\n",
      "Predicted buy: 53569.26636154183, actual: 58680.26\n",
      "Predicted buy: 53569.26636154183, actual: 58355.79\n",
      "Predicted buy: 53569.26636154183, actual: 57736.46\n",
      "Predicted buy: 53569.26636154183, actual: 57301.81\n",
      "Predicted buy: 53569.26636154183, actual: 57455.0\n",
      "Predicted buy: 53569.26636154183, actual: 56700.0\n",
      "Predicted buy: 53569.26636154183, actual: 56849.75\n",
      "Predicted buy: 53569.26636154183, actual: 55516.85\n",
      "Predicted buy: 53569.26636154183, actual: 53400.0\n",
      "stop_loss = 48407.06203292374\n",
      "Bought BTC by 53569.26636154183 at 2021-05-10 20:05:00+00:00\n"
     ]
    },
    {
     "name": "stderr",
     "output_type": "stream",
     "text": [
      "/home/olga/PycharmProjects/backtesting/venv/lib/python3.8/site-packages/statsmodels/tsa/deterministic.py:147: UserWarning: Only PeriodIndexes, DatetimeIndexes with a frequency set, RangesIndexes, and Int64Indexes with a unit increment support extending. The index is set will contain the position relative to the data length.\n",
      "  warnings.warn(\n"
     ]
    },
    {
     "name": "stdout",
     "output_type": "stream",
     "text": [
      "Predicted sell: 59433.97139404371, actual: 59444.9\n",
      "Sold BTC by 59433.97139404371 at 2021-05-10 03:34:00+00:00\n",
      "\t\tSimulating 2021-05-10 02:00:00+00:00 day....\n"
     ]
    },
    {
     "name": "stderr",
     "output_type": "stream",
     "text": [
      "/home/olga/PycharmProjects/backtesting/venv/lib/python3.8/site-packages/statsmodels/tsa/deterministic.py:147: UserWarning: Only PeriodIndexes, DatetimeIndexes with a frequency set, RangesIndexes, and Int64Indexes with a unit increment support extending. The index is set will contain the position relative to the data length.\n",
      "  warnings.warn(\n"
     ]
    },
    {
     "name": "stdout",
     "output_type": "stream",
     "text": [
      "Predicted buy: 53569.26636154183, actual: 58650.39\n",
      "Predicted buy: 53569.26636154183, actual: 58680.26\n",
      "Predicted buy: 53569.26636154183, actual: 58355.79\n",
      "Predicted buy: 53569.26636154183, actual: 57736.46\n",
      "Predicted buy: 53569.26636154183, actual: 57301.81\n",
      "Predicted buy: 53569.26636154183, actual: 57455.0\n",
      "Predicted buy: 53569.26636154183, actual: 56700.0\n",
      "Predicted buy: 53569.26636154183, actual: 56849.75\n",
      "Predicted buy: 53569.26636154183, actual: 55516.85\n",
      "Predicted buy: 53569.26636154183, actual: 53400.0\n",
      "stop_loss = 48407.06203292374\n",
      "Bought BTC by 53569.26636154183 at 2021-05-10 20:05:00+00:00\n"
     ]
    },
    {
     "name": "stderr",
     "output_type": "stream",
     "text": [
      "/home/olga/PycharmProjects/backtesting/venv/lib/python3.8/site-packages/statsmodels/tsa/deterministic.py:147: UserWarning: Only PeriodIndexes, DatetimeIndexes with a frequency set, RangesIndexes, and Int64Indexes with a unit increment support extending. The index is set will contain the position relative to the data length.\n",
      "  warnings.warn(\n"
     ]
    },
    {
     "name": "stdout",
     "output_type": "stream",
     "text": [
      "Predicted sell: 59433.97139404371, actual: 59444.9\n",
      "Sold BTC by 59433.97139404371 at 2021-05-10 03:34:00+00:00\n",
      "\t\tSimulating 2021-05-10 02:00:00+00:00 day....\n"
     ]
    },
    {
     "name": "stderr",
     "output_type": "stream",
     "text": [
      "/home/olga/PycharmProjects/backtesting/venv/lib/python3.8/site-packages/statsmodels/tsa/deterministic.py:147: UserWarning: Only PeriodIndexes, DatetimeIndexes with a frequency set, RangesIndexes, and Int64Indexes with a unit increment support extending. The index is set will contain the position relative to the data length.\n",
      "  warnings.warn(\n"
     ]
    },
    {
     "name": "stdout",
     "output_type": "stream",
     "text": [
      "Predicted buy: 53569.26636154183, actual: 58650.39\n",
      "Predicted buy: 53569.26636154183, actual: 58680.26\n",
      "Predicted buy: 53569.26636154183, actual: 58355.79\n",
      "Predicted buy: 53569.26636154183, actual: 57736.46\n",
      "Predicted buy: 53569.26636154183, actual: 57301.81\n",
      "Predicted buy: 53569.26636154183, actual: 57455.0\n",
      "Predicted buy: 53569.26636154183, actual: 56700.0\n",
      "Predicted buy: 53569.26636154183, actual: 56849.75\n",
      "Predicted buy: 53569.26636154183, actual: 55516.85\n",
      "Predicted buy: 53569.26636154183, actual: 53400.0\n",
      "stop_loss = 48407.06203292374\n",
      "Bought BTC by 53569.26636154183 at 2021-05-10 20:05:00+00:00\n"
     ]
    },
    {
     "name": "stderr",
     "output_type": "stream",
     "text": [
      "/home/olga/PycharmProjects/backtesting/venv/lib/python3.8/site-packages/statsmodels/tsa/deterministic.py:147: UserWarning: Only PeriodIndexes, DatetimeIndexes with a frequency set, RangesIndexes, and Int64Indexes with a unit increment support extending. The index is set will contain the position relative to the data length.\n",
      "  warnings.warn(\n"
     ]
    },
    {
     "name": "stdout",
     "output_type": "stream",
     "text": [
      "Predicted sell: 59433.97139404371, actual: 59444.9\n",
      "Sold BTC by 59433.97139404371 at 2021-05-10 03:34:00+00:00\n",
      "\t\tSimulating 2021-05-10 02:00:00+00:00 day....\n"
     ]
    },
    {
     "name": "stderr",
     "output_type": "stream",
     "text": [
      "/home/olga/PycharmProjects/backtesting/venv/lib/python3.8/site-packages/statsmodels/tsa/deterministic.py:147: UserWarning: Only PeriodIndexes, DatetimeIndexes with a frequency set, RangesIndexes, and Int64Indexes with a unit increment support extending. The index is set will contain the position relative to the data length.\n",
      "  warnings.warn(\n"
     ]
    },
    {
     "name": "stdout",
     "output_type": "stream",
     "text": [
      "Predicted buy: 53569.26636154183, actual: 58650.39\n",
      "Predicted buy: 53569.26636154183, actual: 58680.26\n",
      "Predicted buy: 53569.26636154183, actual: 58355.79\n",
      "Predicted buy: 53569.26636154183, actual: 57736.46\n",
      "Predicted buy: 53569.26636154183, actual: 57301.81\n",
      "Predicted buy: 53569.26636154183, actual: 57455.0\n",
      "Predicted buy: 53569.26636154183, actual: 56700.0\n",
      "Predicted buy: 53569.26636154183, actual: 56849.75\n",
      "Predicted buy: 53569.26636154183, actual: 55516.85\n",
      "Predicted buy: 53569.26636154183, actual: 53400.0\n",
      "stop_loss = 48407.06203292374\n",
      "Bought BTC by 53569.26636154183 at 2021-05-10 20:05:00+00:00\n"
     ]
    },
    {
     "name": "stderr",
     "output_type": "stream",
     "text": [
      "/home/olga/PycharmProjects/backtesting/venv/lib/python3.8/site-packages/statsmodels/tsa/deterministic.py:147: UserWarning: Only PeriodIndexes, DatetimeIndexes with a frequency set, RangesIndexes, and Int64Indexes with a unit increment support extending. The index is set will contain the position relative to the data length.\n",
      "  warnings.warn(\n"
     ]
    },
    {
     "name": "stdout",
     "output_type": "stream",
     "text": [
      "Predicted sell: 59433.97139404371, actual: 59444.9\n",
      "Sold BTC by 59433.97139404371 at 2021-05-10 03:34:00+00:00\n",
      "\t\tSimulating 2021-05-10 02:00:00+00:00 day....\n"
     ]
    },
    {
     "name": "stderr",
     "output_type": "stream",
     "text": [
      "/home/olga/PycharmProjects/backtesting/venv/lib/python3.8/site-packages/statsmodels/tsa/deterministic.py:147: UserWarning: Only PeriodIndexes, DatetimeIndexes with a frequency set, RangesIndexes, and Int64Indexes with a unit increment support extending. The index is set will contain the position relative to the data length.\n",
      "  warnings.warn(\n"
     ]
    },
    {
     "name": "stdout",
     "output_type": "stream",
     "text": [
      "Predicted buy: 53569.26636154183, actual: 58650.39\n",
      "Predicted buy: 53569.26636154183, actual: 58680.26\n",
      "Predicted buy: 53569.26636154183, actual: 58355.79\n",
      "Predicted buy: 53569.26636154183, actual: 57736.46\n",
      "Predicted buy: 53569.26636154183, actual: 57301.81\n",
      "Predicted buy: 53569.26636154183, actual: 57455.0\n",
      "Predicted buy: 53569.26636154183, actual: 56700.0\n",
      "Predicted buy: 53569.26636154183, actual: 56849.75\n",
      "Predicted buy: 53569.26636154183, actual: 55516.85\n",
      "Predicted buy: 53569.26636154183, actual: 53400.0\n",
      "stop_loss = 48407.06203292374\n",
      "Bought BTC by 53569.26636154183 at 2021-05-10 20:05:00+00:00\n"
     ]
    },
    {
     "name": "stderr",
     "output_type": "stream",
     "text": [
      "/home/olga/PycharmProjects/backtesting/venv/lib/python3.8/site-packages/statsmodels/tsa/deterministic.py:147: UserWarning: Only PeriodIndexes, DatetimeIndexes with a frequency set, RangesIndexes, and Int64Indexes with a unit increment support extending. The index is set will contain the position relative to the data length.\n",
      "  warnings.warn(\n"
     ]
    },
    {
     "name": "stdout",
     "output_type": "stream",
     "text": [
      "Predicted sell: 59433.97139404371, actual: 59444.9\n",
      "Sold BTC by 59433.97139404371 at 2021-05-10 03:34:00+00:00\n",
      "\t\tSimulating 2021-05-10 02:00:00+00:00 day....\n"
     ]
    },
    {
     "name": "stderr",
     "output_type": "stream",
     "text": [
      "/home/olga/PycharmProjects/backtesting/venv/lib/python3.8/site-packages/statsmodels/tsa/deterministic.py:147: UserWarning: Only PeriodIndexes, DatetimeIndexes with a frequency set, RangesIndexes, and Int64Indexes with a unit increment support extending. The index is set will contain the position relative to the data length.\n",
      "  warnings.warn(\n"
     ]
    },
    {
     "name": "stdout",
     "output_type": "stream",
     "text": [
      "Predicted buy: 53569.26636154183, actual: 58650.39\n",
      "Predicted buy: 53569.26636154183, actual: 58680.26\n",
      "Predicted buy: 53569.26636154183, actual: 58355.79\n",
      "Predicted buy: 53569.26636154183, actual: 57736.46\n",
      "Predicted buy: 53569.26636154183, actual: 57301.81\n",
      "Predicted buy: 53569.26636154183, actual: 57455.0\n",
      "Predicted buy: 53569.26636154183, actual: 56700.0\n",
      "Predicted buy: 53569.26636154183, actual: 56849.75\n",
      "Predicted buy: 53569.26636154183, actual: 55516.85\n",
      "Predicted buy: 53569.26636154183, actual: 53400.0\n",
      "stop_loss = 48407.06203292374\n",
      "Bought BTC by 53569.26636154183 at 2021-05-10 20:05:00+00:00\n"
     ]
    },
    {
     "name": "stderr",
     "output_type": "stream",
     "text": [
      "/home/olga/PycharmProjects/backtesting/venv/lib/python3.8/site-packages/statsmodels/tsa/deterministic.py:147: UserWarning: Only PeriodIndexes, DatetimeIndexes with a frequency set, RangesIndexes, and Int64Indexes with a unit increment support extending. The index is set will contain the position relative to the data length.\n",
      "  warnings.warn(\n"
     ]
    },
    {
     "name": "stdout",
     "output_type": "stream",
     "text": [
      "Predicted sell: 59433.97139404371, actual: 59444.9\n",
      "Sold BTC by 59433.97139404371 at 2021-05-10 03:34:00+00:00\n",
      "\t\tSimulating 2021-05-10 02:00:00+00:00 day....\n"
     ]
    },
    {
     "name": "stderr",
     "output_type": "stream",
     "text": [
      "/home/olga/PycharmProjects/backtesting/venv/lib/python3.8/site-packages/statsmodels/tsa/deterministic.py:147: UserWarning: Only PeriodIndexes, DatetimeIndexes with a frequency set, RangesIndexes, and Int64Indexes with a unit increment support extending. The index is set will contain the position relative to the data length.\n",
      "  warnings.warn(\n"
     ]
    },
    {
     "name": "stdout",
     "output_type": "stream",
     "text": [
      "Predicted buy: 53569.26636154183, actual: 58650.39\n",
      "Predicted buy: 53569.26636154183, actual: 58680.26\n",
      "Predicted buy: 53569.26636154183, actual: 58355.79\n",
      "Predicted buy: 53569.26636154183, actual: 57736.46\n",
      "Predicted buy: 53569.26636154183, actual: 57301.81\n",
      "Predicted buy: 53569.26636154183, actual: 57455.0\n",
      "Predicted buy: 53569.26636154183, actual: 56700.0\n",
      "Predicted buy: 53569.26636154183, actual: 56849.75\n",
      "Predicted buy: 53569.26636154183, actual: 55516.85\n",
      "Predicted buy: 53569.26636154183, actual: 53400.0\n",
      "stop_loss = 48407.06203292374\n",
      "Bought BTC by 53569.26636154183 at 2021-05-10 20:05:00+00:00\n"
     ]
    },
    {
     "name": "stderr",
     "output_type": "stream",
     "text": [
      "/home/olga/PycharmProjects/backtesting/venv/lib/python3.8/site-packages/statsmodels/tsa/deterministic.py:147: UserWarning: Only PeriodIndexes, DatetimeIndexes with a frequency set, RangesIndexes, and Int64Indexes with a unit increment support extending. The index is set will contain the position relative to the data length.\n",
      "  warnings.warn(\n"
     ]
    },
    {
     "name": "stdout",
     "output_type": "stream",
     "text": [
      "Predicted sell: 59433.97139404371, actual: 59444.9\n",
      "Sold BTC by 59433.97139404371 at 2021-05-10 03:34:00+00:00\n",
      "\t\tSimulating 2021-05-10 02:00:00+00:00 day....\n"
     ]
    },
    {
     "name": "stderr",
     "output_type": "stream",
     "text": [
      "/home/olga/PycharmProjects/backtesting/venv/lib/python3.8/site-packages/statsmodels/tsa/deterministic.py:147: UserWarning: Only PeriodIndexes, DatetimeIndexes with a frequency set, RangesIndexes, and Int64Indexes with a unit increment support extending. The index is set will contain the position relative to the data length.\n",
      "  warnings.warn(\n"
     ]
    },
    {
     "name": "stdout",
     "output_type": "stream",
     "text": [
      "Predicted buy: 53569.26636154183, actual: 58650.39\n",
      "Predicted buy: 53569.26636154183, actual: 58680.26\n",
      "Predicted buy: 53569.26636154183, actual: 58355.79\n",
      "Predicted buy: 53569.26636154183, actual: 57736.46\n",
      "Predicted buy: 53569.26636154183, actual: 57301.81\n",
      "Predicted buy: 53569.26636154183, actual: 57455.0\n",
      "Predicted buy: 53569.26636154183, actual: 56700.0\n",
      "Predicted buy: 53569.26636154183, actual: 56849.75\n",
      "Predicted buy: 53569.26636154183, actual: 55516.85\n",
      "Predicted buy: 53569.26636154183, actual: 53400.0\n",
      "stop_loss = 48407.06203292374\n",
      "Bought BTC by 53569.26636154183 at 2021-05-10 20:05:00+00:00\n"
     ]
    },
    {
     "name": "stderr",
     "output_type": "stream",
     "text": [
      "/home/olga/PycharmProjects/backtesting/venv/lib/python3.8/site-packages/statsmodels/tsa/deterministic.py:147: UserWarning: Only PeriodIndexes, DatetimeIndexes with a frequency set, RangesIndexes, and Int64Indexes with a unit increment support extending. The index is set will contain the position relative to the data length.\n",
      "  warnings.warn(\n"
     ]
    },
    {
     "name": "stdout",
     "output_type": "stream",
     "text": [
      "Predicted sell: 59433.97139404371, actual: 59444.9\n",
      "Sold BTC by 59433.97139404371 at 2021-05-10 03:34:00+00:00\n",
      "\t\tSimulating 2021-05-10 02:00:00+00:00 day....\n"
     ]
    },
    {
     "name": "stderr",
     "output_type": "stream",
     "text": [
      "/home/olga/PycharmProjects/backtesting/venv/lib/python3.8/site-packages/statsmodels/tsa/deterministic.py:147: UserWarning: Only PeriodIndexes, DatetimeIndexes with a frequency set, RangesIndexes, and Int64Indexes with a unit increment support extending. The index is set will contain the position relative to the data length.\n",
      "  warnings.warn(\n"
     ]
    },
    {
     "name": "stdout",
     "output_type": "stream",
     "text": [
      "Predicted buy: 53569.26636154183, actual: 58650.39\n",
      "Predicted buy: 53569.26636154183, actual: 58680.26\n",
      "Predicted buy: 53569.26636154183, actual: 58355.79\n",
      "Predicted buy: 53569.26636154183, actual: 57736.46\n",
      "Predicted buy: 53569.26636154183, actual: 57301.81\n",
      "Predicted buy: 53569.26636154183, actual: 57455.0\n",
      "Predicted buy: 53569.26636154183, actual: 56700.0\n",
      "Predicted buy: 53569.26636154183, actual: 56849.75\n",
      "Predicted buy: 53569.26636154183, actual: 55516.85\n",
      "Predicted buy: 53569.26636154183, actual: 53400.0\n",
      "stop_loss = 48407.06203292374\n",
      "Bought BTC by 53569.26636154183 at 2021-05-10 20:05:00+00:00\n"
     ]
    },
    {
     "name": "stderr",
     "output_type": "stream",
     "text": [
      "/home/olga/PycharmProjects/backtesting/venv/lib/python3.8/site-packages/statsmodels/tsa/deterministic.py:147: UserWarning: Only PeriodIndexes, DatetimeIndexes with a frequency set, RangesIndexes, and Int64Indexes with a unit increment support extending. The index is set will contain the position relative to the data length.\n",
      "  warnings.warn(\n"
     ]
    },
    {
     "name": "stdout",
     "output_type": "stream",
     "text": [
      "Predicted sell: 59433.97139404371, actual: 59444.9\n",
      "Sold BTC by 59433.97139404371 at 2021-05-10 03:34:00+00:00\n",
      "\t\tSimulating 2021-05-10 02:00:00+00:00 day....\n"
     ]
    },
    {
     "name": "stderr",
     "output_type": "stream",
     "text": [
      "/home/olga/PycharmProjects/backtesting/venv/lib/python3.8/site-packages/statsmodels/tsa/deterministic.py:147: UserWarning: Only PeriodIndexes, DatetimeIndexes with a frequency set, RangesIndexes, and Int64Indexes with a unit increment support extending. The index is set will contain the position relative to the data length.\n",
      "  warnings.warn(\n"
     ]
    },
    {
     "name": "stdout",
     "output_type": "stream",
     "text": [
      "Predicted buy: 53569.26636154183, actual: 58650.39\n",
      "Predicted buy: 53569.26636154183, actual: 58680.26\n",
      "Predicted buy: 53569.26636154183, actual: 58355.79\n",
      "Predicted buy: 53569.26636154183, actual: 57736.46\n",
      "Predicted buy: 53569.26636154183, actual: 57301.81\n",
      "Predicted buy: 53569.26636154183, actual: 57455.0\n",
      "Predicted buy: 53569.26636154183, actual: 56700.0\n",
      "Predicted buy: 53569.26636154183, actual: 56849.75\n",
      "Predicted buy: 53569.26636154183, actual: 55516.85\n",
      "Predicted buy: 53569.26636154183, actual: 53400.0\n",
      "stop_loss = 48407.06203292374\n",
      "Bought BTC by 53569.26636154183 at 2021-05-10 20:05:00+00:00\n"
     ]
    },
    {
     "name": "stderr",
     "output_type": "stream",
     "text": [
      "/home/olga/PycharmProjects/backtesting/venv/lib/python3.8/site-packages/statsmodels/tsa/deterministic.py:147: UserWarning: Only PeriodIndexes, DatetimeIndexes with a frequency set, RangesIndexes, and Int64Indexes with a unit increment support extending. The index is set will contain the position relative to the data length.\n",
      "  warnings.warn(\n"
     ]
    },
    {
     "name": "stdout",
     "output_type": "stream",
     "text": [
      "Predicted sell: 59433.97139404371, actual: 59444.9\n",
      "Sold BTC by 59433.97139404371 at 2021-05-10 03:34:00+00:00\n",
      "\t\tSimulating 2021-05-10 02:00:00+00:00 day....\n"
     ]
    },
    {
     "name": "stderr",
     "output_type": "stream",
     "text": [
      "/home/olga/PycharmProjects/backtesting/venv/lib/python3.8/site-packages/statsmodels/tsa/deterministic.py:147: UserWarning: Only PeriodIndexes, DatetimeIndexes with a frequency set, RangesIndexes, and Int64Indexes with a unit increment support extending. The index is set will contain the position relative to the data length.\n",
      "  warnings.warn(\n"
     ]
    },
    {
     "name": "stdout",
     "output_type": "stream",
     "text": [
      "Predicted buy: 53569.26636154183, actual: 58650.39\n",
      "Predicted buy: 53569.26636154183, actual: 58680.26\n",
      "Predicted buy: 53569.26636154183, actual: 58355.79\n",
      "Predicted buy: 53569.26636154183, actual: 57736.46\n",
      "Predicted buy: 53569.26636154183, actual: 57301.81\n",
      "Predicted buy: 53569.26636154183, actual: 57455.0\n",
      "Predicted buy: 53569.26636154183, actual: 56700.0\n",
      "Predicted buy: 53569.26636154183, actual: 56849.75\n",
      "Predicted buy: 53569.26636154183, actual: 55516.85\n",
      "Predicted buy: 53569.26636154183, actual: 53400.0\n",
      "stop_loss = 48407.06203292374\n",
      "Bought BTC by 53569.26636154183 at 2021-05-10 20:05:00+00:00\n"
     ]
    },
    {
     "name": "stderr",
     "output_type": "stream",
     "text": [
      "/home/olga/PycharmProjects/backtesting/venv/lib/python3.8/site-packages/statsmodels/tsa/deterministic.py:147: UserWarning: Only PeriodIndexes, DatetimeIndexes with a frequency set, RangesIndexes, and Int64Indexes with a unit increment support extending. The index is set will contain the position relative to the data length.\n",
      "  warnings.warn(\n"
     ]
    },
    {
     "name": "stdout",
     "output_type": "stream",
     "text": [
      "Predicted sell: 59433.97139404371, actual: 59444.9\n",
      "Sold BTC by 59433.97139404371 at 2021-05-10 03:34:00+00:00\n",
      "\t\tSimulating 2021-05-10 02:00:00+00:00 day....\n"
     ]
    },
    {
     "name": "stderr",
     "output_type": "stream",
     "text": [
      "/home/olga/PycharmProjects/backtesting/venv/lib/python3.8/site-packages/statsmodels/tsa/deterministic.py:147: UserWarning: Only PeriodIndexes, DatetimeIndexes with a frequency set, RangesIndexes, and Int64Indexes with a unit increment support extending. The index is set will contain the position relative to the data length.\n",
      "  warnings.warn(\n"
     ]
    },
    {
     "name": "stdout",
     "output_type": "stream",
     "text": [
      "Predicted buy: 53569.26636154183, actual: 58650.39\n",
      "Predicted buy: 53569.26636154183, actual: 58680.26\n",
      "Predicted buy: 53569.26636154183, actual: 58355.79\n",
      "Predicted buy: 53569.26636154183, actual: 57736.46\n",
      "Predicted buy: 53569.26636154183, actual: 57301.81\n",
      "Predicted buy: 53569.26636154183, actual: 57455.0\n",
      "Predicted buy: 53569.26636154183, actual: 56700.0\n",
      "Predicted buy: 53569.26636154183, actual: 56849.75\n",
      "Predicted buy: 53569.26636154183, actual: 55516.85\n",
      "Predicted buy: 53569.26636154183, actual: 53400.0\n",
      "stop_loss = 48407.06203292374\n",
      "Bought BTC by 53569.26636154183 at 2021-05-10 20:05:00+00:00\n"
     ]
    },
    {
     "name": "stderr",
     "output_type": "stream",
     "text": [
      "/home/olga/PycharmProjects/backtesting/venv/lib/python3.8/site-packages/statsmodels/tsa/deterministic.py:147: UserWarning: Only PeriodIndexes, DatetimeIndexes with a frequency set, RangesIndexes, and Int64Indexes with a unit increment support extending. The index is set will contain the position relative to the data length.\n",
      "  warnings.warn(\n"
     ]
    },
    {
     "name": "stdout",
     "output_type": "stream",
     "text": [
      "Predicted sell: 59433.97139404371, actual: 59444.9\n",
      "Sold BTC by 59433.97139404371 at 2021-05-10 03:34:00+00:00\n",
      "\t\tSimulating 2021-05-10 02:00:00+00:00 day....\n"
     ]
    },
    {
     "name": "stderr",
     "output_type": "stream",
     "text": [
      "/home/olga/PycharmProjects/backtesting/venv/lib/python3.8/site-packages/statsmodels/tsa/deterministic.py:147: UserWarning: Only PeriodIndexes, DatetimeIndexes with a frequency set, RangesIndexes, and Int64Indexes with a unit increment support extending. The index is set will contain the position relative to the data length.\n",
      "  warnings.warn(\n"
     ]
    },
    {
     "name": "stdout",
     "output_type": "stream",
     "text": [
      "Predicted buy: 53569.26636154183, actual: 58650.39\n",
      "Predicted buy: 53569.26636154183, actual: 58680.26\n",
      "Predicted buy: 53569.26636154183, actual: 58355.79\n",
      "Predicted buy: 53569.26636154183, actual: 57736.46\n",
      "Predicted buy: 53569.26636154183, actual: 57301.81\n",
      "Predicted buy: 53569.26636154183, actual: 57455.0\n",
      "Predicted buy: 53569.26636154183, actual: 56700.0\n",
      "Predicted buy: 53569.26636154183, actual: 56849.75\n",
      "Predicted buy: 53569.26636154183, actual: 55516.85\n",
      "Predicted buy: 53569.26636154183, actual: 53400.0\n",
      "stop_loss = 48407.06203292374\n",
      "Bought BTC by 53569.26636154183 at 2021-05-10 20:05:00+00:00\n"
     ]
    },
    {
     "name": "stderr",
     "output_type": "stream",
     "text": [
      "/home/olga/PycharmProjects/backtesting/venv/lib/python3.8/site-packages/statsmodels/tsa/deterministic.py:147: UserWarning: Only PeriodIndexes, DatetimeIndexes with a frequency set, RangesIndexes, and Int64Indexes with a unit increment support extending. The index is set will contain the position relative to the data length.\n",
      "  warnings.warn(\n"
     ]
    },
    {
     "name": "stdout",
     "output_type": "stream",
     "text": [
      "Predicted sell: 59433.97139404371, actual: 59444.9\n",
      "Sold BTC by 59433.97139404371 at 2021-05-10 03:34:00+00:00\n",
      "\t\tSimulating 2021-05-10 02:00:00+00:00 day....\n"
     ]
    },
    {
     "name": "stderr",
     "output_type": "stream",
     "text": [
      "/home/olga/PycharmProjects/backtesting/venv/lib/python3.8/site-packages/statsmodels/tsa/deterministic.py:147: UserWarning: Only PeriodIndexes, DatetimeIndexes with a frequency set, RangesIndexes, and Int64Indexes with a unit increment support extending. The index is set will contain the position relative to the data length.\n",
      "  warnings.warn(\n"
     ]
    },
    {
     "name": "stdout",
     "output_type": "stream",
     "text": [
      "Predicted buy: 53569.26636154183, actual: 58650.39\n",
      "Predicted buy: 53569.26636154183, actual: 58680.26\n",
      "Predicted buy: 53569.26636154183, actual: 58355.79\n",
      "Predicted buy: 53569.26636154183, actual: 57736.46\n",
      "Predicted buy: 53569.26636154183, actual: 57301.81\n",
      "Predicted buy: 53569.26636154183, actual: 57455.0\n",
      "Predicted buy: 53569.26636154183, actual: 56700.0\n",
      "Predicted buy: 53569.26636154183, actual: 56849.75\n",
      "Predicted buy: 53569.26636154183, actual: 55516.85\n",
      "Predicted buy: 53569.26636154183, actual: 53400.0\n",
      "stop_loss = 48407.06203292374\n",
      "Bought BTC by 53569.26636154183 at 2021-05-10 20:05:00+00:00\n"
     ]
    },
    {
     "name": "stderr",
     "output_type": "stream",
     "text": [
      "/home/olga/PycharmProjects/backtesting/venv/lib/python3.8/site-packages/statsmodels/tsa/deterministic.py:147: UserWarning: Only PeriodIndexes, DatetimeIndexes with a frequency set, RangesIndexes, and Int64Indexes with a unit increment support extending. The index is set will contain the position relative to the data length.\n",
      "  warnings.warn(\n"
     ]
    },
    {
     "name": "stdout",
     "output_type": "stream",
     "text": [
      "Predicted sell: 59433.97139404371, actual: 59444.9\n",
      "Sold BTC by 59433.97139404371 at 2021-05-10 03:34:00+00:00\n",
      "\t\tSimulating 2021-05-10 02:00:00+00:00 day....\n"
     ]
    },
    {
     "name": "stderr",
     "output_type": "stream",
     "text": [
      "/home/olga/PycharmProjects/backtesting/venv/lib/python3.8/site-packages/statsmodels/tsa/deterministic.py:147: UserWarning: Only PeriodIndexes, DatetimeIndexes with a frequency set, RangesIndexes, and Int64Indexes with a unit increment support extending. The index is set will contain the position relative to the data length.\n",
      "  warnings.warn(\n"
     ]
    },
    {
     "name": "stdout",
     "output_type": "stream",
     "text": [
      "Predicted buy: 53569.26636154183, actual: 58650.39\n",
      "Predicted buy: 53569.26636154183, actual: 58680.26\n",
      "Predicted buy: 53569.26636154183, actual: 58355.79\n",
      "Predicted buy: 53569.26636154183, actual: 57736.46\n",
      "Predicted buy: 53569.26636154183, actual: 57301.81\n",
      "Predicted buy: 53569.26636154183, actual: 57455.0\n",
      "Predicted buy: 53569.26636154183, actual: 56700.0\n",
      "Predicted buy: 53569.26636154183, actual: 56849.75\n",
      "Predicted buy: 53569.26636154183, actual: 55516.85\n",
      "Predicted buy: 53569.26636154183, actual: 53400.0\n",
      "stop_loss = 48407.06203292374\n",
      "Bought BTC by 53569.26636154183 at 2021-05-10 20:05:00+00:00\n"
     ]
    },
    {
     "name": "stderr",
     "output_type": "stream",
     "text": [
      "/home/olga/PycharmProjects/backtesting/venv/lib/python3.8/site-packages/statsmodels/tsa/deterministic.py:147: UserWarning: Only PeriodIndexes, DatetimeIndexes with a frequency set, RangesIndexes, and Int64Indexes with a unit increment support extending. The index is set will contain the position relative to the data length.\n",
      "  warnings.warn(\n"
     ]
    },
    {
     "name": "stdout",
     "output_type": "stream",
     "text": [
      "Predicted sell: 59433.97139404371, actual: 59444.9\n",
      "Sold BTC by 59433.97139404371 at 2021-05-10 03:34:00+00:00\n",
      "\t\tSimulating 2021-05-10 02:00:00+00:00 day....\n"
     ]
    },
    {
     "name": "stderr",
     "output_type": "stream",
     "text": [
      "/home/olga/PycharmProjects/backtesting/venv/lib/python3.8/site-packages/statsmodels/tsa/deterministic.py:147: UserWarning: Only PeriodIndexes, DatetimeIndexes with a frequency set, RangesIndexes, and Int64Indexes with a unit increment support extending. The index is set will contain the position relative to the data length.\n",
      "  warnings.warn(\n"
     ]
    },
    {
     "name": "stdout",
     "output_type": "stream",
     "text": [
      "Predicted buy: 53569.26636154183, actual: 58650.39\n",
      "Predicted buy: 53569.26636154183, actual: 58680.26\n",
      "Predicted buy: 53569.26636154183, actual: 58355.79\n",
      "Predicted buy: 53569.26636154183, actual: 57736.46\n",
      "Predicted buy: 53569.26636154183, actual: 57301.81\n",
      "Predicted buy: 53569.26636154183, actual: 57455.0\n",
      "Predicted buy: 53569.26636154183, actual: 56700.0\n",
      "Predicted buy: 53569.26636154183, actual: 56849.75\n",
      "Predicted buy: 53569.26636154183, actual: 55516.85\n",
      "Predicted buy: 53569.26636154183, actual: 53400.0\n",
      "stop_loss = 48407.06203292374\n",
      "Bought BTC by 53569.26636154183 at 2021-05-10 20:05:00+00:00\n"
     ]
    },
    {
     "name": "stderr",
     "output_type": "stream",
     "text": [
      "/home/olga/PycharmProjects/backtesting/venv/lib/python3.8/site-packages/statsmodels/tsa/deterministic.py:147: UserWarning: Only PeriodIndexes, DatetimeIndexes with a frequency set, RangesIndexes, and Int64Indexes with a unit increment support extending. The index is set will contain the position relative to the data length.\n",
      "  warnings.warn(\n"
     ]
    },
    {
     "name": "stdout",
     "output_type": "stream",
     "text": [
      "Predicted sell: 59433.97139404371, actual: 59444.9\n",
      "Sold BTC by 59433.97139404371 at 2021-05-10 03:34:00+00:00\n",
      "\t\tSimulating 2021-05-10 02:00:00+00:00 day....\n"
     ]
    },
    {
     "name": "stderr",
     "output_type": "stream",
     "text": [
      "/home/olga/PycharmProjects/backtesting/venv/lib/python3.8/site-packages/statsmodels/tsa/deterministic.py:147: UserWarning: Only PeriodIndexes, DatetimeIndexes with a frequency set, RangesIndexes, and Int64Indexes with a unit increment support extending. The index is set will contain the position relative to the data length.\n",
      "  warnings.warn(\n"
     ]
    },
    {
     "name": "stdout",
     "output_type": "stream",
     "text": [
      "Predicted buy: 53569.26636154183, actual: 58650.39\n",
      "Predicted buy: 53569.26636154183, actual: 58680.26\n",
      "Predicted buy: 53569.26636154183, actual: 58355.79\n",
      "Predicted buy: 53569.26636154183, actual: 57736.46\n",
      "Predicted buy: 53569.26636154183, actual: 57301.81\n",
      "Predicted buy: 53569.26636154183, actual: 57455.0\n",
      "Predicted buy: 53569.26636154183, actual: 56700.0\n",
      "Predicted buy: 53569.26636154183, actual: 56849.75\n",
      "Predicted buy: 53569.26636154183, actual: 55516.85\n",
      "Predicted buy: 53569.26636154183, actual: 53400.0\n",
      "stop_loss = 48407.06203292374\n",
      "Bought BTC by 53569.26636154183 at 2021-05-10 20:05:00+00:00\n"
     ]
    },
    {
     "name": "stderr",
     "output_type": "stream",
     "text": [
      "/home/olga/PycharmProjects/backtesting/venv/lib/python3.8/site-packages/statsmodels/tsa/deterministic.py:147: UserWarning: Only PeriodIndexes, DatetimeIndexes with a frequency set, RangesIndexes, and Int64Indexes with a unit increment support extending. The index is set will contain the position relative to the data length.\n",
      "  warnings.warn(\n"
     ]
    },
    {
     "name": "stdout",
     "output_type": "stream",
     "text": [
      "Predicted sell: 59433.97139404371, actual: 59444.9\n",
      "Sold BTC by 59433.97139404371 at 2021-05-10 03:34:00+00:00\n",
      "\t\tSimulating 2021-05-10 02:00:00+00:00 day....\n"
     ]
    },
    {
     "name": "stderr",
     "output_type": "stream",
     "text": [
      "/home/olga/PycharmProjects/backtesting/venv/lib/python3.8/site-packages/statsmodels/tsa/deterministic.py:147: UserWarning: Only PeriodIndexes, DatetimeIndexes with a frequency set, RangesIndexes, and Int64Indexes with a unit increment support extending. The index is set will contain the position relative to the data length.\n",
      "  warnings.warn(\n"
     ]
    },
    {
     "name": "stdout",
     "output_type": "stream",
     "text": [
      "Predicted buy: 53569.26636154183, actual: 58650.39\n",
      "Predicted buy: 53569.26636154183, actual: 58680.26\n",
      "Predicted buy: 53569.26636154183, actual: 58355.79\n",
      "Predicted buy: 53569.26636154183, actual: 57736.46\n",
      "Predicted buy: 53569.26636154183, actual: 57301.81\n",
      "Predicted buy: 53569.26636154183, actual: 57455.0\n",
      "Predicted buy: 53569.26636154183, actual: 56700.0\n",
      "Predicted buy: 53569.26636154183, actual: 56849.75\n",
      "Predicted buy: 53569.26636154183, actual: 55516.85\n",
      "Predicted buy: 53569.26636154183, actual: 53400.0\n",
      "stop_loss = 48407.06203292374\n",
      "Bought BTC by 53569.26636154183 at 2021-05-10 20:05:00+00:00\n"
     ]
    },
    {
     "name": "stderr",
     "output_type": "stream",
     "text": [
      "/home/olga/PycharmProjects/backtesting/venv/lib/python3.8/site-packages/statsmodels/tsa/deterministic.py:147: UserWarning: Only PeriodIndexes, DatetimeIndexes with a frequency set, RangesIndexes, and Int64Indexes with a unit increment support extending. The index is set will contain the position relative to the data length.\n",
      "  warnings.warn(\n"
     ]
    },
    {
     "name": "stdout",
     "output_type": "stream",
     "text": [
      "Predicted sell: 59433.97139404371, actual: 59444.9\n",
      "Sold BTC by 59433.97139404371 at 2021-05-10 03:34:00+00:00\n",
      "\t\tSimulating 2021-05-10 02:00:00+00:00 day....\n"
     ]
    },
    {
     "name": "stderr",
     "output_type": "stream",
     "text": [
      "/home/olga/PycharmProjects/backtesting/venv/lib/python3.8/site-packages/statsmodels/tsa/deterministic.py:147: UserWarning: Only PeriodIndexes, DatetimeIndexes with a frequency set, RangesIndexes, and Int64Indexes with a unit increment support extending. The index is set will contain the position relative to the data length.\n",
      "  warnings.warn(\n"
     ]
    },
    {
     "name": "stdout",
     "output_type": "stream",
     "text": [
      "Predicted buy: 53569.26636154183, actual: 58650.39\n",
      "Predicted buy: 53569.26636154183, actual: 58680.26\n",
      "Predicted buy: 53569.26636154183, actual: 58355.79\n",
      "Predicted buy: 53569.26636154183, actual: 57736.46\n",
      "Predicted buy: 53569.26636154183, actual: 57301.81\n",
      "Predicted buy: 53569.26636154183, actual: 57455.0\n",
      "Predicted buy: 53569.26636154183, actual: 56700.0\n",
      "Predicted buy: 53569.26636154183, actual: 56849.75\n",
      "Predicted buy: 53569.26636154183, actual: 55516.85\n",
      "Predicted buy: 53569.26636154183, actual: 53400.0\n",
      "stop_loss = 48407.06203292374\n",
      "Bought BTC by 53569.26636154183 at 2021-05-10 20:05:00+00:00\n"
     ]
    },
    {
     "name": "stderr",
     "output_type": "stream",
     "text": [
      "/home/olga/PycharmProjects/backtesting/venv/lib/python3.8/site-packages/statsmodels/tsa/deterministic.py:147: UserWarning: Only PeriodIndexes, DatetimeIndexes with a frequency set, RangesIndexes, and Int64Indexes with a unit increment support extending. The index is set will contain the position relative to the data length.\n",
      "  warnings.warn(\n"
     ]
    },
    {
     "name": "stdout",
     "output_type": "stream",
     "text": [
      "Predicted sell: 59433.97139404371, actual: 59444.9\n",
      "Sold BTC by 59433.97139404371 at 2021-05-10 03:34:00+00:00\n",
      "\t\tSimulating 2021-05-10 02:00:00+00:00 day....\n"
     ]
    },
    {
     "name": "stderr",
     "output_type": "stream",
     "text": [
      "/home/olga/PycharmProjects/backtesting/venv/lib/python3.8/site-packages/statsmodels/tsa/deterministic.py:147: UserWarning: Only PeriodIndexes, DatetimeIndexes with a frequency set, RangesIndexes, and Int64Indexes with a unit increment support extending. The index is set will contain the position relative to the data length.\n",
      "  warnings.warn(\n"
     ]
    },
    {
     "name": "stdout",
     "output_type": "stream",
     "text": [
      "Predicted buy: 53569.26636154183, actual: 58650.39\n",
      "Predicted buy: 53569.26636154183, actual: 58680.26\n",
      "Predicted buy: 53569.26636154183, actual: 58355.79\n",
      "Predicted buy: 53569.26636154183, actual: 57736.46\n",
      "Predicted buy: 53569.26636154183, actual: 57301.81\n",
      "Predicted buy: 53569.26636154183, actual: 57455.0\n",
      "Predicted buy: 53569.26636154183, actual: 56700.0\n",
      "Predicted buy: 53569.26636154183, actual: 56849.75\n",
      "Predicted buy: 53569.26636154183, actual: 55516.85\n",
      "Predicted buy: 53569.26636154183, actual: 53400.0\n",
      "stop_loss = 48407.06203292374\n",
      "Bought BTC by 53569.26636154183 at 2021-05-10 20:05:00+00:00\n"
     ]
    },
    {
     "name": "stderr",
     "output_type": "stream",
     "text": [
      "/home/olga/PycharmProjects/backtesting/venv/lib/python3.8/site-packages/statsmodels/tsa/deterministic.py:147: UserWarning: Only PeriodIndexes, DatetimeIndexes with a frequency set, RangesIndexes, and Int64Indexes with a unit increment support extending. The index is set will contain the position relative to the data length.\n",
      "  warnings.warn(\n"
     ]
    },
    {
     "name": "stdout",
     "output_type": "stream",
     "text": [
      "Predicted sell: 59433.97139404371, actual: 59444.9\n",
      "Sold BTC by 59433.97139404371 at 2021-05-10 03:34:00+00:00\n",
      "\t\tSimulating 2021-05-10 02:00:00+00:00 day....\n"
     ]
    },
    {
     "name": "stderr",
     "output_type": "stream",
     "text": [
      "/home/olga/PycharmProjects/backtesting/venv/lib/python3.8/site-packages/statsmodels/tsa/deterministic.py:147: UserWarning: Only PeriodIndexes, DatetimeIndexes with a frequency set, RangesIndexes, and Int64Indexes with a unit increment support extending. The index is set will contain the position relative to the data length.\n",
      "  warnings.warn(\n"
     ]
    },
    {
     "name": "stdout",
     "output_type": "stream",
     "text": [
      "Predicted buy: 53569.26636154183, actual: 58650.39\n",
      "Predicted buy: 53569.26636154183, actual: 58680.26\n",
      "Predicted buy: 53569.26636154183, actual: 58355.79\n",
      "Predicted buy: 53569.26636154183, actual: 57736.46\n",
      "Predicted buy: 53569.26636154183, actual: 57301.81\n",
      "Predicted buy: 53569.26636154183, actual: 57455.0\n",
      "Predicted buy: 53569.26636154183, actual: 56700.0\n",
      "Predicted buy: 53569.26636154183, actual: 56849.75\n",
      "Predicted buy: 53569.26636154183, actual: 55516.85\n",
      "Predicted buy: 53569.26636154183, actual: 53400.0\n",
      "stop_loss = 48407.06203292374\n",
      "Bought BTC by 53569.26636154183 at 2021-05-10 20:05:00+00:00\n"
     ]
    },
    {
     "name": "stderr",
     "output_type": "stream",
     "text": [
      "/home/olga/PycharmProjects/backtesting/venv/lib/python3.8/site-packages/statsmodels/tsa/deterministic.py:147: UserWarning: Only PeriodIndexes, DatetimeIndexes with a frequency set, RangesIndexes, and Int64Indexes with a unit increment support extending. The index is set will contain the position relative to the data length.\n",
      "  warnings.warn(\n"
     ]
    },
    {
     "name": "stdout",
     "output_type": "stream",
     "text": [
      "Predicted sell: 59433.97139404371, actual: 59444.9\n",
      "Sold BTC by 59433.97139404371 at 2021-05-10 03:34:00+00:00\n",
      "\t\tSimulating 2021-05-10 02:00:00+00:00 day....\n"
     ]
    },
    {
     "name": "stderr",
     "output_type": "stream",
     "text": [
      "/home/olga/PycharmProjects/backtesting/venv/lib/python3.8/site-packages/statsmodels/tsa/deterministic.py:147: UserWarning: Only PeriodIndexes, DatetimeIndexes with a frequency set, RangesIndexes, and Int64Indexes with a unit increment support extending. The index is set will contain the position relative to the data length.\n",
      "  warnings.warn(\n"
     ]
    },
    {
     "name": "stdout",
     "output_type": "stream",
     "text": [
      "Predicted buy: 53569.26636154183, actual: 58650.39\n",
      "Predicted buy: 53569.26636154183, actual: 58680.26\n",
      "Predicted buy: 53569.26636154183, actual: 58355.79\n",
      "Predicted buy: 53569.26636154183, actual: 57736.46\n",
      "Predicted buy: 53569.26636154183, actual: 57301.81\n",
      "Predicted buy: 53569.26636154183, actual: 57455.0\n",
      "Predicted buy: 53569.26636154183, actual: 56700.0\n",
      "Predicted buy: 53569.26636154183, actual: 56849.75\n",
      "Predicted buy: 53569.26636154183, actual: 55516.85\n",
      "Predicted buy: 53569.26636154183, actual: 53400.0\n",
      "stop_loss = 48407.06203292374\n",
      "Bought BTC by 53569.26636154183 at 2021-05-10 20:05:00+00:00\n"
     ]
    },
    {
     "name": "stderr",
     "output_type": "stream",
     "text": [
      "/home/olga/PycharmProjects/backtesting/venv/lib/python3.8/site-packages/statsmodels/tsa/deterministic.py:147: UserWarning: Only PeriodIndexes, DatetimeIndexes with a frequency set, RangesIndexes, and Int64Indexes with a unit increment support extending. The index is set will contain the position relative to the data length.\n",
      "  warnings.warn(\n"
     ]
    },
    {
     "name": "stdout",
     "output_type": "stream",
     "text": [
      "Predicted sell: 59433.97139404371, actual: 59444.9\n",
      "Sold BTC by 59433.97139404371 at 2021-05-10 03:34:00+00:00\n",
      "\t\tSimulating 2021-05-10 02:00:00+00:00 day....\n"
     ]
    },
    {
     "name": "stderr",
     "output_type": "stream",
     "text": [
      "/home/olga/PycharmProjects/backtesting/venv/lib/python3.8/site-packages/statsmodels/tsa/deterministic.py:147: UserWarning: Only PeriodIndexes, DatetimeIndexes with a frequency set, RangesIndexes, and Int64Indexes with a unit increment support extending. The index is set will contain the position relative to the data length.\n",
      "  warnings.warn(\n"
     ]
    },
    {
     "name": "stdout",
     "output_type": "stream",
     "text": [
      "Predicted buy: 53569.26636154183, actual: 58650.39\n",
      "Predicted buy: 53569.26636154183, actual: 58680.26\n",
      "Predicted buy: 53569.26636154183, actual: 58355.79\n",
      "Predicted buy: 53569.26636154183, actual: 57736.46\n",
      "Predicted buy: 53569.26636154183, actual: 57301.81\n",
      "Predicted buy: 53569.26636154183, actual: 57455.0\n",
      "Predicted buy: 53569.26636154183, actual: 56700.0\n",
      "Predicted buy: 53569.26636154183, actual: 56849.75\n",
      "Predicted buy: 53569.26636154183, actual: 55516.85\n",
      "Predicted buy: 53569.26636154183, actual: 53400.0\n",
      "stop_loss = 48407.06203292374\n",
      "Bought BTC by 53569.26636154183 at 2021-05-10 20:05:00+00:00\n"
     ]
    },
    {
     "name": "stderr",
     "output_type": "stream",
     "text": [
      "/home/olga/PycharmProjects/backtesting/venv/lib/python3.8/site-packages/statsmodels/tsa/deterministic.py:147: UserWarning: Only PeriodIndexes, DatetimeIndexes with a frequency set, RangesIndexes, and Int64Indexes with a unit increment support extending. The index is set will contain the position relative to the data length.\n",
      "  warnings.warn(\n"
     ]
    },
    {
     "name": "stdout",
     "output_type": "stream",
     "text": [
      "Predicted sell: 59433.97139404371, actual: 59444.9\n",
      "Sold BTC by 59433.97139404371 at 2021-05-10 03:34:00+00:00\n",
      "\t\tSimulating 2021-05-10 02:00:00+00:00 day....\n"
     ]
    },
    {
     "name": "stderr",
     "output_type": "stream",
     "text": [
      "/home/olga/PycharmProjects/backtesting/venv/lib/python3.8/site-packages/statsmodels/tsa/deterministic.py:147: UserWarning: Only PeriodIndexes, DatetimeIndexes with a frequency set, RangesIndexes, and Int64Indexes with a unit increment support extending. The index is set will contain the position relative to the data length.\n",
      "  warnings.warn(\n"
     ]
    },
    {
     "name": "stdout",
     "output_type": "stream",
     "text": [
      "Predicted buy: 53569.26636154183, actual: 58650.39\n",
      "Predicted buy: 53569.26636154183, actual: 58680.26\n",
      "Predicted buy: 53569.26636154183, actual: 58355.79\n",
      "Predicted buy: 53569.26636154183, actual: 57736.46\n",
      "Predicted buy: 53569.26636154183, actual: 57301.81\n",
      "Predicted buy: 53569.26636154183, actual: 57455.0\n",
      "Predicted buy: 53569.26636154183, actual: 56700.0\n",
      "Predicted buy: 53569.26636154183, actual: 56849.75\n",
      "Predicted buy: 53569.26636154183, actual: 55516.85\n",
      "Predicted buy: 53569.26636154183, actual: 53400.0\n",
      "stop_loss = 48407.06203292374\n",
      "Bought BTC by 53569.26636154183 at 2021-05-10 20:05:00+00:00\n"
     ]
    },
    {
     "name": "stderr",
     "output_type": "stream",
     "text": [
      "/home/olga/PycharmProjects/backtesting/venv/lib/python3.8/site-packages/statsmodels/tsa/deterministic.py:147: UserWarning: Only PeriodIndexes, DatetimeIndexes with a frequency set, RangesIndexes, and Int64Indexes with a unit increment support extending. The index is set will contain the position relative to the data length.\n",
      "  warnings.warn(\n"
     ]
    },
    {
     "name": "stdout",
     "output_type": "stream",
     "text": [
      "Predicted sell: 59433.97139404371, actual: 59444.9\n",
      "Sold BTC by 59433.97139404371 at 2021-05-10 03:34:00+00:00\n",
      "\t\tSimulating 2021-05-10 02:00:00+00:00 day....\n"
     ]
    },
    {
     "name": "stderr",
     "output_type": "stream",
     "text": [
      "/home/olga/PycharmProjects/backtesting/venv/lib/python3.8/site-packages/statsmodels/tsa/deterministic.py:147: UserWarning: Only PeriodIndexes, DatetimeIndexes with a frequency set, RangesIndexes, and Int64Indexes with a unit increment support extending. The index is set will contain the position relative to the data length.\n",
      "  warnings.warn(\n"
     ]
    },
    {
     "name": "stdout",
     "output_type": "stream",
     "text": [
      "Predicted buy: 53569.26636154183, actual: 58650.39\n",
      "Predicted buy: 53569.26636154183, actual: 58680.26\n",
      "Predicted buy: 53569.26636154183, actual: 58355.79\n",
      "Predicted buy: 53569.26636154183, actual: 57736.46\n",
      "Predicted buy: 53569.26636154183, actual: 57301.81\n",
      "Predicted buy: 53569.26636154183, actual: 57455.0\n",
      "Predicted buy: 53569.26636154183, actual: 56700.0\n",
      "Predicted buy: 53569.26636154183, actual: 56849.75\n",
      "Predicted buy: 53569.26636154183, actual: 55516.85\n",
      "Predicted buy: 53569.26636154183, actual: 53400.0\n",
      "stop_loss = 48407.06203292374\n",
      "Bought BTC by 53569.26636154183 at 2021-05-10 20:05:00+00:00\n"
     ]
    },
    {
     "name": "stderr",
     "output_type": "stream",
     "text": [
      "/home/olga/PycharmProjects/backtesting/venv/lib/python3.8/site-packages/statsmodels/tsa/deterministic.py:147: UserWarning: Only PeriodIndexes, DatetimeIndexes with a frequency set, RangesIndexes, and Int64Indexes with a unit increment support extending. The index is set will contain the position relative to the data length.\n",
      "  warnings.warn(\n"
     ]
    },
    {
     "name": "stdout",
     "output_type": "stream",
     "text": [
      "Predicted sell: 59433.97139404371, actual: 59444.9\n",
      "Sold BTC by 59433.97139404371 at 2021-05-10 03:34:00+00:00\n",
      "\t\tSimulating 2021-05-10 02:00:00+00:00 day....\n"
     ]
    },
    {
     "name": "stderr",
     "output_type": "stream",
     "text": [
      "/home/olga/PycharmProjects/backtesting/venv/lib/python3.8/site-packages/statsmodels/tsa/deterministic.py:147: UserWarning: Only PeriodIndexes, DatetimeIndexes with a frequency set, RangesIndexes, and Int64Indexes with a unit increment support extending. The index is set will contain the position relative to the data length.\n",
      "  warnings.warn(\n"
     ]
    },
    {
     "name": "stdout",
     "output_type": "stream",
     "text": [
      "Predicted buy: 53569.26636154183, actual: 58650.39\n",
      "Predicted buy: 53569.26636154183, actual: 58680.26\n",
      "Predicted buy: 53569.26636154183, actual: 58355.79\n",
      "Predicted buy: 53569.26636154183, actual: 57736.46\n",
      "Predicted buy: 53569.26636154183, actual: 57301.81\n",
      "Predicted buy: 53569.26636154183, actual: 57455.0\n",
      "Predicted buy: 53569.26636154183, actual: 56700.0\n",
      "Predicted buy: 53569.26636154183, actual: 56849.75\n",
      "Predicted buy: 53569.26636154183, actual: 55516.85\n",
      "Predicted buy: 53569.26636154183, actual: 53400.0\n",
      "stop_loss = 48407.06203292374\n",
      "Bought BTC by 53569.26636154183 at 2021-05-10 20:05:00+00:00\n"
     ]
    },
    {
     "name": "stderr",
     "output_type": "stream",
     "text": [
      "/home/olga/PycharmProjects/backtesting/venv/lib/python3.8/site-packages/statsmodels/tsa/deterministic.py:147: UserWarning: Only PeriodIndexes, DatetimeIndexes with a frequency set, RangesIndexes, and Int64Indexes with a unit increment support extending. The index is set will contain the position relative to the data length.\n",
      "  warnings.warn(\n"
     ]
    },
    {
     "name": "stdout",
     "output_type": "stream",
     "text": [
      "Predicted sell: 59433.97139404371, actual: 59444.9\n",
      "Sold BTC by 59433.97139404371 at 2021-05-10 03:34:00+00:00\n",
      "\t\tSimulating 2021-05-10 02:00:00+00:00 day....\n"
     ]
    },
    {
     "name": "stderr",
     "output_type": "stream",
     "text": [
      "/home/olga/PycharmProjects/backtesting/venv/lib/python3.8/site-packages/statsmodels/tsa/deterministic.py:147: UserWarning: Only PeriodIndexes, DatetimeIndexes with a frequency set, RangesIndexes, and Int64Indexes with a unit increment support extending. The index is set will contain the position relative to the data length.\n",
      "  warnings.warn(\n"
     ]
    },
    {
     "name": "stdout",
     "output_type": "stream",
     "text": [
      "Predicted buy: 53569.26636154183, actual: 58650.39\n",
      "Predicted buy: 53569.26636154183, actual: 58680.26\n",
      "Predicted buy: 53569.26636154183, actual: 58355.79\n",
      "Predicted buy: 53569.26636154183, actual: 57736.46\n",
      "Predicted buy: 53569.26636154183, actual: 57301.81\n",
      "Predicted buy: 53569.26636154183, actual: 57455.0\n",
      "Predicted buy: 53569.26636154183, actual: 56700.0\n",
      "Predicted buy: 53569.26636154183, actual: 56849.75\n",
      "Predicted buy: 53569.26636154183, actual: 55516.85\n",
      "Predicted buy: 53569.26636154183, actual: 53400.0\n",
      "stop_loss = 48407.06203292374\n",
      "Bought BTC by 53569.26636154183 at 2021-05-10 20:05:00+00:00\n"
     ]
    },
    {
     "name": "stderr",
     "output_type": "stream",
     "text": [
      "/home/olga/PycharmProjects/backtesting/venv/lib/python3.8/site-packages/statsmodels/tsa/deterministic.py:147: UserWarning: Only PeriodIndexes, DatetimeIndexes with a frequency set, RangesIndexes, and Int64Indexes with a unit increment support extending. The index is set will contain the position relative to the data length.\n",
      "  warnings.warn(\n"
     ]
    },
    {
     "name": "stdout",
     "output_type": "stream",
     "text": [
      "Predicted sell: 59433.97139404371, actual: 59444.9\n",
      "Sold BTC by 59433.97139404371 at 2021-05-10 03:34:00+00:00\n",
      "\t\tSimulating 2021-05-10 02:00:00+00:00 day....\n"
     ]
    },
    {
     "name": "stderr",
     "output_type": "stream",
     "text": [
      "/home/olga/PycharmProjects/backtesting/venv/lib/python3.8/site-packages/statsmodels/tsa/deterministic.py:147: UserWarning: Only PeriodIndexes, DatetimeIndexes with a frequency set, RangesIndexes, and Int64Indexes with a unit increment support extending. The index is set will contain the position relative to the data length.\n",
      "  warnings.warn(\n"
     ]
    },
    {
     "name": "stdout",
     "output_type": "stream",
     "text": [
      "Predicted buy: 53569.26636154183, actual: 58650.39\n",
      "Predicted buy: 53569.26636154183, actual: 58680.26\n",
      "Predicted buy: 53569.26636154183, actual: 58355.79\n",
      "Predicted buy: 53569.26636154183, actual: 57736.46\n",
      "Predicted buy: 53569.26636154183, actual: 57301.81\n",
      "Predicted buy: 53569.26636154183, actual: 57455.0\n",
      "Predicted buy: 53569.26636154183, actual: 56700.0\n",
      "Predicted buy: 53569.26636154183, actual: 56849.75\n",
      "Predicted buy: 53569.26636154183, actual: 55516.85\n",
      "Predicted buy: 53569.26636154183, actual: 53400.0\n",
      "stop_loss = 48407.06203292374\n",
      "Bought BTC by 53569.26636154183 at 2021-05-10 20:05:00+00:00\n"
     ]
    },
    {
     "name": "stderr",
     "output_type": "stream",
     "text": [
      "/home/olga/PycharmProjects/backtesting/venv/lib/python3.8/site-packages/statsmodels/tsa/deterministic.py:147: UserWarning: Only PeriodIndexes, DatetimeIndexes with a frequency set, RangesIndexes, and Int64Indexes with a unit increment support extending. The index is set will contain the position relative to the data length.\n",
      "  warnings.warn(\n"
     ]
    },
    {
     "name": "stdout",
     "output_type": "stream",
     "text": [
      "Predicted sell: 59433.97139404371, actual: 59444.9\n",
      "Sold BTC by 59433.97139404371 at 2021-05-10 03:34:00+00:00\n",
      "\t\tSimulating 2021-05-10 02:00:00+00:00 day....\n"
     ]
    },
    {
     "name": "stderr",
     "output_type": "stream",
     "text": [
      "/home/olga/PycharmProjects/backtesting/venv/lib/python3.8/site-packages/statsmodels/tsa/deterministic.py:147: UserWarning: Only PeriodIndexes, DatetimeIndexes with a frequency set, RangesIndexes, and Int64Indexes with a unit increment support extending. The index is set will contain the position relative to the data length.\n",
      "  warnings.warn(\n"
     ]
    },
    {
     "name": "stdout",
     "output_type": "stream",
     "text": [
      "Predicted buy: 53569.26636154183, actual: 58650.39\n",
      "Predicted buy: 53569.26636154183, actual: 58680.26\n",
      "Predicted buy: 53569.26636154183, actual: 58355.79\n",
      "Predicted buy: 53569.26636154183, actual: 57736.46\n",
      "Predicted buy: 53569.26636154183, actual: 57301.81\n",
      "Predicted buy: 53569.26636154183, actual: 57455.0\n",
      "Predicted buy: 53569.26636154183, actual: 56700.0\n",
      "Predicted buy: 53569.26636154183, actual: 56849.75\n",
      "Predicted buy: 53569.26636154183, actual: 55516.85\n",
      "Predicted buy: 53569.26636154183, actual: 53400.0\n",
      "stop_loss = 48407.06203292374\n",
      "Bought BTC by 53569.26636154183 at 2021-05-10 20:05:00+00:00\n"
     ]
    },
    {
     "name": "stderr",
     "output_type": "stream",
     "text": [
      "/home/olga/PycharmProjects/backtesting/venv/lib/python3.8/site-packages/statsmodels/tsa/deterministic.py:147: UserWarning: Only PeriodIndexes, DatetimeIndexes with a frequency set, RangesIndexes, and Int64Indexes with a unit increment support extending. The index is set will contain the position relative to the data length.\n",
      "  warnings.warn(\n"
     ]
    },
    {
     "name": "stdout",
     "output_type": "stream",
     "text": [
      "Predicted sell: 59433.97139404371, actual: 59444.9\n",
      "Sold BTC by 59433.97139404371 at 2021-05-10 03:34:00+00:00\n",
      "\t\tSimulating 2021-05-10 02:00:00+00:00 day....\n"
     ]
    },
    {
     "name": "stderr",
     "output_type": "stream",
     "text": [
      "/home/olga/PycharmProjects/backtesting/venv/lib/python3.8/site-packages/statsmodels/tsa/deterministic.py:147: UserWarning: Only PeriodIndexes, DatetimeIndexes with a frequency set, RangesIndexes, and Int64Indexes with a unit increment support extending. The index is set will contain the position relative to the data length.\n",
      "  warnings.warn(\n"
     ]
    },
    {
     "name": "stdout",
     "output_type": "stream",
     "text": [
      "Predicted buy: 53569.26636154183, actual: 58650.39\n",
      "Predicted buy: 53569.26636154183, actual: 58680.26\n",
      "Predicted buy: 53569.26636154183, actual: 58355.79\n",
      "Predicted buy: 53569.26636154183, actual: 57736.46\n",
      "Predicted buy: 53569.26636154183, actual: 57301.81\n",
      "Predicted buy: 53569.26636154183, actual: 57455.0\n",
      "Predicted buy: 53569.26636154183, actual: 56700.0\n",
      "Predicted buy: 53569.26636154183, actual: 56849.75\n",
      "Predicted buy: 53569.26636154183, actual: 55516.85\n",
      "Predicted buy: 53569.26636154183, actual: 53400.0\n",
      "stop_loss = 48407.06203292374\n",
      "Bought BTC by 53569.26636154183 at 2021-05-10 20:05:00+00:00\n"
     ]
    },
    {
     "name": "stderr",
     "output_type": "stream",
     "text": [
      "/home/olga/PycharmProjects/backtesting/venv/lib/python3.8/site-packages/statsmodels/tsa/deterministic.py:147: UserWarning: Only PeriodIndexes, DatetimeIndexes with a frequency set, RangesIndexes, and Int64Indexes with a unit increment support extending. The index is set will contain the position relative to the data length.\n",
      "  warnings.warn(\n"
     ]
    },
    {
     "name": "stdout",
     "output_type": "stream",
     "text": [
      "Predicted sell: 59433.97139404371, actual: 59444.9\n",
      "Sold BTC by 59433.97139404371 at 2021-05-10 03:34:00+00:00\n",
      "\t\tSimulating 2021-05-10 02:00:00+00:00 day....\n"
     ]
    },
    {
     "name": "stderr",
     "output_type": "stream",
     "text": [
      "/home/olga/PycharmProjects/backtesting/venv/lib/python3.8/site-packages/statsmodels/tsa/deterministic.py:147: UserWarning: Only PeriodIndexes, DatetimeIndexes with a frequency set, RangesIndexes, and Int64Indexes with a unit increment support extending. The index is set will contain the position relative to the data length.\n",
      "  warnings.warn(\n"
     ]
    },
    {
     "name": "stdout",
     "output_type": "stream",
     "text": [
      "Predicted buy: 53569.26636154183, actual: 58650.39\n",
      "Predicted buy: 53569.26636154183, actual: 58680.26\n",
      "Predicted buy: 53569.26636154183, actual: 58355.79\n",
      "Predicted buy: 53569.26636154183, actual: 57736.46\n",
      "Predicted buy: 53569.26636154183, actual: 57301.81\n",
      "Predicted buy: 53569.26636154183, actual: 57455.0\n",
      "Predicted buy: 53569.26636154183, actual: 56700.0\n",
      "Predicted buy: 53569.26636154183, actual: 56849.75\n",
      "Predicted buy: 53569.26636154183, actual: 55516.85\n",
      "Predicted buy: 53569.26636154183, actual: 53400.0\n",
      "stop_loss = 48407.06203292374\n",
      "Bought BTC by 53569.26636154183 at 2021-05-10 20:05:00+00:00\n"
     ]
    },
    {
     "name": "stderr",
     "output_type": "stream",
     "text": [
      "/home/olga/PycharmProjects/backtesting/venv/lib/python3.8/site-packages/statsmodels/tsa/deterministic.py:147: UserWarning: Only PeriodIndexes, DatetimeIndexes with a frequency set, RangesIndexes, and Int64Indexes with a unit increment support extending. The index is set will contain the position relative to the data length.\n",
      "  warnings.warn(\n"
     ]
    },
    {
     "name": "stdout",
     "output_type": "stream",
     "text": [
      "Predicted sell: 59433.97139404371, actual: 59444.9\n",
      "Sold BTC by 59433.97139404371 at 2021-05-10 03:34:00+00:00\n",
      "\t\tSimulating 2021-05-10 02:00:00+00:00 day....\n"
     ]
    },
    {
     "name": "stderr",
     "output_type": "stream",
     "text": [
      "/home/olga/PycharmProjects/backtesting/venv/lib/python3.8/site-packages/statsmodels/tsa/deterministic.py:147: UserWarning: Only PeriodIndexes, DatetimeIndexes with a frequency set, RangesIndexes, and Int64Indexes with a unit increment support extending. The index is set will contain the position relative to the data length.\n",
      "  warnings.warn(\n"
     ]
    },
    {
     "name": "stdout",
     "output_type": "stream",
     "text": [
      "Predicted buy: 53569.26636154183, actual: 58650.39\n",
      "Predicted buy: 53569.26636154183, actual: 58680.26\n",
      "Predicted buy: 53569.26636154183, actual: 58355.79\n",
      "Predicted buy: 53569.26636154183, actual: 57736.46\n",
      "Predicted buy: 53569.26636154183, actual: 57301.81\n",
      "Predicted buy: 53569.26636154183, actual: 57455.0\n",
      "Predicted buy: 53569.26636154183, actual: 56700.0\n",
      "Predicted buy: 53569.26636154183, actual: 56849.75\n",
      "Predicted buy: 53569.26636154183, actual: 55516.85\n",
      "Predicted buy: 53569.26636154183, actual: 53400.0\n",
      "stop_loss = 48407.06203292374\n",
      "Bought BTC by 53569.26636154183 at 2021-05-10 20:05:00+00:00\n"
     ]
    },
    {
     "name": "stderr",
     "output_type": "stream",
     "text": [
      "/home/olga/PycharmProjects/backtesting/venv/lib/python3.8/site-packages/statsmodels/tsa/deterministic.py:147: UserWarning: Only PeriodIndexes, DatetimeIndexes with a frequency set, RangesIndexes, and Int64Indexes with a unit increment support extending. The index is set will contain the position relative to the data length.\n",
      "  warnings.warn(\n"
     ]
    },
    {
     "name": "stdout",
     "output_type": "stream",
     "text": [
      "Predicted sell: 59433.97139404371, actual: 59444.9\n",
      "Sold BTC by 59433.97139404371 at 2021-05-10 03:34:00+00:00\n",
      "\t\tSimulating 2021-05-10 02:00:00+00:00 day....\n"
     ]
    },
    {
     "name": "stderr",
     "output_type": "stream",
     "text": [
      "/home/olga/PycharmProjects/backtesting/venv/lib/python3.8/site-packages/statsmodels/tsa/deterministic.py:147: UserWarning: Only PeriodIndexes, DatetimeIndexes with a frequency set, RangesIndexes, and Int64Indexes with a unit increment support extending. The index is set will contain the position relative to the data length.\n",
      "  warnings.warn(\n"
     ]
    },
    {
     "name": "stdout",
     "output_type": "stream",
     "text": [
      "Predicted buy: 53569.26636154183, actual: 58650.39\n",
      "Predicted buy: 53569.26636154183, actual: 58680.26\n",
      "Predicted buy: 53569.26636154183, actual: 58355.79\n",
      "Predicted buy: 53569.26636154183, actual: 57736.46\n",
      "Predicted buy: 53569.26636154183, actual: 57301.81\n",
      "Predicted buy: 53569.26636154183, actual: 57455.0\n",
      "Predicted buy: 53569.26636154183, actual: 56700.0\n",
      "Predicted buy: 53569.26636154183, actual: 56849.75\n",
      "Predicted buy: 53569.26636154183, actual: 55516.85\n",
      "Predicted buy: 53569.26636154183, actual: 53400.0\n",
      "stop_loss = 48407.06203292374\n",
      "Bought BTC by 53569.26636154183 at 2021-05-10 20:05:00+00:00\n"
     ]
    },
    {
     "name": "stderr",
     "output_type": "stream",
     "text": [
      "/home/olga/PycharmProjects/backtesting/venv/lib/python3.8/site-packages/statsmodels/tsa/deterministic.py:147: UserWarning: Only PeriodIndexes, DatetimeIndexes with a frequency set, RangesIndexes, and Int64Indexes with a unit increment support extending. The index is set will contain the position relative to the data length.\n",
      "  warnings.warn(\n"
     ]
    },
    {
     "name": "stdout",
     "output_type": "stream",
     "text": [
      "Predicted sell: 59433.97139404371, actual: 59444.9\n",
      "Sold BTC by 59433.97139404371 at 2021-05-10 03:34:00+00:00\n",
      "\t\tSimulating 2021-05-10 02:00:00+00:00 day....\n"
     ]
    },
    {
     "name": "stderr",
     "output_type": "stream",
     "text": [
      "/home/olga/PycharmProjects/backtesting/venv/lib/python3.8/site-packages/statsmodels/tsa/deterministic.py:147: UserWarning: Only PeriodIndexes, DatetimeIndexes with a frequency set, RangesIndexes, and Int64Indexes with a unit increment support extending. The index is set will contain the position relative to the data length.\n",
      "  warnings.warn(\n"
     ]
    },
    {
     "name": "stdout",
     "output_type": "stream",
     "text": [
      "Predicted buy: 53569.26636154183, actual: 58650.39\n",
      "Predicted buy: 53569.26636154183, actual: 58680.26\n",
      "Predicted buy: 53569.26636154183, actual: 58355.79\n",
      "Predicted buy: 53569.26636154183, actual: 57736.46\n",
      "Predicted buy: 53569.26636154183, actual: 57301.81\n",
      "Predicted buy: 53569.26636154183, actual: 57455.0\n",
      "Predicted buy: 53569.26636154183, actual: 56700.0\n",
      "Predicted buy: 53569.26636154183, actual: 56849.75\n",
      "Predicted buy: 53569.26636154183, actual: 55516.85\n",
      "Predicted buy: 53569.26636154183, actual: 53400.0\n",
      "stop_loss = 48407.06203292374\n",
      "Bought BTC by 53569.26636154183 at 2021-05-10 20:05:00+00:00\n"
     ]
    },
    {
     "name": "stderr",
     "output_type": "stream",
     "text": [
      "/home/olga/PycharmProjects/backtesting/venv/lib/python3.8/site-packages/statsmodels/tsa/deterministic.py:147: UserWarning: Only PeriodIndexes, DatetimeIndexes with a frequency set, RangesIndexes, and Int64Indexes with a unit increment support extending. The index is set will contain the position relative to the data length.\n",
      "  warnings.warn(\n"
     ]
    },
    {
     "name": "stdout",
     "output_type": "stream",
     "text": [
      "Predicted sell: 59433.97139404371, actual: 59444.9\n",
      "Sold BTC by 59433.97139404371 at 2021-05-10 03:34:00+00:00\n",
      "\t\tSimulating 2021-05-10 02:00:00+00:00 day....\n"
     ]
    },
    {
     "name": "stderr",
     "output_type": "stream",
     "text": [
      "/home/olga/PycharmProjects/backtesting/venv/lib/python3.8/site-packages/statsmodels/tsa/deterministic.py:147: UserWarning: Only PeriodIndexes, DatetimeIndexes with a frequency set, RangesIndexes, and Int64Indexes with a unit increment support extending. The index is set will contain the position relative to the data length.\n",
      "  warnings.warn(\n"
     ]
    },
    {
     "name": "stdout",
     "output_type": "stream",
     "text": [
      "Predicted buy: 53569.26636154183, actual: 58650.39\n",
      "Predicted buy: 53569.26636154183, actual: 58680.26\n",
      "Predicted buy: 53569.26636154183, actual: 58355.79\n",
      "Predicted buy: 53569.26636154183, actual: 57736.46\n",
      "Predicted buy: 53569.26636154183, actual: 57301.81\n",
      "Predicted buy: 53569.26636154183, actual: 57455.0\n",
      "Predicted buy: 53569.26636154183, actual: 56700.0\n",
      "Predicted buy: 53569.26636154183, actual: 56849.75\n",
      "Predicted buy: 53569.26636154183, actual: 55516.85\n",
      "Predicted buy: 53569.26636154183, actual: 53400.0\n",
      "stop_loss = 48407.06203292374\n",
      "Bought BTC by 53569.26636154183 at 2021-05-10 20:05:00+00:00\n"
     ]
    },
    {
     "name": "stderr",
     "output_type": "stream",
     "text": [
      "/home/olga/PycharmProjects/backtesting/venv/lib/python3.8/site-packages/statsmodels/tsa/deterministic.py:147: UserWarning: Only PeriodIndexes, DatetimeIndexes with a frequency set, RangesIndexes, and Int64Indexes with a unit increment support extending. The index is set will contain the position relative to the data length.\n",
      "  warnings.warn(\n"
     ]
    },
    {
     "name": "stdout",
     "output_type": "stream",
     "text": [
      "Predicted sell: 59433.97139404371, actual: 59444.9\n",
      "Sold BTC by 59433.97139404371 at 2021-05-10 03:34:00+00:00\n",
      "\t\tSimulating 2021-05-10 02:00:00+00:00 day....\n"
     ]
    },
    {
     "name": "stderr",
     "output_type": "stream",
     "text": [
      "/home/olga/PycharmProjects/backtesting/venv/lib/python3.8/site-packages/statsmodels/tsa/deterministic.py:147: UserWarning: Only PeriodIndexes, DatetimeIndexes with a frequency set, RangesIndexes, and Int64Indexes with a unit increment support extending. The index is set will contain the position relative to the data length.\n",
      "  warnings.warn(\n"
     ]
    },
    {
     "name": "stdout",
     "output_type": "stream",
     "text": [
      "Predicted buy: 53569.26636154183, actual: 58650.39\n",
      "Predicted buy: 53569.26636154183, actual: 58680.26\n",
      "Predicted buy: 53569.26636154183, actual: 58355.79\n",
      "Predicted buy: 53569.26636154183, actual: 57736.46\n",
      "Predicted buy: 53569.26636154183, actual: 57301.81\n",
      "Predicted buy: 53569.26636154183, actual: 57455.0\n",
      "Predicted buy: 53569.26636154183, actual: 56700.0\n",
      "Predicted buy: 53569.26636154183, actual: 56849.75\n",
      "Predicted buy: 53569.26636154183, actual: 55516.85\n",
      "Predicted buy: 53569.26636154183, actual: 53400.0\n",
      "stop_loss = 48407.06203292374\n",
      "Bought BTC by 53569.26636154183 at 2021-05-10 20:05:00+00:00\n"
     ]
    },
    {
     "name": "stderr",
     "output_type": "stream",
     "text": [
      "/home/olga/PycharmProjects/backtesting/venv/lib/python3.8/site-packages/statsmodels/tsa/deterministic.py:147: UserWarning: Only PeriodIndexes, DatetimeIndexes with a frequency set, RangesIndexes, and Int64Indexes with a unit increment support extending. The index is set will contain the position relative to the data length.\n",
      "  warnings.warn(\n"
     ]
    },
    {
     "name": "stdout",
     "output_type": "stream",
     "text": [
      "Predicted sell: 59433.97139404371, actual: 59444.9\n",
      "Sold BTC by 59433.97139404371 at 2021-05-10 03:34:00+00:00\n",
      "\t\tSimulating 2021-05-10 02:00:00+00:00 day....\n"
     ]
    },
    {
     "name": "stderr",
     "output_type": "stream",
     "text": [
      "/home/olga/PycharmProjects/backtesting/venv/lib/python3.8/site-packages/statsmodels/tsa/deterministic.py:147: UserWarning: Only PeriodIndexes, DatetimeIndexes with a frequency set, RangesIndexes, and Int64Indexes with a unit increment support extending. The index is set will contain the position relative to the data length.\n",
      "  warnings.warn(\n"
     ]
    },
    {
     "name": "stdout",
     "output_type": "stream",
     "text": [
      "Predicted buy: 53569.26636154183, actual: 58650.39\n",
      "Predicted buy: 53569.26636154183, actual: 58680.26\n",
      "Predicted buy: 53569.26636154183, actual: 58355.79\n",
      "Predicted buy: 53569.26636154183, actual: 57736.46\n",
      "Predicted buy: 53569.26636154183, actual: 57301.81\n",
      "Predicted buy: 53569.26636154183, actual: 57455.0\n",
      "Predicted buy: 53569.26636154183, actual: 56700.0\n",
      "Predicted buy: 53569.26636154183, actual: 56849.75\n",
      "Predicted buy: 53569.26636154183, actual: 55516.85\n",
      "Predicted buy: 53569.26636154183, actual: 53400.0\n",
      "stop_loss = 48407.06203292374\n",
      "Bought BTC by 53569.26636154183 at 2021-05-10 20:05:00+00:00\n"
     ]
    },
    {
     "name": "stderr",
     "output_type": "stream",
     "text": [
      "/home/olga/PycharmProjects/backtesting/venv/lib/python3.8/site-packages/statsmodels/tsa/deterministic.py:147: UserWarning: Only PeriodIndexes, DatetimeIndexes with a frequency set, RangesIndexes, and Int64Indexes with a unit increment support extending. The index is set will contain the position relative to the data length.\n",
      "  warnings.warn(\n"
     ]
    },
    {
     "name": "stdout",
     "output_type": "stream",
     "text": [
      "Predicted sell: 59433.97139404371, actual: 59444.9\n",
      "Sold BTC by 59433.97139404371 at 2021-05-10 03:34:00+00:00\n",
      "\t\tSimulating 2021-05-10 02:00:00+00:00 day....\n"
     ]
    },
    {
     "name": "stderr",
     "output_type": "stream",
     "text": [
      "/home/olga/PycharmProjects/backtesting/venv/lib/python3.8/site-packages/statsmodels/tsa/deterministic.py:147: UserWarning: Only PeriodIndexes, DatetimeIndexes with a frequency set, RangesIndexes, and Int64Indexes with a unit increment support extending. The index is set will contain the position relative to the data length.\n",
      "  warnings.warn(\n"
     ]
    },
    {
     "name": "stdout",
     "output_type": "stream",
     "text": [
      "Predicted buy: 53569.26636154183, actual: 58650.39\n",
      "Predicted buy: 53569.26636154183, actual: 58680.26\n",
      "Predicted buy: 53569.26636154183, actual: 58355.79\n",
      "Predicted buy: 53569.26636154183, actual: 57736.46\n",
      "Predicted buy: 53569.26636154183, actual: 57301.81\n",
      "Predicted buy: 53569.26636154183, actual: 57455.0\n",
      "Predicted buy: 53569.26636154183, actual: 56700.0\n",
      "Predicted buy: 53569.26636154183, actual: 56849.75\n",
      "Predicted buy: 53569.26636154183, actual: 55516.85\n",
      "Predicted buy: 53569.26636154183, actual: 53400.0\n",
      "stop_loss = 48407.06203292374\n",
      "Bought BTC by 53569.26636154183 at 2021-05-10 20:05:00+00:00\n"
     ]
    },
    {
     "name": "stderr",
     "output_type": "stream",
     "text": [
      "/home/olga/PycharmProjects/backtesting/venv/lib/python3.8/site-packages/statsmodels/tsa/deterministic.py:147: UserWarning: Only PeriodIndexes, DatetimeIndexes with a frequency set, RangesIndexes, and Int64Indexes with a unit increment support extending. The index is set will contain the position relative to the data length.\n",
      "  warnings.warn(\n"
     ]
    },
    {
     "name": "stdout",
     "output_type": "stream",
     "text": [
      "Predicted sell: 59433.97139404371, actual: 59444.9\n",
      "Sold BTC by 59433.97139404371 at 2021-05-10 03:34:00+00:00\n",
      "\t\tSimulating 2021-05-10 02:00:00+00:00 day....\n"
     ]
    },
    {
     "name": "stderr",
     "output_type": "stream",
     "text": [
      "/home/olga/PycharmProjects/backtesting/venv/lib/python3.8/site-packages/statsmodels/tsa/deterministic.py:147: UserWarning: Only PeriodIndexes, DatetimeIndexes with a frequency set, RangesIndexes, and Int64Indexes with a unit increment support extending. The index is set will contain the position relative to the data length.\n",
      "  warnings.warn(\n"
     ]
    },
    {
     "name": "stdout",
     "output_type": "stream",
     "text": [
      "Predicted buy: 53569.26636154183, actual: 58650.39\n",
      "Predicted buy: 53569.26636154183, actual: 58680.26\n",
      "Predicted buy: 53569.26636154183, actual: 58355.79\n",
      "Predicted buy: 53569.26636154183, actual: 57736.46\n",
      "Predicted buy: 53569.26636154183, actual: 57301.81\n",
      "Predicted buy: 53569.26636154183, actual: 57455.0\n",
      "Predicted buy: 53569.26636154183, actual: 56700.0\n",
      "Predicted buy: 53569.26636154183, actual: 56849.75\n",
      "Predicted buy: 53569.26636154183, actual: 55516.85\n",
      "Predicted buy: 53569.26636154183, actual: 53400.0\n",
      "stop_loss = 48407.06203292374\n",
      "Bought BTC by 53569.26636154183 at 2021-05-10 20:05:00+00:00\n"
     ]
    },
    {
     "name": "stderr",
     "output_type": "stream",
     "text": [
      "/home/olga/PycharmProjects/backtesting/venv/lib/python3.8/site-packages/statsmodels/tsa/deterministic.py:147: UserWarning: Only PeriodIndexes, DatetimeIndexes with a frequency set, RangesIndexes, and Int64Indexes with a unit increment support extending. The index is set will contain the position relative to the data length.\n",
      "  warnings.warn(\n"
     ]
    },
    {
     "name": "stdout",
     "output_type": "stream",
     "text": [
      "Predicted sell: 59433.97139404371, actual: 59444.9\n",
      "Sold BTC by 59433.97139404371 at 2021-05-10 03:34:00+00:00\n",
      "\t\tSimulating 2021-05-10 02:00:00+00:00 day....\n"
     ]
    },
    {
     "name": "stderr",
     "output_type": "stream",
     "text": [
      "/home/olga/PycharmProjects/backtesting/venv/lib/python3.8/site-packages/statsmodels/tsa/deterministic.py:147: UserWarning: Only PeriodIndexes, DatetimeIndexes with a frequency set, RangesIndexes, and Int64Indexes with a unit increment support extending. The index is set will contain the position relative to the data length.\n",
      "  warnings.warn(\n"
     ]
    },
    {
     "name": "stdout",
     "output_type": "stream",
     "text": [
      "Predicted buy: 53569.26636154183, actual: 58650.39\n",
      "Predicted buy: 53569.26636154183, actual: 58680.26\n",
      "Predicted buy: 53569.26636154183, actual: 58355.79\n",
      "Predicted buy: 53569.26636154183, actual: 57736.46\n",
      "Predicted buy: 53569.26636154183, actual: 57301.81\n",
      "Predicted buy: 53569.26636154183, actual: 57455.0\n",
      "Predicted buy: 53569.26636154183, actual: 56700.0\n",
      "Predicted buy: 53569.26636154183, actual: 56849.75\n",
      "Predicted buy: 53569.26636154183, actual: 55516.85\n",
      "Predicted buy: 53569.26636154183, actual: 53400.0\n",
      "stop_loss = 48407.06203292374\n",
      "Bought BTC by 53569.26636154183 at 2021-05-10 20:05:00+00:00\n"
     ]
    },
    {
     "name": "stderr",
     "output_type": "stream",
     "text": [
      "/home/olga/PycharmProjects/backtesting/venv/lib/python3.8/site-packages/statsmodels/tsa/deterministic.py:147: UserWarning: Only PeriodIndexes, DatetimeIndexes with a frequency set, RangesIndexes, and Int64Indexes with a unit increment support extending. The index is set will contain the position relative to the data length.\n",
      "  warnings.warn(\n"
     ]
    },
    {
     "name": "stdout",
     "output_type": "stream",
     "text": [
      "Predicted sell: 59433.97139404371, actual: 59444.9\n",
      "Sold BTC by 59433.97139404371 at 2021-05-10 03:34:00+00:00\n",
      "\t\tSimulating 2021-05-10 02:00:00+00:00 day....\n"
     ]
    },
    {
     "name": "stderr",
     "output_type": "stream",
     "text": [
      "/home/olga/PycharmProjects/backtesting/venv/lib/python3.8/site-packages/statsmodels/tsa/deterministic.py:147: UserWarning: Only PeriodIndexes, DatetimeIndexes with a frequency set, RangesIndexes, and Int64Indexes with a unit increment support extending. The index is set will contain the position relative to the data length.\n",
      "  warnings.warn(\n"
     ]
    },
    {
     "name": "stdout",
     "output_type": "stream",
     "text": [
      "Predicted buy: 53569.26636154183, actual: 58650.39\n",
      "Predicted buy: 53569.26636154183, actual: 58680.26\n",
      "Predicted buy: 53569.26636154183, actual: 58355.79\n",
      "Predicted buy: 53569.26636154183, actual: 57736.46\n",
      "Predicted buy: 53569.26636154183, actual: 57301.81\n",
      "Predicted buy: 53569.26636154183, actual: 57455.0\n",
      "Predicted buy: 53569.26636154183, actual: 56700.0\n",
      "Predicted buy: 53569.26636154183, actual: 56849.75\n",
      "Predicted buy: 53569.26636154183, actual: 55516.85\n",
      "Predicted buy: 53569.26636154183, actual: 53400.0\n",
      "stop_loss = 48407.06203292374\n",
      "Bought BTC by 53569.26636154183 at 2021-05-10 20:05:00+00:00\n"
     ]
    },
    {
     "name": "stderr",
     "output_type": "stream",
     "text": [
      "/home/olga/PycharmProjects/backtesting/venv/lib/python3.8/site-packages/statsmodels/tsa/deterministic.py:147: UserWarning: Only PeriodIndexes, DatetimeIndexes with a frequency set, RangesIndexes, and Int64Indexes with a unit increment support extending. The index is set will contain the position relative to the data length.\n",
      "  warnings.warn(\n"
     ]
    },
    {
     "name": "stdout",
     "output_type": "stream",
     "text": [
      "Predicted sell: 59433.97139404371, actual: 59444.9\n",
      "Sold BTC by 59433.97139404371 at 2021-05-10 03:34:00+00:00\n",
      "\t\tSimulating 2021-05-10 02:00:00+00:00 day....\n"
     ]
    },
    {
     "name": "stderr",
     "output_type": "stream",
     "text": [
      "/home/olga/PycharmProjects/backtesting/venv/lib/python3.8/site-packages/statsmodels/tsa/deterministic.py:147: UserWarning: Only PeriodIndexes, DatetimeIndexes with a frequency set, RangesIndexes, and Int64Indexes with a unit increment support extending. The index is set will contain the position relative to the data length.\n",
      "  warnings.warn(\n"
     ]
    },
    {
     "name": "stdout",
     "output_type": "stream",
     "text": [
      "Predicted buy: 53569.26636154183, actual: 58650.39\n",
      "Predicted buy: 53569.26636154183, actual: 58680.26\n",
      "Predicted buy: 53569.26636154183, actual: 58355.79\n",
      "Predicted buy: 53569.26636154183, actual: 57736.46\n",
      "Predicted buy: 53569.26636154183, actual: 57301.81\n",
      "Predicted buy: 53569.26636154183, actual: 57455.0\n",
      "Predicted buy: 53569.26636154183, actual: 56700.0\n",
      "Predicted buy: 53569.26636154183, actual: 56849.75\n",
      "Predicted buy: 53569.26636154183, actual: 55516.85\n",
      "Predicted buy: 53569.26636154183, actual: 53400.0\n",
      "stop_loss = 48407.06203292374\n",
      "Bought BTC by 53569.26636154183 at 2021-05-10 20:05:00+00:00\n"
     ]
    },
    {
     "name": "stderr",
     "output_type": "stream",
     "text": [
      "/home/olga/PycharmProjects/backtesting/venv/lib/python3.8/site-packages/statsmodels/tsa/deterministic.py:147: UserWarning: Only PeriodIndexes, DatetimeIndexes with a frequency set, RangesIndexes, and Int64Indexes with a unit increment support extending. The index is set will contain the position relative to the data length.\n",
      "  warnings.warn(\n"
     ]
    },
    {
     "name": "stdout",
     "output_type": "stream",
     "text": [
      "Predicted sell: 59433.97139404371, actual: 59444.9\n",
      "Sold BTC by 59433.97139404371 at 2021-05-10 03:34:00+00:00\n",
      "\t\tSimulating 2021-05-10 02:00:00+00:00 day....\n"
     ]
    },
    {
     "name": "stderr",
     "output_type": "stream",
     "text": [
      "/home/olga/PycharmProjects/backtesting/venv/lib/python3.8/site-packages/statsmodels/tsa/deterministic.py:147: UserWarning: Only PeriodIndexes, DatetimeIndexes with a frequency set, RangesIndexes, and Int64Indexes with a unit increment support extending. The index is set will contain the position relative to the data length.\n",
      "  warnings.warn(\n"
     ]
    },
    {
     "name": "stdout",
     "output_type": "stream",
     "text": [
      "Predicted buy: 53569.26636154183, actual: 58650.39\n",
      "Predicted buy: 53569.26636154183, actual: 58680.26\n",
      "Predicted buy: 53569.26636154183, actual: 58355.79\n",
      "Predicted buy: 53569.26636154183, actual: 57736.46\n",
      "Predicted buy: 53569.26636154183, actual: 57301.81\n",
      "Predicted buy: 53569.26636154183, actual: 57455.0\n",
      "Predicted buy: 53569.26636154183, actual: 56700.0\n",
      "Predicted buy: 53569.26636154183, actual: 56849.75\n",
      "Predicted buy: 53569.26636154183, actual: 55516.85\n",
      "Predicted buy: 53569.26636154183, actual: 53400.0\n",
      "stop_loss = 48407.06203292374\n",
      "Bought BTC by 53569.26636154183 at 2021-05-10 20:05:00+00:00\n"
     ]
    },
    {
     "name": "stderr",
     "output_type": "stream",
     "text": [
      "/home/olga/PycharmProjects/backtesting/venv/lib/python3.8/site-packages/statsmodels/tsa/deterministic.py:147: UserWarning: Only PeriodIndexes, DatetimeIndexes with a frequency set, RangesIndexes, and Int64Indexes with a unit increment support extending. The index is set will contain the position relative to the data length.\n",
      "  warnings.warn(\n"
     ]
    },
    {
     "name": "stdout",
     "output_type": "stream",
     "text": [
      "Predicted sell: 59433.97139404371, actual: 59444.9\n",
      "Sold BTC by 59433.97139404371 at 2021-05-10 03:34:00+00:00\n",
      "\t\tSimulating 2021-05-10 02:00:00+00:00 day....\n"
     ]
    },
    {
     "name": "stderr",
     "output_type": "stream",
     "text": [
      "/home/olga/PycharmProjects/backtesting/venv/lib/python3.8/site-packages/statsmodels/tsa/deterministic.py:147: UserWarning: Only PeriodIndexes, DatetimeIndexes with a frequency set, RangesIndexes, and Int64Indexes with a unit increment support extending. The index is set will contain the position relative to the data length.\n",
      "  warnings.warn(\n"
     ]
    },
    {
     "name": "stdout",
     "output_type": "stream",
     "text": [
      "Predicted buy: 53569.26636154183, actual: 58650.39\n",
      "Predicted buy: 53569.26636154183, actual: 58680.26\n",
      "Predicted buy: 53569.26636154183, actual: 58355.79\n",
      "Predicted buy: 53569.26636154183, actual: 57736.46\n",
      "Predicted buy: 53569.26636154183, actual: 57301.81\n",
      "Predicted buy: 53569.26636154183, actual: 57455.0\n",
      "Predicted buy: 53569.26636154183, actual: 56700.0\n",
      "Predicted buy: 53569.26636154183, actual: 56849.75\n",
      "Predicted buy: 53569.26636154183, actual: 55516.85\n",
      "Predicted buy: 53569.26636154183, actual: 53400.0\n",
      "stop_loss = 48407.06203292374\n",
      "Bought BTC by 53569.26636154183 at 2021-05-10 20:05:00+00:00\n"
     ]
    },
    {
     "name": "stderr",
     "output_type": "stream",
     "text": [
      "/home/olga/PycharmProjects/backtesting/venv/lib/python3.8/site-packages/statsmodels/tsa/deterministic.py:147: UserWarning: Only PeriodIndexes, DatetimeIndexes with a frequency set, RangesIndexes, and Int64Indexes with a unit increment support extending. The index is set will contain the position relative to the data length.\n",
      "  warnings.warn(\n"
     ]
    },
    {
     "name": "stdout",
     "output_type": "stream",
     "text": [
      "Predicted sell: 59433.97139404371, actual: 59444.9\n",
      "Sold BTC by 59433.97139404371 at 2021-05-10 03:34:00+00:00\n",
      "\t\tSimulating 2021-05-10 02:00:00+00:00 day....\n"
     ]
    },
    {
     "name": "stderr",
     "output_type": "stream",
     "text": [
      "/home/olga/PycharmProjects/backtesting/venv/lib/python3.8/site-packages/statsmodels/tsa/deterministic.py:147: UserWarning: Only PeriodIndexes, DatetimeIndexes with a frequency set, RangesIndexes, and Int64Indexes with a unit increment support extending. The index is set will contain the position relative to the data length.\n",
      "  warnings.warn(\n"
     ]
    },
    {
     "name": "stdout",
     "output_type": "stream",
     "text": [
      "Predicted buy: 53569.26636154183, actual: 58650.39\n",
      "Predicted buy: 53569.26636154183, actual: 58680.26\n",
      "Predicted buy: 53569.26636154183, actual: 58355.79\n",
      "Predicted buy: 53569.26636154183, actual: 57736.46\n",
      "Predicted buy: 53569.26636154183, actual: 57301.81\n",
      "Predicted buy: 53569.26636154183, actual: 57455.0\n",
      "Predicted buy: 53569.26636154183, actual: 56700.0\n",
      "Predicted buy: 53569.26636154183, actual: 56849.75\n",
      "Predicted buy: 53569.26636154183, actual: 55516.85\n",
      "Predicted buy: 53569.26636154183, actual: 53400.0\n",
      "stop_loss = 48407.06203292374\n",
      "Bought BTC by 53569.26636154183 at 2021-05-10 20:05:00+00:00\n"
     ]
    },
    {
     "name": "stderr",
     "output_type": "stream",
     "text": [
      "/home/olga/PycharmProjects/backtesting/venv/lib/python3.8/site-packages/statsmodels/tsa/deterministic.py:147: UserWarning: Only PeriodIndexes, DatetimeIndexes with a frequency set, RangesIndexes, and Int64Indexes with a unit increment support extending. The index is set will contain the position relative to the data length.\n",
      "  warnings.warn(\n"
     ]
    },
    {
     "name": "stdout",
     "output_type": "stream",
     "text": [
      "Predicted sell: 59433.97139404371, actual: 59444.9\n",
      "Sold BTC by 59433.97139404371 at 2021-05-10 03:34:00+00:00\n",
      "\t\tSimulating 2021-05-10 02:00:00+00:00 day....\n"
     ]
    },
    {
     "name": "stderr",
     "output_type": "stream",
     "text": [
      "/home/olga/PycharmProjects/backtesting/venv/lib/python3.8/site-packages/statsmodels/tsa/deterministic.py:147: UserWarning: Only PeriodIndexes, DatetimeIndexes with a frequency set, RangesIndexes, and Int64Indexes with a unit increment support extending. The index is set will contain the position relative to the data length.\n",
      "  warnings.warn(\n"
     ]
    },
    {
     "name": "stdout",
     "output_type": "stream",
     "text": [
      "Predicted buy: 53569.26636154183, actual: 58650.39\n",
      "Predicted buy: 53569.26636154183, actual: 58680.26\n",
      "Predicted buy: 53569.26636154183, actual: 58355.79\n",
      "Predicted buy: 53569.26636154183, actual: 57736.46\n",
      "Predicted buy: 53569.26636154183, actual: 57301.81\n",
      "Predicted buy: 53569.26636154183, actual: 57455.0\n",
      "Predicted buy: 53569.26636154183, actual: 56700.0\n",
      "Predicted buy: 53569.26636154183, actual: 56849.75\n",
      "Predicted buy: 53569.26636154183, actual: 55516.85\n",
      "Predicted buy: 53569.26636154183, actual: 53400.0\n",
      "stop_loss = 48407.06203292374\n",
      "Bought BTC by 53569.26636154183 at 2021-05-10 20:05:00+00:00\n"
     ]
    },
    {
     "name": "stderr",
     "output_type": "stream",
     "text": [
      "/home/olga/PycharmProjects/backtesting/venv/lib/python3.8/site-packages/statsmodels/tsa/deterministic.py:147: UserWarning: Only PeriodIndexes, DatetimeIndexes with a frequency set, RangesIndexes, and Int64Indexes with a unit increment support extending. The index is set will contain the position relative to the data length.\n",
      "  warnings.warn(\n"
     ]
    },
    {
     "name": "stdout",
     "output_type": "stream",
     "text": [
      "Predicted sell: 59433.97139404371, actual: 59444.9\n",
      "Sold BTC by 59433.97139404371 at 2021-05-10 03:34:00+00:00\n",
      "\t\tSimulating 2021-05-10 02:00:00+00:00 day....\n"
     ]
    },
    {
     "name": "stderr",
     "output_type": "stream",
     "text": [
      "/home/olga/PycharmProjects/backtesting/venv/lib/python3.8/site-packages/statsmodels/tsa/deterministic.py:147: UserWarning: Only PeriodIndexes, DatetimeIndexes with a frequency set, RangesIndexes, and Int64Indexes with a unit increment support extending. The index is set will contain the position relative to the data length.\n",
      "  warnings.warn(\n"
     ]
    },
    {
     "name": "stdout",
     "output_type": "stream",
     "text": [
      "Predicted buy: 53569.26636154183, actual: 58650.39\n",
      "Predicted buy: 53569.26636154183, actual: 58680.26\n",
      "Predicted buy: 53569.26636154183, actual: 58355.79\n",
      "Predicted buy: 53569.26636154183, actual: 57736.46\n",
      "Predicted buy: 53569.26636154183, actual: 57301.81\n",
      "Predicted buy: 53569.26636154183, actual: 57455.0\n",
      "Predicted buy: 53569.26636154183, actual: 56700.0\n",
      "Predicted buy: 53569.26636154183, actual: 56849.75\n",
      "Predicted buy: 53569.26636154183, actual: 55516.85\n",
      "Predicted buy: 53569.26636154183, actual: 53400.0\n",
      "stop_loss = 48407.06203292374\n",
      "Bought BTC by 53569.26636154183 at 2021-05-10 20:05:00+00:00\n"
     ]
    },
    {
     "name": "stderr",
     "output_type": "stream",
     "text": [
      "/home/olga/PycharmProjects/backtesting/venv/lib/python3.8/site-packages/statsmodels/tsa/deterministic.py:147: UserWarning: Only PeriodIndexes, DatetimeIndexes with a frequency set, RangesIndexes, and Int64Indexes with a unit increment support extending. The index is set will contain the position relative to the data length.\n",
      "  warnings.warn(\n"
     ]
    },
    {
     "name": "stdout",
     "output_type": "stream",
     "text": [
      "Predicted sell: 59433.97139404371, actual: 59444.9\n",
      "Sold BTC by 59433.97139404371 at 2021-05-10 03:34:00+00:00\n",
      "\t\tSimulating 2021-05-10 02:00:00+00:00 day....\n"
     ]
    },
    {
     "name": "stderr",
     "output_type": "stream",
     "text": [
      "/home/olga/PycharmProjects/backtesting/venv/lib/python3.8/site-packages/statsmodels/tsa/deterministic.py:147: UserWarning: Only PeriodIndexes, DatetimeIndexes with a frequency set, RangesIndexes, and Int64Indexes with a unit increment support extending. The index is set will contain the position relative to the data length.\n",
      "  warnings.warn(\n"
     ]
    },
    {
     "name": "stdout",
     "output_type": "stream",
     "text": [
      "Predicted buy: 53569.26636154183, actual: 58650.39\n",
      "Predicted buy: 53569.26636154183, actual: 58680.26\n",
      "Predicted buy: 53569.26636154183, actual: 58355.79\n",
      "Predicted buy: 53569.26636154183, actual: 57736.46\n",
      "Predicted buy: 53569.26636154183, actual: 57301.81\n",
      "Predicted buy: 53569.26636154183, actual: 57455.0\n",
      "Predicted buy: 53569.26636154183, actual: 56700.0\n",
      "Predicted buy: 53569.26636154183, actual: 56849.75\n",
      "Predicted buy: 53569.26636154183, actual: 55516.85\n",
      "Predicted buy: 53569.26636154183, actual: 53400.0\n",
      "stop_loss = 48407.06203292374\n",
      "Bought BTC by 53569.26636154183 at 2021-05-10 20:05:00+00:00\n"
     ]
    },
    {
     "name": "stderr",
     "output_type": "stream",
     "text": [
      "/home/olga/PycharmProjects/backtesting/venv/lib/python3.8/site-packages/statsmodels/tsa/deterministic.py:147: UserWarning: Only PeriodIndexes, DatetimeIndexes with a frequency set, RangesIndexes, and Int64Indexes with a unit increment support extending. The index is set will contain the position relative to the data length.\n",
      "  warnings.warn(\n"
     ]
    },
    {
     "name": "stdout",
     "output_type": "stream",
     "text": [
      "Predicted sell: 59433.97139404371, actual: 59444.9\n",
      "Sold BTC by 59433.97139404371 at 2021-05-10 03:34:00+00:00\n",
      "\t\tSimulating 2021-05-10 02:00:00+00:00 day....\n"
     ]
    },
    {
     "name": "stderr",
     "output_type": "stream",
     "text": [
      "/home/olga/PycharmProjects/backtesting/venv/lib/python3.8/site-packages/statsmodels/tsa/deterministic.py:147: UserWarning: Only PeriodIndexes, DatetimeIndexes with a frequency set, RangesIndexes, and Int64Indexes with a unit increment support extending. The index is set will contain the position relative to the data length.\n",
      "  warnings.warn(\n"
     ]
    },
    {
     "name": "stdout",
     "output_type": "stream",
     "text": [
      "Predicted buy: 53569.26636154183, actual: 58650.39\n",
      "Predicted buy: 53569.26636154183, actual: 58680.26\n",
      "Predicted buy: 53569.26636154183, actual: 58355.79\n",
      "Predicted buy: 53569.26636154183, actual: 57736.46\n",
      "Predicted buy: 53569.26636154183, actual: 57301.81\n",
      "Predicted buy: 53569.26636154183, actual: 57455.0\n",
      "Predicted buy: 53569.26636154183, actual: 56700.0\n",
      "Predicted buy: 53569.26636154183, actual: 56849.75\n",
      "Predicted buy: 53569.26636154183, actual: 55516.85\n",
      "Predicted buy: 53569.26636154183, actual: 53400.0\n",
      "stop_loss = 48407.06203292374\n",
      "Bought BTC by 53569.26636154183 at 2021-05-10 20:05:00+00:00\n"
     ]
    },
    {
     "name": "stderr",
     "output_type": "stream",
     "text": [
      "/home/olga/PycharmProjects/backtesting/venv/lib/python3.8/site-packages/statsmodels/tsa/deterministic.py:147: UserWarning: Only PeriodIndexes, DatetimeIndexes with a frequency set, RangesIndexes, and Int64Indexes with a unit increment support extending. The index is set will contain the position relative to the data length.\n",
      "  warnings.warn(\n"
     ]
    },
    {
     "name": "stdout",
     "output_type": "stream",
     "text": [
      "Predicted sell: 59433.97139404371, actual: 59444.9\n",
      "Sold BTC by 59433.97139404371 at 2021-05-10 03:34:00+00:00\n",
      "\t\tSimulating 2021-05-10 02:00:00+00:00 day....\n"
     ]
    },
    {
     "name": "stderr",
     "output_type": "stream",
     "text": [
      "/home/olga/PycharmProjects/backtesting/venv/lib/python3.8/site-packages/statsmodels/tsa/deterministic.py:147: UserWarning: Only PeriodIndexes, DatetimeIndexes with a frequency set, RangesIndexes, and Int64Indexes with a unit increment support extending. The index is set will contain the position relative to the data length.\n",
      "  warnings.warn(\n"
     ]
    },
    {
     "name": "stdout",
     "output_type": "stream",
     "text": [
      "Predicted buy: 53569.26636154183, actual: 58650.39\n",
      "Predicted buy: 53569.26636154183, actual: 58680.26\n",
      "Predicted buy: 53569.26636154183, actual: 58355.79\n",
      "Predicted buy: 53569.26636154183, actual: 57736.46\n",
      "Predicted buy: 53569.26636154183, actual: 57301.81\n",
      "Predicted buy: 53569.26636154183, actual: 57455.0\n",
      "Predicted buy: 53569.26636154183, actual: 56700.0\n",
      "Predicted buy: 53569.26636154183, actual: 56849.75\n",
      "Predicted buy: 53569.26636154183, actual: 55516.85\n",
      "Predicted buy: 53569.26636154183, actual: 53400.0\n",
      "stop_loss = 48407.06203292374\n",
      "Bought BTC by 53569.26636154183 at 2021-05-10 20:05:00+00:00\n"
     ]
    },
    {
     "name": "stderr",
     "output_type": "stream",
     "text": [
      "/home/olga/PycharmProjects/backtesting/venv/lib/python3.8/site-packages/statsmodels/tsa/deterministic.py:147: UserWarning: Only PeriodIndexes, DatetimeIndexes with a frequency set, RangesIndexes, and Int64Indexes with a unit increment support extending. The index is set will contain the position relative to the data length.\n",
      "  warnings.warn(\n"
     ]
    },
    {
     "name": "stdout",
     "output_type": "stream",
     "text": [
      "Predicted sell: 59433.97139404371, actual: 59444.9\n",
      "Sold BTC by 59433.97139404371 at 2021-05-10 03:34:00+00:00\n",
      "\t\tSimulating 2021-05-10 02:00:00+00:00 day....\n"
     ]
    },
    {
     "name": "stderr",
     "output_type": "stream",
     "text": [
      "/home/olga/PycharmProjects/backtesting/venv/lib/python3.8/site-packages/statsmodels/tsa/deterministic.py:147: UserWarning: Only PeriodIndexes, DatetimeIndexes with a frequency set, RangesIndexes, and Int64Indexes with a unit increment support extending. The index is set will contain the position relative to the data length.\n",
      "  warnings.warn(\n"
     ]
    },
    {
     "name": "stdout",
     "output_type": "stream",
     "text": [
      "Predicted buy: 53569.26636154183, actual: 58650.39\n",
      "Predicted buy: 53569.26636154183, actual: 58680.26\n",
      "Predicted buy: 53569.26636154183, actual: 58355.79\n",
      "Predicted buy: 53569.26636154183, actual: 57736.46\n",
      "Predicted buy: 53569.26636154183, actual: 57301.81\n",
      "Predicted buy: 53569.26636154183, actual: 57455.0\n",
      "Predicted buy: 53569.26636154183, actual: 56700.0\n",
      "Predicted buy: 53569.26636154183, actual: 56849.75\n",
      "Predicted buy: 53569.26636154183, actual: 55516.85\n",
      "Predicted buy: 53569.26636154183, actual: 53400.0\n",
      "stop_loss = 48407.06203292374\n",
      "Bought BTC by 53569.26636154183 at 2021-05-10 20:05:00+00:00\n"
     ]
    },
    {
     "name": "stderr",
     "output_type": "stream",
     "text": [
      "/home/olga/PycharmProjects/backtesting/venv/lib/python3.8/site-packages/statsmodels/tsa/deterministic.py:147: UserWarning: Only PeriodIndexes, DatetimeIndexes with a frequency set, RangesIndexes, and Int64Indexes with a unit increment support extending. The index is set will contain the position relative to the data length.\n",
      "  warnings.warn(\n"
     ]
    },
    {
     "name": "stdout",
     "output_type": "stream",
     "text": [
      "Predicted sell: 59433.97139404371, actual: 59444.9\n",
      "Sold BTC by 59433.97139404371 at 2021-05-10 03:34:00+00:00\n",
      "\t\tSimulating 2021-05-10 02:00:00+00:00 day....\n"
     ]
    },
    {
     "name": "stderr",
     "output_type": "stream",
     "text": [
      "/home/olga/PycharmProjects/backtesting/venv/lib/python3.8/site-packages/statsmodels/tsa/deterministic.py:147: UserWarning: Only PeriodIndexes, DatetimeIndexes with a frequency set, RangesIndexes, and Int64Indexes with a unit increment support extending. The index is set will contain the position relative to the data length.\n",
      "  warnings.warn(\n"
     ]
    },
    {
     "name": "stdout",
     "output_type": "stream",
     "text": [
      "Predicted buy: 53569.26636154183, actual: 58650.39\n",
      "Predicted buy: 53569.26636154183, actual: 58680.26\n",
      "Predicted buy: 53569.26636154183, actual: 58355.79\n",
      "Predicted buy: 53569.26636154183, actual: 57736.46\n",
      "Predicted buy: 53569.26636154183, actual: 57301.81\n",
      "Predicted buy: 53569.26636154183, actual: 57455.0\n",
      "Predicted buy: 53569.26636154183, actual: 56700.0\n",
      "Predicted buy: 53569.26636154183, actual: 56849.75\n",
      "Predicted buy: 53569.26636154183, actual: 55516.85\n",
      "Predicted buy: 53569.26636154183, actual: 53400.0\n",
      "stop_loss = 48407.06203292374\n",
      "Bought BTC by 53569.26636154183 at 2021-05-10 20:05:00+00:00\n"
     ]
    },
    {
     "name": "stderr",
     "output_type": "stream",
     "text": [
      "/home/olga/PycharmProjects/backtesting/venv/lib/python3.8/site-packages/statsmodels/tsa/deterministic.py:147: UserWarning: Only PeriodIndexes, DatetimeIndexes with a frequency set, RangesIndexes, and Int64Indexes with a unit increment support extending. The index is set will contain the position relative to the data length.\n",
      "  warnings.warn(\n"
     ]
    },
    {
     "name": "stdout",
     "output_type": "stream",
     "text": [
      "Predicted sell: 59433.97139404371, actual: 59444.9\n",
      "Sold BTC by 59433.97139404371 at 2021-05-10 03:34:00+00:00\n",
      "\t\tSimulating 2021-05-10 02:00:00+00:00 day....\n"
     ]
    },
    {
     "name": "stderr",
     "output_type": "stream",
     "text": [
      "/home/olga/PycharmProjects/backtesting/venv/lib/python3.8/site-packages/statsmodels/tsa/deterministic.py:147: UserWarning: Only PeriodIndexes, DatetimeIndexes with a frequency set, RangesIndexes, and Int64Indexes with a unit increment support extending. The index is set will contain the position relative to the data length.\n",
      "  warnings.warn(\n"
     ]
    },
    {
     "name": "stdout",
     "output_type": "stream",
     "text": [
      "Predicted buy: 53569.26636154183, actual: 58650.39\n",
      "Predicted buy: 53569.26636154183, actual: 58680.26\n",
      "Predicted buy: 53569.26636154183, actual: 58355.79\n",
      "Predicted buy: 53569.26636154183, actual: 57736.46\n",
      "Predicted buy: 53569.26636154183, actual: 57301.81\n",
      "Predicted buy: 53569.26636154183, actual: 57455.0\n",
      "Predicted buy: 53569.26636154183, actual: 56700.0\n",
      "Predicted buy: 53569.26636154183, actual: 56849.75\n",
      "Predicted buy: 53569.26636154183, actual: 55516.85\n",
      "Predicted buy: 53569.26636154183, actual: 53400.0\n",
      "stop_loss = 48407.06203292374\n",
      "Bought BTC by 53569.26636154183 at 2021-05-10 20:05:00+00:00\n"
     ]
    },
    {
     "name": "stderr",
     "output_type": "stream",
     "text": [
      "/home/olga/PycharmProjects/backtesting/venv/lib/python3.8/site-packages/statsmodels/tsa/deterministic.py:147: UserWarning: Only PeriodIndexes, DatetimeIndexes with a frequency set, RangesIndexes, and Int64Indexes with a unit increment support extending. The index is set will contain the position relative to the data length.\n",
      "  warnings.warn(\n"
     ]
    },
    {
     "name": "stdout",
     "output_type": "stream",
     "text": [
      "Predicted sell: 59433.97139404371, actual: 59444.9\n",
      "Sold BTC by 59433.97139404371 at 2021-05-10 03:34:00+00:00\n",
      "\t\tSimulating 2021-05-10 02:00:00+00:00 day....\n"
     ]
    },
    {
     "name": "stderr",
     "output_type": "stream",
     "text": [
      "/home/olga/PycharmProjects/backtesting/venv/lib/python3.8/site-packages/statsmodels/tsa/deterministic.py:147: UserWarning: Only PeriodIndexes, DatetimeIndexes with a frequency set, RangesIndexes, and Int64Indexes with a unit increment support extending. The index is set will contain the position relative to the data length.\n",
      "  warnings.warn(\n"
     ]
    },
    {
     "name": "stdout",
     "output_type": "stream",
     "text": [
      "Predicted buy: 53569.26636154183, actual: 58650.39\n",
      "Predicted buy: 53569.26636154183, actual: 58680.26\n",
      "Predicted buy: 53569.26636154183, actual: 58355.79\n",
      "Predicted buy: 53569.26636154183, actual: 57736.46\n",
      "Predicted buy: 53569.26636154183, actual: 57301.81\n",
      "Predicted buy: 53569.26636154183, actual: 57455.0\n",
      "Predicted buy: 53569.26636154183, actual: 56700.0\n",
      "Predicted buy: 53569.26636154183, actual: 56849.75\n",
      "Predicted buy: 53569.26636154183, actual: 55516.85\n",
      "Predicted buy: 53569.26636154183, actual: 53400.0\n",
      "stop_loss = 48407.06203292374\n",
      "Bought BTC by 53569.26636154183 at 2021-05-10 20:05:00+00:00\n"
     ]
    },
    {
     "name": "stderr",
     "output_type": "stream",
     "text": [
      "/home/olga/PycharmProjects/backtesting/venv/lib/python3.8/site-packages/statsmodels/tsa/deterministic.py:147: UserWarning: Only PeriodIndexes, DatetimeIndexes with a frequency set, RangesIndexes, and Int64Indexes with a unit increment support extending. The index is set will contain the position relative to the data length.\n",
      "  warnings.warn(\n"
     ]
    },
    {
     "name": "stdout",
     "output_type": "stream",
     "text": [
      "Predicted sell: 59433.97139404371, actual: 59444.9\n",
      "Sold BTC by 59433.97139404371 at 2021-05-10 03:34:00+00:00\n",
      "\t\tSimulating 2021-05-10 02:00:00+00:00 day....\n"
     ]
    },
    {
     "name": "stderr",
     "output_type": "stream",
     "text": [
      "/home/olga/PycharmProjects/backtesting/venv/lib/python3.8/site-packages/statsmodels/tsa/deterministic.py:147: UserWarning: Only PeriodIndexes, DatetimeIndexes with a frequency set, RangesIndexes, and Int64Indexes with a unit increment support extending. The index is set will contain the position relative to the data length.\n",
      "  warnings.warn(\n"
     ]
    },
    {
     "name": "stdout",
     "output_type": "stream",
     "text": [
      "Predicted buy: 53569.26636154183, actual: 58650.39\n",
      "Predicted buy: 53569.26636154183, actual: 58680.26\n",
      "Predicted buy: 53569.26636154183, actual: 58355.79\n",
      "Predicted buy: 53569.26636154183, actual: 57736.46\n",
      "Predicted buy: 53569.26636154183, actual: 57301.81\n",
      "Predicted buy: 53569.26636154183, actual: 57455.0\n",
      "Predicted buy: 53569.26636154183, actual: 56700.0\n",
      "Predicted buy: 53569.26636154183, actual: 56849.75\n",
      "Predicted buy: 53569.26636154183, actual: 55516.85\n",
      "Predicted buy: 53569.26636154183, actual: 53400.0\n",
      "stop_loss = 48407.06203292374\n",
      "Bought BTC by 53569.26636154183 at 2021-05-10 20:05:00+00:00\n"
     ]
    },
    {
     "name": "stderr",
     "output_type": "stream",
     "text": [
      "/home/olga/PycharmProjects/backtesting/venv/lib/python3.8/site-packages/statsmodels/tsa/deterministic.py:147: UserWarning: Only PeriodIndexes, DatetimeIndexes with a frequency set, RangesIndexes, and Int64Indexes with a unit increment support extending. The index is set will contain the position relative to the data length.\n",
      "  warnings.warn(\n"
     ]
    },
    {
     "name": "stdout",
     "output_type": "stream",
     "text": [
      "Predicted sell: 59433.97139404371, actual: 59444.9\n",
      "Sold BTC by 59433.97139404371 at 2021-05-10 03:34:00+00:00\n",
      "\t\tSimulating 2021-05-10 02:00:00+00:00 day....\n"
     ]
    },
    {
     "name": "stderr",
     "output_type": "stream",
     "text": [
      "/home/olga/PycharmProjects/backtesting/venv/lib/python3.8/site-packages/statsmodels/tsa/deterministic.py:147: UserWarning: Only PeriodIndexes, DatetimeIndexes with a frequency set, RangesIndexes, and Int64Indexes with a unit increment support extending. The index is set will contain the position relative to the data length.\n",
      "  warnings.warn(\n"
     ]
    },
    {
     "name": "stdout",
     "output_type": "stream",
     "text": [
      "Predicted buy: 53569.26636154183, actual: 58650.39\n",
      "Predicted buy: 53569.26636154183, actual: 58680.26\n",
      "Predicted buy: 53569.26636154183, actual: 58355.79\n",
      "Predicted buy: 53569.26636154183, actual: 57736.46\n",
      "Predicted buy: 53569.26636154183, actual: 57301.81\n",
      "Predicted buy: 53569.26636154183, actual: 57455.0\n",
      "Predicted buy: 53569.26636154183, actual: 56700.0\n",
      "Predicted buy: 53569.26636154183, actual: 56849.75\n",
      "Predicted buy: 53569.26636154183, actual: 55516.85\n",
      "Predicted buy: 53569.26636154183, actual: 53400.0\n",
      "stop_loss = 48407.06203292374\n",
      "Bought BTC by 53569.26636154183 at 2021-05-10 20:05:00+00:00\n"
     ]
    },
    {
     "name": "stderr",
     "output_type": "stream",
     "text": [
      "/home/olga/PycharmProjects/backtesting/venv/lib/python3.8/site-packages/statsmodels/tsa/deterministic.py:147: UserWarning: Only PeriodIndexes, DatetimeIndexes with a frequency set, RangesIndexes, and Int64Indexes with a unit increment support extending. The index is set will contain the position relative to the data length.\n",
      "  warnings.warn(\n"
     ]
    },
    {
     "name": "stdout",
     "output_type": "stream",
     "text": [
      "Predicted sell: 59433.97139404371, actual: 59444.9\n",
      "Sold BTC by 59433.97139404371 at 2021-05-10 03:34:00+00:00\n",
      "\t\tSimulating 2021-05-10 02:00:00+00:00 day....\n"
     ]
    },
    {
     "name": "stderr",
     "output_type": "stream",
     "text": [
      "/home/olga/PycharmProjects/backtesting/venv/lib/python3.8/site-packages/statsmodels/tsa/deterministic.py:147: UserWarning: Only PeriodIndexes, DatetimeIndexes with a frequency set, RangesIndexes, and Int64Indexes with a unit increment support extending. The index is set will contain the position relative to the data length.\n",
      "  warnings.warn(\n"
     ]
    },
    {
     "name": "stdout",
     "output_type": "stream",
     "text": [
      "Predicted buy: 53569.26636154183, actual: 58650.39\n",
      "Predicted buy: 53569.26636154183, actual: 58680.26\n",
      "Predicted buy: 53569.26636154183, actual: 58355.79\n",
      "Predicted buy: 53569.26636154183, actual: 57736.46\n",
      "Predicted buy: 53569.26636154183, actual: 57301.81\n",
      "Predicted buy: 53569.26636154183, actual: 57455.0\n",
      "Predicted buy: 53569.26636154183, actual: 56700.0\n",
      "Predicted buy: 53569.26636154183, actual: 56849.75\n",
      "Predicted buy: 53569.26636154183, actual: 55516.85\n",
      "Predicted buy: 53569.26636154183, actual: 53400.0\n",
      "stop_loss = 48407.06203292374\n",
      "Bought BTC by 53569.26636154183 at 2021-05-10 20:05:00+00:00\n"
     ]
    },
    {
     "name": "stderr",
     "output_type": "stream",
     "text": [
      "/home/olga/PycharmProjects/backtesting/venv/lib/python3.8/site-packages/statsmodels/tsa/deterministic.py:147: UserWarning: Only PeriodIndexes, DatetimeIndexes with a frequency set, RangesIndexes, and Int64Indexes with a unit increment support extending. The index is set will contain the position relative to the data length.\n",
      "  warnings.warn(\n"
     ]
    },
    {
     "name": "stdout",
     "output_type": "stream",
     "text": [
      "Predicted sell: 59433.97139404371, actual: 59444.9\n",
      "Sold BTC by 59433.97139404371 at 2021-05-10 03:34:00+00:00\n",
      "\t\tSimulating 2021-05-10 02:00:00+00:00 day....\n"
     ]
    },
    {
     "name": "stderr",
     "output_type": "stream",
     "text": [
      "/home/olga/PycharmProjects/backtesting/venv/lib/python3.8/site-packages/statsmodels/tsa/deterministic.py:147: UserWarning: Only PeriodIndexes, DatetimeIndexes with a frequency set, RangesIndexes, and Int64Indexes with a unit increment support extending. The index is set will contain the position relative to the data length.\n",
      "  warnings.warn(\n"
     ]
    },
    {
     "name": "stdout",
     "output_type": "stream",
     "text": [
      "Predicted buy: 53569.26636154183, actual: 58650.39\n",
      "Predicted buy: 53569.26636154183, actual: 58680.26\n",
      "Predicted buy: 53569.26636154183, actual: 58355.79\n",
      "Predicted buy: 53569.26636154183, actual: 57736.46\n",
      "Predicted buy: 53569.26636154183, actual: 57301.81\n",
      "Predicted buy: 53569.26636154183, actual: 57455.0\n",
      "Predicted buy: 53569.26636154183, actual: 56700.0\n",
      "Predicted buy: 53569.26636154183, actual: 56849.75\n",
      "Predicted buy: 53569.26636154183, actual: 55516.85\n",
      "Predicted buy: 53569.26636154183, actual: 53400.0\n",
      "stop_loss = 48407.06203292374\n",
      "Bought BTC by 53569.26636154183 at 2021-05-10 20:05:00+00:00\n"
     ]
    },
    {
     "name": "stderr",
     "output_type": "stream",
     "text": [
      "/home/olga/PycharmProjects/backtesting/venv/lib/python3.8/site-packages/statsmodels/tsa/deterministic.py:147: UserWarning: Only PeriodIndexes, DatetimeIndexes with a frequency set, RangesIndexes, and Int64Indexes with a unit increment support extending. The index is set will contain the position relative to the data length.\n",
      "  warnings.warn(\n"
     ]
    },
    {
     "name": "stdout",
     "output_type": "stream",
     "text": [
      "Predicted sell: 59433.97139404371, actual: 59444.9\n",
      "Sold BTC by 59433.97139404371 at 2021-05-10 03:34:00+00:00\n",
      "\t\tSimulating 2021-05-10 02:00:00+00:00 day....\n"
     ]
    },
    {
     "name": "stderr",
     "output_type": "stream",
     "text": [
      "/home/olga/PycharmProjects/backtesting/venv/lib/python3.8/site-packages/statsmodels/tsa/deterministic.py:147: UserWarning: Only PeriodIndexes, DatetimeIndexes with a frequency set, RangesIndexes, and Int64Indexes with a unit increment support extending. The index is set will contain the position relative to the data length.\n",
      "  warnings.warn(\n"
     ]
    },
    {
     "name": "stdout",
     "output_type": "stream",
     "text": [
      "Predicted buy: 53569.26636154183, actual: 58650.39\n",
      "Predicted buy: 53569.26636154183, actual: 58680.26\n",
      "Predicted buy: 53569.26636154183, actual: 58355.79\n",
      "Predicted buy: 53569.26636154183, actual: 57736.46\n",
      "Predicted buy: 53569.26636154183, actual: 57301.81\n",
      "Predicted buy: 53569.26636154183, actual: 57455.0\n",
      "Predicted buy: 53569.26636154183, actual: 56700.0\n",
      "Predicted buy: 53569.26636154183, actual: 56849.75\n",
      "Predicted buy: 53569.26636154183, actual: 55516.85\n",
      "Predicted buy: 53569.26636154183, actual: 53400.0\n",
      "stop_loss = 48407.06203292374\n",
      "Bought BTC by 53569.26636154183 at 2021-05-10 20:05:00+00:00\n"
     ]
    },
    {
     "name": "stderr",
     "output_type": "stream",
     "text": [
      "/home/olga/PycharmProjects/backtesting/venv/lib/python3.8/site-packages/statsmodels/tsa/deterministic.py:147: UserWarning: Only PeriodIndexes, DatetimeIndexes with a frequency set, RangesIndexes, and Int64Indexes with a unit increment support extending. The index is set will contain the position relative to the data length.\n",
      "  warnings.warn(\n"
     ]
    },
    {
     "name": "stdout",
     "output_type": "stream",
     "text": [
      "Predicted sell: 59433.97139404371, actual: 59444.9\n",
      "Sold BTC by 59433.97139404371 at 2021-05-10 03:34:00+00:00\n",
      "\t\tSimulating 2021-05-10 02:00:00+00:00 day....\n"
     ]
    },
    {
     "name": "stderr",
     "output_type": "stream",
     "text": [
      "/home/olga/PycharmProjects/backtesting/venv/lib/python3.8/site-packages/statsmodels/tsa/deterministic.py:147: UserWarning: Only PeriodIndexes, DatetimeIndexes with a frequency set, RangesIndexes, and Int64Indexes with a unit increment support extending. The index is set will contain the position relative to the data length.\n",
      "  warnings.warn(\n"
     ]
    },
    {
     "name": "stdout",
     "output_type": "stream",
     "text": [
      "Predicted buy: 53569.26636154183, actual: 58650.39\n",
      "Predicted buy: 53569.26636154183, actual: 58680.26\n",
      "Predicted buy: 53569.26636154183, actual: 58355.79\n",
      "Predicted buy: 53569.26636154183, actual: 57736.46\n",
      "Predicted buy: 53569.26636154183, actual: 57301.81\n",
      "Predicted buy: 53569.26636154183, actual: 57455.0\n",
      "Predicted buy: 53569.26636154183, actual: 56700.0\n",
      "Predicted buy: 53569.26636154183, actual: 56849.75\n",
      "Predicted buy: 53569.26636154183, actual: 55516.85\n",
      "Predicted buy: 53569.26636154183, actual: 53400.0\n",
      "stop_loss = 48407.06203292374\n",
      "Bought BTC by 53569.26636154183 at 2021-05-10 20:05:00+00:00\n"
     ]
    },
    {
     "name": "stderr",
     "output_type": "stream",
     "text": [
      "/home/olga/PycharmProjects/backtesting/venv/lib/python3.8/site-packages/statsmodels/tsa/deterministic.py:147: UserWarning: Only PeriodIndexes, DatetimeIndexes with a frequency set, RangesIndexes, and Int64Indexes with a unit increment support extending. The index is set will contain the position relative to the data length.\n",
      "  warnings.warn(\n"
     ]
    },
    {
     "name": "stdout",
     "output_type": "stream",
     "text": [
      "Predicted sell: 59433.97139404371, actual: 59444.9\n",
      "Sold BTC by 59433.97139404371 at 2021-05-10 03:34:00+00:00\n",
      "\t\tSimulating 2021-05-10 02:00:00+00:00 day....\n"
     ]
    },
    {
     "name": "stderr",
     "output_type": "stream",
     "text": [
      "/home/olga/PycharmProjects/backtesting/venv/lib/python3.8/site-packages/statsmodels/tsa/deterministic.py:147: UserWarning: Only PeriodIndexes, DatetimeIndexes with a frequency set, RangesIndexes, and Int64Indexes with a unit increment support extending. The index is set will contain the position relative to the data length.\n",
      "  warnings.warn(\n"
     ]
    },
    {
     "name": "stdout",
     "output_type": "stream",
     "text": [
      "Predicted buy: 53569.26636154183, actual: 58650.39\n",
      "Predicted buy: 53569.26636154183, actual: 58680.26\n",
      "Predicted buy: 53569.26636154183, actual: 58355.79\n",
      "Predicted buy: 53569.26636154183, actual: 57736.46\n",
      "Predicted buy: 53569.26636154183, actual: 57301.81\n",
      "Predicted buy: 53569.26636154183, actual: 57455.0\n",
      "Predicted buy: 53569.26636154183, actual: 56700.0\n",
      "Predicted buy: 53569.26636154183, actual: 56849.75\n",
      "Predicted buy: 53569.26636154183, actual: 55516.85\n",
      "Predicted buy: 53569.26636154183, actual: 53400.0\n",
      "stop_loss = 48407.06203292374\n",
      "Bought BTC by 53569.26636154183 at 2021-05-10 20:05:00+00:00\n"
     ]
    },
    {
     "name": "stderr",
     "output_type": "stream",
     "text": [
      "/home/olga/PycharmProjects/backtesting/venv/lib/python3.8/site-packages/statsmodels/tsa/deterministic.py:147: UserWarning: Only PeriodIndexes, DatetimeIndexes with a frequency set, RangesIndexes, and Int64Indexes with a unit increment support extending. The index is set will contain the position relative to the data length.\n",
      "  warnings.warn(\n"
     ]
    },
    {
     "name": "stdout",
     "output_type": "stream",
     "text": [
      "Predicted sell: 59433.97139404371, actual: 59444.9\n",
      "Sold BTC by 59433.97139404371 at 2021-05-10 03:34:00+00:00\n",
      "\t\tSimulating 2021-05-10 02:00:00+00:00 day....\n"
     ]
    },
    {
     "name": "stderr",
     "output_type": "stream",
     "text": [
      "/home/olga/PycharmProjects/backtesting/venv/lib/python3.8/site-packages/statsmodels/tsa/deterministic.py:147: UserWarning: Only PeriodIndexes, DatetimeIndexes with a frequency set, RangesIndexes, and Int64Indexes with a unit increment support extending. The index is set will contain the position relative to the data length.\n",
      "  warnings.warn(\n"
     ]
    },
    {
     "name": "stdout",
     "output_type": "stream",
     "text": [
      "Predicted buy: 53569.26636154183, actual: 58650.39\n",
      "Predicted buy: 53569.26636154183, actual: 58680.26\n",
      "Predicted buy: 53569.26636154183, actual: 58355.79\n",
      "Predicted buy: 53569.26636154183, actual: 57736.46\n",
      "Predicted buy: 53569.26636154183, actual: 57301.81\n",
      "Predicted buy: 53569.26636154183, actual: 57455.0\n",
      "Predicted buy: 53569.26636154183, actual: 56700.0\n",
      "Predicted buy: 53569.26636154183, actual: 56849.75\n",
      "Predicted buy: 53569.26636154183, actual: 55516.85\n",
      "Predicted buy: 53569.26636154183, actual: 53400.0\n",
      "stop_loss = 48407.06203292374\n",
      "Bought BTC by 53569.26636154183 at 2021-05-10 20:05:00+00:00\n"
     ]
    },
    {
     "name": "stderr",
     "output_type": "stream",
     "text": [
      "/home/olga/PycharmProjects/backtesting/venv/lib/python3.8/site-packages/statsmodels/tsa/deterministic.py:147: UserWarning: Only PeriodIndexes, DatetimeIndexes with a frequency set, RangesIndexes, and Int64Indexes with a unit increment support extending. The index is set will contain the position relative to the data length.\n",
      "  warnings.warn(\n"
     ]
    },
    {
     "name": "stdout",
     "output_type": "stream",
     "text": [
      "Predicted sell: 59433.97139404371, actual: 59444.9\n",
      "Sold BTC by 59433.97139404371 at 2021-05-10 03:34:00+00:00\n",
      "\t\tSimulating 2021-05-10 02:00:00+00:00 day....\n"
     ]
    },
    {
     "name": "stderr",
     "output_type": "stream",
     "text": [
      "/home/olga/PycharmProjects/backtesting/venv/lib/python3.8/site-packages/statsmodels/tsa/deterministic.py:147: UserWarning: Only PeriodIndexes, DatetimeIndexes with a frequency set, RangesIndexes, and Int64Indexes with a unit increment support extending. The index is set will contain the position relative to the data length.\n",
      "  warnings.warn(\n"
     ]
    },
    {
     "name": "stdout",
     "output_type": "stream",
     "text": [
      "Predicted buy: 53569.26636154183, actual: 58650.39\n",
      "Predicted buy: 53569.26636154183, actual: 58680.26\n",
      "Predicted buy: 53569.26636154183, actual: 58355.79\n",
      "Predicted buy: 53569.26636154183, actual: 57736.46\n",
      "Predicted buy: 53569.26636154183, actual: 57301.81\n",
      "Predicted buy: 53569.26636154183, actual: 57455.0\n",
      "Predicted buy: 53569.26636154183, actual: 56700.0\n",
      "Predicted buy: 53569.26636154183, actual: 56849.75\n",
      "Predicted buy: 53569.26636154183, actual: 55516.85\n",
      "Predicted buy: 53569.26636154183, actual: 53400.0\n",
      "stop_loss = 48407.06203292374\n",
      "Bought BTC by 53569.26636154183 at 2021-05-10 20:05:00+00:00\n"
     ]
    },
    {
     "name": "stderr",
     "output_type": "stream",
     "text": [
      "/home/olga/PycharmProjects/backtesting/venv/lib/python3.8/site-packages/statsmodels/tsa/deterministic.py:147: UserWarning: Only PeriodIndexes, DatetimeIndexes with a frequency set, RangesIndexes, and Int64Indexes with a unit increment support extending. The index is set will contain the position relative to the data length.\n",
      "  warnings.warn(\n"
     ]
    },
    {
     "name": "stdout",
     "output_type": "stream",
     "text": [
      "Predicted sell: 59433.97139404371, actual: 59444.9\n",
      "Sold BTC by 59433.97139404371 at 2021-05-10 03:34:00+00:00\n",
      "\t\tSimulating 2021-05-10 02:00:00+00:00 day....\n"
     ]
    },
    {
     "name": "stderr",
     "output_type": "stream",
     "text": [
      "/home/olga/PycharmProjects/backtesting/venv/lib/python3.8/site-packages/statsmodels/tsa/deterministic.py:147: UserWarning: Only PeriodIndexes, DatetimeIndexes with a frequency set, RangesIndexes, and Int64Indexes with a unit increment support extending. The index is set will contain the position relative to the data length.\n",
      "  warnings.warn(\n"
     ]
    },
    {
     "name": "stdout",
     "output_type": "stream",
     "text": [
      "Predicted buy: 53569.26636154183, actual: 58650.39\n",
      "Predicted buy: 53569.26636154183, actual: 58680.26\n",
      "Predicted buy: 53569.26636154183, actual: 58355.79\n",
      "Predicted buy: 53569.26636154183, actual: 57736.46\n",
      "Predicted buy: 53569.26636154183, actual: 57301.81\n",
      "Predicted buy: 53569.26636154183, actual: 57455.0\n",
      "Predicted buy: 53569.26636154183, actual: 56700.0\n",
      "Predicted buy: 53569.26636154183, actual: 56849.75\n",
      "Predicted buy: 53569.26636154183, actual: 55516.85\n",
      "Predicted buy: 53569.26636154183, actual: 53400.0\n",
      "stop_loss = 48407.06203292374\n",
      "Bought BTC by 53569.26636154183 at 2021-05-10 20:05:00+00:00\n"
     ]
    },
    {
     "name": "stderr",
     "output_type": "stream",
     "text": [
      "/home/olga/PycharmProjects/backtesting/venv/lib/python3.8/site-packages/statsmodels/tsa/deterministic.py:147: UserWarning: Only PeriodIndexes, DatetimeIndexes with a frequency set, RangesIndexes, and Int64Indexes with a unit increment support extending. The index is set will contain the position relative to the data length.\n",
      "  warnings.warn(\n"
     ]
    },
    {
     "name": "stdout",
     "output_type": "stream",
     "text": [
      "Predicted sell: 59433.97139404371, actual: 59444.9\n",
      "Sold BTC by 59433.97139404371 at 2021-05-10 03:34:00+00:00\n",
      "\t\tSimulating 2021-05-10 02:00:00+00:00 day....\n"
     ]
    },
    {
     "name": "stderr",
     "output_type": "stream",
     "text": [
      "/home/olga/PycharmProjects/backtesting/venv/lib/python3.8/site-packages/statsmodels/tsa/deterministic.py:147: UserWarning: Only PeriodIndexes, DatetimeIndexes with a frequency set, RangesIndexes, and Int64Indexes with a unit increment support extending. The index is set will contain the position relative to the data length.\n",
      "  warnings.warn(\n"
     ]
    },
    {
     "name": "stdout",
     "output_type": "stream",
     "text": [
      "Predicted buy: 53569.26636154183, actual: 58650.39\n",
      "Predicted buy: 53569.26636154183, actual: 58680.26\n",
      "Predicted buy: 53569.26636154183, actual: 58355.79\n",
      "Predicted buy: 53569.26636154183, actual: 57736.46\n",
      "Predicted buy: 53569.26636154183, actual: 57301.81\n",
      "Predicted buy: 53569.26636154183, actual: 57455.0\n",
      "Predicted buy: 53569.26636154183, actual: 56700.0\n",
      "Predicted buy: 53569.26636154183, actual: 56849.75\n",
      "Predicted buy: 53569.26636154183, actual: 55516.85\n",
      "Predicted buy: 53569.26636154183, actual: 53400.0\n",
      "stop_loss = 48407.06203292374\n",
      "Bought BTC by 53569.26636154183 at 2021-05-10 20:05:00+00:00\n"
     ]
    },
    {
     "name": "stderr",
     "output_type": "stream",
     "text": [
      "/home/olga/PycharmProjects/backtesting/venv/lib/python3.8/site-packages/statsmodels/tsa/deterministic.py:147: UserWarning: Only PeriodIndexes, DatetimeIndexes with a frequency set, RangesIndexes, and Int64Indexes with a unit increment support extending. The index is set will contain the position relative to the data length.\n",
      "  warnings.warn(\n"
     ]
    },
    {
     "name": "stdout",
     "output_type": "stream",
     "text": [
      "Predicted sell: 59433.97139404371, actual: 59444.9\n",
      "Sold BTC by 59433.97139404371 at 2021-05-10 03:34:00+00:00\n",
      "\t\tSimulating 2021-05-10 02:00:00+00:00 day....\n"
     ]
    },
    {
     "name": "stderr",
     "output_type": "stream",
     "text": [
      "/home/olga/PycharmProjects/backtesting/venv/lib/python3.8/site-packages/statsmodels/tsa/deterministic.py:147: UserWarning: Only PeriodIndexes, DatetimeIndexes with a frequency set, RangesIndexes, and Int64Indexes with a unit increment support extending. The index is set will contain the position relative to the data length.\n",
      "  warnings.warn(\n"
     ]
    },
    {
     "name": "stdout",
     "output_type": "stream",
     "text": [
      "Predicted buy: 53569.26636154183, actual: 58650.39\n",
      "Predicted buy: 53569.26636154183, actual: 58680.26\n",
      "Predicted buy: 53569.26636154183, actual: 58355.79\n",
      "Predicted buy: 53569.26636154183, actual: 57736.46\n",
      "Predicted buy: 53569.26636154183, actual: 57301.81\n",
      "Predicted buy: 53569.26636154183, actual: 57455.0\n",
      "Predicted buy: 53569.26636154183, actual: 56700.0\n",
      "Predicted buy: 53569.26636154183, actual: 56849.75\n",
      "Predicted buy: 53569.26636154183, actual: 55516.85\n",
      "Predicted buy: 53569.26636154183, actual: 53400.0\n",
      "stop_loss = 48407.06203292374\n",
      "Bought BTC by 53569.26636154183 at 2021-05-10 20:05:00+00:00\n"
     ]
    },
    {
     "name": "stderr",
     "output_type": "stream",
     "text": [
      "/home/olga/PycharmProjects/backtesting/venv/lib/python3.8/site-packages/statsmodels/tsa/deterministic.py:147: UserWarning: Only PeriodIndexes, DatetimeIndexes with a frequency set, RangesIndexes, and Int64Indexes with a unit increment support extending. The index is set will contain the position relative to the data length.\n",
      "  warnings.warn(\n"
     ]
    },
    {
     "name": "stdout",
     "output_type": "stream",
     "text": [
      "Predicted sell: 59433.97139404371, actual: 59444.9\n",
      "Sold BTC by 59433.97139404371 at 2021-05-10 03:34:00+00:00\n",
      "\t\tSimulating 2021-05-10 02:00:00+00:00 day....\n"
     ]
    },
    {
     "name": "stderr",
     "output_type": "stream",
     "text": [
      "/home/olga/PycharmProjects/backtesting/venv/lib/python3.8/site-packages/statsmodels/tsa/deterministic.py:147: UserWarning: Only PeriodIndexes, DatetimeIndexes with a frequency set, RangesIndexes, and Int64Indexes with a unit increment support extending. The index is set will contain the position relative to the data length.\n",
      "  warnings.warn(\n"
     ]
    },
    {
     "name": "stdout",
     "output_type": "stream",
     "text": [
      "Predicted buy: 53569.26636154183, actual: 58650.39\n",
      "Predicted buy: 53569.26636154183, actual: 58680.26\n",
      "Predicted buy: 53569.26636154183, actual: 58355.79\n",
      "Predicted buy: 53569.26636154183, actual: 57736.46\n",
      "Predicted buy: 53569.26636154183, actual: 57301.81\n",
      "Predicted buy: 53569.26636154183, actual: 57455.0\n",
      "Predicted buy: 53569.26636154183, actual: 56700.0\n",
      "Predicted buy: 53569.26636154183, actual: 56849.75\n",
      "Predicted buy: 53569.26636154183, actual: 55516.85\n",
      "Predicted buy: 53569.26636154183, actual: 53400.0\n",
      "stop_loss = 48407.06203292374\n",
      "Bought BTC by 53569.26636154183 at 2021-05-10 20:05:00+00:00\n"
     ]
    },
    {
     "name": "stderr",
     "output_type": "stream",
     "text": [
      "/home/olga/PycharmProjects/backtesting/venv/lib/python3.8/site-packages/statsmodels/tsa/deterministic.py:147: UserWarning: Only PeriodIndexes, DatetimeIndexes with a frequency set, RangesIndexes, and Int64Indexes with a unit increment support extending. The index is set will contain the position relative to the data length.\n",
      "  warnings.warn(\n"
     ]
    },
    {
     "name": "stdout",
     "output_type": "stream",
     "text": [
      "Predicted sell: 59433.97139404371, actual: 59444.9\n",
      "Sold BTC by 59433.97139404371 at 2021-05-10 03:34:00+00:00\n",
      "\t\tSimulating 2021-05-10 02:00:00+00:00 day....\n"
     ]
    },
    {
     "name": "stderr",
     "output_type": "stream",
     "text": [
      "/home/olga/PycharmProjects/backtesting/venv/lib/python3.8/site-packages/statsmodels/tsa/deterministic.py:147: UserWarning: Only PeriodIndexes, DatetimeIndexes with a frequency set, RangesIndexes, and Int64Indexes with a unit increment support extending. The index is set will contain the position relative to the data length.\n",
      "  warnings.warn(\n"
     ]
    },
    {
     "name": "stdout",
     "output_type": "stream",
     "text": [
      "Predicted buy: 53569.26636154183, actual: 58650.39\n",
      "Predicted buy: 53569.26636154183, actual: 58680.26\n",
      "Predicted buy: 53569.26636154183, actual: 58355.79\n",
      "Predicted buy: 53569.26636154183, actual: 57736.46\n",
      "Predicted buy: 53569.26636154183, actual: 57301.81\n",
      "Predicted buy: 53569.26636154183, actual: 57455.0\n",
      "Predicted buy: 53569.26636154183, actual: 56700.0\n",
      "Predicted buy: 53569.26636154183, actual: 56849.75\n",
      "Predicted buy: 53569.26636154183, actual: 55516.85\n",
      "Predicted buy: 53569.26636154183, actual: 53400.0\n",
      "stop_loss = 48407.06203292374\n",
      "Bought BTC by 53569.26636154183 at 2021-05-10 20:05:00+00:00\n"
     ]
    },
    {
     "name": "stderr",
     "output_type": "stream",
     "text": [
      "/home/olga/PycharmProjects/backtesting/venv/lib/python3.8/site-packages/statsmodels/tsa/deterministic.py:147: UserWarning: Only PeriodIndexes, DatetimeIndexes with a frequency set, RangesIndexes, and Int64Indexes with a unit increment support extending. The index is set will contain the position relative to the data length.\n",
      "  warnings.warn(\n"
     ]
    },
    {
     "name": "stdout",
     "output_type": "stream",
     "text": [
      "Predicted sell: 59433.97139404371, actual: 59444.9\n",
      "Sold BTC by 59433.97139404371 at 2021-05-10 03:34:00+00:00\n",
      "\t\tSimulating 2021-05-10 02:00:00+00:00 day....\n"
     ]
    },
    {
     "name": "stderr",
     "output_type": "stream",
     "text": [
      "/home/olga/PycharmProjects/backtesting/venv/lib/python3.8/site-packages/statsmodels/tsa/deterministic.py:147: UserWarning: Only PeriodIndexes, DatetimeIndexes with a frequency set, RangesIndexes, and Int64Indexes with a unit increment support extending. The index is set will contain the position relative to the data length.\n",
      "  warnings.warn(\n"
     ]
    },
    {
     "name": "stdout",
     "output_type": "stream",
     "text": [
      "Predicted buy: 53569.26636154183, actual: 58650.39\n",
      "Predicted buy: 53569.26636154183, actual: 58680.26\n",
      "Predicted buy: 53569.26636154183, actual: 58355.79\n",
      "Predicted buy: 53569.26636154183, actual: 57736.46\n",
      "Predicted buy: 53569.26636154183, actual: 57301.81\n",
      "Predicted buy: 53569.26636154183, actual: 57455.0\n",
      "Predicted buy: 53569.26636154183, actual: 56700.0\n",
      "Predicted buy: 53569.26636154183, actual: 56849.75\n",
      "Predicted buy: 53569.26636154183, actual: 55516.85\n",
      "Predicted buy: 53569.26636154183, actual: 53400.0\n",
      "stop_loss = 48407.06203292374\n",
      "Bought BTC by 53569.26636154183 at 2021-05-10 20:05:00+00:00\n"
     ]
    },
    {
     "name": "stderr",
     "output_type": "stream",
     "text": [
      "/home/olga/PycharmProjects/backtesting/venv/lib/python3.8/site-packages/statsmodels/tsa/deterministic.py:147: UserWarning: Only PeriodIndexes, DatetimeIndexes with a frequency set, RangesIndexes, and Int64Indexes with a unit increment support extending. The index is set will contain the position relative to the data length.\n",
      "  warnings.warn(\n"
     ]
    },
    {
     "name": "stdout",
     "output_type": "stream",
     "text": [
      "Predicted sell: 59433.97139404371, actual: 59444.9\n",
      "Sold BTC by 59433.97139404371 at 2021-05-10 03:34:00+00:00\n",
      "\t\tSimulating 2021-05-10 02:00:00+00:00 day....\n"
     ]
    },
    {
     "name": "stderr",
     "output_type": "stream",
     "text": [
      "/home/olga/PycharmProjects/backtesting/venv/lib/python3.8/site-packages/statsmodels/tsa/deterministic.py:147: UserWarning: Only PeriodIndexes, DatetimeIndexes with a frequency set, RangesIndexes, and Int64Indexes with a unit increment support extending. The index is set will contain the position relative to the data length.\n",
      "  warnings.warn(\n"
     ]
    },
    {
     "name": "stdout",
     "output_type": "stream",
     "text": [
      "Predicted buy: 53569.26636154183, actual: 58650.39\n",
      "Predicted buy: 53569.26636154183, actual: 58680.26\n",
      "Predicted buy: 53569.26636154183, actual: 58355.79\n",
      "Predicted buy: 53569.26636154183, actual: 57736.46\n",
      "Predicted buy: 53569.26636154183, actual: 57301.81\n",
      "Predicted buy: 53569.26636154183, actual: 57455.0\n",
      "Predicted buy: 53569.26636154183, actual: 56700.0\n",
      "Predicted buy: 53569.26636154183, actual: 56849.75\n",
      "Predicted buy: 53569.26636154183, actual: 55516.85\n",
      "Predicted buy: 53569.26636154183, actual: 53400.0\n",
      "stop_loss = 48407.06203292374\n",
      "Bought BTC by 53569.26636154183 at 2021-05-10 20:05:00+00:00\n"
     ]
    },
    {
     "name": "stderr",
     "output_type": "stream",
     "text": [
      "/home/olga/PycharmProjects/backtesting/venv/lib/python3.8/site-packages/statsmodels/tsa/deterministic.py:147: UserWarning: Only PeriodIndexes, DatetimeIndexes with a frequency set, RangesIndexes, and Int64Indexes with a unit increment support extending. The index is set will contain the position relative to the data length.\n",
      "  warnings.warn(\n"
     ]
    },
    {
     "name": "stdout",
     "output_type": "stream",
     "text": [
      "Predicted sell: 59433.97139404371, actual: 59444.9\n",
      "Sold BTC by 59433.97139404371 at 2021-05-10 03:34:00+00:00\n",
      "\t\tSimulating 2021-05-10 02:00:00+00:00 day....\n"
     ]
    },
    {
     "name": "stderr",
     "output_type": "stream",
     "text": [
      "/home/olga/PycharmProjects/backtesting/venv/lib/python3.8/site-packages/statsmodels/tsa/deterministic.py:147: UserWarning: Only PeriodIndexes, DatetimeIndexes with a frequency set, RangesIndexes, and Int64Indexes with a unit increment support extending. The index is set will contain the position relative to the data length.\n",
      "  warnings.warn(\n"
     ]
    },
    {
     "name": "stdout",
     "output_type": "stream",
     "text": [
      "Predicted buy: 53569.26636154183, actual: 58650.39\n",
      "Predicted buy: 53569.26636154183, actual: 58680.26\n",
      "Predicted buy: 53569.26636154183, actual: 58355.79\n",
      "Predicted buy: 53569.26636154183, actual: 57736.46\n",
      "Predicted buy: 53569.26636154183, actual: 57301.81\n",
      "Predicted buy: 53569.26636154183, actual: 57455.0\n",
      "Predicted buy: 53569.26636154183, actual: 56700.0\n",
      "Predicted buy: 53569.26636154183, actual: 56849.75\n",
      "Predicted buy: 53569.26636154183, actual: 55516.85\n",
      "Predicted buy: 53569.26636154183, actual: 53400.0\n",
      "stop_loss = 48407.06203292374\n",
      "Bought BTC by 53569.26636154183 at 2021-05-10 20:05:00+00:00\n"
     ]
    },
    {
     "name": "stderr",
     "output_type": "stream",
     "text": [
      "/home/olga/PycharmProjects/backtesting/venv/lib/python3.8/site-packages/statsmodels/tsa/deterministic.py:147: UserWarning: Only PeriodIndexes, DatetimeIndexes with a frequency set, RangesIndexes, and Int64Indexes with a unit increment support extending. The index is set will contain the position relative to the data length.\n",
      "  warnings.warn(\n"
     ]
    },
    {
     "name": "stdout",
     "output_type": "stream",
     "text": [
      "Predicted sell: 59433.97139404371, actual: 59444.9\n",
      "Sold BTC by 59433.97139404371 at 2021-05-10 03:34:00+00:00\n",
      "\t\tSimulating 2021-05-10 02:00:00+00:00 day....\n"
     ]
    },
    {
     "name": "stderr",
     "output_type": "stream",
     "text": [
      "/home/olga/PycharmProjects/backtesting/venv/lib/python3.8/site-packages/statsmodels/tsa/deterministic.py:147: UserWarning: Only PeriodIndexes, DatetimeIndexes with a frequency set, RangesIndexes, and Int64Indexes with a unit increment support extending. The index is set will contain the position relative to the data length.\n",
      "  warnings.warn(\n"
     ]
    },
    {
     "name": "stdout",
     "output_type": "stream",
     "text": [
      "Predicted buy: 53569.26636154183, actual: 58650.39\n",
      "Predicted buy: 53569.26636154183, actual: 58680.26\n",
      "Predicted buy: 53569.26636154183, actual: 58355.79\n",
      "Predicted buy: 53569.26636154183, actual: 57736.46\n",
      "Predicted buy: 53569.26636154183, actual: 57301.81\n",
      "Predicted buy: 53569.26636154183, actual: 57455.0\n",
      "Predicted buy: 53569.26636154183, actual: 56700.0\n",
      "Predicted buy: 53569.26636154183, actual: 56849.75\n",
      "Predicted buy: 53569.26636154183, actual: 55516.85\n",
      "Predicted buy: 53569.26636154183, actual: 53400.0\n",
      "stop_loss = 48407.06203292374\n",
      "Bought BTC by 53569.26636154183 at 2021-05-10 20:05:00+00:00\n"
     ]
    },
    {
     "name": "stderr",
     "output_type": "stream",
     "text": [
      "/home/olga/PycharmProjects/backtesting/venv/lib/python3.8/site-packages/statsmodels/tsa/deterministic.py:147: UserWarning: Only PeriodIndexes, DatetimeIndexes with a frequency set, RangesIndexes, and Int64Indexes with a unit increment support extending. The index is set will contain the position relative to the data length.\n",
      "  warnings.warn(\n"
     ]
    },
    {
     "name": "stdout",
     "output_type": "stream",
     "text": [
      "Predicted sell: 59433.97139404371, actual: 59444.9\n",
      "Sold BTC by 59433.97139404371 at 2021-05-10 03:34:00+00:00\n",
      "\t\tSimulating 2021-05-10 02:00:00+00:00 day....\n"
     ]
    },
    {
     "name": "stderr",
     "output_type": "stream",
     "text": [
      "/home/olga/PycharmProjects/backtesting/venv/lib/python3.8/site-packages/statsmodels/tsa/deterministic.py:147: UserWarning: Only PeriodIndexes, DatetimeIndexes with a frequency set, RangesIndexes, and Int64Indexes with a unit increment support extending. The index is set will contain the position relative to the data length.\n",
      "  warnings.warn(\n"
     ]
    },
    {
     "name": "stdout",
     "output_type": "stream",
     "text": [
      "Predicted buy: 53569.26636154183, actual: 58650.39\n",
      "Predicted buy: 53569.26636154183, actual: 58680.26\n",
      "Predicted buy: 53569.26636154183, actual: 58355.79\n",
      "Predicted buy: 53569.26636154183, actual: 57736.46\n",
      "Predicted buy: 53569.26636154183, actual: 57301.81\n",
      "Predicted buy: 53569.26636154183, actual: 57455.0\n",
      "Predicted buy: 53569.26636154183, actual: 56700.0\n",
      "Predicted buy: 53569.26636154183, actual: 56849.75\n",
      "Predicted buy: 53569.26636154183, actual: 55516.85\n",
      "Predicted buy: 53569.26636154183, actual: 53400.0\n",
      "stop_loss = 48407.06203292374\n",
      "Bought BTC by 53569.26636154183 at 2021-05-10 20:05:00+00:00\n"
     ]
    },
    {
     "name": "stderr",
     "output_type": "stream",
     "text": [
      "/home/olga/PycharmProjects/backtesting/venv/lib/python3.8/site-packages/statsmodels/tsa/deterministic.py:147: UserWarning: Only PeriodIndexes, DatetimeIndexes with a frequency set, RangesIndexes, and Int64Indexes with a unit increment support extending. The index is set will contain the position relative to the data length.\n",
      "  warnings.warn(\n"
     ]
    },
    {
     "name": "stdout",
     "output_type": "stream",
     "text": [
      "Predicted sell: 59433.97139404371, actual: 59444.9\n",
      "Sold BTC by 59433.97139404371 at 2021-05-10 03:34:00+00:00\n",
      "\t\tSimulating 2021-05-10 02:00:00+00:00 day....\n"
     ]
    },
    {
     "name": "stderr",
     "output_type": "stream",
     "text": [
      "/home/olga/PycharmProjects/backtesting/venv/lib/python3.8/site-packages/statsmodels/tsa/deterministic.py:147: UserWarning: Only PeriodIndexes, DatetimeIndexes with a frequency set, RangesIndexes, and Int64Indexes with a unit increment support extending. The index is set will contain the position relative to the data length.\n",
      "  warnings.warn(\n"
     ]
    },
    {
     "name": "stdout",
     "output_type": "stream",
     "text": [
      "Predicted buy: 53569.26636154183, actual: 58650.39\n",
      "Predicted buy: 53569.26636154183, actual: 58680.26\n",
      "Predicted buy: 53569.26636154183, actual: 58355.79\n",
      "Predicted buy: 53569.26636154183, actual: 57736.46\n",
      "Predicted buy: 53569.26636154183, actual: 57301.81\n",
      "Predicted buy: 53569.26636154183, actual: 57455.0\n",
      "Predicted buy: 53569.26636154183, actual: 56700.0\n",
      "Predicted buy: 53569.26636154183, actual: 56849.75\n",
      "Predicted buy: 53569.26636154183, actual: 55516.85\n",
      "Predicted buy: 53569.26636154183, actual: 53400.0\n",
      "stop_loss = 48407.06203292374\n",
      "Bought BTC by 53569.26636154183 at 2021-05-10 20:05:00+00:00\n"
     ]
    },
    {
     "name": "stderr",
     "output_type": "stream",
     "text": [
      "/home/olga/PycharmProjects/backtesting/venv/lib/python3.8/site-packages/statsmodels/tsa/deterministic.py:147: UserWarning: Only PeriodIndexes, DatetimeIndexes with a frequency set, RangesIndexes, and Int64Indexes with a unit increment support extending. The index is set will contain the position relative to the data length.\n",
      "  warnings.warn(\n"
     ]
    },
    {
     "name": "stdout",
     "output_type": "stream",
     "text": [
      "Predicted sell: 59433.97139404371, actual: 59444.9\n",
      "Sold BTC by 59433.97139404371 at 2021-05-10 03:34:00+00:00\n",
      "\t\tSimulating 2021-05-10 02:00:00+00:00 day....\n"
     ]
    },
    {
     "name": "stderr",
     "output_type": "stream",
     "text": [
      "/home/olga/PycharmProjects/backtesting/venv/lib/python3.8/site-packages/statsmodels/tsa/deterministic.py:147: UserWarning: Only PeriodIndexes, DatetimeIndexes with a frequency set, RangesIndexes, and Int64Indexes with a unit increment support extending. The index is set will contain the position relative to the data length.\n",
      "  warnings.warn(\n"
     ]
    },
    {
     "name": "stdout",
     "output_type": "stream",
     "text": [
      "Predicted buy: 53569.26636154183, actual: 58650.39\n",
      "Predicted buy: 53569.26636154183, actual: 58680.26\n",
      "Predicted buy: 53569.26636154183, actual: 58355.79\n",
      "Predicted buy: 53569.26636154183, actual: 57736.46\n",
      "Predicted buy: 53569.26636154183, actual: 57301.81\n",
      "Predicted buy: 53569.26636154183, actual: 57455.0\n",
      "Predicted buy: 53569.26636154183, actual: 56700.0\n",
      "Predicted buy: 53569.26636154183, actual: 56849.75\n",
      "Predicted buy: 53569.26636154183, actual: 55516.85\n",
      "Predicted buy: 53569.26636154183, actual: 53400.0\n",
      "stop_loss = 48407.06203292374\n",
      "Bought BTC by 53569.26636154183 at 2021-05-10 20:05:00+00:00\n"
     ]
    },
    {
     "name": "stderr",
     "output_type": "stream",
     "text": [
      "/home/olga/PycharmProjects/backtesting/venv/lib/python3.8/site-packages/statsmodels/tsa/deterministic.py:147: UserWarning: Only PeriodIndexes, DatetimeIndexes with a frequency set, RangesIndexes, and Int64Indexes with a unit increment support extending. The index is set will contain the position relative to the data length.\n",
      "  warnings.warn(\n"
     ]
    },
    {
     "name": "stdout",
     "output_type": "stream",
     "text": [
      "Predicted sell: 59433.97139404371, actual: 59444.9\n",
      "Sold BTC by 59433.97139404371 at 2021-05-10 03:34:00+00:00\n",
      "\t\tSimulating 2021-05-10 02:00:00+00:00 day....\n"
     ]
    },
    {
     "name": "stderr",
     "output_type": "stream",
     "text": [
      "/home/olga/PycharmProjects/backtesting/venv/lib/python3.8/site-packages/statsmodels/tsa/deterministic.py:147: UserWarning: Only PeriodIndexes, DatetimeIndexes with a frequency set, RangesIndexes, and Int64Indexes with a unit increment support extending. The index is set will contain the position relative to the data length.\n",
      "  warnings.warn(\n"
     ]
    },
    {
     "name": "stdout",
     "output_type": "stream",
     "text": [
      "Predicted buy: 53569.26636154183, actual: 58650.39\n",
      "Predicted buy: 53569.26636154183, actual: 58680.26\n",
      "Predicted buy: 53569.26636154183, actual: 58355.79\n",
      "Predicted buy: 53569.26636154183, actual: 57736.46\n",
      "Predicted buy: 53569.26636154183, actual: 57301.81\n",
      "Predicted buy: 53569.26636154183, actual: 57455.0\n",
      "Predicted buy: 53569.26636154183, actual: 56700.0\n",
      "Predicted buy: 53569.26636154183, actual: 56849.75\n",
      "Predicted buy: 53569.26636154183, actual: 55516.85\n",
      "Predicted buy: 53569.26636154183, actual: 53400.0\n",
      "stop_loss = 48407.06203292374\n",
      "Bought BTC by 53569.26636154183 at 2021-05-10 20:05:00+00:00\n"
     ]
    },
    {
     "name": "stderr",
     "output_type": "stream",
     "text": [
      "/home/olga/PycharmProjects/backtesting/venv/lib/python3.8/site-packages/statsmodels/tsa/deterministic.py:147: UserWarning: Only PeriodIndexes, DatetimeIndexes with a frequency set, RangesIndexes, and Int64Indexes with a unit increment support extending. The index is set will contain the position relative to the data length.\n",
      "  warnings.warn(\n"
     ]
    },
    {
     "name": "stdout",
     "output_type": "stream",
     "text": [
      "Predicted sell: 59433.97139404371, actual: 59444.9\n",
      "Sold BTC by 59433.97139404371 at 2021-05-10 03:34:00+00:00\n",
      "\t\tSimulating 2021-05-10 02:00:00+00:00 day....\n"
     ]
    },
    {
     "name": "stderr",
     "output_type": "stream",
     "text": [
      "/home/olga/PycharmProjects/backtesting/venv/lib/python3.8/site-packages/statsmodels/tsa/deterministic.py:147: UserWarning: Only PeriodIndexes, DatetimeIndexes with a frequency set, RangesIndexes, and Int64Indexes with a unit increment support extending. The index is set will contain the position relative to the data length.\n",
      "  warnings.warn(\n"
     ]
    },
    {
     "name": "stdout",
     "output_type": "stream",
     "text": [
      "Predicted buy: 53569.26636154183, actual: 58650.39\n",
      "Predicted buy: 53569.26636154183, actual: 58680.26\n",
      "Predicted buy: 53569.26636154183, actual: 58355.79\n",
      "Predicted buy: 53569.26636154183, actual: 57736.46\n",
      "Predicted buy: 53569.26636154183, actual: 57301.81\n",
      "Predicted buy: 53569.26636154183, actual: 57455.0\n",
      "Predicted buy: 53569.26636154183, actual: 56700.0\n",
      "Predicted buy: 53569.26636154183, actual: 56849.75\n",
      "Predicted buy: 53569.26636154183, actual: 55516.85\n",
      "Predicted buy: 53569.26636154183, actual: 53400.0\n",
      "stop_loss = 48407.06203292374\n",
      "Bought BTC by 53569.26636154183 at 2021-05-10 20:05:00+00:00\n"
     ]
    },
    {
     "name": "stderr",
     "output_type": "stream",
     "text": [
      "/home/olga/PycharmProjects/backtesting/venv/lib/python3.8/site-packages/statsmodels/tsa/deterministic.py:147: UserWarning: Only PeriodIndexes, DatetimeIndexes with a frequency set, RangesIndexes, and Int64Indexes with a unit increment support extending. The index is set will contain the position relative to the data length.\n",
      "  warnings.warn(\n"
     ]
    },
    {
     "name": "stdout",
     "output_type": "stream",
     "text": [
      "Predicted sell: 59433.97139404371, actual: 59444.9\n",
      "Sold BTC by 59433.97139404371 at 2021-05-10 03:34:00+00:00\n",
      "\t\tSimulating 2021-05-10 02:00:00+00:00 day....\n"
     ]
    },
    {
     "name": "stderr",
     "output_type": "stream",
     "text": [
      "/home/olga/PycharmProjects/backtesting/venv/lib/python3.8/site-packages/statsmodels/tsa/deterministic.py:147: UserWarning: Only PeriodIndexes, DatetimeIndexes with a frequency set, RangesIndexes, and Int64Indexes with a unit increment support extending. The index is set will contain the position relative to the data length.\n",
      "  warnings.warn(\n"
     ]
    },
    {
     "name": "stdout",
     "output_type": "stream",
     "text": [
      "Predicted buy: 53569.26636154183, actual: 58650.39\n",
      "Predicted buy: 53569.26636154183, actual: 58680.26\n",
      "Predicted buy: 53569.26636154183, actual: 58355.79\n",
      "Predicted buy: 53569.26636154183, actual: 57736.46\n",
      "Predicted buy: 53569.26636154183, actual: 57301.81\n",
      "Predicted buy: 53569.26636154183, actual: 57455.0\n",
      "Predicted buy: 53569.26636154183, actual: 56700.0\n",
      "Predicted buy: 53569.26636154183, actual: 56849.75\n",
      "Predicted buy: 53569.26636154183, actual: 55516.85\n",
      "Predicted buy: 53569.26636154183, actual: 53400.0\n",
      "stop_loss = 48407.06203292374\n",
      "Bought BTC by 53569.26636154183 at 2021-05-10 20:05:00+00:00\n"
     ]
    },
    {
     "name": "stderr",
     "output_type": "stream",
     "text": [
      "/home/olga/PycharmProjects/backtesting/venv/lib/python3.8/site-packages/statsmodels/tsa/deterministic.py:147: UserWarning: Only PeriodIndexes, DatetimeIndexes with a frequency set, RangesIndexes, and Int64Indexes with a unit increment support extending. The index is set will contain the position relative to the data length.\n",
      "  warnings.warn(\n"
     ]
    },
    {
     "name": "stdout",
     "output_type": "stream",
     "text": [
      "Predicted sell: 59433.97139404371, actual: 59444.9\n",
      "Sold BTC by 59433.97139404371 at 2021-05-10 03:34:00+00:00\n",
      "\t\tSimulating 2021-05-10 02:00:00+00:00 day....\n"
     ]
    },
    {
     "name": "stderr",
     "output_type": "stream",
     "text": [
      "/home/olga/PycharmProjects/backtesting/venv/lib/python3.8/site-packages/statsmodels/tsa/deterministic.py:147: UserWarning: Only PeriodIndexes, DatetimeIndexes with a frequency set, RangesIndexes, and Int64Indexes with a unit increment support extending. The index is set will contain the position relative to the data length.\n",
      "  warnings.warn(\n"
     ]
    },
    {
     "name": "stdout",
     "output_type": "stream",
     "text": [
      "Predicted buy: 53569.26636154183, actual: 58650.39\n",
      "Predicted buy: 53569.26636154183, actual: 58680.26\n",
      "Predicted buy: 53569.26636154183, actual: 58355.79\n",
      "Predicted buy: 53569.26636154183, actual: 57736.46\n",
      "Predicted buy: 53569.26636154183, actual: 57301.81\n",
      "Predicted buy: 53569.26636154183, actual: 57455.0\n",
      "Predicted buy: 53569.26636154183, actual: 56700.0\n",
      "Predicted buy: 53569.26636154183, actual: 56849.75\n",
      "Predicted buy: 53569.26636154183, actual: 55516.85\n",
      "Predicted buy: 53569.26636154183, actual: 53400.0\n",
      "stop_loss = 48407.06203292374\n",
      "Bought BTC by 53569.26636154183 at 2021-05-10 20:05:00+00:00\n"
     ]
    },
    {
     "name": "stderr",
     "output_type": "stream",
     "text": [
      "/home/olga/PycharmProjects/backtesting/venv/lib/python3.8/site-packages/statsmodels/tsa/deterministic.py:147: UserWarning: Only PeriodIndexes, DatetimeIndexes with a frequency set, RangesIndexes, and Int64Indexes with a unit increment support extending. The index is set will contain the position relative to the data length.\n",
      "  warnings.warn(\n"
     ]
    },
    {
     "name": "stdout",
     "output_type": "stream",
     "text": [
      "Predicted sell: 59433.97139404371, actual: 59444.9\n",
      "Sold BTC by 59433.97139404371 at 2021-05-10 03:34:00+00:00\n",
      "\t\tSimulating 2021-05-10 02:00:00+00:00 day....\n"
     ]
    },
    {
     "name": "stderr",
     "output_type": "stream",
     "text": [
      "/home/olga/PycharmProjects/backtesting/venv/lib/python3.8/site-packages/statsmodels/tsa/deterministic.py:147: UserWarning: Only PeriodIndexes, DatetimeIndexes with a frequency set, RangesIndexes, and Int64Indexes with a unit increment support extending. The index is set will contain the position relative to the data length.\n",
      "  warnings.warn(\n"
     ]
    },
    {
     "name": "stdout",
     "output_type": "stream",
     "text": [
      "Predicted buy: 53569.26636154183, actual: 58650.39\n",
      "Predicted buy: 53569.26636154183, actual: 58680.26\n",
      "Predicted buy: 53569.26636154183, actual: 58355.79\n",
      "Predicted buy: 53569.26636154183, actual: 57736.46\n",
      "Predicted buy: 53569.26636154183, actual: 57301.81\n",
      "Predicted buy: 53569.26636154183, actual: 57455.0\n",
      "Predicted buy: 53569.26636154183, actual: 56700.0\n",
      "Predicted buy: 53569.26636154183, actual: 56849.75\n",
      "Predicted buy: 53569.26636154183, actual: 55516.85\n",
      "Predicted buy: 53569.26636154183, actual: 53400.0\n",
      "stop_loss = 48407.06203292374\n",
      "Bought BTC by 53569.26636154183 at 2021-05-10 20:05:00+00:00\n"
     ]
    },
    {
     "name": "stderr",
     "output_type": "stream",
     "text": [
      "/home/olga/PycharmProjects/backtesting/venv/lib/python3.8/site-packages/statsmodels/tsa/deterministic.py:147: UserWarning: Only PeriodIndexes, DatetimeIndexes with a frequency set, RangesIndexes, and Int64Indexes with a unit increment support extending. The index is set will contain the position relative to the data length.\n",
      "  warnings.warn(\n"
     ]
    },
    {
     "name": "stdout",
     "output_type": "stream",
     "text": [
      "Predicted sell: 59433.97139404371, actual: 59444.9\n",
      "Sold BTC by 59433.97139404371 at 2021-05-10 03:34:00+00:00\n",
      "\t\tSimulating 2021-05-10 02:00:00+00:00 day....\n"
     ]
    },
    {
     "name": "stderr",
     "output_type": "stream",
     "text": [
      "/home/olga/PycharmProjects/backtesting/venv/lib/python3.8/site-packages/statsmodels/tsa/deterministic.py:147: UserWarning: Only PeriodIndexes, DatetimeIndexes with a frequency set, RangesIndexes, and Int64Indexes with a unit increment support extending. The index is set will contain the position relative to the data length.\n",
      "  warnings.warn(\n"
     ]
    },
    {
     "name": "stdout",
     "output_type": "stream",
     "text": [
      "Predicted buy: 53569.26636154183, actual: 58650.39\n",
      "Predicted buy: 53569.26636154183, actual: 58680.26\n",
      "Predicted buy: 53569.26636154183, actual: 58355.79\n",
      "Predicted buy: 53569.26636154183, actual: 57736.46\n",
      "Predicted buy: 53569.26636154183, actual: 57301.81\n",
      "Predicted buy: 53569.26636154183, actual: 57455.0\n",
      "Predicted buy: 53569.26636154183, actual: 56700.0\n",
      "Predicted buy: 53569.26636154183, actual: 56849.75\n",
      "Predicted buy: 53569.26636154183, actual: 55516.85\n",
      "Predicted buy: 53569.26636154183, actual: 53400.0\n",
      "stop_loss = 48407.06203292374\n",
      "Bought BTC by 53569.26636154183 at 2021-05-10 20:05:00+00:00\n"
     ]
    },
    {
     "name": "stderr",
     "output_type": "stream",
     "text": [
      "/home/olga/PycharmProjects/backtesting/venv/lib/python3.8/site-packages/statsmodels/tsa/deterministic.py:147: UserWarning: Only PeriodIndexes, DatetimeIndexes with a frequency set, RangesIndexes, and Int64Indexes with a unit increment support extending. The index is set will contain the position relative to the data length.\n",
      "  warnings.warn(\n"
     ]
    },
    {
     "name": "stdout",
     "output_type": "stream",
     "text": [
      "Predicted sell: 59433.97139404371, actual: 59444.9\n",
      "Sold BTC by 59433.97139404371 at 2021-05-10 03:34:00+00:00\n",
      "\t\tSimulating 2021-05-10 02:00:00+00:00 day....\n"
     ]
    },
    {
     "name": "stderr",
     "output_type": "stream",
     "text": [
      "/home/olga/PycharmProjects/backtesting/venv/lib/python3.8/site-packages/statsmodels/tsa/deterministic.py:147: UserWarning: Only PeriodIndexes, DatetimeIndexes with a frequency set, RangesIndexes, and Int64Indexes with a unit increment support extending. The index is set will contain the position relative to the data length.\n",
      "  warnings.warn(\n"
     ]
    },
    {
     "name": "stdout",
     "output_type": "stream",
     "text": [
      "Predicted buy: 53569.26636154183, actual: 58650.39\n",
      "Predicted buy: 53569.26636154183, actual: 58680.26\n",
      "Predicted buy: 53569.26636154183, actual: 58355.79\n",
      "Predicted buy: 53569.26636154183, actual: 57736.46\n",
      "Predicted buy: 53569.26636154183, actual: 57301.81\n",
      "Predicted buy: 53569.26636154183, actual: 57455.0\n",
      "Predicted buy: 53569.26636154183, actual: 56700.0\n",
      "Predicted buy: 53569.26636154183, actual: 56849.75\n",
      "Predicted buy: 53569.26636154183, actual: 55516.85\n",
      "Predicted buy: 53569.26636154183, actual: 53400.0\n",
      "stop_loss = 48407.06203292374\n",
      "Bought BTC by 53569.26636154183 at 2021-05-10 20:05:00+00:00\n"
     ]
    },
    {
     "name": "stderr",
     "output_type": "stream",
     "text": [
      "/home/olga/PycharmProjects/backtesting/venv/lib/python3.8/site-packages/statsmodels/tsa/deterministic.py:147: UserWarning: Only PeriodIndexes, DatetimeIndexes with a frequency set, RangesIndexes, and Int64Indexes with a unit increment support extending. The index is set will contain the position relative to the data length.\n",
      "  warnings.warn(\n"
     ]
    },
    {
     "name": "stdout",
     "output_type": "stream",
     "text": [
      "Predicted sell: 59433.97139404371, actual: 59444.9\n",
      "Sold BTC by 59433.97139404371 at 2021-05-10 03:34:00+00:00\n",
      "\t\tSimulating 2021-05-10 02:00:00+00:00 day....\n"
     ]
    },
    {
     "name": "stderr",
     "output_type": "stream",
     "text": [
      "/home/olga/PycharmProjects/backtesting/venv/lib/python3.8/site-packages/statsmodels/tsa/deterministic.py:147: UserWarning: Only PeriodIndexes, DatetimeIndexes with a frequency set, RangesIndexes, and Int64Indexes with a unit increment support extending. The index is set will contain the position relative to the data length.\n",
      "  warnings.warn(\n"
     ]
    },
    {
     "name": "stdout",
     "output_type": "stream",
     "text": [
      "Predicted buy: 53569.26636154183, actual: 58650.39\n",
      "Predicted buy: 53569.26636154183, actual: 58680.26\n",
      "Predicted buy: 53569.26636154183, actual: 58355.79\n",
      "Predicted buy: 53569.26636154183, actual: 57736.46\n",
      "Predicted buy: 53569.26636154183, actual: 57301.81\n",
      "Predicted buy: 53569.26636154183, actual: 57455.0\n",
      "Predicted buy: 53569.26636154183, actual: 56700.0\n",
      "Predicted buy: 53569.26636154183, actual: 56849.75\n",
      "Predicted buy: 53569.26636154183, actual: 55516.85\n",
      "Predicted buy: 53569.26636154183, actual: 53400.0\n",
      "stop_loss = 48407.06203292374\n",
      "Bought BTC by 53569.26636154183 at 2021-05-10 20:05:00+00:00\n"
     ]
    },
    {
     "name": "stderr",
     "output_type": "stream",
     "text": [
      "/home/olga/PycharmProjects/backtesting/venv/lib/python3.8/site-packages/statsmodels/tsa/deterministic.py:147: UserWarning: Only PeriodIndexes, DatetimeIndexes with a frequency set, RangesIndexes, and Int64Indexes with a unit increment support extending. The index is set will contain the position relative to the data length.\n",
      "  warnings.warn(\n"
     ]
    },
    {
     "name": "stdout",
     "output_type": "stream",
     "text": [
      "Predicted sell: 59433.97139404371, actual: 59444.9\n",
      "Sold BTC by 59433.97139404371 at 2021-05-10 03:34:00+00:00\n",
      "\t\tSimulating 2021-05-10 02:00:00+00:00 day....\n"
     ]
    },
    {
     "name": "stderr",
     "output_type": "stream",
     "text": [
      "/home/olga/PycharmProjects/backtesting/venv/lib/python3.8/site-packages/statsmodels/tsa/deterministic.py:147: UserWarning: Only PeriodIndexes, DatetimeIndexes with a frequency set, RangesIndexes, and Int64Indexes with a unit increment support extending. The index is set will contain the position relative to the data length.\n",
      "  warnings.warn(\n"
     ]
    },
    {
     "name": "stdout",
     "output_type": "stream",
     "text": [
      "Predicted buy: 53569.26636154183, actual: 58650.39\n",
      "Predicted buy: 53569.26636154183, actual: 58680.26\n",
      "Predicted buy: 53569.26636154183, actual: 58355.79\n",
      "Predicted buy: 53569.26636154183, actual: 57736.46\n",
      "Predicted buy: 53569.26636154183, actual: 57301.81\n",
      "Predicted buy: 53569.26636154183, actual: 57455.0\n",
      "Predicted buy: 53569.26636154183, actual: 56700.0\n",
      "Predicted buy: 53569.26636154183, actual: 56849.75\n",
      "Predicted buy: 53569.26636154183, actual: 55516.85\n",
      "Predicted buy: 53569.26636154183, actual: 53400.0\n",
      "stop_loss = 48407.06203292374\n",
      "Bought BTC by 53569.26636154183 at 2021-05-10 20:05:00+00:00\n"
     ]
    },
    {
     "name": "stderr",
     "output_type": "stream",
     "text": [
      "/home/olga/PycharmProjects/backtesting/venv/lib/python3.8/site-packages/statsmodels/tsa/deterministic.py:147: UserWarning: Only PeriodIndexes, DatetimeIndexes with a frequency set, RangesIndexes, and Int64Indexes with a unit increment support extending. The index is set will contain the position relative to the data length.\n",
      "  warnings.warn(\n"
     ]
    },
    {
     "name": "stdout",
     "output_type": "stream",
     "text": [
      "Predicted sell: 59433.97139404371, actual: 59444.9\n",
      "Sold BTC by 59433.97139404371 at 2021-05-10 03:34:00+00:00\n",
      "\t\tSimulating 2021-05-10 02:00:00+00:00 day....\n"
     ]
    },
    {
     "name": "stderr",
     "output_type": "stream",
     "text": [
      "/home/olga/PycharmProjects/backtesting/venv/lib/python3.8/site-packages/statsmodels/tsa/deterministic.py:147: UserWarning: Only PeriodIndexes, DatetimeIndexes with a frequency set, RangesIndexes, and Int64Indexes with a unit increment support extending. The index is set will contain the position relative to the data length.\n",
      "  warnings.warn(\n"
     ]
    },
    {
     "name": "stdout",
     "output_type": "stream",
     "text": [
      "Predicted buy: 53569.26636154183, actual: 58650.39\n",
      "Predicted buy: 53569.26636154183, actual: 58680.26\n",
      "Predicted buy: 53569.26636154183, actual: 58355.79\n",
      "Predicted buy: 53569.26636154183, actual: 57736.46\n",
      "Predicted buy: 53569.26636154183, actual: 57301.81\n",
      "Predicted buy: 53569.26636154183, actual: 57455.0\n",
      "Predicted buy: 53569.26636154183, actual: 56700.0\n",
      "Predicted buy: 53569.26636154183, actual: 56849.75\n",
      "Predicted buy: 53569.26636154183, actual: 55516.85\n",
      "Predicted buy: 53569.26636154183, actual: 53400.0\n",
      "stop_loss = 48407.06203292374\n",
      "Bought BTC by 53569.26636154183 at 2021-05-10 20:05:00+00:00\n"
     ]
    },
    {
     "name": "stderr",
     "output_type": "stream",
     "text": [
      "/home/olga/PycharmProjects/backtesting/venv/lib/python3.8/site-packages/statsmodels/tsa/deterministic.py:147: UserWarning: Only PeriodIndexes, DatetimeIndexes with a frequency set, RangesIndexes, and Int64Indexes with a unit increment support extending. The index is set will contain the position relative to the data length.\n",
      "  warnings.warn(\n"
     ]
    },
    {
     "name": "stdout",
     "output_type": "stream",
     "text": [
      "Predicted sell: 59433.97139404371, actual: 59444.9\n",
      "Sold BTC by 59433.97139404371 at 2021-05-10 03:34:00+00:00\n",
      "\t\tSimulating 2021-05-10 02:00:00+00:00 day....\n"
     ]
    },
    {
     "name": "stderr",
     "output_type": "stream",
     "text": [
      "/home/olga/PycharmProjects/backtesting/venv/lib/python3.8/site-packages/statsmodels/tsa/deterministic.py:147: UserWarning: Only PeriodIndexes, DatetimeIndexes with a frequency set, RangesIndexes, and Int64Indexes with a unit increment support extending. The index is set will contain the position relative to the data length.\n",
      "  warnings.warn(\n"
     ]
    },
    {
     "name": "stdout",
     "output_type": "stream",
     "text": [
      "Predicted buy: 53569.26636154183, actual: 58650.39\n",
      "Predicted buy: 53569.26636154183, actual: 58680.26\n",
      "Predicted buy: 53569.26636154183, actual: 58355.79\n",
      "Predicted buy: 53569.26636154183, actual: 57736.46\n",
      "Predicted buy: 53569.26636154183, actual: 57301.81\n",
      "Predicted buy: 53569.26636154183, actual: 57455.0\n",
      "Predicted buy: 53569.26636154183, actual: 56700.0\n",
      "Predicted buy: 53569.26636154183, actual: 56849.75\n",
      "Predicted buy: 53569.26636154183, actual: 55516.85\n",
      "Predicted buy: 53569.26636154183, actual: 53400.0\n",
      "stop_loss = 48407.06203292374\n",
      "Bought BTC by 53569.26636154183 at 2021-05-10 20:05:00+00:00\n"
     ]
    },
    {
     "name": "stderr",
     "output_type": "stream",
     "text": [
      "/home/olga/PycharmProjects/backtesting/venv/lib/python3.8/site-packages/statsmodels/tsa/deterministic.py:147: UserWarning: Only PeriodIndexes, DatetimeIndexes with a frequency set, RangesIndexes, and Int64Indexes with a unit increment support extending. The index is set will contain the position relative to the data length.\n",
      "  warnings.warn(\n"
     ]
    },
    {
     "name": "stdout",
     "output_type": "stream",
     "text": [
      "Predicted sell: 59433.97139404371, actual: 59444.9\n",
      "Sold BTC by 59433.97139404371 at 2021-05-10 03:34:00+00:00\n",
      "\t\tSimulating 2021-05-10 02:00:00+00:00 day....\n"
     ]
    },
    {
     "name": "stderr",
     "output_type": "stream",
     "text": [
      "/home/olga/PycharmProjects/backtesting/venv/lib/python3.8/site-packages/statsmodels/tsa/deterministic.py:147: UserWarning: Only PeriodIndexes, DatetimeIndexes with a frequency set, RangesIndexes, and Int64Indexes with a unit increment support extending. The index is set will contain the position relative to the data length.\n",
      "  warnings.warn(\n"
     ]
    },
    {
     "name": "stdout",
     "output_type": "stream",
     "text": [
      "Predicted buy: 53569.26636154183, actual: 58650.39\n",
      "Predicted buy: 53569.26636154183, actual: 58680.26\n",
      "Predicted buy: 53569.26636154183, actual: 58355.79\n",
      "Predicted buy: 53569.26636154183, actual: 57736.46\n",
      "Predicted buy: 53569.26636154183, actual: 57301.81\n",
      "Predicted buy: 53569.26636154183, actual: 57455.0\n",
      "Predicted buy: 53569.26636154183, actual: 56700.0\n",
      "Predicted buy: 53569.26636154183, actual: 56849.75\n",
      "Predicted buy: 53569.26636154183, actual: 55516.85\n",
      "Predicted buy: 53569.26636154183, actual: 53400.0\n",
      "stop_loss = 48407.06203292374\n",
      "Bought BTC by 53569.26636154183 at 2021-05-10 20:05:00+00:00\n"
     ]
    },
    {
     "name": "stderr",
     "output_type": "stream",
     "text": [
      "/home/olga/PycharmProjects/backtesting/venv/lib/python3.8/site-packages/statsmodels/tsa/deterministic.py:147: UserWarning: Only PeriodIndexes, DatetimeIndexes with a frequency set, RangesIndexes, and Int64Indexes with a unit increment support extending. The index is set will contain the position relative to the data length.\n",
      "  warnings.warn(\n"
     ]
    },
    {
     "name": "stdout",
     "output_type": "stream",
     "text": [
      "Predicted sell: 59433.97139404371, actual: 59444.9\n",
      "Sold BTC by 59433.97139404371 at 2021-05-10 03:34:00+00:00\n",
      "\t\tSimulating 2021-05-10 02:00:00+00:00 day....\n"
     ]
    },
    {
     "name": "stderr",
     "output_type": "stream",
     "text": [
      "/home/olga/PycharmProjects/backtesting/venv/lib/python3.8/site-packages/statsmodels/tsa/deterministic.py:147: UserWarning: Only PeriodIndexes, DatetimeIndexes with a frequency set, RangesIndexes, and Int64Indexes with a unit increment support extending. The index is set will contain the position relative to the data length.\n",
      "  warnings.warn(\n"
     ]
    },
    {
     "name": "stdout",
     "output_type": "stream",
     "text": [
      "Predicted buy: 53569.26636154183, actual: 58650.39\n",
      "Predicted buy: 53569.26636154183, actual: 58680.26\n",
      "Predicted buy: 53569.26636154183, actual: 58355.79\n",
      "Predicted buy: 53569.26636154183, actual: 57736.46\n",
      "Predicted buy: 53569.26636154183, actual: 57301.81\n",
      "Predicted buy: 53569.26636154183, actual: 57455.0\n",
      "Predicted buy: 53569.26636154183, actual: 56700.0\n",
      "Predicted buy: 53569.26636154183, actual: 56849.75\n",
      "Predicted buy: 53569.26636154183, actual: 55516.85\n",
      "Predicted buy: 53569.26636154183, actual: 53400.0\n",
      "stop_loss = 48407.06203292374\n",
      "Bought BTC by 53569.26636154183 at 2021-05-10 20:05:00+00:00\n"
     ]
    },
    {
     "name": "stderr",
     "output_type": "stream",
     "text": [
      "/home/olga/PycharmProjects/backtesting/venv/lib/python3.8/site-packages/statsmodels/tsa/deterministic.py:147: UserWarning: Only PeriodIndexes, DatetimeIndexes with a frequency set, RangesIndexes, and Int64Indexes with a unit increment support extending. The index is set will contain the position relative to the data length.\n",
      "  warnings.warn(\n"
     ]
    },
    {
     "name": "stdout",
     "output_type": "stream",
     "text": [
      "Predicted sell: 59433.97139404371, actual: 59444.9\n",
      "Sold BTC by 59433.97139404371 at 2021-05-10 03:34:00+00:00\n",
      "\t\tSimulating 2021-05-10 02:00:00+00:00 day....\n"
     ]
    },
    {
     "name": "stderr",
     "output_type": "stream",
     "text": [
      "/home/olga/PycharmProjects/backtesting/venv/lib/python3.8/site-packages/statsmodels/tsa/deterministic.py:147: UserWarning: Only PeriodIndexes, DatetimeIndexes with a frequency set, RangesIndexes, and Int64Indexes with a unit increment support extending. The index is set will contain the position relative to the data length.\n",
      "  warnings.warn(\n"
     ]
    },
    {
     "name": "stdout",
     "output_type": "stream",
     "text": [
      "Predicted buy: 53569.26636154183, actual: 58650.39\n",
      "Predicted buy: 53569.26636154183, actual: 58680.26\n",
      "Predicted buy: 53569.26636154183, actual: 58355.79\n",
      "Predicted buy: 53569.26636154183, actual: 57736.46\n",
      "Predicted buy: 53569.26636154183, actual: 57301.81\n",
      "Predicted buy: 53569.26636154183, actual: 57455.0\n",
      "Predicted buy: 53569.26636154183, actual: 56700.0\n",
      "Predicted buy: 53569.26636154183, actual: 56849.75\n",
      "Predicted buy: 53569.26636154183, actual: 55516.85\n",
      "Predicted buy: 53569.26636154183, actual: 53400.0\n",
      "stop_loss = 48407.06203292374\n",
      "Bought BTC by 53569.26636154183 at 2021-05-10 20:05:00+00:00\n"
     ]
    },
    {
     "name": "stderr",
     "output_type": "stream",
     "text": [
      "/home/olga/PycharmProjects/backtesting/venv/lib/python3.8/site-packages/statsmodels/tsa/deterministic.py:147: UserWarning: Only PeriodIndexes, DatetimeIndexes with a frequency set, RangesIndexes, and Int64Indexes with a unit increment support extending. The index is set will contain the position relative to the data length.\n",
      "  warnings.warn(\n"
     ]
    },
    {
     "name": "stdout",
     "output_type": "stream",
     "text": [
      "Predicted sell: 59433.97139404371, actual: 59444.9\n",
      "Sold BTC by 59433.97139404371 at 2021-05-10 03:34:00+00:00\n",
      "\t\tSimulating 2021-05-10 02:00:00+00:00 day....\n"
     ]
    },
    {
     "name": "stderr",
     "output_type": "stream",
     "text": [
      "/home/olga/PycharmProjects/backtesting/venv/lib/python3.8/site-packages/statsmodels/tsa/deterministic.py:147: UserWarning: Only PeriodIndexes, DatetimeIndexes with a frequency set, RangesIndexes, and Int64Indexes with a unit increment support extending. The index is set will contain the position relative to the data length.\n",
      "  warnings.warn(\n"
     ]
    },
    {
     "name": "stdout",
     "output_type": "stream",
     "text": [
      "Predicted buy: 53569.26636154183, actual: 58650.39\n",
      "Predicted buy: 53569.26636154183, actual: 58680.26\n",
      "Predicted buy: 53569.26636154183, actual: 58355.79\n",
      "Predicted buy: 53569.26636154183, actual: 57736.46\n",
      "Predicted buy: 53569.26636154183, actual: 57301.81\n",
      "Predicted buy: 53569.26636154183, actual: 57455.0\n",
      "Predicted buy: 53569.26636154183, actual: 56700.0\n",
      "Predicted buy: 53569.26636154183, actual: 56849.75\n",
      "Predicted buy: 53569.26636154183, actual: 55516.85\n",
      "Predicted buy: 53569.26636154183, actual: 53400.0\n",
      "stop_loss = 48407.06203292374\n",
      "Bought BTC by 53569.26636154183 at 2021-05-10 20:05:00+00:00\n"
     ]
    },
    {
     "name": "stderr",
     "output_type": "stream",
     "text": [
      "/home/olga/PycharmProjects/backtesting/venv/lib/python3.8/site-packages/statsmodels/tsa/deterministic.py:147: UserWarning: Only PeriodIndexes, DatetimeIndexes with a frequency set, RangesIndexes, and Int64Indexes with a unit increment support extending. The index is set will contain the position relative to the data length.\n",
      "  warnings.warn(\n"
     ]
    },
    {
     "name": "stdout",
     "output_type": "stream",
     "text": [
      "Predicted sell: 59433.97139404371, actual: 59444.9\n",
      "Sold BTC by 59433.97139404371 at 2021-05-10 03:34:00+00:00\n",
      "\t\tSimulating 2021-05-10 02:00:00+00:00 day....\n"
     ]
    },
    {
     "name": "stderr",
     "output_type": "stream",
     "text": [
      "/home/olga/PycharmProjects/backtesting/venv/lib/python3.8/site-packages/statsmodels/tsa/deterministic.py:147: UserWarning: Only PeriodIndexes, DatetimeIndexes with a frequency set, RangesIndexes, and Int64Indexes with a unit increment support extending. The index is set will contain the position relative to the data length.\n",
      "  warnings.warn(\n"
     ]
    },
    {
     "name": "stdout",
     "output_type": "stream",
     "text": [
      "Predicted buy: 53569.26636154183, actual: 58650.39\n",
      "Predicted buy: 53569.26636154183, actual: 58680.26\n",
      "Predicted buy: 53569.26636154183, actual: 58355.79\n",
      "Predicted buy: 53569.26636154183, actual: 57736.46\n",
      "Predicted buy: 53569.26636154183, actual: 57301.81\n",
      "Predicted buy: 53569.26636154183, actual: 57455.0\n",
      "Predicted buy: 53569.26636154183, actual: 56700.0\n",
      "Predicted buy: 53569.26636154183, actual: 56849.75\n",
      "Predicted buy: 53569.26636154183, actual: 55516.85\n",
      "Predicted buy: 53569.26636154183, actual: 53400.0\n",
      "stop_loss = 48407.06203292374\n",
      "Bought BTC by 53569.26636154183 at 2021-05-10 20:05:00+00:00\n"
     ]
    },
    {
     "name": "stderr",
     "output_type": "stream",
     "text": [
      "/home/olga/PycharmProjects/backtesting/venv/lib/python3.8/site-packages/statsmodels/tsa/deterministic.py:147: UserWarning: Only PeriodIndexes, DatetimeIndexes with a frequency set, RangesIndexes, and Int64Indexes with a unit increment support extending. The index is set will contain the position relative to the data length.\n",
      "  warnings.warn(\n"
     ]
    },
    {
     "name": "stdout",
     "output_type": "stream",
     "text": [
      "Predicted sell: 59433.97139404371, actual: 59444.9\n",
      "Sold BTC by 59433.97139404371 at 2021-05-10 03:34:00+00:00\n",
      "\t\tSimulating 2021-05-10 02:00:00+00:00 day....\n"
     ]
    },
    {
     "name": "stderr",
     "output_type": "stream",
     "text": [
      "/home/olga/PycharmProjects/backtesting/venv/lib/python3.8/site-packages/statsmodels/tsa/deterministic.py:147: UserWarning: Only PeriodIndexes, DatetimeIndexes with a frequency set, RangesIndexes, and Int64Indexes with a unit increment support extending. The index is set will contain the position relative to the data length.\n",
      "  warnings.warn(\n"
     ]
    },
    {
     "name": "stdout",
     "output_type": "stream",
     "text": [
      "Predicted buy: 53569.26636154183, actual: 58650.39\n",
      "Predicted buy: 53569.26636154183, actual: 58680.26\n",
      "Predicted buy: 53569.26636154183, actual: 58355.79\n",
      "Predicted buy: 53569.26636154183, actual: 57736.46\n",
      "Predicted buy: 53569.26636154183, actual: 57301.81\n",
      "Predicted buy: 53569.26636154183, actual: 57455.0\n",
      "Predicted buy: 53569.26636154183, actual: 56700.0\n",
      "Predicted buy: 53569.26636154183, actual: 56849.75\n",
      "Predicted buy: 53569.26636154183, actual: 55516.85\n",
      "Predicted buy: 53569.26636154183, actual: 53400.0\n",
      "stop_loss = 48407.06203292374\n",
      "Bought BTC by 53569.26636154183 at 2021-05-10 20:05:00+00:00\n"
     ]
    },
    {
     "name": "stderr",
     "output_type": "stream",
     "text": [
      "/home/olga/PycharmProjects/backtesting/venv/lib/python3.8/site-packages/statsmodels/tsa/deterministic.py:147: UserWarning: Only PeriodIndexes, DatetimeIndexes with a frequency set, RangesIndexes, and Int64Indexes with a unit increment support extending. The index is set will contain the position relative to the data length.\n",
      "  warnings.warn(\n"
     ]
    },
    {
     "name": "stdout",
     "output_type": "stream",
     "text": [
      "Predicted sell: 59433.97139404371, actual: 59444.9\n",
      "Sold BTC by 59433.97139404371 at 2021-05-10 03:34:00+00:00\n",
      "\t\tSimulating 2021-05-10 02:00:00+00:00 day....\n"
     ]
    },
    {
     "name": "stderr",
     "output_type": "stream",
     "text": [
      "/home/olga/PycharmProjects/backtesting/venv/lib/python3.8/site-packages/statsmodels/tsa/deterministic.py:147: UserWarning: Only PeriodIndexes, DatetimeIndexes with a frequency set, RangesIndexes, and Int64Indexes with a unit increment support extending. The index is set will contain the position relative to the data length.\n",
      "  warnings.warn(\n"
     ]
    },
    {
     "name": "stdout",
     "output_type": "stream",
     "text": [
      "Predicted buy: 53569.26636154183, actual: 58650.39\n",
      "Predicted buy: 53569.26636154183, actual: 58680.26\n",
      "Predicted buy: 53569.26636154183, actual: 58355.79\n",
      "Predicted buy: 53569.26636154183, actual: 57736.46\n",
      "Predicted buy: 53569.26636154183, actual: 57301.81\n",
      "Predicted buy: 53569.26636154183, actual: 57455.0\n",
      "Predicted buy: 53569.26636154183, actual: 56700.0\n",
      "Predicted buy: 53569.26636154183, actual: 56849.75\n",
      "Predicted buy: 53569.26636154183, actual: 55516.85\n",
      "Predicted buy: 53569.26636154183, actual: 53400.0\n",
      "stop_loss = 48407.06203292374\n",
      "Bought BTC by 53569.26636154183 at 2021-05-10 20:05:00+00:00\n"
     ]
    },
    {
     "name": "stderr",
     "output_type": "stream",
     "text": [
      "/home/olga/PycharmProjects/backtesting/venv/lib/python3.8/site-packages/statsmodels/tsa/deterministic.py:147: UserWarning: Only PeriodIndexes, DatetimeIndexes with a frequency set, RangesIndexes, and Int64Indexes with a unit increment support extending. The index is set will contain the position relative to the data length.\n",
      "  warnings.warn(\n"
     ]
    },
    {
     "name": "stdout",
     "output_type": "stream",
     "text": [
      "Predicted sell: 59433.97139404371, actual: 59444.9\n",
      "Sold BTC by 59433.97139404371 at 2021-05-10 03:34:00+00:00\n",
      "\t\tSimulating 2021-05-10 02:00:00+00:00 day....\n"
     ]
    },
    {
     "name": "stderr",
     "output_type": "stream",
     "text": [
      "/home/olga/PycharmProjects/backtesting/venv/lib/python3.8/site-packages/statsmodels/tsa/deterministic.py:147: UserWarning: Only PeriodIndexes, DatetimeIndexes with a frequency set, RangesIndexes, and Int64Indexes with a unit increment support extending. The index is set will contain the position relative to the data length.\n",
      "  warnings.warn(\n"
     ]
    },
    {
     "name": "stdout",
     "output_type": "stream",
     "text": [
      "Predicted buy: 53569.26636154183, actual: 58650.39\n",
      "Predicted buy: 53569.26636154183, actual: 58680.26\n",
      "Predicted buy: 53569.26636154183, actual: 58355.79\n",
      "Predicted buy: 53569.26636154183, actual: 57736.46\n",
      "Predicted buy: 53569.26636154183, actual: 57301.81\n",
      "Predicted buy: 53569.26636154183, actual: 57455.0\n",
      "Predicted buy: 53569.26636154183, actual: 56700.0\n",
      "Predicted buy: 53569.26636154183, actual: 56849.75\n",
      "Predicted buy: 53569.26636154183, actual: 55516.85\n",
      "Predicted buy: 53569.26636154183, actual: 53400.0\n",
      "stop_loss = 48407.06203292374\n",
      "Bought BTC by 53569.26636154183 at 2021-05-10 20:05:00+00:00\n"
     ]
    },
    {
     "name": "stderr",
     "output_type": "stream",
     "text": [
      "/home/olga/PycharmProjects/backtesting/venv/lib/python3.8/site-packages/statsmodels/tsa/deterministic.py:147: UserWarning: Only PeriodIndexes, DatetimeIndexes with a frequency set, RangesIndexes, and Int64Indexes with a unit increment support extending. The index is set will contain the position relative to the data length.\n",
      "  warnings.warn(\n"
     ]
    },
    {
     "name": "stdout",
     "output_type": "stream",
     "text": [
      "Predicted sell: 59433.97139404371, actual: 59444.9\n",
      "Sold BTC by 59433.97139404371 at 2021-05-10 03:34:00+00:00\n",
      "\t\tSimulating 2021-05-10 02:00:00+00:00 day....\n"
     ]
    },
    {
     "name": "stderr",
     "output_type": "stream",
     "text": [
      "/home/olga/PycharmProjects/backtesting/venv/lib/python3.8/site-packages/statsmodels/tsa/deterministic.py:147: UserWarning: Only PeriodIndexes, DatetimeIndexes with a frequency set, RangesIndexes, and Int64Indexes with a unit increment support extending. The index is set will contain the position relative to the data length.\n",
      "  warnings.warn(\n"
     ]
    },
    {
     "name": "stdout",
     "output_type": "stream",
     "text": [
      "Predicted buy: 53569.26636154183, actual: 58650.39\n",
      "Predicted buy: 53569.26636154183, actual: 58680.26\n",
      "Predicted buy: 53569.26636154183, actual: 58355.79\n",
      "Predicted buy: 53569.26636154183, actual: 57736.46\n",
      "Predicted buy: 53569.26636154183, actual: 57301.81\n",
      "Predicted buy: 53569.26636154183, actual: 57455.0\n",
      "Predicted buy: 53569.26636154183, actual: 56700.0\n",
      "Predicted buy: 53569.26636154183, actual: 56849.75\n",
      "Predicted buy: 53569.26636154183, actual: 55516.85\n",
      "Predicted buy: 53569.26636154183, actual: 53400.0\n",
      "stop_loss = 48407.06203292374\n",
      "Bought BTC by 53569.26636154183 at 2021-05-10 20:05:00+00:00\n"
     ]
    },
    {
     "name": "stderr",
     "output_type": "stream",
     "text": [
      "/home/olga/PycharmProjects/backtesting/venv/lib/python3.8/site-packages/statsmodels/tsa/deterministic.py:147: UserWarning: Only PeriodIndexes, DatetimeIndexes with a frequency set, RangesIndexes, and Int64Indexes with a unit increment support extending. The index is set will contain the position relative to the data length.\n",
      "  warnings.warn(\n"
     ]
    },
    {
     "name": "stdout",
     "output_type": "stream",
     "text": [
      "Predicted sell: 59433.97139404371, actual: 59444.9\n",
      "Sold BTC by 59433.97139404371 at 2021-05-10 03:34:00+00:00\n",
      "\t\tSimulating 2021-05-10 02:00:00+00:00 day....\n"
     ]
    },
    {
     "name": "stderr",
     "output_type": "stream",
     "text": [
      "/home/olga/PycharmProjects/backtesting/venv/lib/python3.8/site-packages/statsmodels/tsa/deterministic.py:147: UserWarning: Only PeriodIndexes, DatetimeIndexes with a frequency set, RangesIndexes, and Int64Indexes with a unit increment support extending. The index is set will contain the position relative to the data length.\n",
      "  warnings.warn(\n"
     ]
    },
    {
     "name": "stdout",
     "output_type": "stream",
     "text": [
      "Predicted buy: 53569.26636154183, actual: 58650.39\n",
      "Predicted buy: 53569.26636154183, actual: 58680.26\n",
      "Predicted buy: 53569.26636154183, actual: 58355.79\n",
      "Predicted buy: 53569.26636154183, actual: 57736.46\n",
      "Predicted buy: 53569.26636154183, actual: 57301.81\n",
      "Predicted buy: 53569.26636154183, actual: 57455.0\n",
      "Predicted buy: 53569.26636154183, actual: 56700.0\n",
      "Predicted buy: 53569.26636154183, actual: 56849.75\n",
      "Predicted buy: 53569.26636154183, actual: 55516.85\n",
      "Predicted buy: 53569.26636154183, actual: 53400.0\n",
      "stop_loss = 48407.06203292374\n",
      "Bought BTC by 53569.26636154183 at 2021-05-10 20:05:00+00:00\n"
     ]
    },
    {
     "name": "stderr",
     "output_type": "stream",
     "text": [
      "/home/olga/PycharmProjects/backtesting/venv/lib/python3.8/site-packages/statsmodels/tsa/deterministic.py:147: UserWarning: Only PeriodIndexes, DatetimeIndexes with a frequency set, RangesIndexes, and Int64Indexes with a unit increment support extending. The index is set will contain the position relative to the data length.\n",
      "  warnings.warn(\n"
     ]
    },
    {
     "name": "stdout",
     "output_type": "stream",
     "text": [
      "Predicted sell: 59433.97139404371, actual: 59444.9\n",
      "Sold BTC by 59433.97139404371 at 2021-05-10 03:34:00+00:00\n",
      "\t\tSimulating 2021-05-10 02:00:00+00:00 day....\n"
     ]
    },
    {
     "name": "stderr",
     "output_type": "stream",
     "text": [
      "/home/olga/PycharmProjects/backtesting/venv/lib/python3.8/site-packages/statsmodels/tsa/deterministic.py:147: UserWarning: Only PeriodIndexes, DatetimeIndexes with a frequency set, RangesIndexes, and Int64Indexes with a unit increment support extending. The index is set will contain the position relative to the data length.\n",
      "  warnings.warn(\n"
     ]
    },
    {
     "name": "stdout",
     "output_type": "stream",
     "text": [
      "Predicted buy: 53569.26636154183, actual: 58650.39\n",
      "Predicted buy: 53569.26636154183, actual: 58680.26\n",
      "Predicted buy: 53569.26636154183, actual: 58355.79\n",
      "Predicted buy: 53569.26636154183, actual: 57736.46\n",
      "Predicted buy: 53569.26636154183, actual: 57301.81\n",
      "Predicted buy: 53569.26636154183, actual: 57455.0\n",
      "Predicted buy: 53569.26636154183, actual: 56700.0\n",
      "Predicted buy: 53569.26636154183, actual: 56849.75\n",
      "Predicted buy: 53569.26636154183, actual: 55516.85\n",
      "Predicted buy: 53569.26636154183, actual: 53400.0\n",
      "stop_loss = 48407.06203292374\n",
      "Bought BTC by 53569.26636154183 at 2021-05-10 20:05:00+00:00\n"
     ]
    },
    {
     "name": "stderr",
     "output_type": "stream",
     "text": [
      "/home/olga/PycharmProjects/backtesting/venv/lib/python3.8/site-packages/statsmodels/tsa/deterministic.py:147: UserWarning: Only PeriodIndexes, DatetimeIndexes with a frequency set, RangesIndexes, and Int64Indexes with a unit increment support extending. The index is set will contain the position relative to the data length.\n",
      "  warnings.warn(\n"
     ]
    },
    {
     "name": "stdout",
     "output_type": "stream",
     "text": [
      "Predicted sell: 59433.97139404371, actual: 59444.9\n",
      "Sold BTC by 59433.97139404371 at 2021-05-10 03:34:00+00:00\n",
      "\t\tSimulating 2021-05-10 02:00:00+00:00 day....\n"
     ]
    },
    {
     "name": "stderr",
     "output_type": "stream",
     "text": [
      "/home/olga/PycharmProjects/backtesting/venv/lib/python3.8/site-packages/statsmodels/tsa/deterministic.py:147: UserWarning: Only PeriodIndexes, DatetimeIndexes with a frequency set, RangesIndexes, and Int64Indexes with a unit increment support extending. The index is set will contain the position relative to the data length.\n",
      "  warnings.warn(\n"
     ]
    },
    {
     "name": "stdout",
     "output_type": "stream",
     "text": [
      "Predicted buy: 53569.26636154183, actual: 58650.39\n",
      "Predicted buy: 53569.26636154183, actual: 58680.26\n",
      "Predicted buy: 53569.26636154183, actual: 58355.79\n",
      "Predicted buy: 53569.26636154183, actual: 57736.46\n",
      "Predicted buy: 53569.26636154183, actual: 57301.81\n",
      "Predicted buy: 53569.26636154183, actual: 57455.0\n",
      "Predicted buy: 53569.26636154183, actual: 56700.0\n",
      "Predicted buy: 53569.26636154183, actual: 56849.75\n",
      "Predicted buy: 53569.26636154183, actual: 55516.85\n",
      "Predicted buy: 53569.26636154183, actual: 53400.0\n",
      "stop_loss = 48407.06203292374\n",
      "Bought BTC by 53569.26636154183 at 2021-05-10 20:05:00+00:00\n"
     ]
    },
    {
     "name": "stderr",
     "output_type": "stream",
     "text": [
      "/home/olga/PycharmProjects/backtesting/venv/lib/python3.8/site-packages/statsmodels/tsa/deterministic.py:147: UserWarning: Only PeriodIndexes, DatetimeIndexes with a frequency set, RangesIndexes, and Int64Indexes with a unit increment support extending. The index is set will contain the position relative to the data length.\n",
      "  warnings.warn(\n"
     ]
    },
    {
     "name": "stdout",
     "output_type": "stream",
     "text": [
      "Predicted sell: 59433.97139404371, actual: 59444.9\n",
      "Sold BTC by 59433.97139404371 at 2021-05-10 03:34:00+00:00\n",
      "\t\tSimulating 2021-05-10 02:00:00+00:00 day....\n"
     ]
    },
    {
     "name": "stderr",
     "output_type": "stream",
     "text": [
      "/home/olga/PycharmProjects/backtesting/venv/lib/python3.8/site-packages/statsmodels/tsa/deterministic.py:147: UserWarning: Only PeriodIndexes, DatetimeIndexes with a frequency set, RangesIndexes, and Int64Indexes with a unit increment support extending. The index is set will contain the position relative to the data length.\n",
      "  warnings.warn(\n"
     ]
    },
    {
     "name": "stdout",
     "output_type": "stream",
     "text": [
      "Predicted buy: 53569.26636154183, actual: 58650.39\n",
      "Predicted buy: 53569.26636154183, actual: 58680.26\n",
      "Predicted buy: 53569.26636154183, actual: 58355.79\n",
      "Predicted buy: 53569.26636154183, actual: 57736.46\n",
      "Predicted buy: 53569.26636154183, actual: 57301.81\n",
      "Predicted buy: 53569.26636154183, actual: 57455.0\n",
      "Predicted buy: 53569.26636154183, actual: 56700.0\n",
      "Predicted buy: 53569.26636154183, actual: 56849.75\n",
      "Predicted buy: 53569.26636154183, actual: 55516.85\n",
      "Predicted buy: 53569.26636154183, actual: 53400.0\n",
      "stop_loss = 48407.06203292374\n",
      "Bought BTC by 53569.26636154183 at 2021-05-10 20:05:00+00:00\n"
     ]
    },
    {
     "name": "stderr",
     "output_type": "stream",
     "text": [
      "/home/olga/PycharmProjects/backtesting/venv/lib/python3.8/site-packages/statsmodels/tsa/deterministic.py:147: UserWarning: Only PeriodIndexes, DatetimeIndexes with a frequency set, RangesIndexes, and Int64Indexes with a unit increment support extending. The index is set will contain the position relative to the data length.\n",
      "  warnings.warn(\n"
     ]
    },
    {
     "name": "stdout",
     "output_type": "stream",
     "text": [
      "Predicted sell: 59433.97139404371, actual: 59444.9\n",
      "Sold BTC by 59433.97139404371 at 2021-05-10 03:34:00+00:00\n",
      "\t\tSimulating 2021-05-10 02:00:00+00:00 day....\n"
     ]
    },
    {
     "name": "stderr",
     "output_type": "stream",
     "text": [
      "/home/olga/PycharmProjects/backtesting/venv/lib/python3.8/site-packages/statsmodels/tsa/deterministic.py:147: UserWarning: Only PeriodIndexes, DatetimeIndexes with a frequency set, RangesIndexes, and Int64Indexes with a unit increment support extending. The index is set will contain the position relative to the data length.\n",
      "  warnings.warn(\n"
     ]
    },
    {
     "name": "stdout",
     "output_type": "stream",
     "text": [
      "Predicted buy: 53569.26636154183, actual: 58650.39\n",
      "Predicted buy: 53569.26636154183, actual: 58680.26\n",
      "Predicted buy: 53569.26636154183, actual: 58355.79\n",
      "Predicted buy: 53569.26636154183, actual: 57736.46\n",
      "Predicted buy: 53569.26636154183, actual: 57301.81\n",
      "Predicted buy: 53569.26636154183, actual: 57455.0\n",
      "Predicted buy: 53569.26636154183, actual: 56700.0\n",
      "Predicted buy: 53569.26636154183, actual: 56849.75\n",
      "Predicted buy: 53569.26636154183, actual: 55516.85\n",
      "Predicted buy: 53569.26636154183, actual: 53400.0\n",
      "stop_loss = 48407.06203292374\n",
      "Bought BTC by 53569.26636154183 at 2021-05-10 20:05:00+00:00\n"
     ]
    },
    {
     "name": "stderr",
     "output_type": "stream",
     "text": [
      "/home/olga/PycharmProjects/backtesting/venv/lib/python3.8/site-packages/statsmodels/tsa/deterministic.py:147: UserWarning: Only PeriodIndexes, DatetimeIndexes with a frequency set, RangesIndexes, and Int64Indexes with a unit increment support extending. The index is set will contain the position relative to the data length.\n",
      "  warnings.warn(\n"
     ]
    }
   ],
   "source": [
    "Backtest_BTC_stop = backtest(data.index[0], data.index[-1], predictive_period=pd.Timedelta(hours=2))"
   ]
  },
  {
   "cell_type": "code",
   "execution_count": null,
   "metadata": {},
   "outputs": [],
   "source": [
    "Backtest_BTC_stop_2h = pd.read_csv('backtest_Theta_stop.csv', index_col='bought')\n",
    "Backtest_BTC_stop_2h"
   ]
  },
  {
   "cell_type": "code",
   "execution_count": null,
   "metadata": {},
   "outputs": [],
   "source": []
  }
 ],
 "metadata": {
  "kernelspec": {
   "display_name": "Python 3",
   "language": "python",
   "name": "python3"
  },
  "language_info": {
   "codemirror_mode": {
    "name": "ipython",
    "version": 3
   },
   "file_extension": ".py",
   "mimetype": "text/x-python",
   "name": "python",
   "nbconvert_exporter": "python",
   "pygments_lexer": "ipython3",
   "version": "3.8.10"
  }
 },
 "nbformat": 4,
 "nbformat_minor": 4
}
